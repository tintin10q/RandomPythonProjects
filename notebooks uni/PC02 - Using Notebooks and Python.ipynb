{
 "cells": [
  {
   "cell_type": "markdown",
   "metadata": {},
   "source": [
    "# Chapter 2 - Using Notebooks and Python"
   ]
  },
  {
   "cell_type": "markdown",
   "metadata": {},
   "source": [
    "-------------------------------"
   ]
  },
  {
   "cell_type": "markdown",
   "metadata": {},
   "source": [
    "This course uses notebooks. Notebooks can run on the Jupyter server which the university makes available, or on a local computer. Alternatively, you can forego the use of notebooks completely and just use the course book and a separate Python installation. This chapter explains how to use the notebooks, and how to use Python outside the notebooks."
   ]
  },
  {
   "cell_type": "markdown",
   "metadata": {},
   "source": [
    "---"
   ]
  },
  {
   "cell_type": "markdown",
   "metadata": {},
   "source": [
    "## Using notebooks"
   ]
  },
  {
   "cell_type": "markdown",
   "metadata": {},
   "source": [
    "The Python notebooks run in a browser. Most browsers work fine, though Internet Explorer sometimes seems to give problems. If you get into problems (for instance, you get a blank page instead of the notebook text) and you are running Internet Explorer, switch to another browser.\n",
    "\n",
    "To run notebooks, a Jupyter server must be installed. I will first explain how to run Jupyter, then delve into the use of notebooks"
   ]
  },
  {
   "cell_type": "markdown",
   "metadata": {},
   "source": [
    "### Running Jupyter"
   ]
  },
  {
   "cell_type": "markdown",
   "metadata": {},
   "source": [
    "Considering that you are reading this text, it is evident that you have been able to start and run a notebook. It is most likely that you are using the university-supplied Jupyter server at this time, but you can also run the notebooks on a local computer. To do this, you need to install a Jupyter server, which creates an iPython environment. At present, the easiest way I see to do this, is to install *Anaconda*, freely available from <a href=\"https://www.continuum.io/\">www.continuum.io</a>. Anaconda is available for Windows, Apple, and Linux. Make sure that you get a version of Anaconda that uses Python 3 (anything above Python 3.4 is okay). It is an integrated environment that allows you to develop Python programs in a variety of environments, and has many standard Python packages pre-installed. When you install Anaconda, it also installs the Jupyter iPython environment for you.\n",
    "\n",
    "You can launch the Jupyter server from the *Anaconda Navigator*. This opens your browser in an iPython environment. When you have downloaded the notebooks (e.g., from blackboard), you can upload them to the environment. Alternatively (which I consider easier), you create an iPython home directory on your system, and copy the notebooks there. To open these notebooks in the iPython environment, you browse there if that is allowed on your computer. \n",
    "\n",
    "If browsing to another directory is not allowed on your system (e.g., Windows 10), you can get around this problem as follows: if you use a Windows computer, first launch Anaconda, then launch the Jupyter server, then log out, and exit Anaconda. Then go to the folder __C:/Users/__&lt;your username&gt;__/.anaconda/navigator/scripts__, copy the file __notebook.bat__ , and paste it in your iPython home directory. By double clicking on this file, you open the Jupyter server with the iPython home directory shown. You do not even need to run Anaconda (though it should be installed, to ensure that you have iPython on your system). If you are running another system than Windows, something similar will be possible, but I do not know exactly what. I will update this text when I learn more."
   ]
  },
  {
   "cell_type": "markdown",
   "metadata": {},
   "source": [
    "### Running notebooks"
   ]
  },
  {
   "cell_type": "markdown",
   "metadata": {},
   "source": [
    "The notebooks consist of text interspersed with code. For instance, here is some code that is the <i>Hello World</i> program shown in the previous chapter:"
   ]
  },
  {
   "cell_type": "code",
   "execution_count": null,
   "metadata": {
    "collapsed": true
   },
   "outputs": [],
   "source": [
    "print( \"Hello, world!\" )"
   ]
  },
  {
   "cell_type": "markdown",
   "metadata": {},
   "source": [
    "You can run this code by clicking on it so that it gets selected, and then press <i>Ctrl+Enter</i>. Alternatively, you can click on the button at the top of the page with the \"forward\" image on it. Do that now, and you will see the text \"Hello, world!\" appear beneath the code. Anything that a piece of code prints, is shown beneath it.\n",
    "\n",
    "You even have the ability to change the code, and see what happens if you change it. For instance, in the code above, change the text \"Hello, world!\" to something else (but make sure you leave the double quotes in place, and do not use double quotes in your own text). Run the code, and see how it displays your own text. Be aware, however, that this actually changes your notebook; you cannot simply revert back to the original version of the notebook, unless you upload or copy a \"clean\" version. You can make copies and/or create \"checkpoints\" for the notebook in the \"File\" menu.\n",
    "\n",
    "Note: Most students appreciate that notebooks store the changes that they make to them, but are feeling a bit uncertain about leaving a notebook without actually pressing a save button somewhere. Luckily, such a save button exists: you find it as the most left of the icons at the top of the page. \n",
    "\n",
    "If for some reason you want to clear the output that you generated by running code, you can click on the menu choice \"Cell\" at the top of the screen, then select \"All Output\" and \"Clear\". Or, if you just want to clear the output of one piece of code, select it by clicking on it, then choose \"Cell\", \"Current Outputs\", \"Clear\".\n",
    "\n",
    "By the way, it is also possible for you to change the texts of the notebooks. When you double click on a text, or sometimes by accident \"scroll\" into the text from code, suddenly the text is shown on a grey background and with different formatting. You can return the text to the regular visualization by \"running it\" (pressing *Ctrl+Enter*). I would love to lock the texts, but in the current version of the notebooks that is not possible. I am sure that we get that feature in the future, but for now we have to make do."
   ]
  },
  {
   "cell_type": "markdown",
   "metadata": {},
   "source": [
    "### Each notebook is actually one big program"
   ]
  },
  {
   "cell_type": "markdown",
   "metadata": {},
   "source": [
    "Each notebook is actually one big program. It seems like a text interspersed with little pieces of code, but it actually is one seamless whole. This has some consequences which you should be aware of. Take the following bit of code:"
   ]
  },
  {
   "cell_type": "code",
   "execution_count": null,
   "metadata": {
    "collapsed": true
   },
   "outputs": [],
   "source": [
    "print( hello )"
   ]
  },
  {
   "cell_type": "markdown",
   "metadata": {},
   "source": [
    "Now run this bit of code. You will see an error message appear beneath it, of which the most important message is on the last line, namely that the name 'hello' is not defined. You have asked Python to print `hello`, but `hello` is not a string, or an integer, or anything that can be printed. In fact, it looks like a variable (variables will be introduced in one of the early real programming lessons), but since this variable has no value, Python cannot use it. The code should have been something like:"
   ]
  },
  {
   "cell_type": "code",
   "execution_count": null,
   "metadata": {
    "collapsed": true
   },
   "outputs": [],
   "source": [
    "hello = \"Hi!\"\n",
    "print( hello )"
   ]
  },
  {
   "cell_type": "markdown",
   "metadata": {},
   "source": [
    "If you run this bit of code, you will see that it actually displays \"Hi!\". This is because the variable `hello` gets the value \"Hi!\" on the first line, so the second line can now print the contents of the variable.\n",
    "\n",
    "Now look at the following bit of code:"
   ]
  },
  {
   "cell_type": "code",
   "execution_count": null,
   "metadata": {
    "collapsed": true
   },
   "outputs": [],
   "source": [
    "print( hello )"
   ]
  },
  {
   "cell_type": "markdown",
   "metadata": {},
   "source": [
    "Run it. If you followed the steps above, you will see that it displays \"Hi!\". What is the difference between this bit of code, and the equal-looking bit of code above? The answer is: \"Nothing\". There is no difference. However, by running the previous bit of code, you created a variable `hello` and filled it with the value \"Hi!\". So that variable exists now, and it can be printed, even in other bits of code on this page. That is the consequence of this whole notebook page actually running as if it is one big piece of code.\n",
    "\n",
    "Even better (or worse, whichever way you look at it), if you now run the first piece of code again, which gave an error message, now suddenly it no longer gives an error message. Because it, too, can now make use of that variable `hello` that was created.\n",
    "\n",
    "In this course, I will attempt to make all pieces of code that I supply \"self-contained\", i.e., no piece of code depends on running another piece of code. If it ever happens that I want you to definitely run a particular piece of code before you run another piece of code, I will indicate that clearly.\n",
    "\n",
    "However, it is good to be aware of this intricacy of notebooks, because if you are changing code (and many of the notebooks will ask you to do that), you may be referring to, for instance, variables that exist by chance because another piece of code that you ran created them. "
   ]
  },
  {
   "cell_type": "markdown",
   "metadata": {},
   "source": [
    "### Troubleshooting notebooks"
   ]
  },
  {
   "cell_type": "markdown",
   "metadata": {},
   "source": [
    "Sometimes code asks for input, which the user should supply. For instance, the code below here asks you to supply your name, then will greet you:"
   ]
  },
  {
   "cell_type": "code",
   "execution_count": null,
   "metadata": {
    "collapsed": true
   },
   "outputs": [],
   "source": [
    "name = input( \"Wat is your name? \" )\n",
    "print( \"Hello,\", name )"
   ]
  },
  {
   "cell_type": "markdown",
   "metadata": {},
   "source": [
    "Run this code, type in your name when asked, press the *Enter* key when you have supplied your name, and examine the result.\n",
    "\n",
    "Now I have to introduce you to annoying problem that may arise. First clear all the output on the page. Then run the code above again. Instead of supplying your name, try to run the <i>Hello, World</i> code below:"
   ]
  },
  {
   "cell_type": "code",
   "execution_count": null,
   "metadata": {
    "collapsed": true
   },
   "outputs": [],
   "source": [
    "print( \"Hello, world!\" )"
   ]
  },
  {
   "cell_type": "markdown",
   "metadata": {},
   "source": [
    "You will notice that you get no results. The reason is that the notebook is still waiting for you to supply some input.\n",
    "\n",
    "This is understandable, and if you supply your name in the box provided, the code will finish and then the <i>Hello World</i> code will run automatically (you do not even need to start it, because you already did so before). But suppose that, instead, you clear all the output on the page (using \"Cell\", \"All Ouputs\", \"Clear\"). At that point, the box in which you can type input is gone, but none of the code on the page will run, because the notebook is actually <i>still</i> waiting for input. Even when there is no place available anymore to supply input. And this is not the only way by which you can lose your input box.\n",
    "\n",
    "If you get into such an irresolvable state, you will need to restart the \"kernel\". The kernel is the background process that handles all the code in these notebooks. Go to the \"Kernel\" menu, and choose \"Restart\" or \"Restart & Clear Output\". After this, you can run code again.\n",
    "\n",
    "Restarting the kernel is the primary solution to deal with problems that may arise. If your notebook starts behaving weirdly, does not seem to respond anymore, is not accepting inputs, or seems to be stuck in an endless repitition of tasks, restarting the kernel will usually resolve the problem. Harshly, but it works."
   ]
  },
  {
   "cell_type": "markdown",
   "metadata": {},
   "source": [
    "### Shutdown notebooks after use"
   ]
  },
  {
   "cell_type": "markdown",
   "metadata": {},
   "source": [
    "If you are running these notebooks on a shared server, when you have finished working with a notebook, it would be helpful if you would select it on the main page where all the notebooks are displayed by putting a checkmark in front of it, then select the \"Shutdown\" button at the top of the list. Anything you changed in the notebook will be preserved, but the kernel for the notebook is no longer running. Even better, when you finished working, if you choose \"Logout\" at the top right of any notebook page, you will be logged out of the system and all your notebooks are closed automatically. This saves memory space, so that other people who are running notebooks on the same server have their processes run faster. If everybody works like this, everybody profits."
   ]
  },
  {
   "cell_type": "markdown",
   "metadata": {},
   "source": [
    "### Further information"
   ]
  },
  {
   "cell_type": "markdown",
   "metadata": {},
   "source": [
    "For more information on using notebooks, you can check out the \"Help\" menu. But in principle, what was discussed here should cover everything that you need to know."
   ]
  },
  {
   "cell_type": "markdown",
   "metadata": {},
   "source": [
    "---"
   ]
  },
  {
   "cell_type": "markdown",
   "metadata": {},
   "source": [
    "## Using Python"
   ]
  },
  {
   "cell_type": "markdown",
   "metadata": {},
   "source": [
    "This section will explain how you can create and run Python programs on any computer, without the notebook server. This is usually a faster way of working, and is generally available."
   ]
  },
  {
   "cell_type": "markdown",
   "metadata": {},
   "source": [
    "### Installing Python"
   ]
  },
  {
   "cell_type": "markdown",
   "metadata": {},
   "source": [
    "There are two broad classes of computer programs: \"compiled\" programs and \"interpreted\" programs.\n",
    "\n",
    "To create a program in a compiled language, you write the program, then compile it, which turns it into a new program file which contains machine code. Machine code is unreadable by humans, but computers can execute it really fast. Examples of compiled computer languages are C++ and C#.\n",
    "\n",
    "To create a program in an interpreted language, you write the program, and you can then run it immediately, without the need to turn it into machine code in a separate process. Instead, the interpreter will turn each line of code into machine code on the fly, when it needs it. Examples of interpreted languages are Python and Perl.\n",
    "\n",
    "Both types of languages have their advantages and disadvantages. I do not need to discuss these. The only thing you need to know is that to run Python programs, you need a Python interpreter installed on the machine where you wish to run the programs. \n",
    "\n",
    "Fortunately, Python interpreters are freely available for almost every machine in existence. Visit <a href=\"http://www.python.org\">python.org</a> to download a Python interpreter for your computer. For this course, make sure that you get a Python 3 interpreter, which you can install. If you installed Anaconda, this already installed Python, so you can skip this step.\n",
    "\n",
    "You can now write and run Python programs on your machine without the need of notebooks. If you want to run a program that you wrote on a different machine, you can just copy it to the new machine. If the new machine has a Python interpreter installed, your code will also run on the new machine, even if it uses a different operating system (unless it uses features that are particular to a specific operating system, of course, but in general your code will run without the need for adaptations)."
   ]
  },
  {
   "cell_type": "markdown",
   "metadata": {},
   "source": [
    "### Creating Python programs"
   ]
  },
  {
   "cell_type": "markdown",
   "metadata": {},
   "source": [
    "Python programs are created in the form of files. By convention, the name of the file that contains a Python program has the extension \".py\".\n",
    "\n",
    "Most Python installations (definitely those for Windows and Mac OS) also install an environment to create programs in, which is called IDLE. They usually also create some access point for the IDLE environment (for instance, and icon or link on the desktop or in a program menu). IDLE is a quite bare, but suitable environment to do your programming in.\n",
    "\n",
    "When you start IDLE, you are in a so-called \"Python shell\". This is, as it were, an interactive Python program, in which you can type lines of Python code, which are run immediately. For instance, if you type `print(7/4)`, IDLE will show you the answer 1.75. In general, this is not how you wish to create and run code, but you can use the shell to quickly test the effect of Python statements.\n",
    "\n",
    "To write Python programs with IDLE, you can create new Python files, or open existing Python files, using the \"File\" menu. IDLE then gives you a new window in which you can write code, edit code, and save code. You can even run the code immediately from this window, using the \"Run\" menu (there is a shortcut key to immediately run the program, usually F5). The program then actually runs in the shell, so that is where you supply input and can see the output. Make sure that you save your programs with a name that ends in \".py\".\n",
    "\n",
    "There are user-friendlier ways to create Python programs. What you need is a text editor, preferably one that supports writing Python code specifically. Note that a text editor is different from a word processor; a text editor has no formatting options. You might see text getting formatted while typing in a text editor, with bold, italics, and colors, but this is so-called \"syntax highlighting\", which shows for a particular programming language how certain words that you type are understood by the program. Syntax highlighting is also done for the code in these notebooks, for instance, strings are displayed in a brownish color, while keywords are green.\n",
    "\n",
    "There are many text editors available that support writing Python code, for many different operating systems, most of them free. If you are unhappy with IDLE to write code, you can search for alternatives on the Internet. All editors have their own advantages and disadvantages, so what you prefer to use is up to you. If you have installed Anaconda, it provides you with the *Spyder* editor, which you might like to use. Spyder also shows the Python shell, next to the editor window."
   ]
  },
  {
   "cell_type": "markdown",
   "metadata": {},
   "source": [
    "### Running Python programs"
   ]
  },
  {
   "cell_type": "markdown",
   "metadata": {},
   "source": [
    "Once you have created a Python program, you see the program name displayed in the folder where you saved it. You can try to run it in the same way that you run other programs (e.g., by double-clicking on it). \n",
    "\n",
    "For many Python programs, when you activate them in this way, you either see nothing happening, or a quick flash of a black window, after which nothing happens anymore. The reason is that Python programs run in a \"command-line shell\" of the operating system. If you are not a Linux user, this is probably not something that you are used to. Basically, what happens is that Python opens the command-line shell, runs the program, and when the program finishes, closes the shell, giving you the feeling that nothing has happened. But something <i>did</i> happen; you just did not notice it.\n",
    "\n",
    "For this course, if you create Python programs outside the notebooks, you should simply run them in the editor that you use, as I describe for IDLE above. You may open the command-line shell (which usually is a somewhat hidden option in the list of installed programs on your machine, falling under System Commands) and \"manually\" run Python programs from that shell, but there seldom is a need to do that."
   ]
  },
  {
   "cell_type": "markdown",
   "metadata": {},
   "source": [
    "### Notebook editor"
   ]
  },
  {
   "cell_type": "markdown",
   "metadata": {},
   "source": [
    "If you are only (or mainly) going to create Python programs for this course and have troubles installing Python on a local computer, then you can use a simple notebook editor to write and run your programs. A notebook editor is an empty notebook with just one cell, which is a \"Code\" cell. Such a notebook editor should be available amongst the notebooks for this course.\n",
    "\n",
    "However, if you wish to continue to use Python after the course is over (and you should), then it is a good idea that you also install Python locally and write programs locally, because that is what you will need to do in the future."
   ]
  },
  {
   "cell_type": "markdown",
   "metadata": {},
   "source": [
    "---"
   ]
  },
  {
   "cell_type": "markdown",
   "metadata": {},
   "source": [
    "## Reference material"
   ]
  },
  {
   "cell_type": "markdown",
   "metadata": {},
   "source": [
    "Besides these notebooks, you might occasionally want to reference the Python manual. The easiest way to do that is using the Internet. Just search for \"Python\" with whatever you are interested in, and you will quickly see links that lead straight into the Python manuals. You might also run into links that lead you to code that solves a problem for you directly. While that is great by the time you have to use Python for practical problems, it does not help you to learn. So my advice is that you avoid such links during this course.\n",
    "\n",
    "When you install Python, there usually also will be a manual installed in a `Doc` folder under the `Python` folder (or, if you installed Anaconda, under the `Anaconda` folder). You can use it if, for some reason, you are not connected to the Internet.\n",
    "\n",
    "If you want to use a book, there are many books available to learn Python from or that can be used as references. I find little use for such books, except as an initial read. There are some good books to learn from as open documents. You can use Pieter Spronck's *The Coder's Apprentice*, which was written for this course, or Allen B. Downey's classic *Think Python* (make sure you get the Python 3 edition).\n",
    "\n",
    "Besides books and these notebooks to learn Python from, there are several open video courses available. I have not checked these out, as they are time consuming, and I believe that it is not possible to learn programming from watching a video. The only way to learn programming is by doing. I find the notebooks particularly appealing as they allow us to let you practice while I give explanations by text. But, as they say, YMMV."
   ]
  },
  {
   "cell_type": "markdown",
   "metadata": {},
   "source": [
    "-------------------------------"
   ]
  },
  {
   "cell_type": "markdown",
   "metadata": {},
   "source": [
    "## Exercises"
   ]
  },
  {
   "cell_type": "markdown",
   "metadata": {},
   "source": [
    "### Exercise 2.1"
   ]
  },
  {
   "cell_type": "markdown",
   "metadata": {},
   "source": [
    "Download Python or Anaconda, and install it on the machine of your choice. Run IDLE if you installed Python, or Spyder if you installed Anaconda. Create a file \"hello.py\", in which you place the code of the <i>Hello World</i> program shown in Chapters 1 and 2. Run the program, and observe how the text \"Hello, world!\" is displayed in the shell."
   ]
  },
  {
   "cell_type": "markdown",
   "metadata": {},
   "source": [
    "### Exercise 2.2"
   ]
  },
  {
   "cell_type": "markdown",
   "metadata": {},
   "source": [
    "In the Python shell you can type commands on the prompt (\">>>\" in IDLE, \"In [*x*]\" in Spyder, where *x* is a number). Give the command `print(7/4)`. You will see that it prints the answer 1.75. Then give the command `7/4` (i.e., without `print`). Observe that it also prints the answer 1.75.\n",
    "\n",
    "The reason is that the shell will always display the result of a command. The result of 7/4 is 1.75, and therefore it displays 1.75. The result of a `print` command is nothing, so the shell displays nothing -- however, the `print` command causes the display of whatever is within the parentheses, which is the value resulting from dividing 7 by 4, which is 1.75. Therefore, in both cases you see 1.75, but one is the result of the use of the `print` command, while the other is the result of the shell showing you the evaluation of a calculation.\n",
    "\n",
    "Now write a Python program that contains only the command `7/4`. Before you run it, think about what you expect to happen when you run it. Will the shell display 1.75? Will it display nothing? Or will you see an error?\n",
    "\n",
    "Check if your expectation is correct."
   ]
  },
  {
   "cell_type": "markdown",
   "metadata": {},
   "source": [
    "---"
   ]
  },
  {
   "cell_type": "markdown",
   "metadata": {},
   "source": [
    "End of Chapter 2. Version 1.1."
   ]
  }
 ],
 "metadata": {
  "kernelspec": {
   "display_name": "Python 3",
   "language": "python",
   "name": "python3"
  },
  "language_info": {
   "codemirror_mode": {
    "name": "ipython",
    "version": 3
   },
   "file_extension": ".py",
   "mimetype": "text/x-python",
   "name": "python",
   "nbconvert_exporter": "python",
   "pygments_lexer": "ipython3",
   "version": "3.6.1"
  }
 },
 "nbformat": 4,
 "nbformat_minor": 1
}
