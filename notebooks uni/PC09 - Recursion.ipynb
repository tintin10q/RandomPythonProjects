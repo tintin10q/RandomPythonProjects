{
 "cells": [
  {
   "cell_type": "markdown",
   "metadata": {},
   "source": [
    "# Chapter 9 - Recursion"
   ]
  },
  {
   "cell_type": "markdown",
   "metadata": {},
   "source": [
    "-----------"
   ]
  },
  {
   "cell_type": "markdown",
   "metadata": {},
   "source": [
    "Recursion is a special technique that can be used now you are able to create and use functions. Recursion can be very elegant and powerful, but students often find it hard to employ. That is why I decided to spend a separate chapter on it. "
   ]
  },
  {
   "cell_type": "markdown",
   "metadata": {},
   "source": [
    "---"
   ]
  },
  {
   "cell_type": "markdown",
   "metadata": {},
   "source": [
    "## What is recursion?"
   ]
  },
  {
   "cell_type": "markdown",
   "metadata": {},
   "source": [
    "Recursion is a technique whereby a function calls itself. In a bit more general sense, it is when a function makes calls in such a way that the function itself is still being executed while it gets called again (e.g., function `a()` calls function `b()`, which calls function `a()` again). \n",
    "\n",
    "This might sound weird when you first encounter it, but there is nothing against a function calling other functions, and a function can call any function that has been defined by the time that the call takes place. And since a function is defined by the time its code gets executed, it can call itself.\n",
    "\n",
    "\"But,\" one might say: \"if a function calls itself, then it calls itself again, and again, and again... Doesn't that mean it gets into an endless process, similar to an endless loop?\" The answer is that there is certainly a danger, with sloppy coding, that a recursive function gets into an endless loop, but recursive functions should be designed in such a way that that does not happen.\n",
    "\n",
    "There exist many problems for which recursion is the most elegant solution. Therefore it is important that you are aware of the technique, and know how and when to apply it... and its limitations."
   ]
  },
  {
   "cell_type": "markdown",
   "metadata": {},
   "source": [
    "---"
   ]
  },
  {
   "cell_type": "markdown",
   "metadata": {},
   "source": [
    "## Recursive definitions"
   ]
  },
  {
   "cell_type": "markdown",
   "metadata": {},
   "source": [
    "An example of a recursive definition is the definition of the factorial, which was already introduced in the previous two chapters. In those chapters I gave the following definition of the factorial: The factorial of a positive integer is that integer, multiplied by all positive integers that are lower (excluding zero).\n",
    "\n",
    "Mathematicians prefer the recursive definition: The factorial `n!` of any positive integer `n` is calculated as follows: `1! = 1`, and `n! = n * (n-1)!` for `n > 1`.\n",
    "\n",
    "This definition is recursive as it refers to the factorial of `n-1` to define the factorial of `n`. This is not leading to an endless recursion, however, as at some point `n-1` will be `1`, and the factorial of `1` is defined separately.\n",
    "\n",
    "You can implement the factorial as a recursive function as follows:"
   ]
  },
  {
   "cell_type": "code",
   "execution_count": null,
   "metadata": {
    "collapsed": true
   },
   "outputs": [],
   "source": [
    "def factorial( n ):\n",
    "    if n <= 1:\n",
    "        return 1\n",
    "    return n * factorial( n-1 )\n",
    "\n",
    "print( factorial( 5 ) )"
   ]
  },
  {
   "cell_type": "markdown",
   "metadata": {},
   "source": [
    "Notice how this function describes the recursive definition of the factorial exactly: if `n` is `1`, it returns `1`, and otherwise it returns `n` times the factorial of `n-1`. (Note that I wrote `if n <= 1:` instead of `n == 1` to avoid problems with the user calling the function with, for instance, a negative `n`.)\n",
    "\n",
    "In case you have troubles understanding what happens in this function, let's describe the details of the calls it makes. I have indented calls that are made while a \"high level\" call is still active.\n",
    "\n",
    "    call factorial( 5 )\n",
    "        call factorial( 4 )\n",
    "            call factorial( 3 )\n",
    "                call factorial( 2 )\n",
    "                    call factorial( 1 )\n",
    "                        return 1\n",
    "                    return 2 * 1\n",
    "                return 3 * 2\n",
    "            return 4 * 6\n",
    "        return 5 * 24\n",
    "    print( 120 )"
   ]
  },
  {
   "cell_type": "markdown",
   "metadata": {},
   "source": [
    "### When to use recursive implementations"
   ]
  },
  {
   "cell_type": "markdown",
   "metadata": {},
   "source": [
    "Once you understand the recursive implementation of the factorial, it might look appealing. It is simple, elegant, and has a certain coolness factor. However, the iterative implementation of the factorial is *highly* preferable over the recursive one. \n",
    "\n",
    "The reason is clear from the call descriptions above. You see that before the call to `factorial( 1 )` is made, four other calls to `factorial()` already reside in memory. Should you wish to calculate the factorial of 100, no less than 100 calls to the function will reside in memory before it can start returning values. This is not a good idea, and, in fact, Python may easily run out of (stack) memory in such a case, or become really, really slow.\n",
    "\n",
    "Contrariwise, an iterative implementation of the factorial only needs to keep two variables in memory. It is fast and there is no danger of crashing. \n",
    "\n",
    "So you should only use recursive implementations if:\n",
    "- recursion is the most natural way to implement the solution; and\n",
    "- the recursive process is guaranteed not to go too deep.\n",
    "\n",
    "Any recursive process can also be implemented as an iterative process. However, occasionally you can encounter problems for which the recursive solution is much more elegant, readable, and maintainable than the iterative one. In that case, consider reverting to the recursive solution."
   ]
  },
  {
   "cell_type": "markdown",
   "metadata": {},
   "source": [
    "### Searching a maze"
   ]
  },
  {
   "cell_type": "markdown",
   "metadata": {},
   "source": [
    "At this point in the course it is hard to give a good demonstration of recursion, as it needs particular data structures to show its power. But to still show something non-trivial, I have included a module called `pcmaze`. This module implements a simple maze, which connects some numbered cells. You can ask for the maze's entrance using the function `entrance()`. The maze's exit is given by the function `exit()` (not to be confused with the `exit()` function from `sys`). The module also has a function `connected()` that gets two arguments: it returns `True` if there is a direct connection between the cells with those numbers, and `False` otherwise. The entrance is guaranteed to be the lowest-numbered cell, while the exit is guaranteed to be the highest-numbered cell.\n",
    "\n",
    "The goal is to write some code that finds the way from the entrance to the exit (if there is such a way).\n",
    "\n",
    "The maze looks as follows:\n",
    "\n",
    "<img src=\"img/maze.png\" alt=\"Maze\" style=\"width:200px;\">\n",
    "\n",
    "Entrance is 1, exit is 16.\n",
    "\n",
    "So how do you find a way through such a maze (without knowing the exact layout)? Recursively, you can do it as follows: You define a function `leads_to_exit()` that returns a path to the exit if the cell that it is currently examining is on the path that leads to the exit. If that function returns a path, then you know that the current cell is also on the path.\n",
    "\n",
    "But how does that function know if a cell is part of a path that leads to the exit? Well, if the current cell actually *is* the exit, then yes, it leads to the exit. If not, then it leads to the exit if it has a connection with a cell that leads to the exit. This is a recursive definition.\n",
    "\n",
    "You have to be careful that such a recursive definition cannot get stuck in a circular path in the maze. That means, in the maze above, that when the function moves from cell `A` to cell `B`, it is not allowed to move back. If that is taken care of, the function should work. It wouldn't work if there would be circular paths in the maze, but fortunately there aren't. The problem is not unsolvable if there are circular paths, but to solve it a data structure is needed that is not discussed yet.\n",
    "\n",
    "In pseudo-code, the recursive function `leads_to_exit()` is something like this:\n",
    "\n",
    "    function leads_to_exit( currentcell )\n",
    "        if (currentcell is the exit)\n",
    "            return (path consisting of only the exit)\n",
    "        for (every connnectedcell that was not yet explored)\n",
    "            path = leads_to_exit( connectedcell )\n",
    "            if (path is not empty)\n",
    "                add currentcell to path\n",
    "                return path\n",
    "        return (empty path)\n",
    "      \n",
    "Now let's implement this recursive solution. In the implementation immediately below, the path will not be returned, but I return just `True` or `False` to indicate that the path is found or not, and I print the path in the function itself (a bit further down I provide the complete implementation for the pseudo-code above)."
   ]
  },
  {
   "cell_type": "code",
   "execution_count": null,
   "metadata": {
    "collapsed": true
   },
   "outputs": [],
   "source": [
    "from pcmaze import entrance, exit, connected\n",
    "\n",
    "def leads_to_exit( comingfrom, cell ):\n",
    "    if cell == exit():\n",
    "        return True\n",
    "    for i in range( entrance(), exit()+1 ):\n",
    "        if i == comingfrom:\n",
    "            continue\n",
    "        if not connected( cell, i ):\n",
    "            continue\n",
    "        if leads_to_exit( cell, i ):\n",
    "            print( cell, \"->\", i )\n",
    "            return True\n",
    "    return False\n",
    "\n",
    "if leads_to_exit( 0, entrance() ):\n",
    "    print( \"Path found!\" )\n",
    "else:\n",
    "    print( \"Path not found\" )"
   ]
  },
  {
   "cell_type": "markdown",
   "metadata": {},
   "source": [
    "Let's look at the recursive function in detail.\n",
    "\n",
    "It gets two parameters. The first is the cell that the path is coming from. The second is the cell that is checked to see if it leads to the exit. The first parameter is only needed because returning on the path is not allowed.\n",
    "\n",
    "The function first checks if the exit is reached. If it is, it returns `True`.\n",
    "\n",
    "If the exit is not reached, the function checks all cells of the maze as possible follow-up cells.\n",
    "\n",
    "It excludes (a) the cell that it just arrived from; and (b) all the cells to which there are no connections. But it checks all the other cells. There is no need to explicitly exclude the cell itself, as in the definition of the maze a cell is not connected to itself.\n",
    "\n",
    "As soon as it finds a cell for which a recursive call to the function says that it leads to the exit, while coming from the current cell, it prints that movement and returns `True`. This indicates to the call that arrived here that, yes, a path is found.\n",
    "\n",
    "Otherwise, once it has checked all possible follow-up connections and no path was found, it returns `False`.\n",
    "\n",
    "This process prints the whole path from entrance to exit, in reverse order.\n",
    "\n",
    "To make clear what is happening, I have expanded the function a bit, now also printing every connection that is checked. I have also included a `depth` parameter, that keeps track of how deep the recursion is going. I translate that into indentations."
   ]
  },
  {
   "cell_type": "code",
   "execution_count": null,
   "metadata": {
    "collapsed": true
   },
   "outputs": [],
   "source": [
    "from pcmaze import entrance, exit, connected\n",
    "\n",
    "def leads_to_exit( comingfrom, cell, depth ):\n",
    "    indent = depth * 4 * \" \"\n",
    "    if cell == exit():\n",
    "        return True\n",
    "    for i in range( entrance(), exit()+1 ):\n",
    "        if i == comingfrom:\n",
    "            continue\n",
    "        if not connected( cell, i ):\n",
    "            continue\n",
    "        print( indent + \"Check connection\", cell, \"->\", i )\n",
    "        if leads_to_exit( cell, i, depth + 1 ):\n",
    "            print( indent + \"Path found:\", cell, \"->\", i )\n",
    "            return True\n",
    "    return False\n",
    "\n",
    "if leads_to_exit( 0, entrance(), 0 ):\n",
    "    print( \"Path found!\" )\n",
    "else:\n",
    "    print( \"Path not found\" )"
   ]
  },
  {
   "cell_type": "markdown",
   "metadata": {},
   "source": [
    "### Return values of recursive functions"
   ]
  },
  {
   "cell_type": "markdown",
   "metadata": {},
   "source": [
    "Just like regular functions, recursive functions can communicate information to the rest of the program using their return values.\n",
    "\n",
    "One of the less nice things about the maze-solving recursive functions above is that they print the path (rather than return it), and that the path is printed in reverse order. It would be better if, instead, the function calls `return`ed their part of the path to the higher level calls, so that the path as a whole is returned from the first call, in the main program. This is what the pseudo-code above proposed. A good way to return a path is in the form of a list, but lists have not been discussed yet. Instead, I will do it in the form of a string.\n",
    "\n",
    "It works as follows: A call that finds the exit cell, returns the number of the exit cell as a string. Any call that finds part of the path, returns what it got returned itself, but adds the current cell to that path. Any call that finds nothing, returns nothing, i.e., an empty string.\n",
    "\n",
    "This means that in the recursive functions above, any `return True` will instead return a string containing a (partial) path, and any `return False` returns an empty string. The code becomes the following:"
   ]
  },
  {
   "cell_type": "code",
   "execution_count": null,
   "metadata": {
    "collapsed": true
   },
   "outputs": [],
   "source": [
    "from pcmaze import entrance, exit, connected\n",
    "\n",
    "def leads_to_exit( comingfrom, cell ):\n",
    "    if cell == exit():\n",
    "        return \"{}\".format( exit() )\n",
    "    for i in range( entrance(), exit()+1 ):\n",
    "        if i == comingfrom:\n",
    "            continue\n",
    "        if not connected( cell, i ):\n",
    "            continue\n",
    "        check = leads_to_exit( cell, i )\n",
    "        if check != \"\":\n",
    "            return \"{} -> {}\".format( cell, check )\n",
    "    return \"\"\n",
    "\n",
    "check = leads_to_exit( 0, entrance() )\n",
    "if check != \"\":\n",
    "    print( \"Path found!\", check )\n",
    "else:\n",
    "    print( \"Path not found\" )"
   ]
  },
  {
   "cell_type": "markdown",
   "metadata": {},
   "source": [
    "If you want to understand recursion, study this code closely. This code represents a typical use of return values in recursive functions. Students whose understanding of recursion is wonky and who get an assignment that has them communicate information from a deeper level recursive call to a higher level one, often revert to using a `global` variable. As you can see, that is not necessary.\n",
    "\n",
    "All in all, there is no real difference between a recursive function call and a regular function call, except that you have to be careful that recursive calls terminate at some point. It only looks strange the first time that you encounter it. "
   ]
  },
  {
   "cell_type": "markdown",
   "metadata": {},
   "source": [
    "---"
   ]
  },
  {
   "cell_type": "markdown",
   "metadata": {},
   "source": [
    "## What you learned"
   ]
  },
  {
   "cell_type": "markdown",
   "metadata": {},
   "source": [
    "In this chapter, you learned about:\n",
    "\n",
    "- Recursive functions\n",
    "- When to use (and when not to use) recursive functions\n",
    "- The purpose of recursive functions\n",
    "- Using `return` values from recursive functions"
   ]
  },
  {
   "cell_type": "markdown",
   "metadata": {},
   "source": [
    "---"
   ]
  },
  {
   "cell_type": "markdown",
   "metadata": {},
   "source": [
    "# Exercises"
   ]
  },
  {
   "cell_type": "markdown",
   "metadata": {},
   "source": [
    "### Exercise 9.1"
   ]
  },
  {
   "cell_type": "markdown",
   "metadata": {},
   "source": [
    "A recursive definition of the `n`th number of the Fibonacci sequence `fib(n)` states that `fib(n)` is equal to `fib(n-1) + fib(n-2)`. Moreover, `fib(1)` and `fib(2)` are both `1`. Write a recursive function that you can call with an integer argument `n` that returns the `n`th number of the Fibonacci sequence."
   ]
  },
  {
   "cell_type": "code",
   "execution_count": null,
   "metadata": {
    "collapsed": true
   },
   "outputs": [],
   "source": [
    "# Recursive Fibonacci.\n"
   ]
  },
  {
   "cell_type": "markdown",
   "metadata": {},
   "source": [
    "### Exercise 9.2"
   ]
  },
  {
   "cell_type": "markdown",
   "metadata": {},
   "source": [
    "To get a bit more insight into how recursion works, add a `depth` parameter to your Fibonacci function from the previous exercise, that starts at zero and gets increased by 1 for every deeper call. On entry of the function, print with what number argument it was called, and when returning a value, print what you return. Use the `depth` parameter to indent the prints. Study your output."
   ]
  },
  {
   "cell_type": "code",
   "execution_count": null,
   "metadata": {
    "collapsed": true
   },
   "outputs": [],
   "source": [
    "# Recursive Fibonacci with explanations.\n"
   ]
  },
  {
   "cell_type": "markdown",
   "metadata": {},
   "source": [
    "### Exercise 9.3"
   ]
  },
  {
   "cell_type": "markdown",
   "metadata": {},
   "source": [
    "Do you think it is a good idea to implement the Fibonacci sequence recursively? Why or why not?"
   ]
  },
  {
   "cell_type": "markdown",
   "metadata": {},
   "source": [
    "### Exercise 9.4"
   ]
  },
  {
   "cell_type": "markdown",
   "metadata": {},
   "source": [
    "In the code below, I have implemented a recursive implementation of asking the user for a string, in which only lower case letters may be used. When someone enters a string with an illegal character in it, a recursive call to the function itself will ask for a new string. This looks like it avoids using the loop-and-a-half to ask the user for new inputs on incorrect inputs. While it is *always* a *bad idea* to place control over the depth of recursive calls into a user's hands, this implementation actually is not only bad, it is also quite wrong. Can you see what is wrong with it, and how that is caused? (Note: it is not the `if letter < 'a' or letter > 'z':`, those comparisons are just fine.)"
   ]
  },
  {
   "cell_type": "code",
   "execution_count": null,
   "metadata": {
    "collapsed": true
   },
   "outputs": [],
   "source": [
    "def get_input( prompt ):\n",
    "    value = input( prompt )\n",
    "    for letter in value:\n",
    "        if letter < 'a' or letter > 'z':\n",
    "            print( \"The character\", letter, \"is not allowed in the input!\")\n",
    "            value = get_input( prompt )\n",
    "    return value\n",
    "\n",
    "s = get_input( \"Give a string of lower case letters: \" )\n",
    "print( \"The user entered:\", s )"
   ]
  },
  {
   "cell_type": "markdown",
   "metadata": {},
   "source": [
    "Let me stress once more that the idea above is a *bad* one. You should not use recursion for commonplace problems that can just as well be solved by iterations. Recursion is for exceptional circumstances. Do not see this as an example of recursion, see it as an example of how *not* to use recursion! The main reason I put it here is that I sometimes observe students writing such code, and I want to make explicit that that is *not a good idea*!"
   ]
  },
  {
   "cell_type": "markdown",
   "metadata": {},
   "source": [
    "---"
   ]
  },
  {
   "cell_type": "markdown",
   "metadata": {},
   "source": [
    "End of Chapter 9. Version 1.1."
   ]
  }
 ],
 "metadata": {
  "kernelspec": {
   "display_name": "Python 3",
   "language": "python",
   "name": "python3"
  },
  "language_info": {
   "codemirror_mode": {
    "name": "ipython",
    "version": 3
   },
   "file_extension": ".py",
   "mimetype": "text/x-python",
   "name": "python",
   "nbconvert_exporter": "python",
   "pygments_lexer": "ipython3",
   "version": "3.6.1"
  }
 },
 "nbformat": 4,
 "nbformat_minor": 1
}
