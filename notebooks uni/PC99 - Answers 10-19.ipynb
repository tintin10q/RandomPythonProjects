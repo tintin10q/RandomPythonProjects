{
 "cells": [
  {
   "cell_type": "markdown",
   "metadata": {},
   "source": [
    "# Chapter 99 (part 2) - Answers 10-19"
   ]
  },
  {
   "cell_type": "markdown",
   "metadata": {},
   "source": [
    "-------------------------------"
   ]
  },
  {
   "cell_type": "markdown",
   "metadata": {},
   "source": [
    "This chapter provides answers to the exercises from Chapters 10 to 19."
   ]
  },
  {
   "cell_type": "markdown",
   "metadata": {},
   "source": [
    "---"
   ]
  },
  {
   "cell_type": "markdown",
   "metadata": {},
   "source": [
    "## Links to answer sections"
   ]
  },
  {
   "cell_type": "markdown",
   "metadata": {},
   "source": [
    "[10 - Strings](#answers10)<br>\n",
    "[11 - Tuples](#answers11)<br>\n",
    "[12 - Lists](#answers12)<br>\n",
    "[13 - Dictionaries](#answers13)<br>\n",
    "[14 - Sets](#answers14)<br>\n",
    "[15 - Operating System](#answers15)<br>\n",
    "[16 - Text Files](#answers16)<br>\n",
    "[17 - Exceptions](#answers17)<br>\n",
    "[18 - Binary Files](#answers18)<br>\n",
    "[19 - Bitwise operators](#answers19)<br>\n",
    "\n",
    "For further answers, please see the other notebooks."
   ]
  },
  {
   "cell_type": "markdown",
   "metadata": {},
   "source": [
    "---"
   ]
  },
  {
   "cell_type": "markdown",
   "metadata": {},
   "source": [
    "## 10 - Strings<a id=\"answers10\"></a>"
   ]
  },
  {
   "cell_type": "markdown",
   "metadata": {},
   "source": [
    "### Exercise 10.1"
   ]
  },
  {
   "cell_type": "code",
   "execution_count": null,
   "metadata": {
    "collapsed": true
   },
   "outputs": [],
   "source": [
    "# Counting vowels.\n",
    "text = \"\"\"And Saint Attila raised the hand grenade up on high,\n",
    "saying, \"O Lord, bless this thy hand grenade, that with it\n",
    "thou mayst blow thine enemies to tiny bits, in thy mercy.\" \n",
    "And the Lord did grin. And the people did feast upon the lambs, \n",
    "and sloths, and carp, and anchovies, and orangutans, and \n",
    "breakfast cereals, and fruit bats, and large chu...\"\"\"\n",
    "\n",
    "counta, counte, counti, counto, countu = 0, 0, 0, 0, 0\n",
    "for c in text:\n",
    "    if c.upper() == \"A\":\n",
    "        counta += 1\n",
    "    elif c.upper() == \"E\":\n",
    "        counte += 1\n",
    "    elif c.upper() == \"I\":\n",
    "        counti += 1\n",
    "    elif c.upper() == \"O\":\n",
    "        counto += 1\n",
    "    elif c.upper() == \"U\":\n",
    "        countu += 1\n",
    "        \n",
    "print( \"Counts: a={}, e={}, i={}, o={}, u={}\".format( counta, counte, counti, counto, countu ) )"
   ]
  },
  {
   "cell_type": "markdown",
   "metadata": {},
   "source": [
    "You might be wondering whether that repetition of `if` statements can be replaced by some sort of iteration. The answer is that it can, but you need a list data structure, which will come up in a future chapter. "
   ]
  },
  {
   "cell_type": "markdown",
   "metadata": {},
   "source": [
    "### Exercise 10.2"
   ]
  },
  {
   "cell_type": "code",
   "execution_count": null,
   "metadata": {
    "collapsed": true
   },
   "outputs": [],
   "source": [
    "# Distilling text.\n",
    "text = \"\"\"The quick, brown fox jumps over a lazy dog. DJs flock by when MTV ax quiz prog. \n",
    "Junk MTV quiz graced by fox whelps. [Never gonna ] Bawds jog, flick quartz, vex nymphs. \n",
    "[give you up\\n] Waltz, bad nymph, for quick jigs vex! Fox nymphs grab quick-jived waltz. \n",
    "Brick quiz whangs jumpy veldt fox. [Never ] Bright vixens jump; [gonna let ] dozy fowl \n",
    "quack. Quick wafting zephyrs vex bold Jim. Quick zephyrs blow, vexing daft Jim. Charged \n",
    "[you down\\n] fop blew my junk TV quiz. How quickly daft jumping zebras vex. Two driven \n",
    "jocks help fax my big quiz. Quick, Baz, get my woven flax jodhpurs! \"Now fax quiz Jack!\" \n",
    "my brave ghost pled. [Never ] Five quacking zephyrs jolt my wax bed. [gonna ] Flummoxed \n",
    "by job, kvetching W. zaps Iraq. Cozy sphinx waves quart jug of bad milk. [run around ] \n",
    "A very bad quack might jinx zippy fowls. Few quips galvanized the mock jury box. Quick \n",
    "brown dogs jump over the lazy fox. The jay, pig, fox, zebra, and my wolves quack! \n",
    "[and desert you] Blowzy red vixens fight for a quick jump. Joaquin Phoenix was gazed \n",
    "by MTV for luck. A wizard’s job is to vex chumps quickly in fog. Watch \"Jeopardy!\", \n",
    "Alex Trebek's fun TV quiz game.\"\"\"\n",
    "\n",
    "start = -1\n",
    "while True:\n",
    "    start = text.find( \"[\", start+1 )\n",
    "    if start < 0:\n",
    "        break\n",
    "    finish = text.find( \"]\", start )\n",
    "    if finish < 0:\n",
    "        break\n",
    "    print( text[start+1:finish], end=\"\" )\n",
    "    start = finish "
   ]
  },
  {
   "cell_type": "markdown",
   "metadata": {},
   "source": [
    "### Exercise 10.3"
   ]
  },
  {
   "cell_type": "code",
   "execution_count": null,
   "metadata": {
    "collapsed": true
   },
   "outputs": [],
   "source": [
    "ch = \"A\"\n",
    "while ch <= \"Z\":\n",
    "    print( ch, end=\" \" )\n",
    "    ch = chr( ord( ch )+1 )\n",
    "print()\n",
    "\n",
    "for i in range( 26 ):\n",
    "    rotr13 = (i + 13)%26\n",
    "    ch = chr( ord( \"A\" ) + rotr13 )\n",
    "    print( ch, end=\" \" )"
   ]
  },
  {
   "cell_type": "markdown",
   "metadata": {},
   "source": [
    "### Exercise 10.4"
   ]
  },
  {
   "cell_type": "code",
   "execution_count": null,
   "metadata": {
    "collapsed": true
   },
   "outputs": [],
   "source": [
    "# Counting wood.\n",
    "text = \"\"\"How much wood would a woodchuck chuck\n",
    "If a woodchuck could chuck wood?\n",
    "He would chuck, he would, as much as he could,\n",
    "And chuck as much as a woodchuck would\n",
    "If a woodchuck could chuck wood.\"\"\"\n",
    "\n",
    "def clean( s ):\n",
    "    news = \"\"\n",
    "    s = s.lower()\n",
    "    for c in s:\n",
    "        if c >= \"a\" and c <= \"z\":\n",
    "            news += c\n",
    "        else:\n",
    "            news += \" \"\n",
    "    return news\n",
    "\n",
    "count = 0\n",
    "for word in clean( text ).split():\n",
    "    if word == \"wood\":\n",
    "        count += 1\n",
    "\n",
    "print( \"Number of times \\\"wood\\\" occurs in the text:\", count )"
   ]
  },
  {
   "cell_type": "markdown",
   "metadata": {},
   "source": [
    "Note that in the example text, the word \"wood\" never occurs with a capital. For a solid test, you should insert \"wood\" written with one or more capitals in the text somewhere."
   ]
  },
  {
   "cell_type": "markdown",
   "metadata": {},
   "source": [
    "### Exercise 10.5"
   ]
  },
  {
   "cell_type": "code",
   "execution_count": null,
   "metadata": {
    "collapsed": true
   },
   "outputs": [],
   "source": [
    "text = \"Hello, world!\"\n",
    "newtext = \"\"\n",
    "while len( text ) > 0:\n",
    "    i = 0\n",
    "    ch = text[i]\n",
    "    j = 1\n",
    "    while j < len( text ):\n",
    "        if text[j] < ch:\n",
    "            ch = text[j]\n",
    "            i = j\n",
    "        j += 1\n",
    "    text = text[:i] + text[i+1:]\n",
    "    newtext += ch\n",
    "print( newtext )"
   ]
  },
  {
   "cell_type": "markdown",
   "metadata": {},
   "source": [
    "### Exercise 10.6"
   ]
  },
  {
   "cell_type": "code",
   "execution_count": null,
   "metadata": {
    "collapsed": true
   },
   "outputs": [],
   "source": [
    "from sys import exit\n",
    "\n",
    "sentence = \"as it turned out our chance meeting with REverend aRTHUR BElling was \\\n",
    "was to change our whole way of life, and every sunday we'd hurry along to St lOONY up the Cream BUn and Jam.\"\n",
    "\n",
    "# Just check if there really is a sentence.\n",
    "if len( sentence  ) <= 0:\n",
    "    exit()\n",
    "\n",
    "# Capitalize first letter \n",
    "newsentence = sentence[0].upper() + sentence[1:]\n",
    "\n",
    "wordlist = newsentence.split()\n",
    "lastword = \"\"\n",
    "newsentence = \"\"\n",
    "\n",
    "for word in wordlist:\n",
    "\n",
    "    # Correct double capitals\n",
    "    if len( word ) > 2 and word[0] >= \"A\" and word[0] <= \"Z\" and \\\n",
    "        word[1] >= \"A\" and word[1] <= \"Z\" and word[2] >= \"a\" and word[2] <= \"z\":\n",
    "        word = word[0] + word[1].lower() + word[2:]\n",
    "    \n",
    "    # Capitalize days\n",
    "    day = word.lower()\n",
    "    if day == \"sunday\" or day == \"monday\" or day == \"tuesday\" or day == \"wednesday\" or \\\n",
    "        day == \"thursday\" or day == \"friday\" or day == \"saturday\":\n",
    "        word = day[0].upper() + day[1:]\n",
    "    \n",
    "    # Correct CAPS LOCK\n",
    "    if word[0] >= \"a\" and word[0] <= \"z\":\n",
    "        allcaps = True\n",
    "        for c in word[1:]:\n",
    "            if not (c >= \"A\" and c <= \"Z\"):\n",
    "                allcaps = False\n",
    "                break\n",
    "        if allcaps:\n",
    "            word = word[0].upper() + word[1:].lower()\n",
    "    \n",
    "    # Remove duplicates\n",
    "    if word == lastword: \n",
    "        continue\n",
    "        \n",
    "    newsentence += word + \" \"\n",
    "    lastword = word\n",
    "    \n",
    "newsentence = newsentence.strip()\n",
    "print( newsentence )"
   ]
  },
  {
   "cell_type": "markdown",
   "metadata": {},
   "source": [
    "---"
   ]
  },
  {
   "cell_type": "markdown",
   "metadata": {},
   "source": [
    "## 11 - Tuples<a id=\"answers11\"></a>"
   ]
  },
  {
   "cell_type": "markdown",
   "metadata": {},
   "source": [
    "### Exercise 11.1"
   ]
  },
  {
   "cell_type": "markdown",
   "metadata": {},
   "source": [
    "To make the display of complex numbers a bit nice, I have created a function `display_complex()` which takes up most of this code. Creating such a function is not absolutely necessary."
   ]
  },
  {
   "cell_type": "code",
   "execution_count": null,
   "metadata": {
    "collapsed": true
   },
   "outputs": [],
   "source": [
    "def add_complex( c1, c2 ):\n",
    "    return (c1[0] + c2[0], c1[1] + c2[1])\n",
    "\n",
    "def display_complex( c ):\n",
    "    s = \"(\"\n",
    "    if c[1] == 0:\n",
    "        return str( c[0] )\n",
    "    elif c[0] != 0:\n",
    "        s += str( c[0] )\n",
    "        if c[1] > 0:\n",
    "            s += \"+\"\n",
    "    if c[1] != 1:\n",
    "        if c[1] == -1:\n",
    "            s += \"-\"\n",
    "        else:\n",
    "            s += str( c[1] )\n",
    "    s += \"i)\"\n",
    "    return s\n",
    "\n",
    "num1 = (2,1)\n",
    "num2 = (0,2)\n",
    "print( display_complex( num1 ), \"+\", display_complex( num2 ), \"=\",\n",
    "     display_complex( add_complex( num1, num2 ) ) )"
   ]
  },
  {
   "cell_type": "markdown",
   "metadata": {},
   "source": [
    "### Exercise 11.2"
   ]
  },
  {
   "cell_type": "markdown",
   "metadata": {},
   "source": [
    "The function `display_complex()`, even though it is optional, has been copied in this code too."
   ]
  },
  {
   "cell_type": "code",
   "execution_count": null,
   "metadata": {
    "collapsed": true
   },
   "outputs": [],
   "source": [
    "def multiply_complex( c1, c2 ):\n",
    "    return (c1[0]*c2[0] - c2[1]*c1[1], c1[0]*c2[1] + c1[1]*c2[0])\n",
    "\n",
    "def display_complex( c ):\n",
    "    s = \"(\"\n",
    "    if c[1] == 0:\n",
    "        return str( c[0] )\n",
    "    elif c[0] != 0:\n",
    "        s += str( c[0] )\n",
    "        if c[1] > 0:\n",
    "            s += \"+\"\n",
    "    if c[1] != 1:\n",
    "        if c[1] == -1:\n",
    "            s += \"-\"\n",
    "        else:\n",
    "            s += str( c[1] )\n",
    "    s += \"i)\"\n",
    "    return s\n",
    "\n",
    "num1 = (2,1)\n",
    "num2 = (0,2)\n",
    "print( display_complex( num1 ), \"*\", display_complex( num2 ), \"=\",\n",
    "     display_complex( multiply_complex( num1, num2 ) ) )"
   ]
  },
  {
   "cell_type": "markdown",
   "metadata": {},
   "source": [
    "### Exercise 11.3"
   ]
  },
  {
   "cell_type": "markdown",
   "metadata": {},
   "source": [
    "This code is a nice example of how you can use recursive functions to traverse tree-like structures."
   ]
  },
  {
   "cell_type": "code",
   "execution_count": null,
   "metadata": {
    "collapsed": true
   },
   "outputs": [],
   "source": [
    "# Processing inttuples\n",
    "inttuple = ( 1, 2, ( 3, 4 ), 5, ( ( 6, 7, 8, ( 9, 10 ), 11 ), 12, 13 ), ( ( 14, 15, 16 ), ( 17, 18, 19, 20 ) ) )\n",
    "\n",
    "def display_inttuple( it ):\n",
    "    for element in it:\n",
    "        if isinstance( element, int ):\n",
    "            print( element, end=\" \")\n",
    "        else:\n",
    "            display_inttuple( element )\n",
    "\n",
    "display_inttuple( inttuple )"
   ]
  },
  {
   "cell_type": "markdown",
   "metadata": {},
   "source": [
    "---"
   ]
  },
  {
   "cell_type": "markdown",
   "metadata": {},
   "source": [
    "## 12 - Lists<a id=\"answers12\"></a>"
   ]
  },
  {
   "cell_type": "markdown",
   "metadata": {},
   "source": [
    "### Exercise 12.1"
   ]
  },
  {
   "cell_type": "code",
   "execution_count": null,
   "metadata": {
    "collapsed": true
   },
   "outputs": [],
   "source": [
    "from random import choice\n",
    "\n",
    "answers = [ \"It is certain\", \"It is decidedly so\", \"Without a doubt\",\n",
    "    \"Yes, definitely\", \"You may rely on it\", \"As I see it, yes\",\n",
    "    \"Most likely\", \"Outlook good\", \"Yes\", \"Signs point to yes\",\n",
    "    \"Reply hazy try again\", \"Ask again later\", \"Better not tell you now\",\n",
    "    \"Cannot predict now\", \"Concentrate and ask again\", \"Don't count on it\",\n",
    "    \"My reply is no\", \"My sources say no\", \"Outlook not so good\",\n",
    "    \"Very doubtful\" ]\n",
    "\n",
    "input( \"Ask the magic 8-ball your question: \" )\n",
    "print( \"The magic 8-ball says:\", choice( answers ) )"
   ]
  },
  {
   "cell_type": "markdown",
   "metadata": {},
   "source": [
    "The `choice()` function from `random` selects a random item from a list. You could also have used `randint()`, selecting an index from the range `0` to `len( answers )-1`."
   ]
  },
  {
   "cell_type": "markdown",
   "metadata": {},
   "source": [
    "### Exercise 12.2"
   ]
  },
  {
   "cell_type": "code",
   "execution_count": null,
   "metadata": {
    "collapsed": true
   },
   "outputs": [],
   "source": [
    "from random import randint\n",
    "\n",
    "deck = []\n",
    "for value in (\"Ace\", \"2\", \"3\", \"4\", \"5\", \"6\", \"7\", \"8\", \"10\", \"Jack\", \"Queen\", \"King\"):\n",
    "    for suit in (\"Hearts\", \"Spaces\", \"Clubs\", \"Diamonds\"):\n",
    "        deck.append( value + \" of \" + suit )\n",
    "        \n",
    "for i in range( len( deck ) ):\n",
    "    j = randint( i, len( deck )-1 )\n",
    "    deck[i], deck[j] = deck[j], deck[i]\n",
    "    \n",
    "for card in deck:\n",
    "    print( card )"
   ]
  },
  {
   "cell_type": "markdown",
   "metadata": {},
   "source": [
    "### Exercise 12.3"
   ]
  },
  {
   "cell_type": "code",
   "execution_count": null,
   "metadata": {
    "collapsed": true
   },
   "outputs": [],
   "source": [
    "fifo = []\n",
    "while True:\n",
    "    k = input( \"> \" )\n",
    "    if k == \"\":\n",
    "        break\n",
    "    if k != \"?\":\n",
    "        fifo.append( k )\n",
    "    elif len( fifo ) > 0:\n",
    "        print( fifo.pop(0) )\n",
    "    else:\n",
    "        print( \"List is empty\" )"
   ]
  },
  {
   "cell_type": "markdown",
   "metadata": {},
   "source": [
    "### Exercise 12.4"
   ]
  },
  {
   "cell_type": "code",
   "execution_count": null,
   "metadata": {
    "collapsed": true
   },
   "outputs": [],
   "source": [
    "text = \"\"\"Now, it's quite simple to defend yourself against a man armed\n",
    "with a banana. First of all you force him to drop the banana; then, \n",
    "second, you eat the banana, thus disarming him. You have now rendered \n",
    "him helpless.\"\"\"\n",
    "\n",
    "def count_letter( x ):\n",
    "    return x[0], -ord(x[1]) \n",
    "\n",
    "countlist = []\n",
    "for i in range( 26 ):\n",
    "    countlist.append( [0, chr(ord(\"a\")+i)] )\n",
    "    \n",
    "for letter in text.lower():\n",
    "    if letter >= \"a\" and letter <= \"z\":\n",
    "        countlist[ord(letter)-ord(\"a\")][0] += 1\n",
    "        \n",
    "countlist.sort( reverse=True, key=count_letter )\n",
    "    \n",
    "for count in countlist:\n",
    "    print( \"{:3}: {}\".format( count[0],count[1] ) )"
   ]
  },
  {
   "cell_type": "markdown",
   "metadata": {},
   "source": [
    "### Exercise 12.5"
   ]
  },
  {
   "cell_type": "code",
   "execution_count": null,
   "metadata": {
    "collapsed": true
   },
   "outputs": [],
   "source": [
    "numbers = 101 * [True]\n",
    "for i in range( 2, len( numbers ) ):\n",
    "    if numbers[i]:\n",
    "        print( i, end=\" \" )\n",
    "        for j in range( 2*i, len( numbers ), i ):\n",
    "            numbers[j] = False"
   ]
  },
  {
   "cell_type": "markdown",
   "metadata": {},
   "source": [
    "There are basically two general approaches to this program: either you make a list of numbers, or you make a list of booleans and use the index as numbers. In this case, I decided to use the booleans method because it is slightly shorter and faster than the other approach. I start the list at zero, as that saves many subtractions while only adding two useless booleans. If you use the approach with numbers, you can use a list casting of the `range()` function to create the list."
   ]
  },
  {
   "cell_type": "markdown",
   "metadata": {},
   "source": [
    "### Exercise 12.6"
   ]
  },
  {
   "cell_type": "code",
   "execution_count": null,
   "metadata": {
    "collapsed": true
   },
   "outputs": [],
   "source": [
    "from pcinput import getInteger\n",
    "\n",
    "EMPTY = \"-\"\n",
    "PLAYERX = \"X\"\n",
    "PLAYERO = \"O\"\n",
    "MAXMOVE = 9\n",
    "\n",
    "def display_board( b ):\n",
    "    print( \"  1 2 3\" )\n",
    "    for row in range( 3 ):\n",
    "        print( row+1, end=\" \")\n",
    "        for col in range( 3 ):\n",
    "            print( b[row][col], end=\" \" )\n",
    "        print()\n",
    "\n",
    "def opponent( p ):\n",
    "    if p == \"X\":\n",
    "        return \"O\"\n",
    "    return \"X\"\n",
    "        \n",
    "def getRowCol( player, what ):\n",
    "    while True:\n",
    "        num = getInteger( \"Player \"+player+\", which \"+what+\" do you play? \" )\n",
    "        if num < 1 or num > 3:\n",
    "            print( \"Please enter 1, 2, or 3\" )\n",
    "            continue\n",
    "        return num\n",
    "    \n",
    "def winner( b ):\n",
    "    for row in range( 3 ):\n",
    "        if b[row][0] != EMPTY and b[row][0] == b[row][1] and b[row][0] == b[row][2]:\n",
    "            return True\n",
    "    for col in range( 3 ):\n",
    "        if b[0][col] != EMPTY and b[0][col] == b[1][col] and b[0][col] == b[2][col]:\n",
    "            return True\n",
    "    if b[1][1] != EMPTY:\n",
    "        if b[1][1] == b[0][0] and b[1][1] == b[2][2]:\n",
    "            return True\n",
    "        if b[1][1] == b[0][2] and b[1][1] == b[2][0]:\n",
    "            return True\n",
    "    return False\n",
    "\n",
    "board = [[EMPTY,EMPTY,EMPTY],[EMPTY,EMPTY,EMPTY],[EMPTY,EMPTY,EMPTY]]\n",
    "player = PLAYERX\n",
    "\n",
    "display_board( board )\n",
    "move = 0\n",
    "while True:\n",
    "    row = getRowCol( player, \"row\" )\n",
    "    col = getRowCol( player, \"column\" )\n",
    "    if board[row-1][col-1] != EMPTY:\n",
    "        print( \"There is already a piece at row\", row, \"and column\", col )\n",
    "        continue\n",
    "    board[row-1][col-1] = player\n",
    "    display_board( board )\n",
    "    if winner( board ):\n",
    "        print( \"Player\", player, \"won!\" )\n",
    "        break\n",
    "    move += 1\n",
    "    if move == MAXMOVE:\n",
    "        print( \"It's a draw.\" )\n",
    "        break\n",
    "    player = opponent( player )"
   ]
  },
  {
   "cell_type": "markdown",
   "metadata": {},
   "source": [
    "### Exercise 12.7"
   ]
  },
  {
   "cell_type": "code",
   "execution_count": null,
   "metadata": {
    "collapsed": true
   },
   "outputs": [],
   "source": [
    "from pcinput import getString\n",
    "from random import randint\n",
    "\n",
    "EMPTY = \".\"\n",
    "BATTLESHIP = \"X\"\n",
    "SHIPS = 3\n",
    "WIDTH = 4\n",
    "HEIGHT = 3\n",
    "\n",
    "def displayBoard( b ):\n",
    "    print( \"  \", end=\"\" )\n",
    "    for col in range( WIDTH ):\n",
    "        print( chr( ord(\"A\")+col ), end=\" \" )\n",
    "    print()\n",
    "    for row in range( HEIGHT ):\n",
    "        print( row+1, end=\" \")\n",
    "        for col in range( WIDTH ):\n",
    "            print( b[row][col], end=\" \" )\n",
    "        print()\n",
    "\n",
    "def placeBattleships( b ):\n",
    "    for i in range( SHIPS ):\n",
    "        while True:\n",
    "            x = randint( 0, WIDTH-1 )\n",
    "            y = randint( 0, HEIGHT-1 )\n",
    "            if b[y][x] == BATTLESHIP:\n",
    "                continue\n",
    "            if x > 0 and b[y][x-1] == BATTLESHIP:\n",
    "                continue\n",
    "            if x < WIDTH-1 and b[y][x+1] == BATTLESHIP:\n",
    "                continue\n",
    "            if y > 0 and b[y-1][x] == BATTLESHIP:\n",
    "                continue\n",
    "            if y < HEIGHT-1 and b[y+1][x] == BATTLESHIP:\n",
    "                continue\n",
    "            break\n",
    "        b[y][x] = BATTLESHIP\n",
    "    \n",
    "def getTarget():\n",
    "    while True:\n",
    "        cell = getString( \"Which cell do you target? \" ).upper()\n",
    "        if len( cell ) != 2:\n",
    "            print( \"Please enter a cell as XY, where X is a letter and Y a digit\" )\n",
    "            continue\n",
    "        if cell[0] not in \"ABCD\":\n",
    "            print( \"The first character of the cell should be a letter in the range A-\"+chr( ord(\"A\")+WIDTH-1 ) )\n",
    "            continue\n",
    "        if cell[1] not in \"123\":\n",
    "            print( \"The second character of the cell should be a digit in the range 1-\"+str( HEIGHT ) )\n",
    "            continue\n",
    "        return ord(cell[0])-ord(\"A\"), ord(cell[1])-ord(\"1\")      \n",
    "    \n",
    "board = []\n",
    "for i in range( HEIGHT ):\n",
    "    row = WIDTH * [EMPTY]\n",
    "    board.append( row )\n",
    "placeBattleships( board )\n",
    "displayBoard( board )\n",
    "\n",
    "hits = 0\n",
    "moves = 0\n",
    "while hits < SHIPS:\n",
    "    x, y = getTarget()\n",
    "    if board[y][x] == BATTLESHIP:\n",
    "        print( \"You sunk my battleship!\" )\n",
    "        board[y][x] = EMPTY\n",
    "        hits += 1\n",
    "    else:\n",
    "        print( \"Miss!\" )\n",
    "    moves += 1\n",
    "\n",
    "print( \"You needed\", moves, \"moves to sink all battleships.\" )"
   ]
  },
  {
   "cell_type": "markdown",
   "metadata": {},
   "source": [
    "### Exercise 12.8"
   ]
  },
  {
   "cell_type": "code",
   "execution_count": null,
   "metadata": {
    "collapsed": true
   },
   "outputs": [],
   "source": [
    "# Recursive function that determines if intlist, which is a list of integers,\n",
    "# contains a subset that adds up to total. It returns the subset, or\n",
    "# an empty list if there is no such subset.\n",
    "def subset_that_adds_up_to( intlist, total ):\n",
    "    for num in intlist:\n",
    "        if num == total:\n",
    "            return [num]\n",
    "        newlist = intlist[:]\n",
    "        newlist.remove( num )\n",
    "        retlist = subset_that_adds_up_to( newlist, total-num )\n",
    "        if len( retlist ) > 0:\n",
    "            retlist.insert( 0, num )\n",
    "            return( retlist )\n",
    "    return []\n",
    "\n",
    "numlist = [ 3, 8, -1, 4, -5, 6 ]\n",
    "\n",
    "solution = subset_that_adds_up_to( numlist, 0 )\n",
    "\n",
    "if len( solution ) <= 0:\n",
    "    print( \"There is no subset which adds up to zero\" )\n",
    "else:\n",
    "    for i in range( len( solution ) ):\n",
    "        if solution[i] < 0 or i == 0:\n",
    "            print( solution[i], end=\"\" )\n",
    "        else:\n",
    "            print( \"+{}\".format( solution[i] ), end=\"\" )\n",
    "    print( \"=0\" )"
   ]
  },
  {
   "cell_type": "markdown",
   "metadata": {},
   "source": [
    "The recursive function works as follows: It loops through all numbers on `intlist`. If the current number is equal to `total`, it has found a solution and returns a list which contains only that number. Otherwise, it recursively calls itself with a copy of `intlist` from which the current number is removed, for a `total` which is reduced by the current number (e.g., if the current number is 3 and the total is 5, it removes 3 from the list and checks whether a total of 2 can be achieved with the remaining list, because then 5 could be achieved by adding 3 to the solution for the remaining list). If the recursive call returns a list that is not empty, a solution is found, so the current number is appended to the returned list, and the result is returned. Once all numbers have been processed and no solution was found, an empty list is returned.\n",
    "\n",
    "Note: The solution to this problem tests all possible subsets until one is found that solves the problem, or all of them have been tested. You might wonder whether there are smarter solutions, considering the fact that the number of subset rises exponentially with the size of of the list. The answer is that there might be solutions which improve upon this one (for instance, I could take into account that if a number occurs multiple times on the list that some subsets occur multiple times and need only be tested once), but that for general lists of numbers, no algorithm is known that avoids having to process each and every subset if there is no solution. For those who know some complexity theory: the subset sum problem is \"NP-hard\"."
   ]
  },
  {
   "cell_type": "markdown",
   "metadata": {},
   "source": [
    "---"
   ]
  },
  {
   "cell_type": "markdown",
   "metadata": {},
   "source": [
    "## 13 - Dictionaries<a id=\"answers13\"></a>"
   ]
  },
  {
   "cell_type": "markdown",
   "metadata": {},
   "source": [
    "### Exercise 13.1"
   ]
  },
  {
   "cell_type": "markdown",
   "metadata": {},
   "source": [
    "Hopefully you remembered that you did something really similar in a previous chapter. The code below is mostly a copy of the code you had to write there."
   ]
  },
  {
   "cell_type": "code",
   "execution_count": null,
   "metadata": {
    "collapsed": true
   },
   "outputs": [],
   "source": [
    "text = \"\"\"How much wood would a woodchuck chuck\n",
    "If a woodchuck could chuck wood?\n",
    "He would chuck, he would, as much as he could,\n",
    "And chuck as much as a woodchuck would\n",
    "If a woodchuck could chuck wood.\"\"\"\n",
    "\n",
    "def clean( s ):\n",
    "    news = \"\"\n",
    "    s = s.lower()\n",
    "    for c in s:\n",
    "        if c >= \"a\" and c <= \"z\":\n",
    "            news += c\n",
    "        else:\n",
    "            news += \" \"\n",
    "    return news\n",
    "\n",
    "dict = {}\n",
    "for word in clean( text ).split():\n",
    "    dict[word] = dict.get( word, 0 ) + 1\n",
    "    \n",
    "keylist = list( dict.keys() )\n",
    "keylist.sort()\n",
    "for key in keylist:\n",
    "    print( \"{}: {}\".format( key, dict[key] ) )"
   ]
  },
  {
   "cell_type": "markdown",
   "metadata": {},
   "source": [
    "### Exercise 13.2"
   ]
  },
  {
   "cell_type": "code",
   "execution_count": null,
   "metadata": {
    "collapsed": true
   },
   "outputs": [],
   "source": [
    "movies = {\"Monty Python and the Holy Grail\": [ 9, 10, 9.5, 8.5, 3, 7.5,8 ],\n",
    "          \"Monty Python's Life of Brian\": [ 10, 10, 0, 9, 1, 8, 7.5, 8, 6, 9 ],\n",
    "          \"Monty Python's Meaning of Life\": [ 7, 6, 5 ],\n",
    "          \"And Now For Something Completely Different\": [ 6, 5, 6, 6 ] }\n",
    "\n",
    "keylist = list( movies.keys() )\n",
    "keylist.sort()\n",
    "for key in keylist:\n",
    "    print( \"{}: {}\".format( key, round( sum( movies[key] )/len( movies[key] ), 1 ) ) )"
   ]
  },
  {
   "cell_type": "markdown",
   "metadata": {},
   "source": [
    "### Exercise 13.3"
   ]
  },
  {
   "cell_type": "markdown",
   "metadata": {},
   "source": [
    "Many answers are possible. Probably the simplest one is to use a dictionary where the keys are tuples of writers' last and first names, and the values are lists of all the books of a writer. A book is a tuple consisting of title and location. To find all the books of a writer, use the writer's last and first name to find a list of his books. To find the location of a specific book of a writer, get the list of his books and find the book on that list, then get the corresponding location. You could choose to store the booklist also as a dictionary with a book's title as key, but writers usually do not write so many books that you need to do that. Of course, using names as keys is not a great idea as it is easy to make spelling mistakes, and book titles as keys would be even less useful, but these were the only identifying elements I described. I can't complain if you want to introduce easier and less ambiguous keys in such a data structure (but in general, you should divert to a database system to deal with libraries)."
   ]
  },
  {
   "cell_type": "markdown",
   "metadata": {},
   "source": [
    "---"
   ]
  },
  {
   "cell_type": "markdown",
   "metadata": {},
   "source": [
    "## 14 - Sets<a id=\"answers14\"></a>"
   ]
  },
  {
   "cell_type": "markdown",
   "metadata": {},
   "source": [
    "### Exercise 14.1"
   ]
  },
  {
   "cell_type": "code",
   "execution_count": null,
   "metadata": {
    "collapsed": true
   },
   "outputs": [],
   "source": [
    "allthings = { \"Socrates\", \"Plato\", \"Eratosthenes\", \"Zeus\", \"Hera\", \"Athens\", \"Acropolis\", \"Cat\", \"Dog\" }\n",
    "men = { \"Socrates\", \"Plato\", \"Eratosthenes\" }\n",
    "mortalthings = { \"Socrates\", \"Plato\", \"Eratosthenes\", \"Cat\", \"Dog\" }\n",
    "\n",
    "print( men.issubset( mortalthings ) ) # (a)\n",
    "print( \"Socrates\" in men ) # (b)\n",
    "print( \"Socrates\" in mortalthings ) # (c)\n",
    "print( len( mortalthings.difference( men ) ) > 0 ) # (d)\n",
    "print( len( allthings.difference( mortalthings ) ) > 0 ) # (e)"
   ]
  },
  {
   "cell_type": "markdown",
   "metadata": {},
   "source": [
    "### Exercise 14.2"
   ]
  },
  {
   "cell_type": "code",
   "execution_count": 6,
   "metadata": {},
   "outputs": [],
   "source": [
    "set3 = set( [3*x for x in range( 1, int( 1001/3 )+1 )] )\n",
    "set7 = set( [7*x for x in range( 1, int( 1001/7 )+1 )] )\n",
    "set11 = set( [11*x for x in range( 1, int( 1001/11 )+1 )] )\n",
    "\n",
    "seta = set3 & set7 & set11\n",
    "setb = (set3 & set7) - set11\n",
    "setc = set( range( 1, 1001 ) ) - set3 - set7 - set11"
   ]
  },
  {
   "cell_type": "markdown",
   "metadata": {},
   "source": [
    "You can print the sets to check that the answers are correct."
   ]
  },
  {
   "cell_type": "markdown",
   "metadata": {},
   "source": [
    "---"
   ]
  },
  {
   "cell_type": "markdown",
   "metadata": {},
   "source": [
    "## 15 - Operating System<a id=\"answers15\"></a>"
   ]
  },
  {
   "cell_type": "markdown",
   "metadata": {},
   "source": [
    "### Exercise 15.1"
   ]
  },
  {
   "cell_type": "code",
   "execution_count": null,
   "metadata": {
    "collapsed": true
   },
   "outputs": [],
   "source": [
    "from os import listdir, getcwd\n",
    "\n",
    "flist = listdir( \".\" )\n",
    "for name in flist:\n",
    "    print( getcwd() + \"/\" + name )"
   ]
  },
  {
   "cell_type": "markdown",
   "metadata": {},
   "source": [
    "---"
   ]
  },
  {
   "cell_type": "markdown",
   "metadata": {},
   "source": [
    "## 16 - Text Files<a id=\"answers16\"></a>"
   ]
  },
  {
   "cell_type": "markdown",
   "metadata": {},
   "source": [
    "### Exercise 16.1"
   ]
  },
  {
   "cell_type": "markdown",
   "metadata": {},
   "source": [
    "Hopefully you remembered that you did something really similar in two previous chapters. The code below is mostly a copy of the code you had to write before. The only thing that is different is that the text is not provided as a string, but read from a file."
   ]
  },
  {
   "cell_type": "code",
   "execution_count": null,
   "metadata": {
    "collapsed": true
   },
   "outputs": [],
   "source": [
    "def clean( s ):\n",
    "    news = \"\"\n",
    "    s = s.lower()\n",
    "    for c in s:\n",
    "        if c >= \"a\" and c <= \"z\":\n",
    "            news += c\n",
    "        else:\n",
    "            news += \" \"\n",
    "    return news\n",
    "\n",
    "fp = open( \"pc_woodchuck.txt\" )\n",
    "text = fp.read()\n",
    "fp.close()\n",
    "\n",
    "dict = {}\n",
    "for word in clean( text ).split():\n",
    "    dict[word] = dict.get( word, 0 ) + 1\n",
    "    \n",
    "keylist = list( dict.keys() )\n",
    "keylist.sort()\n",
    "for key in keylist:\n",
    "    print( \"{}: {}\".format( key, dict[key] ) )"
   ]
  },
  {
   "cell_type": "markdown",
   "metadata": {},
   "source": [
    "### Exercise 16.2"
   ]
  },
  {
   "cell_type": "code",
   "execution_count": null,
   "metadata": {
    "collapsed": true
   },
   "outputs": [],
   "source": [
    "def clean( s ):\n",
    "    news = \"\"\n",
    "    s = s.lower()\n",
    "    for c in s:\n",
    "        if c >= \"a\" and c <= \"z\":\n",
    "            news += c\n",
    "        else:\n",
    "            news += \" \"\n",
    "    return news\n",
    "\n",
    "dict = {}\n",
    "fp = open( \"pc_woodchuck.txt\" )\n",
    "while True:\n",
    "    line = fp.readline()\n",
    "    if line == \"\":\n",
    "        break\n",
    "    for word in clean( line ).split():\n",
    "        dict[word] = dict.get( word, 0 ) + 1\n",
    "fp.close()\n",
    "    \n",
    "keylist = list( dict.keys() )\n",
    "keylist.sort()\n",
    "for key in keylist:\n",
    "    print( \"{}: {}\".format( key, dict[key] ) )"
   ]
  },
  {
   "cell_type": "markdown",
   "metadata": {},
   "source": [
    "### Exercise 16.3"
   ]
  },
  {
   "cell_type": "code",
   "execution_count": null,
   "metadata": {
    "collapsed": true
   },
   "outputs": [],
   "source": [
    "from os.path import join\n",
    "from os import getcwd\n",
    "\n",
    "def removevowels( line ):\n",
    "    newline = \"\"\n",
    "    for c in line:\n",
    "        if c not in \"aeiouAEIOU\":\n",
    "            newline += c\n",
    "    return newline\n",
    "\n",
    "inputname = join( getcwd(), \"pcdata\", \"pc_bohemia.txt\" )\n",
    "outputname = join( getcwd(), \"pc_bohemia.tmp\" )\n",
    "\n",
    "fpi = open( inputname )\n",
    "fpo = open( outputname, \"w\" )\n",
    "\n",
    "countread = 0\n",
    "countwritten = 0\n",
    "\n",
    "while True:\n",
    "    line = fpi.readline()\n",
    "    if line == \"\":\n",
    "        break\n",
    "    countread += len( line )\n",
    "    line = removevowels( line )\n",
    "    fpo.write( line )\n",
    "    countwritten += len( line )\n",
    "\n",
    "fpo.close()\n",
    "fpi.close()\n",
    "\n",
    "print( \"Characters read:\", countread )\n",
    "print( \"Characters written:\", countwritten )"
   ]
  },
  {
   "cell_type": "markdown",
   "metadata": {},
   "source": [
    "### Exercise 16.4"
   ]
  },
  {
   "cell_type": "markdown",
   "metadata": {},
   "source": [
    "The solution below makes use of sets: a set is created for each file, which contains all the words from that file that have 10 letters or more. To make the program flexible, it is not limited to just three sets, but uses as many sets as there are names in the `filelist`. At the end, the program creates an intersection of all the sets to determine the words that meet the requirements."
   ]
  },
  {
   "cell_type": "code",
   "execution_count": null,
   "metadata": {
    "collapsed": true
   },
   "outputs": [],
   "source": [
    "from os.path import join\n",
    "from os import getcwd\n",
    "\n",
    "def clean( s ):\n",
    "    news = \"\"\n",
    "    s = s.lower()\n",
    "    for c in s:\n",
    "        if c >= \"a\" and c <= \"z\":\n",
    "            news += c\n",
    "        else:\n",
    "            news += \" \"\n",
    "    return news\n",
    "\n",
    "filelist = [ \"pc_bohemia.txt\", \"pc_amontillado.txt\", \"pc_jeeves.txt\" ]\n",
    "setlist = []\n",
    "\n",
    "for name in filelist:\n",
    "    filename = join( getcwd(), \"pcdata\", name )\n",
    "    wordset = set()\n",
    "    setlist.append( wordset )\n",
    "    fp = open( filename )\n",
    "    while True:\n",
    "        line = fp.readline()\n",
    "        if line == \"\":\n",
    "            break\n",
    "        wordlist = clean( line ).split()\n",
    "        for word in wordlist:\n",
    "            if len( word ) >= 10:\n",
    "                wordset.add( word )\n",
    "    fp.close()\n",
    "\n",
    "combination = setlist[0].copy()\n",
    "i = 1\n",
    "while i < len( setlist ):\n",
    "    combination = combination & setlist[i]\n",
    "    i += 1\n",
    "\n",
    "for word in combination:\n",
    "    print( word )"
   ]
  },
  {
   "cell_type": "markdown",
   "metadata": {},
   "source": [
    "### Exercise 16.5"
   ]
  },
  {
   "cell_type": "markdown",
   "metadata": {},
   "source": [
    "Again, in the solution below I chose to be flexible as far as the number of files is concerned. The program is easier to write if you assume there are three files, and no more. If you chose such a solution, that is acceptable as long as the program does what it should do, as allowing it to work with a variable number of files is more an exercise for the chapter on iterations. However, by now you should be quite familiar with iterations, so try to apply them whenever they provide a superior solution."
   ]
  },
  {
   "cell_type": "code",
   "execution_count": null,
   "metadata": {
    "collapsed": true
   },
   "outputs": [],
   "source": [
    "from os.path import join\n",
    "from os import getcwd\n",
    "\n",
    "filelist = [ \"pc_bohemia.txt\", \"pc_amontillado.txt\", \"pc_jeeves.txt\" ]\n",
    "letterlist = [ len( filelist )*[0] for i in range( 26 ) ]\n",
    "totallist = len( filelist ) * [0]\n",
    "\n",
    "# Process all the input files, read their contents line by line,\n",
    "# make them lower case, and keep track of the letter counts in \n",
    "# letterlist, while also keeping track of the total counts in \n",
    "# totallist.\n",
    "filecount = 0\n",
    "for name in filelist:\n",
    "    filename = join( getcwd(), \"pcdata\", name )\n",
    "    fp = open( filename )\n",
    "    while True:\n",
    "        line = fp.readline()\n",
    "        if line == \"\":\n",
    "            break\n",
    "        line = line.lower()\n",
    "        for c in line:\n",
    "            if c >= 'a' and c <= 'z':\n",
    "                totallist[filecount] += 1\n",
    "                letterlist[ord(c)-ord(\"a\")][filecount] += 1\n",
    "    fp.close()\n",
    "    filecount += 1\n",
    "\n",
    "# Write the counts in CSV format.\n",
    "outfilename = join( getcwd(), \"pc_writetest.csv\" )\n",
    "fp = open( outfilename, \"w\" )\n",
    "for i in range( len( letterlist ) ):\n",
    "    s = \"\\\"{}\\\"\".format( chr( ord(\"a\")+i ) )\n",
    "    for j in range( len( filelist ) ):\n",
    "        s += \",{:.5f}\".format( letterlist[i][j]/totallist[j] )\n",
    "    fp.write( s+\"\\n\" )\n",
    "fp.close()\n",
    "\n",
    "# Print the contents of the created output file as a check.\n",
    "fp = open( outfilename )\n",
    "print( fp.read() )\n",
    "fp.close()"
   ]
  },
  {
   "cell_type": "markdown",
   "metadata": {},
   "source": [
    "---"
   ]
  },
  {
   "cell_type": "markdown",
   "metadata": {},
   "source": [
    "## 17 - Exceptions<a id=\"answers17\"></a>"
   ]
  },
  {
   "cell_type": "markdown",
   "metadata": {},
   "source": [
    "### Exercise 17.1"
   ]
  },
  {
   "cell_type": "markdown",
   "metadata": {},
   "source": [
    "The code can generate a `ValueError` when you enter something that is not an integer, an `IndexError` when you give an index outside the range `{ -5, 4 }`, a `ZeroDivisionError` when you enter index 2, and a `TypeError` when you enter index 3. The code below does the most straightforward handling, but you can also build a loop around the code so that the user gets asked for new inputs until it works."
   ]
  },
  {
   "cell_type": "code",
   "execution_count": null,
   "metadata": {
    "collapsed": true
   },
   "outputs": [],
   "source": [
    "numlist = [ 100, 101, 0, \"103\", 104 ]\n",
    "\n",
    "try:\n",
    "    i1 = int( input( \"Give an index: \" ) )\n",
    "    print( \"100 /\", numlist[i1], \"=\", 100 / numlist[i1] )\n",
    "except ValueError:\n",
    "    print( \"You did not enter an integer\" )\n",
    "except IndexError:\n",
    "    print( \"You should specify an index between -5 and 4\" )\n",
    "except ZeroDivisionError:\n",
    "    print( \"It looks like the list contains a zero\" )\n",
    "except TypeError:\n",
    "    print( \"it looks like the list contains a non-numeric item\" )\n",
    "except:\n",
    "    print( \"Something unexpected happened\" )\n",
    "    raise"
   ]
  },
  {
   "cell_type": "markdown",
   "metadata": {},
   "source": [
    "---"
   ]
  },
  {
   "cell_type": "markdown",
   "metadata": {},
   "source": [
    "## 18 - Binary Files<a id=\"answers18\"></a>"
   ]
  },
  {
   "cell_type": "markdown",
   "metadata": {},
   "source": [
    "### Exercise 18.1"
   ]
  },
  {
   "cell_type": "markdown",
   "metadata": {},
   "source": [
    "For this program I created a copy of `pc_rose.txt` and called it `pc_rose_copy.txt`. To demonstrate what happens, I display the contents of the file before and after the encryption process."
   ]
  },
  {
   "cell_type": "code",
   "execution_count": null,
   "metadata": {
    "collapsed": true
   },
   "outputs": [],
   "source": [
    "FILENAME = \"pc_rose_copy.txt\"\n",
    "\n",
    "def display_contents( filename ):\n",
    "    fp = open( filename, \"rb\" )\n",
    "    print( fp.read() )\n",
    "    fp.close()\n",
    "    \n",
    "def encrypt( filename ):\n",
    "    fp = open( filename, \"r+b\" )\n",
    "    buffer = fp.read()\n",
    "    fp.seek(0)\n",
    "    for c in buffer:\n",
    "        if c >= 128:\n",
    "            fp.write( bytes( [c-128] ) )\n",
    "        else:\n",
    "            fp.write( bytes( [c+128] ) )\n",
    "    fp.close()\n",
    "    \n",
    "display_contents( FILENAME )\n",
    "encrypt( FILENAME )\n",
    "display_contents( FILENAME )"
   ]
  },
  {
   "cell_type": "markdown",
   "metadata": {},
   "source": [
    "### Exercise 18.2"
   ]
  },
  {
   "cell_type": "code",
   "execution_count": null,
   "metadata": {
    "collapsed": true
   },
   "outputs": [],
   "source": [
    "letters = \"etaoinshrdlcum \"\n",
    "unencoded = \"Hello, world!\"\n",
    "\n",
    "# Print the unencoded string, as a check.\n",
    "print( unencoded, len( unencoded ) )\n",
    "\n",
    "# Create a half-byte-list as a basis for the encoding.\n",
    "halfbytelist = []\n",
    "for c in unencoded:\n",
    "    if c in letters:\n",
    "        halfbytelist.append( letters.index( c )+1 )\n",
    "    else:\n",
    "        byte = ord( c )\n",
    "        halfbytelist.extend( [0, int( byte/16 ), byte%16 ] )\n",
    "if len( halfbytelist )%2 != 0:\n",
    "    halfbytelist.append( 0 )\n",
    "\n",
    "# Turn the half-byte-list into a byte-list.\n",
    "bytelist = []\n",
    "for i in range( 0, len( halfbytelist ), 2 ):\n",
    "    bytelist.append( 16*halfbytelist[i] + halfbytelist[i+1] )\n",
    "\n",
    "# Turn the byte-list into a byte string and print it, as a check. \n",
    "encoded = bytes( bytelist )\n",
    "print( encoded, len( encoded ) )"
   ]
  },
  {
   "cell_type": "markdown",
   "metadata": {},
   "source": [
    "### Exercise 18.3"
   ]
  },
  {
   "cell_type": "code",
   "execution_count": null,
   "metadata": {
    "collapsed": true
   },
   "outputs": [],
   "source": [
    "letters = \"etaoinshrdlcum \"\n",
    "encoded = b'\\x04\\x81\\xbb@,\\xf0wI\\xba\\x02\\x10'\n",
    "\n",
    "# Print the encoded byte string, as a check.\n",
    "print( encoded, len( encoded ) )\n",
    "\n",
    "# Create a half-byte-list on the basis of the byte string.\n",
    "halfbytelist = []\n",
    "for c in encoded:\n",
    "    halfbytelist.extend( [ int( c/16 ), c%16 ] )\n",
    "if halfbytelist[-1] == 0:\n",
    "    del halfbytelist[-1]\n",
    "    \n",
    "# Turn the half-byte-list into a string.\n",
    "decoded = \"\"\n",
    "while len( halfbytelist ) > 0:\n",
    "    num = halfbytelist.pop(0)\n",
    "    if num > 0:\n",
    "        decoded += letters[num-1]\n",
    "        continue\n",
    "    num = 16*halfbytelist.pop(0) + halfbytelist.pop(0)\n",
    "    decoded += chr( num )\n",
    "\n",
    "# Print the string, as a check.\n",
    "print( decoded, len( decoded ) )"
   ]
  },
  {
   "cell_type": "markdown",
   "metadata": {},
   "source": [
    "### Exercise 18.4"
   ]
  },
  {
   "cell_type": "markdown",
   "metadata": {},
   "source": [
    "This program looks like it is quite long, but it is really straightforward. The two functions `compress()` and `decompress()` were developed in the previous two exercises (I only changed them a bit so that both input and output are byte strings). The rest of the program is mainly the handling of potential errors in dealing with the files. This is something that you often see in programs: the core functionality can be expressed in a few lines, and the handling of potential problems takes three-quarters of the code. "
   ]
  },
  {
   "cell_type": "code",
   "execution_count": null,
   "metadata": {
    "collapsed": true
   },
   "outputs": [],
   "source": [
    "from pcinput import getString, getLetter\n",
    "from os.path import exists, getsize\n",
    "\n",
    "LETTERS = b\"etaoinshrdlcum \"\n",
    "\n",
    "# Compress the byte string unencoded and return the compressed version.\n",
    "def compress( unencoded ):\n",
    "    halfbytelist = []\n",
    "    for c in unencoded:\n",
    "        if c in LETTERS:\n",
    "            halfbytelist.append( LETTERS.index( c )+1 )\n",
    "        else:\n",
    "            halfbytelist.extend( [0, int( c/16 ), c%16 ] )\n",
    "    if len( halfbytelist )%2 != 0:\n",
    "        halfbytelist.append( 0 )\n",
    "    bytelist = []\n",
    "    for i in range( 0, len( halfbytelist ), 2 ):\n",
    "        bytelist.append( 16*halfbytelist[i] + halfbytelist[i+1] )\n",
    "    return bytes( bytelist )\n",
    "\n",
    "# Decompress the byte string encoded and return the decompressed version.\n",
    "def decompress( encoded ):\n",
    "    halfbytelist = []\n",
    "    for c in encoded:\n",
    "        halfbytelist.extend( [ int( c/16 ), c%16 ] )\n",
    "    if halfbytelist[-1] == 0:\n",
    "        del halfbytelist[-1]\n",
    "    bytelist = []\n",
    "    while len( halfbytelist ) > 0:\n",
    "        num = halfbytelist.pop(0)\n",
    "        if num > 0:\n",
    "            bytelist.append( LETTERS[num-1] )\n",
    "            continue\n",
    "        num = 16*halfbytelist.pop(0) + halfbytelist.pop(0)\n",
    "        bytelist.append( num )\n",
    "    return bytes( bytelist )\n",
    "\n",
    "# Ask for the input file and read its contents.\n",
    "while True:\n",
    "    filein = getString( \"Which is the input file? \" )\n",
    "    if not exists( filein ):\n",
    "        print( filein, \"does not exist\" )\n",
    "        continue\n",
    "    try:\n",
    "        fp = open( filein, \"rb\" )\n",
    "        buffer = fp.read()\n",
    "        fp.close()\n",
    "    except IOError as ex:\n",
    "        print( filein, \"cannot be processed, please choose another file\" )\n",
    "        print( \"Error [{}]: {}\".format( ex.args[0], ex.args[1] ) )\n",
    "        continue\n",
    "    break\n",
    "    \n",
    "# Ask for the output file and create it.\n",
    "while True:\n",
    "    fileout = getString( \"Which is the output file? \" )\n",
    "    if exists( fileout ):\n",
    "        print( fileout, \"already exists\" )\n",
    "        continue\n",
    "    try:\n",
    "        fp = open( fileout, \"wb\" )\n",
    "    except IOError as ex:\n",
    "        print( fileout, \"cannot be created, please choose another file name\" )\n",
    "        print( \"Error [{}]: {}\".format( ex.args[0], ex.args[1] ) )\n",
    "        continue\n",
    "    break\n",
    "\n",
    "# Ask whether the user wants to compress or decompress.\n",
    "while True:\n",
    "    dc = getLetter( \"Do you want to (C)ompress or (D)ecompress? \" )\n",
    "    if dc != 'C' and dc != 'D':\n",
    "        print( \"Please choose C or D\" )\n",
    "        continue\n",
    "    break\n",
    "    \n",
    "# Compress or decompress the buffer.\n",
    "if dc == 'C':\n",
    "    buffer = compress( buffer )\n",
    "else:\n",
    "    buffer = decompress( buffer )\n",
    "    \n",
    "# Store the (de)compressed buffer in the output file.\n",
    "try:\n",
    "    fp.write( buffer )\n",
    "    fp.close()\n",
    "except IOError as ex:\n",
    "    print( \"The writing process failed\" )\n",
    "    print( \"Error [{}]: {}\".format( ex.args[0], ex.args[1] ) )\n",
    "\n",
    "# Report the sizes of input and output.\n",
    "print( getsize( filein ), \"bytes read\" )\n",
    "print( getsize( fileout ), \"bytes written\" )"
   ]
  },
  {
   "cell_type": "markdown",
   "metadata": {},
   "source": [
    "---"
   ]
  },
  {
   "cell_type": "markdown",
   "metadata": {},
   "source": [
    "## 19 - Bitwise Operators<a id=\"answers19\"></a>"
   ]
  },
  {
   "cell_type": "markdown",
   "metadata": {},
   "source": [
    "### Exercise 19.1"
   ]
  },
  {
   "cell_type": "code",
   "execution_count": null,
   "metadata": {
    "collapsed": true
   },
   "outputs": [],
   "source": [
    "s = \"Hello, world!\"\n",
    "mask = (1<<5) | (1<<3) | (1<<1)    # 00101010\n",
    "\n",
    "code = \"\"\n",
    "for c in s:\n",
    "    code += chr(ord(c)^mask)\n",
    "print( code )\n",
    "\n",
    "decode = \"\"\n",
    "for c in code:\n",
    "    decode += chr(ord(c)^mask)\n",
    "print( decode )"
   ]
  },
  {
   "cell_type": "markdown",
   "metadata": {},
   "source": [
    "### Exercise 19.2"
   ]
  },
  {
   "cell_type": "code",
   "execution_count": null,
   "metadata": {
    "collapsed": true
   },
   "outputs": [],
   "source": [
    "def setBit( store, index, value ):\n",
    "    mask = 1<<index\n",
    "    if value:\n",
    "        store |= mask\n",
    "    else:\n",
    "        store &= ~mask\n",
    "    return store\n",
    "\n",
    "# getBit() returns 0 when the bit corresponding to index is set,\n",
    "# and something else otherwise. As only 0 is interpreted as True\n",
    "# this function can be used to test the value of the bit.\n",
    "def getBit( store, index ):\n",
    "    mask = 1<<index\n",
    "    return store & mask\n",
    "\n",
    "def displayBits( store ):\n",
    "    for i in range( 8 ):\n",
    "        index = 7 - i\n",
    "        if getBit( store, index ):\n",
    "            print( \"1\", end=\"\" )\n",
    "        else:\n",
    "            print( \"0\", end=\"\" )\n",
    "    print()\n",
    "    \n",
    "store = 0\n",
    "store = setBit( store, 0, True )\n",
    "store = setBit( store, 1, True )\n",
    "store = setBit( store, 2, False )\n",
    "store = setBit( store, 3, True )\n",
    "store = setBit( store, 4, False )\n",
    "store = setBit( store, 5, True )\n",
    "displayBits( store )\n",
    "\n",
    "store = setBit( store, 1, False )\n",
    "displayBits( store )"
   ]
  },
  {
   "cell_type": "markdown",
   "metadata": {},
   "source": [
    "---"
   ]
  },
  {
   "cell_type": "markdown",
   "metadata": {},
   "source": [
    "End of Chapter 99 (part 2). Version 1.5."
   ]
  }
 ],
 "metadata": {
  "kernelspec": {
   "display_name": "Python 3",
   "language": "python",
   "name": "python3"
  },
  "language_info": {
   "codemirror_mode": {
    "name": "ipython",
    "version": 3
   },
   "file_extension": ".py",
   "mimetype": "text/x-python",
   "name": "python",
   "nbconvert_exporter": "python",
   "pygments_lexer": "ipython3",
   "version": "3.6.1"
  }
 },
 "nbformat": 4,
 "nbformat_minor": 1
}
