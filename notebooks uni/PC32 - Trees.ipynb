{
 "cells": [
  {
   "cell_type": "markdown",
   "metadata": {},
   "source": [
    "# 32 - Trees"
   ]
  },
  {
   "cell_type": "markdown",
   "metadata": {},
   "source": [
    "---"
   ]
  },
  {
   "cell_type": "markdown",
   "metadata": {},
   "source": [
    "Trees are slightly more complex than linked lists. A tree is a layered data structure, whereby each node (data element) may have references to nodes in the layer which is immediately below the layer of the node. The main purpose of a tree is to allow fast searching in the data stored in its nodes."
   ]
  },
  {
   "cell_type": "markdown",
   "metadata": {},
   "source": [
    "---"
   ]
  },
  {
   "cell_type": "markdown",
   "metadata": {},
   "source": [
    "## Tree attributes"
   ]
  },
  {
   "cell_type": "markdown",
   "metadata": {},
   "source": [
    "A tree consists of \"layers\" of nodes. These layers are usually called \"levels.\" The top level consists of one node, which is generally called the \"root\". The root contains references to zero or more nodes, which form the second level. Each of the nodes in the second level contains references to zero or more nodes at the third level, etcetera. \n",
    "\n",
    "It is essential that each node in the tree is referenced to by exactly one other node, in the level directly above it (the exception being the root, which has no node which refers to it, but which should, of course, be known in the program which uses the tree). If node A refers to node B, then node A is called the \"parent\" of node B, and node B is a \"child\" of node A. A node without any children is called a \"leaf.\"\n",
    "\n",
    "You can consider that a tree consists of \"subtrees.\" I.e., each node in the tree can be seen as the root of the tree that spans \"below\" it. Such subtrees are also called \"branches.\"\n",
    "\n",
    "The figure below schematically represents a tree.\n",
    "\n",
    "<img src=\"img/tree.png\" alt=\"tree\" style=\"width:400px;\"><br>\n",
    "<div align=\"center\">Figure 32.1: A schematic tree.</div>"
   ]
  },
  {
   "cell_type": "markdown",
   "metadata": {},
   "source": [
    "__Exercise__: In the tree shown above, there are three branches under the root. How many branches can you recognize in total?\n",
    "\n",
    "__Answer__: Since every node can be considered the root of a branch, the answer is equal to the number of nodes, i.e., 14. Note that even leafs by themselves are branches."
   ]
  },
  {
   "cell_type": "markdown",
   "metadata": {},
   "source": [
    "The \"depth\" or \"height\" of a tree is the number of levels beyond the root, i.e., the tree above is of depth 4. A tree with only a root is of depth 0.\n",
    "\n",
    "A connection between two nodes is called an \"edge.\" A \"path\" between two nodes consists of the edges that link the nodes together, whereby each edge is used at most once. There is only one path between any two nodes, which is, therefore, also the \"shortest path\" between the two nodes. The length of the path is the number of edges on the path. \n",
    "\n",
    "The \"width\" of the tree is the maximum path length between any two nodes in the tree. In the example above the width is 7, which can be seen, for example, for the path which connects the leftmost leaf to the bottom leafs of the rightmost branch under the root.\n",
    "\n",
    "Note: you probably realize that due to the naming conventions used for trees, these digital trees seem to be drawn upside down. In some books you might see a tree drawn with the root at the bottom, but this is not how it is commonly done."
   ]
  },
  {
   "cell_type": "markdown",
   "metadata": {},
   "source": [
    "---"
   ]
  },
  {
   "cell_type": "markdown",
   "metadata": {},
   "source": [
    "## Binary trees"
   ]
  },
  {
   "cell_type": "markdown",
   "metadata": {},
   "source": [
    "The most common tree is the \"binary tree.\" Each node in a binary tree is the parent of at most two children.\n",
    "\n",
    "A binary tree is \"balanced\" when for each node, the number of nodes in each of the two branches below it differs by at most 1. Therefore, by definition, in a balanced binary tree each leaf node is either on the bottom level or one level above it. The figure below shows a balanced binary tree.\n",
    "\n",
    "<img src=\"img/balancedbintree.png\" alt=\"balanced binary tree\" style=\"width:450px;\"><br>\n",
    "<div align=\"center\">Figure 32.2: A balanced binary tree.</div>\n"
   ]
  },
  {
   "cell_type": "markdown",
   "metadata": {},
   "source": [
    "Commonly, each node in a tree holds a value, and the tree itself provides a sorting for the values. For a binary tree, that means that for each node, all the values in the \"left\" branch under it are \"smaller\" than the value in the node, while all values in the \"right\" branch under it are \"bigger\" than the value in the node. For example, suppose that the values in the nodes are integers, and the sorting is done in a numeric way, whereby for each node, the left branch under it contains values that are smaller than or equal to the value of the node, and the right branch contains the remaining values. A tree which stores the values `{1,2,5,7,9,12,14,17,18,20}` could look like this (whereby the left and right branches are drawn ostensibly left and right, respectively):\n",
    "\n",
    "<img src=\"img/filledbintree.png\" alt=\"filled binary tree\" style=\"width:500px;\"><br>\n",
    "<div align=\"center\">Figure 32.3: A numerically filled binary tree.</div>\n"
   ]
  },
  {
   "cell_type": "markdown",
   "metadata": {},
   "source": [
    "__Exercise__: The tree above is not balanced. Why not? Can you create a balanced version of this tree?\n",
    "\n",
    "__Answer__: To see that the tree is not balanced, consider the node with the value 7. The left branch under this node holds 3 values, and the right only 1. Since the difference is more than 1, the tree is not balanced. A similar consideration can be made for the node which holds 14. To create a balanced version of the tree, you have to make sure that each node holds the median value of the values in the branch which has that particular node as root (if there are two median values, you can just pick one). For the whole collection of values, 9 and 12 are the medians, so you can pick one. If we decide to always go with the highest of the two, 12 is selected, which therefore is in the root of the tree. In the left branch under the root, the values `{1,2,5,7,9}` are stored, of which 5 is the median, so 5 is in the root for the leftmost branch. For the right branch, it is 17 or 18, so we pick 18. Etcetera."
   ]
  },
  {
   "cell_type": "markdown",
   "metadata": {},
   "source": [
    "__Exercise__: What is the depth of a balanced binary tree with `N` nodes? Hint: if you have troubles finding the answer, consider that, basically, a balanced binary tree which holds numerical values represents the procedure that you follow when you do a binary search. If you still cannot think of the answer, check out the chapter on Searching again."
   ]
  },
  {
   "cell_type": "markdown",
   "metadata": {},
   "source": [
    "### Building a binary tree"
   ]
  },
  {
   "cell_type": "markdown",
   "metadata": {},
   "source": [
    "A binary tree implementation would look, for example, something like this (compare this to the schematic representation of a linked list in the previous chapter):\n",
    "\n",
    "<img src=\"img/binarytree.png\" alt=\"binary tree implementation\" style=\"width:500px;\"><br>\n",
    "<div align=\"center\">Figure 32.4: Implementation of a binary tree.</div>\n",
    "\n",
    "Depending on how the tree is used, it might be useful to include a reference to the parent in each node.\n",
    "\n",
    "To insert a new value in the tree, the program should start with the root and transit through nodes, following either the left or right reference to find the next node, until the reference it tries to follow is `None`. A new leaf node is created, storing the new value, and connected to the tree via the last reference followed.\n",
    "\n",
    "Code for a tree which stores numbers as values is as follows:"
   ]
  },
  {
   "cell_type": "code",
   "execution_count": null,
   "metadata": {
    "collapsed": true
   },
   "outputs": [],
   "source": [
    "from random import shuffle\n",
    "\n",
    "class Node:\n",
    "    def __init__( self, value ):\n",
    "        self.value = value\n",
    "        self.left = None\n",
    "        self.right = None\n",
    "    def insert( self, node ):\n",
    "        if node.value < self.value:\n",
    "            if self.left == None:\n",
    "                self.left = node\n",
    "            else:\n",
    "                self.left.insert( node )\n",
    "        elif self.right == None:\n",
    "            self.right = node\n",
    "        else:\n",
    "            self.right.insert( node )\n",
    "\n",
    "def printnode( node, depth=0 ):\n",
    "    if node.left != None:\n",
    "        printnode( node.left, depth + 1 )\n",
    "    print( 4*depth*\" \", node.value )\n",
    "    if node.right != None:\n",
    "        printnode( node.right, depth + 1 )\n",
    "    \n",
    "root = None\n",
    "values = list( range( 10 ) )\n",
    "shuffle( values )\n",
    "# values = [8,4,2,1,3,6,5,7,12,10,9,11,14,13,15]\n",
    "\n",
    "for v in values:\n",
    "    n = Node( v )\n",
    "    if root == None:\n",
    "        root = n\n",
    "    else:\n",
    "        root.insert( n )\n",
    "        \n",
    "printnode( root )        "
   ]
  },
  {
   "cell_type": "markdown",
   "metadata": {},
   "source": [
    "In this code, a node is inserted into the tree by asking the root to insert it. The root will either insert the node, or ask the appropriate branch to insert it. This makes `insert()` a recursive method.\n",
    "\n",
    "The code creates a tree for a random list of the values 0 to 9. You can build a bigger or different tree by changing the list `values`. The `printnode()` function shows what the tree looks like, though it might feel a bit difficult to interpret the output. What you should notice is that the `printnode()` function processes the tree in a sequential order whereby the values are found from low to high. You can see the effect of this, because the numbers are printed in the order that they are encountered, and thus every line of the output contains the next number. The depth of a number is represented by how far the number is indented.\n",
    "\n",
    "If you uncomment the line which gives `values` a particular list of numbers, you will see the code build a balanced tree containing the numbers 1 to 15."
   ]
  },
  {
   "cell_type": "markdown",
   "metadata": {},
   "source": [
    "### Removing nodes from a binary tree"
   ]
  },
  {
   "cell_type": "markdown",
   "metadata": {},
   "source": [
    "Removing nodes from a binary tree is not trivial, unless it concerns leaf nodes. To remove a leaf node, simply let the parent refer to `None` instead of the node (\"garbage collection\" will clean up the memory which the leaf node occupied in time). For nodes within the tree, however, to cleanly remove them, you have to rebuild the part of the tree of which the node that is to be removed is the root. \n",
    "\n",
    "A possible implementation is to take the highest value from the left branch, or the lowest value from the right branch, and move that value to the node that is to be removed, while removing the node from which the value is moved instead. If this is a leaf node, then you are done. Otherwise, you have to repeat the procedure for the the node that needs to be removed now. This sounds recursive (and it is), but the process will end since every time you find another node to remove, it is deeper in the tree than the previous one. In a very badly constructed tree this is an expensive procedure, but in practice it is not that bad.\n",
    "\n",
    "For example, for the tree in Figure 32.3, if you want to get rid of the 12, you can replace it with the 9 or the 14. If you choose the 9, you are done immediately as 9 is in a leaf node. If you choose the 14, you have to repeat the procedure for the 14; since the 14 has no left branch, you pick the lowest value from the right branch. This is 17, and since it is in a leaf node, you are done.\n",
    "\n",
    "Alternatively, you could simply indicate in the appropriate node that its value is deleted. You can include a boolean in the node which indicates whether the value is deleted or not. You cannot actually delete the value, because then you can no longer search the tree; the value must remain, but its status is set to \"deleted.\" This procedure is, of course, very speedy. However, if many values get deleted the search speed for the tree as a whole is impacted; moreover, inserting new values in the tree becomes slightly more complicated if you wish to be able to re-use deleted nodes.\n",
    "\n",
    "I will not go into details; if you ever need to implement a tree which should allow the deletion of values, pseudo-code for the procedure that you desire to implement is easily found."
   ]
  },
  {
   "cell_type": "markdown",
   "metadata": {},
   "source": [
    "### Balancing a binary tree"
   ]
  },
  {
   "cell_type": "markdown",
   "metadata": {},
   "source": [
    "If you build a binary tree by inserting values one-by-one, without having influence on the order in which the values are inserted, in general the tree will be unbalanced. The worst that can happen is that the values are processed in sequential order, from \"small\" to \"big.\" In that case, the resulting tree will be a linked list, which entails that searching it is slow.\n",
    "\n",
    "To ensure that a tree is balanced (or almost balanced), two situations should be distinguished: (1) The tree being static as far as the values are concerned, and (2) the tree always changing.\n",
    "\n",
    "If at some point all the values that need to be in the tree are known (e.g., the tree has been built, in an unbalanced way, and no new values will arrive anymore), then to balance the tree you simply rebuild from the ground up, using a procedure whereby for every branch the median of the values in the branch is used for the node that is heading the branch. Basically, you follow the procedure which I described for the answer to the exercise under Figure 32.3.\n",
    "\n",
    "If, however, the tree is always changing, you might have to include rebuilding procedures in the methods which add or remove nodes. Specifically, each node should contain a count of all the nodes in its left branch, and all the nodes in its right branch. If you find that a node is the root of a subtree which is \"too unbalanced\" (whereby \"too unbalanced\" not necessarily means that the difference between the numbers is more than 1, but a certain \"maximally allowed difference\" will be defined), the method can rebuild that subtree. There are two basic ways of doing that: (1) following the method metioned above, whereby all values in the subtree are reinserted, or (2) smartly choosing a new root for the subtree and moving a few nodes in accordance. The second way is usually the fastest, but in unlucky circumstances may be expensive. I will not explain any details; if you ever get in a situation where you need to build and maintain dynamic trees, you can easily find pseudo-code for such procedures.   "
   ]
  },
  {
   "cell_type": "markdown",
   "metadata": {},
   "source": [
    "### Sideline: Heapsort"
   ]
  },
  {
   "cell_type": "markdown",
   "metadata": {},
   "source": [
    "A \"heap\" is a tree (usually a binary tree) in which the only guarantee that is given about the values in the nodes is that each node always contains a value that is larger than or equal to the values of each of its children. While such a heap is not suitable for searching, it is suitable for sorting. The well-known \"heapsort\" algorithm uses the heaping mechanism to sort lists of values. Its efficiency is on the level of quicksort, but in practice it is a bit less fast."
   ]
  },
  {
   "cell_type": "markdown",
   "metadata": {},
   "source": [
    "---"
   ]
  },
  {
   "cell_type": "markdown",
   "metadata": {},
   "source": [
    "## Non-binary trees"
   ]
  },
  {
   "cell_type": "markdown",
   "metadata": {},
   "source": [
    "In a non-binary tree, nodes can have more than two branches. The maximum number of branches under a node is usually limited. For each of the branches, a reference must be maintained in the node. Usually these references are stored in a list. A reason to allow more than two branches per node is that it makes the tree less deep than a binary tree (if it is contructed well), which means that searching the tree needs fewer recursive calls. Since a recursive call tends to be more \"expensive\" in computational terms than traversing a list, a non-binary tree may be more efficient than a binary one. Naturally, this advantage gets reduced and may turn into a disadvantage when the number of branches per node becomes too large (if the list is unlimited, all the values can be stored in a single node and the tree is no better than a regular list).\n",
    "\n",
    "Suppose that you want to build a non-binary tree which holds numbers in an ordered way. Let's say that you use five branches per node. This entails that each node not only needs references to five branches, but also four numbers. Let's call these numbers `n`<sub>1</sub> to `n`<sub>4</sub>. The leftmost branch holds all numbers smaller than `n`<sub>1</sub>, the second branch all numbers greater than (or equal to, if doubles are allowed) `n`<sub>1</sub>, but smaller than `n`<sub>2</sub>, etcetera, until the rightmost branch, which holds all numbers greater than (or equal to) `n`<sub>4</sub>. It is probably easiest if you create a list of tuples in the node, each tuple holding a number and a reference (one reference has no number, but you can solve that by just giving the number some default value, or making it `None`).\n",
    "\n",
    "While it is not significantly harder to build a non-binary tree than it is to build a binary tree, the code it needs is more complex. For instance, you need to maintain a list of references in each node, and you may need to search into this list to insert new branches. Moreover, most implementations of non-binary trees do not have a fixed number of branches for each node, but let the number of branches depend on the values which arrive -- for instance, it may store values in a node until the number of values gets too big, then divide the values over two branches. You can also imagine that it may be pretty hard to keep the tree balanced, unless you can build it with forward knowledge of all the values that you need to store in it.\n",
    "\n",
    "As example code for maintaining a non-binary tree can be rather long, I prefer to not include it here. As long as you understand how binary trees work, you can find code for specific-purpose non-binary trees when you need it."
   ]
  },
  {
   "cell_type": "markdown",
   "metadata": {},
   "source": [
    "---"
   ]
  },
  {
   "cell_type": "markdown",
   "metadata": {},
   "source": [
    "## Tree search"
   ]
  },
  {
   "cell_type": "markdown",
   "metadata": {},
   "source": [
    "If a tree is ordered, you can quickly find out whether a particular value is in the tree by following the branches that should lead to the sought value. If you find the value, you are done; otherwise, the search ends when a leaf node is reached and the value is not found yet. However, if a tree is unordered, to find out whether a certain value is in the tree, you have to explore the whole contents of the tree until the sought value is found or each and every value is checked. The two main approaches to searching a complete tree are depth-first search and breadth-first search."
   ]
  },
  {
   "cell_type": "markdown",
   "metadata": {},
   "source": [
    "### Depth-first search\n"
   ]
  },
  {
   "cell_type": "markdown",
   "metadata": {},
   "source": [
    "To explore the contents of a tree, probably the easiest way is to use depth-first search. To apply depth-first search to a node, first the process checks whether the node contains the value that you are looking for. If this is not the sought value, recursively the process is executed for the left branch. If the value still is not found in the left branch, recursively the process is executed for the right branch. If then the value still is not found, it is not in the subtree for which the original node is the root.\n",
    "\n",
    "Therefore, to check whether a particular value is in the tree, you can call the depth-first search process for the root. In the code below, I have implemented the `in` operator for a node of a binary tree, using depth-first search (if you do not understand implementing a particular operator, check the chapter on Operator Overloading again).\n",
    "\n",
    "The process is demonstrated using a tree that I quickly built in one Python command (`root = ...`), which builds the tree that is shown in Figure 32.3.\n",
    "\n",
    "The `Node` class also has a method `printtree()`, which prints the contents of the node and its whole subtree using depth-first search. If you compare the output of a call to this method for the root with the actual values of the tree, you should see that the values are *not* encountered in numerical order. Instead, they are encountered in the typical depth-first order. First the whole left branch under the root is processed, printing 12, 7, 2, 1. From the leaf containing 1, the process \"goes up\" one node again, and descends into the right branch under the node containing 2, printing the 5. From the leaf node containing 5, the process \"goes up\" two nodes, and explores the right branch under the node containing 7, etcetera."
   ]
  },
  {
   "cell_type": "code",
   "execution_count": null,
   "metadata": {
    "collapsed": true
   },
   "outputs": [],
   "source": [
    "class Node:\n",
    "    def __init__( self, value, left=None, right=None ):\n",
    "        self.value = value\n",
    "        self.left = left\n",
    "        self.right = right\n",
    "    # This implementation of __contains__() does NOT assume that the tree is ordered;\n",
    "    # it searches the whole tree, in depth-first order.\n",
    "    def __contains__( self, value ):\n",
    "        if self.value == value:\n",
    "            return True\n",
    "        elif self.left != None and (value in self.left):\n",
    "            return True\n",
    "        elif self.right != None and (value in self.right):\n",
    "            return True\n",
    "        return False\n",
    "    # printtree() prints the contents of the tree in depth-first order:\n",
    "    # first the value of the current node is printed, then the left branch, then the right branch.\n",
    "    def printtree( self, depth=0 ):\n",
    "        print( depth*4*\" \", self.value )\n",
    "        if self.left != None:\n",
    "            self.left.printtree( depth + 1 )\n",
    "        if self.right != None:\n",
    "            self.right.printtree( depth + 1 )\n",
    "\n",
    "root = Node( 12, Node( 7, Node( 2, Node( 1 ), Node( 5 ) ), Node( 9 ) ), \n",
    "    Node( 14, right=Node( 18, Node( 17 ), Node( 20 ) ) ) )\n",
    "\n",
    "for i in range( 25 ):\n",
    "    if i in root:\n",
    "        print( i, \"is in the tree\" )\n",
    "        \n",
    "root.printtree()"
   ]
  },
  {
   "cell_type": "markdown",
   "metadata": {},
   "source": [
    "### Breadth-first search"
   ]
  },
  {
   "cell_type": "markdown",
   "metadata": {},
   "source": [
    "If a tree is static, and you have no idea where in the tree a particular value might reside, depth-first search is a fine way to process the tree. However, there are situations in which you do not want to use depth-first search. For instance, artificial intelligence in deterministic board games often builds a search tree of possible move continuations, and tries to find the best move. However, move continuations can become very long, e.g., it is not uncommon for a game to need hundreds of moves before the end of the game is reached. If a search tree is built using a depth-first approach, examination of just a few branches would already make the artificial intelligence run out of time, and it would consider only very few possible moves (which would be explored very deeply). \n",
    "\n",
    "Of course, the artificial intelligence might decide not to build the complete move continuations, but only go to a certain depth, at which it will do a board evaluation. In that case, the artificial intelligence can use a depth-first approach, though it is not known exactly how much time it will need to search the tree for each specific depth, especially not because the time needed to search the tree rises exponentially with the depth. So, if the artificial intelligence gets instructed to take at most one minute to make a move, it can only estimate how deep it is able to search the tree -- if it is wrong, it is either taking too long, or it ignores certain moves that are possible completely, or it is wasting possible search time because it finishes too quickly.\n",
    "\n",
    "The solution for the artificial intelligence is not to use depth-first search, but instead to use breadth-first search. With breadth-first search, it first searches the top level of the tree, then the second level, then the third level, etcetera. It can continue to do that until it runs out of time. If the artificial intelligence gets one minute to make a move, it will use the whole minute to search, but not more, and it will give equal attention to every possible move (this is not the best possible artificial intelligence implementation for most games, but it definitely is better than depth-first search).\n",
    "\n",
    "To implement breadth-first search, a queue is needed next to the tree. The queue holds all the nodes which have not been studied yet, in the order in which they need to be processed. The process is as follows:\n",
    "\n",
    "- place the root in the queue\n",
    "- while there are nodes in the queue and time remains:\n",
    "    - pop the first node from the queue\n",
    "    - put all the nodes which this node refers to at the end of the queue\n",
    "    - process the node\n",
    "    \n",
    "To implement a queue, the `deque` class from `collections` can be used (see the chapter on Various Useful Modules).\n",
    "\n",
    "The code below contains a breadth-first variation of the depth-first code given above. Note that the implementations of `__contains__()` and `printtree()` are not recursive, but iterative."
   ]
  },
  {
   "cell_type": "code",
   "execution_count": null,
   "metadata": {
    "collapsed": true
   },
   "outputs": [],
   "source": [
    "from collections import deque\n",
    "\n",
    "class Node:\n",
    "    def __init__( self, value, left=None, right=None ):\n",
    "        self.value = value\n",
    "        self.left = left\n",
    "        self.right = right\n",
    "    # This implementation of __contains__() does NOT assume that the tree is ordered;\n",
    "    # it searches the whole tree, in breadth-first order.\n",
    "    def __contains__( self, value ):\n",
    "        dq = deque()\n",
    "        dq.append( self )\n",
    "        while len( dq ) > 0:\n",
    "            cur = dq.popleft()\n",
    "            if cur.value == value:\n",
    "                return True\n",
    "            if cur.left != None:\n",
    "                dq.append( cur.left )\n",
    "            if cur.right != None:\n",
    "                dq.append( cur.right )\n",
    "        return False\n",
    "    # printtree() prints the contents of the tree in breadth-first order:\n",
    "    # it prints the values level by level.\n",
    "    def printtree( self, depth=0 ):\n",
    "        dq = deque()\n",
    "        dq.append( (self,0) )\n",
    "        while len( dq ) > 0:\n",
    "            node, depth = dq.popleft()\n",
    "            print( depth*4*\" \", node.value )\n",
    "            if node.left != None:\n",
    "                dq.append( (node.left,depth+1) )\n",
    "            if node.right != None:\n",
    "                dq.append( (node.right,depth+1) )\n",
    "\n",
    "root = Node( 12, Node( 7, Node( 2, Node( 1 ), Node( 5 ) ), Node( 9 ) ), \n",
    "    Node( 14, right=Node( 18, Node( 17 ), Node( 20 ) ) ) )\n",
    "\n",
    "for i in range( 25 ):\n",
    "    if i in root:\n",
    "        print( i, \"is in the tree\" )\n",
    "        \n",
    "root.printtree()"
   ]
  },
  {
   "cell_type": "markdown",
   "metadata": {},
   "source": [
    "---"
   ]
  },
  {
   "cell_type": "markdown",
   "metadata": {},
   "source": [
    "## What you learned"
   ]
  },
  {
   "cell_type": "markdown",
   "metadata": {},
   "source": [
    "In this chapter, you learned about:\n",
    "\n",
    "- Tree structures\n",
    "- Binary trees\n",
    "- Non-binary trees\n",
    "- Depth-first search\n",
    "- Breadth-first search"
   ]
  },
  {
   "cell_type": "markdown",
   "metadata": {},
   "source": [
    "---"
   ]
  },
  {
   "cell_type": "markdown",
   "metadata": {},
   "source": [
    "## Exercises"
   ]
  },
  {
   "cell_type": "markdown",
   "metadata": {},
   "source": [
    "### Exercise 32.1"
   ]
  },
  {
   "cell_type": "markdown",
   "metadata": {},
   "source": [
    "Use the binary tree code given below (which is mostly copied from code above). Under the assumption that the values in the tree are numerical and ordered (as in the tree which is created in the code, which is the same as the tree from Figure 32.3), implement a `printtree()` method which prints the values in the tree in numerical order. Make sure that each node is only visited once."
   ]
  },
  {
   "cell_type": "code",
   "execution_count": null,
   "metadata": {
    "collapsed": true
   },
   "outputs": [],
   "source": [
    "# Print tree contents in numerical order.\n",
    "\n",
    "class Node:\n",
    "    def __init__( self, value, left=None, right=None ):\n",
    "        self.value = value\n",
    "        self.left = left\n",
    "        self.right = right\n",
    "    def printtree( self, depth=0 ):\n",
    "        pass\n",
    "\n",
    "root = Node( 12, Node( 7, Node( 2, Node( 1 ), Node( 5 ) ), Node( 9 ) ), \n",
    "    Node( 14, right=Node( 18, Node( 17 ), Node( 20 ) ) ) )\n",
    "\n",
    "root.printtree()"
   ]
  },
  {
   "cell_type": "markdown",
   "metadata": {},
   "source": [
    "### Exercise 32.2"
   ]
  },
  {
   "cell_type": "markdown",
   "metadata": {},
   "source": [
    "The code below (which is mostly copied from code above) can be used to build a binary tree which holds numbers in an ordered way. Add a `remove()` method to the class definition, which removes a node, as explained in the section \"Removing nodes from a binary tree.\" Note: If the root is the only node in the tree, you will not be able to remove it with a method; if you want to get rid of the last node of the tree, you will have to set the `root` variable to `None` in the main program. This means that your `remove()` method does not need to be able to do that. Typically, you would generate an exception in this case, but for this exercise you can simply just do nothing (just as you would do nothing if an attempt is made to remove a value that is not in the tree)."
   ]
  },
  {
   "cell_type": "code",
   "execution_count": null,
   "metadata": {
    "collapsed": true
   },
   "outputs": [],
   "source": [
    "# Removing nodes.\n",
    "\n",
    "class Node:\n",
    "    def __init__( self, value ):\n",
    "        self.value = value\n",
    "        self.left = None\n",
    "        self.right = None\n",
    "    def insert( self, node ):\n",
    "        if node.value < self.value:\n",
    "            if self.left == None:\n",
    "                self.left = node\n",
    "            else:\n",
    "                self.left.insert( node )\n",
    "        elif self.right == None:\n",
    "            self.right = node\n",
    "        else:\n",
    "            self.right.insert( node )\n",
    "\n",
    "def printnode( node, depth=0 ):\n",
    "    if node.left != None:\n",
    "        printnode( node.left, depth + 1 )\n",
    "    print( 4*depth*\" \", node.value )\n",
    "    if node.right != None:\n",
    "        printnode( node.right, depth + 1 )\n",
    "    \n",
    "root = None\n",
    "values = [8,4,2,1,3,6,5,7,12,10,9,11,14,13,15]\n",
    "\n",
    "for v in values:\n",
    "    n = Node( v )\n",
    "    if root == None:\n",
    "        root = n\n",
    "    else:\n",
    "        root.insert( n )\n",
    "        \n",
    "printnode( root )        "
   ]
  },
  {
   "cell_type": "markdown",
   "metadata": {},
   "source": [
    "### Exercise 32.3"
   ]
  },
  {
   "cell_type": "markdown",
   "metadata": {},
   "source": [
    "\"Iterative-deepening depth-first search\" (IDDFS) uses depth-first search to explore a tree, but uses a depth-indicator to indicate at which level of the tree nodes are reported. For instance, if depth is zero, it reports only the root. If depth is 1, it reports the nodes on the level under the root, but not the root itself. If depth is 2, it reports the nodes on the second level, but not on the first or root-level. Etcetera. By starting the depth at zero and increasing it until the maximum depth is reached, all the nodes in the tree are encountered. The order in which they are encountered is equal to breadth-first search. \n",
    "\n",
    "The advantage of IDDFS over breadth-first search is that it takes less memory (as it does not need to maintain a queue of nodes). The disadvantage is that it encounters nodes multiple times during the search. This disadvantage is not negligible, but also not as bad as it may seem at first, as the higher levels in the tree contain considerably fewer nodes than the lower levels.\n",
    "\n",
    "Implement IDDFS for a binary tree. Hint: It may help to implement a recursive method `search_at_depth()`, which gets as parameters the value that is searched and the depth at which you want to search. As long as the `depth` argument is greater than zero, search at `depth-1` in the left and right branches with a recursive call. If `depth` is zero, check the value. The main issue with IDDFS is to determine when you should stop searching, if the value is not in the tree."
   ]
  },
  {
   "cell_type": "code",
   "execution_count": null,
   "metadata": {
    "collapsed": true
   },
   "outputs": [],
   "source": [
    "# Iterative deepening depth-first search.\n"
   ]
  },
  {
   "cell_type": "markdown",
   "metadata": {},
   "source": [
    "---"
   ]
  },
  {
   "cell_type": "markdown",
   "metadata": {},
   "source": [
    "End of Chapter 32. Version 1.0. "
   ]
  }
 ],
 "metadata": {
  "kernelspec": {
   "display_name": "Python 3",
   "language": "python",
   "name": "python3"
  },
  "language_info": {
   "codemirror_mode": {
    "name": "ipython",
    "version": 3
   },
   "file_extension": ".py",
   "mimetype": "text/x-python",
   "name": "python",
   "nbconvert_exporter": "python",
   "pygments_lexer": "ipython3",
   "version": "3.6.1"
  }
 },
 "nbformat": 4,
 "nbformat_minor": 1
}
