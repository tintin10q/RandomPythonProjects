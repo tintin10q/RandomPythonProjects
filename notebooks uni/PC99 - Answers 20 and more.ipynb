{
 "cells": [
  {
   "cell_type": "markdown",
   "metadata": {},
   "source": [
    "# Chapter 99 (part 3) - Answers 20 and more"
   ]
  },
  {
   "cell_type": "markdown",
   "metadata": {},
   "source": [
    "-------------------------------"
   ]
  },
  {
   "cell_type": "markdown",
   "metadata": {},
   "source": [
    "This chapter provides answers to the exercises from Chapter 20 onward."
   ]
  },
  {
   "cell_type": "markdown",
   "metadata": {},
   "source": [
    "---"
   ]
  },
  {
   "cell_type": "markdown",
   "metadata": {},
   "source": [
    "## Links to answer sections"
   ]
  },
  {
   "cell_type": "markdown",
   "metadata": {},
   "source": [
    "[20 - Object Orientation](#answers20)<br>\n",
    "[21 - Operator Overloading](#answers21)<br>\n",
    "[22 - Inheritance](#answers22)<br>\n",
    "[23 - Iterators and Generators](#answers23)<br>\n",
    "[24 - Command Line Processing](#answers24)<br>\n",
    "[25 - Regular Expressions](#answers25)<br>\n",
    "[26 - File Formats](#answers26)<br>\n",
    "[27 - Various Useful Modules](#answers27)<br>\n",
    "[28 - Algorithmic Complexity](#answers28)<br>\n",
    "[29 - Searching](#answers29)<br>\n",
    "[30 - Sorting](#answers30)<br>\n",
    "[31 - Linked Lists](#answers31)<br>\n",
    "[32 - Trees](#answers32)<br>\n",
    "[33 - Graphs](#answers33)<br>\n",
    "[34 - Hard Tasks](#answers34)<br>\n",
    "[98 - Turtle Graphics](#answers98)<br>\n"
   ]
  },
  {
   "cell_type": "markdown",
   "metadata": {},
   "source": [
    "---"
   ]
  },
  {
   "cell_type": "markdown",
   "metadata": {},
   "source": [
    "## 20 - Object Orientation<a id=\"answers20\"></a>"
   ]
  },
  {
   "cell_type": "markdown",
   "metadata": {},
   "source": [
    "### Exercise 20.1"
   ]
  },
  {
   "cell_type": "code",
   "execution_count": null,
   "metadata": {
    "collapsed": true
   },
   "outputs": [],
   "source": [
    "from copy import copy\n",
    "\n",
    "class Point:\n",
    "    def __init__( self, x=0.0, y=0.0 ):\n",
    "        self.x = x\n",
    "        self.y = y\n",
    "    def __repr__( self ):\n",
    "        return \"({}, {})\".format( self.x, self.y )\n",
    "        \n",
    "class Rectangle:\n",
    "    def __init__( self, point, width, height ):\n",
    "        self.point = copy( point )\n",
    "        self.width = abs( width )\n",
    "        self.height = abs( height )\n",
    "        if self.width == 0:\n",
    "            self.width = 1\n",
    "        if self.height == 0:\n",
    "            self.height = 1\n",
    "    def __repr__( self ):\n",
    "        return \"[{},w={},h={}]\".format( self.point, self.width, self.height )\n",
    "    def surface_area( self ):\n",
    "        return self.width * self.height\n",
    "    def circumference( self ):\n",
    "        return 2*(self.width + self.height)\n",
    "    def bottom_right( self ):\n",
    "        return Point( self.point.x + self.width, self.point.y + self.height )\n",
    "    def overlap( self,r ):\n",
    "        r1, r2 = self, r\n",
    "        if self.point.x > r.point.x or (self.point.x == r.point.x and self.point.y > r.point.y):\n",
    "            r1, r2 = r, self\n",
    "        if r1.bottom_right().x <= r2.point.x or r1.bottom_right().y <= r2.point.y:\n",
    "            return None\n",
    "        return Rectangle( r2.point, \n",
    "            min( r1.bottom_right().x - r2.point.x, r2.width ), \n",
    "            min( r1.bottom_right().y - r2.point.y, r2.height ) )\n",
    "    \n",
    "r1 = Rectangle( Point( 1, 1 ), 8, 5 )\n",
    "r2 = Rectangle( Point( 2, 3 ), 9, 2 )\n",
    "\n",
    "print( r1.surface_area() )\n",
    "print( r1.circumference() )\n",
    "print( r1.bottom_right() )\n",
    "r = r1.overlap( r2 )\n",
    "if r:\n",
    "    print( r )\n",
    "else:\n",
    "    print( \"There is no overlap for the rectangles\" )"
   ]
  },
  {
   "cell_type": "markdown",
   "metadata": {},
   "source": [
    "### Exercise 20.2"
   ]
  },
  {
   "cell_type": "markdown",
   "metadata": {},
   "source": [
    "Considering the list that needs to be displayed, placing the `enroll()` method in the student is the easiest choice here. For the birthdate I use the `datetime` module; as you have to calculate the student's age, you also need today's date, which is found in the `datetime` module anyway."
   ]
  },
  {
   "cell_type": "code",
   "execution_count": null,
   "metadata": {
    "collapsed": true
   },
   "outputs": [],
   "source": [
    "from datetime import date\n",
    "from random import random\n",
    "\n",
    "class Course:\n",
    "    def __init__( self, name, number ):\n",
    "        self.name = name\n",
    "        self.number = number\n",
    "    def __repr__( self ):\n",
    "        return \"{}: {}\".format( self.number, self.name )\n",
    "\n",
    "class Student:\n",
    "    def __init__( self, lastname, firstname, birthdate, anr ):\n",
    "        self.lastname = lastname\n",
    "        self.firstname = firstname\n",
    "        self.birthdate = birthdate\n",
    "        self.anr = anr\n",
    "        self.courses = []\n",
    "    def __str__( self ):\n",
    "        return self.firstname+\" \"+self.lastname\n",
    "    def age( self ):\n",
    "        today = date.today()\n",
    "        years = today.year - self.birthdate.year\n",
    "        if today.month < self.birthdate.month or \\\n",
    "            (today.month == self.birthdate.month and today.day < self.birthdate.day):\n",
    "            years -= 1\n",
    "        return years\n",
    "    def enroll( self, course ):\n",
    "        if course not in self.courses:\n",
    "            self.courses.append( course )\n",
    "    \n",
    "students = [ \n",
    "    Student( \"Arkansas\", \"Adrian\", date( 1989, 10, 3 ), 453211 ),\n",
    "    Student( \"Bonzo\", \"Beatrice\", date( 1991, 12, 29 ), 476239 ),\n",
    "    Student( \"Continuum\", \"Carola\", date( 1992, 3, 7 ), 784322 ),\n",
    "    Student( \"Doofus\", \"Dunce\", date( 1993, 7, 11 ), 995544 ) ]\n",
    "courses =[\n",
    "    Course( \"Vinology\", 787656 ),\n",
    "    Course( \"Advanced spoon-bending\", 651121 ),\n",
    "    Course( \"Research Skills: Babbling\", 433231 )]\n",
    "\n",
    "for student in students:\n",
    "    for course in courses:\n",
    "        if random() > 0.3:\n",
    "            student.enroll( course )\n",
    "\n",
    "for student in students:\n",
    "    print( \"{}: {} {} ({})\".format( student.anr, student.firstname, student.lastname, student.age() ) )\n",
    "    if len( student.courses ) == 0:\n",
    "        print( \"\\tNo courses\" )\n",
    "    for course in student.courses:\n",
    "        print( \"\\t{}\".format( course ) )"
   ]
  },
  {
   "cell_type": "markdown",
   "metadata": {},
   "source": [
    "---"
   ]
  },
  {
   "cell_type": "markdown",
   "metadata": {},
   "source": [
    "## 21 - Operator Overloading<a id=\"answers21\"></a>"
   ]
  },
  {
   "cell_type": "markdown",
   "metadata": {},
   "source": [
    "### Exercise 21.1"
   ]
  },
  {
   "cell_type": "code",
   "execution_count": null,
   "metadata": {
    "collapsed": true
   },
   "outputs": [],
   "source": [
    "SUITS = [\"Hearts\",\"Spades\",\"Clubs\",\"Diamonds\"]\n",
    "RANKS = [\"2\",\"3\",\"4\",\"5\",\"6\",\"7\",\"8\",\"9\",\"10\",\"Jack\",\"Queen\",\"King\",\"Ace\"]\n",
    "\n",
    "class Card:\n",
    "    def __init__( self, suit, rank ):\n",
    "        self.suit = suit # integer that is used as index in the SUITS list\n",
    "        self.rank = rank # integer that is used as inde x in the RANKS list\n",
    "    def __repr__( self ):\n",
    "        return \"({},{})\".format( self.suit, self.rank )\n",
    "    def __str__( self ):\n",
    "        return \"{} of {}\".format( RANKS[self.rank], SUITS[self.suit] )\n",
    "    def __eq__( self, c ):\n",
    "        if isinstance( c, Card ):\n",
    "            return self.rank == c.rank\n",
    "        return NotImplemented\n",
    "    def __gt__( self, c ):\n",
    "        if isinstance( c, Card ):\n",
    "            return self.rank > c.rank\n",
    "        return NotImplemented\n",
    "    def __ge__( self, c ):\n",
    "        if isinstance( c, Card ):\n",
    "            return self.rank >= c.rank\n",
    "        return NotImplemented\n",
    "    \n",
    "c5 = Card( 2, 3 )\n",
    "d5 = Card( 3, 3 )\n",
    "sk = Card( 1, 11 )\n",
    "print( \"{}, {}, {}\".format( c5, d5, sk ) )\n",
    "print( c5 == d5 )\n",
    "print( c5 == sk )\n",
    "print( c5 > sk )\n",
    "print( c5 >= sk )\n",
    "print( c5 < sk )\n",
    "print( c5 <= sk )"
   ]
  },
  {
   "cell_type": "markdown",
   "metadata": {},
   "source": [
    "Note: There is no need to implement `__ne__()`, `__lt__()`, or `__le__()`, as they are automatically changed into calls to the methods that have been implemented."
   ]
  },
  {
   "cell_type": "markdown",
   "metadata": {},
   "source": [
    "### Exercise 21.2"
   ]
  },
  {
   "cell_type": "code",
   "execution_count": null,
   "metadata": {
    "collapsed": true
   },
   "outputs": [],
   "source": [
    "SUITS = [\"Hearts\",\"Spades\",\"Clubs\",\"Diamonds\"]\n",
    "RANKS = [\"2\",\"3\",\"4\",\"5\",\"6\",\"7\",\"8\",\"9\",\"10\",\"Jack\",\"Queen\",\"King\",\"Ace\"]\n",
    "\n",
    "class Card:\n",
    "    def __init__( self, suit, rank ):\n",
    "        self.suit = suit # integer that is used as index in the SUITS list\n",
    "        self.rank = rank # integer that is used as inde x in the RANKS list\n",
    "    def __repr__( self ):\n",
    "        return \"({},{})\".format( self.suit, self.rank )\n",
    "    def __str__( self ):\n",
    "        return \"{} of {}\".format( RANKS[self.rank], SUITS[self.suit] )\n",
    "    def __eq__( self, c ):\n",
    "        if isinstance( c, Card ):\n",
    "            return self.rank == c.rank\n",
    "        return NotImplemented\n",
    "    def __gt__( self, c ):\n",
    "        if isinstance( c, Card ):\n",
    "            return self.rank > c.rank\n",
    "        return NotImplemented\n",
    "    def __ge__( self, c ):\n",
    "        if isinstance( c, Card ):\n",
    "            return self.rank >= c.rank\n",
    "        return NotImplemented\n",
    "\n",
    "class Drawpile:\n",
    "    def __init__( self, pile=[] ):\n",
    "        self.pile = pile\n",
    "    def __len__( self ):\n",
    "        return len( self.pile )\n",
    "    def __getitem__( self, n ):\n",
    "        return self.pile[n]\n",
    "    def add( self, c ):\n",
    "        self.pile.append( c )\n",
    "    def draw( self ):\n",
    "        if len( self ) <= 0:\n",
    "            return None\n",
    "        return self.pile.pop(0)\n",
    "    def __repr__( self ):\n",
    "        sep = \"\"\n",
    "        s = \"\"\n",
    "        for c in self.pile:\n",
    "            s += sep + str( c )\n",
    "            sep = \", \"\n",
    "        return s\n",
    "    \n",
    "dp1 = Drawpile( [Card(0,1), Card(0,5), Card(2,4), Card(1,12)] )\n",
    "print( dp1 )\n",
    "print( dp1[1] )\n",
    "dp1.add( Card(3,12) )\n",
    "print( dp1 )\n",
    "print( dp1.draw() )\n",
    "print( dp1 )"
   ]
  },
  {
   "cell_type": "markdown",
   "metadata": {},
   "source": [
    "### Exercise 21.3"
   ]
  },
  {
   "cell_type": "code",
   "execution_count": null,
   "metadata": {
    "collapsed": true
   },
   "outputs": [],
   "source": [
    "SUITS = [\"Hearts\",\"Spades\",\"Clubs\",\"Diamonds\"]\n",
    "RANKS = [\"2\",\"3\",\"4\",\"5\",\"6\",\"7\",\"8\",\"9\",\"10\",\"Jack\",\"Queen\",\"King\",\"Ace\"]\n",
    "\n",
    "class Card:\n",
    "    def __init__( self, suit, rank ):\n",
    "        self.suit = suit # integer that is used as index in the SUITS list\n",
    "        self.rank = rank # integer that is used as inde x in the RANKS list\n",
    "    def __repr__( self ):\n",
    "        return \"({},{})\".format( self.suit, self.rank )\n",
    "    def __str__( self ):\n",
    "        return \"{} of {}\".format( RANKS[self.rank], SUITS[self.suit] )\n",
    "    def __eq__( self, c ):\n",
    "        if isinstance( c, Card ):\n",
    "            return self.rank == c.rank\n",
    "        return NotImplemented\n",
    "    def __gt__( self, c ):\n",
    "        if isinstance( c, Card ):\n",
    "            return self.rank > c.rank\n",
    "        return NotImplemented\n",
    "    def __ge__( self, c ):\n",
    "        if isinstance( c, Card ):\n",
    "            return self.rank >= c.rank\n",
    "        return NotImplemented\n",
    "\n",
    "class Drawpile:\n",
    "    def __init__( self, pile=[] ):\n",
    "        self.pile = pile\n",
    "    def __len__( self ):\n",
    "        return len( self.pile )\n",
    "    def __getitem__( self, n ):\n",
    "        return self.pile[n]\n",
    "    def add( self, c ):\n",
    "        self.pile.append( c )\n",
    "    def draw( self ):\n",
    "        if len( self ) <= 0:\n",
    "            return None\n",
    "        return self.pile.pop(0)\n",
    "    def __repr__( self ):\n",
    "        sep = \"\"\n",
    "        s = \"\"\n",
    "        for c in self.pile:\n",
    "            s += sep + str( c )\n",
    "            sep = \", \"\n",
    "        return s\n",
    "    \n",
    "dp1 = Drawpile( [Card(3,0), Card(0,11), Card(2,5)] )\n",
    "dp2 = Drawpile( [Card(3,2), Card(3,1), Card(1,6)] )\n",
    "\n",
    "i = 1\n",
    "while len( dp1 ) > 0 and len( dp2 ) > 0:\n",
    "    print( \"Round\", i )\n",
    "    print( \"Deck1:\", dp1 )\n",
    "    print( \"Deck2:\", dp2 )\n",
    "    c1 = dp1.draw()\n",
    "    c2 = dp2.draw()\n",
    "    if c1 > c2:\n",
    "        dp1.add( c1 )\n",
    "        dp1.add( c2 )\n",
    "    else:\n",
    "        dp2.add( c2 )\n",
    "        dp2.add( c1 )\n",
    "    i += 1\n",
    "        \n",
    "print( \"The game has ended\" )\n",
    "if len( dp1 ) > 0:\n",
    "    print( \"Deck1:\", dp1 )\n",
    "    print( \"The first deck wins!\" )\n",
    "else:\n",
    "    print( \"Deck2:\", dp2 )\n",
    "    print( \"The second deck wins!\" )"
   ]
  },
  {
   "cell_type": "markdown",
   "metadata": {},
   "source": [
    "### Exercise 21.4"
   ]
  },
  {
   "cell_type": "markdown",
   "metadata": {},
   "source": [
    "Do not forget that in the `__add__()` and `__sub__()` methods you have to create a (deep) copy of the fruit basket, which you change and return. It is up to the programmer of the main program to decide whether he wants to actually change the fruit basket, or just wants to see what a changed version looks like. However, in `__iadd__()` and `__isub__()` you are actually supposed to change the fruit basket, and still return `self`. The rest of the class is pretty straightforward, as long as you take into account that you have to delete fruits when their number has dropped to zero or less. "
   ]
  },
  {
   "cell_type": "code",
   "execution_count": null,
   "metadata": {
    "collapsed": true
   },
   "outputs": [],
   "source": [
    "from copy import deepcopy\n",
    "\n",
    "class FruitBasket:\n",
    "    \n",
    "    def __init__( self, fruits={} ):\n",
    "        self.fruits = fruits\n",
    "        \n",
    "    def __repr__( self ):\n",
    "        s = \"\"\n",
    "        sep = \"[\"\n",
    "        for fruit in self.fruits:\n",
    "            s += sep + fruit + \":\" + str( self.fruits[fruit] )\n",
    "            sep = \", \"\n",
    "        s += \"]\"\n",
    "        return s\n",
    "    \n",
    "    def __contains__( self, fruit ):\n",
    "        return fruit in self.fruits\n",
    "    \n",
    "    def __add__( self, fruit ):\n",
    "        fbcopy = deepcopy( fb )\n",
    "        fbcopy.fruits[fruit] = fbcopy.fruits.get( fruit, 0 ) + 1\n",
    "        return fbcopy\n",
    "    \n",
    "    def __iadd__( self, fruit ):\n",
    "        self.fruits[fruit] = self.fruits.get( fruit, 0 ) + 1\n",
    "        return self\n",
    "    \n",
    "    def __sub__( self, fruit ):\n",
    "        if fruit not in self.fruits:\n",
    "            return self\n",
    "        fbcopy = deepcopy( fb )\n",
    "        fbcopy.fruits[fruit] = fbcopy.fruits.get( fruit, 0 ) - 1\n",
    "        if fbcopy.fruits[fruit] <= 0:\n",
    "            del fbcopy.fruits[fruit]\n",
    "        return fbcopy\n",
    "    \n",
    "    def __isub__( self, fruit ):\n",
    "        self.fruits[fruit] = self.fruits.get( fruit, 0 ) - 1\n",
    "        if self.fruits[fruit] <= 0:\n",
    "            del self.fruits[fruit]\n",
    "        return self\n",
    "    \n",
    "    def __len__( self ):\n",
    "        return len( self.fruits )\n",
    "    \n",
    "    def __getitem__( self, fruit ):\n",
    "        return self.fruits.get( fruit, 0 )\n",
    "    \n",
    "    def __setitem__( self, fruit, n ):\n",
    "        if n <= 0:\n",
    "            if fruit in self.fruits:\n",
    "                del self.fruits[fruit]\n",
    "        else:\n",
    "            self.fruits[fruit] = n\n",
    "    \n",
    "fb = FruitBasket()\n",
    "fb += \"apple\"\n",
    "fb += \"apple\"\n",
    "fb += \"banana\"\n",
    "fb = fb + \"cherry\"\n",
    "fb[\"orange\"] = 20\n",
    "print( len( fb ) )\n",
    "print( fb )\n",
    "print( \"banana\" in fb )\n",
    "print( \"durian\" in fb )\n",
    "fb -= \"apple\"\n",
    "fb -= \"banana\"\n",
    "fb = fb - \"cherry\"\n",
    "fb -= \"durian\"\n",
    "print( fb )\n",
    "print( \"banana\" in fb )\n",
    "fb[\"orange\"] = 0\n",
    "print( fb )"
   ]
  },
  {
   "cell_type": "markdown",
   "metadata": {},
   "source": [
    "---"
   ]
  },
  {
   "cell_type": "markdown",
   "metadata": {},
   "source": [
    "## 22 - Inheritance<a id=\"answers22\"></a>"
   ]
  },
  {
   "cell_type": "markdown",
   "metadata": {},
   "source": [
    "### Exercise 22.1"
   ]
  },
  {
   "cell_type": "code",
   "execution_count": null,
   "metadata": {
    "collapsed": true
   },
   "outputs": [],
   "source": [
    "class Rectangle:\n",
    "    def __init__( self, x, y, w, h ):\n",
    "        self.x = x\n",
    "        self.y = y\n",
    "        self.w = w\n",
    "        self.h = h\n",
    "    def __repr__( self ):\n",
    "        return \"[({},{}),w={},h={}]\".format( self.x, self.y, self.w, self.h )\n",
    "    def area( self ):\n",
    "        return self.w * self.h\n",
    "    def circumference( self ):\n",
    "        return 2*(self.w + self.h)\n",
    "\n",
    "class Square( Rectangle ):\n",
    "    def __init__( self, x, y, w ):\n",
    "        super().__init__( x, y, w, w )\n",
    "        \n",
    "s = Square( 1, 1, 4 )\n",
    "print( s, s.area(), s.circumference() )"
   ]
  },
  {
   "cell_type": "markdown",
   "metadata": {},
   "source": [
    "### Exercise 22.2"
   ]
  },
  {
   "cell_type": "code",
   "execution_count": null,
   "metadata": {
    "collapsed": true
   },
   "outputs": [],
   "source": [
    "from math import pi\n",
    "\n",
    "class Shape:\n",
    "    def area( self ):\n",
    "        return NotImplemented\n",
    "    def circumference( self ):\n",
    "        return NotImplemented\n",
    "\n",
    "class Circle:\n",
    "    def __init__( self, x, y, r ):\n",
    "        self.x = x\n",
    "        self.y = y\n",
    "        self.r = r\n",
    "    def __repr__( self ):\n",
    "        return \"[({},{}),r={}]\".format( self.x, self.y, self.r )\n",
    "    def area( self ):\n",
    "        return pi * self.r * self.r\n",
    "    def circumference( self ):\n",
    "        return 2 * pi * self.r\n",
    "    \n",
    "class Rectangle( Shape ):\n",
    "    def __init__( self, x, y, w, h ):\n",
    "        self.x = x\n",
    "        self.y = y\n",
    "        self.w = w\n",
    "        self.h = h\n",
    "    def __repr__( self ):\n",
    "        return \"[({},{}),w={},h={}]\".format( self.x, self.y, self.w, self.h )\n",
    "    def area( self ):\n",
    "        return self.w * self.h\n",
    "    def circumference( self ):\n",
    "        return 2*(self.w + self.h)\n",
    "\n",
    "class Square( Rectangle ):\n",
    "    def __init__( self, x, y, w ):\n",
    "        super().__init__( x, y, w, w )\n",
    "        \n",
    "s = Square( 1, 1, 4 )\n",
    "print( s, s.area(), s.circumference() )\n",
    "c = Circle( 1, 1, 4 )\n",
    "print( c, c.area(), c.circumference() )"
   ]
  },
  {
   "cell_type": "markdown",
   "metadata": {},
   "source": [
    "### Exercise 22.3"
   ]
  },
  {
   "cell_type": "markdown",
   "metadata": {},
   "source": [
    "I implemented a `MemoryStrategy` class to derive `TitForTat`, `TitForTwoTats`, and `Majority` from. `MemoryStrategy` keeps track of all the moves in the game. That is overdoing it a bit, as `TitForTat` only needs to keep track of the last move, `TitForTwoTats` only needs to keep track of the last two moves, and `Majority` could make do with just a count of all the COOPERATEs and DEFECTs of the opponent. Still, if more elaborate strategies need to be implemented, `MemoryStrategy` is a good starting point.\n",
    "\n",
    "One interesting thing to notice is that in any pairing `AlwaysDefect` has a higher score than its opponent. However, if you let each strategy play every other strategy and add up the scores, the only strategy that does worse than `AlwaysDefect` is `Random`. If you want to know why that is, do a course on Game Theory."
   ]
  },
  {
   "cell_type": "code",
   "execution_count": null,
   "metadata": {
    "collapsed": true
   },
   "outputs": [],
   "source": [
    "from random import random\n",
    "\n",
    "COOPERATE = 'C'\n",
    "DEFECT = 'D'\n",
    "ROUNDS = 100\n",
    "\n",
    "class Strategy:\n",
    "    def __init__( self, name=\"\" ):\n",
    "        self.name = name\n",
    "        self.score = 0\n",
    "    def choice( self ):\n",
    "        # Should return COOPERATE or DEFECT\n",
    "        return NotImplemented\n",
    "    def lastmove( self, mymove, opponentmove ):\n",
    "        # Gets passed the last move made, after a call of choice()\n",
    "        pass\n",
    "    def incscore( self, n ):\n",
    "        self.score += n\n",
    "        \n",
    "class AlwaysDefect( Strategy ):\n",
    "    def choice( self ):\n",
    "        return DEFECT\n",
    "        \n",
    "class Random( Strategy ):\n",
    "    def choice( self ):\n",
    "        if random() >= 0.5:\n",
    "            return COOPERATE\n",
    "        return DEFECT\n",
    "\n",
    "class MemoryStrategy( Strategy ):\n",
    "    def __init__( self, name=\"\" ):\n",
    "        super().__init__( name )\n",
    "        self.history = []\n",
    "    def lastmove( self, mymove, opponentmove ):\n",
    "        self.history.append( (mymove, opponentmove) )\n",
    "        \n",
    "class TitForTat( MemoryStrategy ):\n",
    "    def choice( self ):\n",
    "        if len( self.history ) < 1:\n",
    "            return COOPERATE\n",
    "        return self.history[-1][1]\n",
    "\n",
    "class TitForTwoTats( MemoryStrategy ):\n",
    "    def choice( self ):\n",
    "        if len( self.history ) < 2:\n",
    "            return COOPERATE\n",
    "        if self.history[-1][1] == DEFECT and self.history[-2][1] == DEFECT:\n",
    "            return DEFECT\n",
    "        return COOPERATE\n",
    "\n",
    "class Majority( MemoryStrategy ):\n",
    "    def choice( self ):\n",
    "        countD = 0\n",
    "        for i in range( len( self.history ) ):\n",
    "            if self.history[i][1] == DEFECT:\n",
    "                countD += 1\n",
    "        if countD > len( self.history ) / 2:\n",
    "            return DEFECT\n",
    "        return COOPERATE\n",
    "            \n",
    "strategy1 = AlwaysDefect( \"Always Defect\" )\n",
    "strategy2 = Majority( \"Majority\" )\n",
    "\n",
    "for i in range( ROUNDS ):\n",
    "    c1 = strategy1.choice()\n",
    "    c2 = strategy2.choice()\n",
    "    if c1 == c2:\n",
    "        strategy1.incscore( 3 if c1 == COOPERATE else 1 )\n",
    "        strategy2.incscore( 3 if c2 == COOPERATE else 1 )\n",
    "    else:\n",
    "        strategy1.incscore( 0 if c1 == COOPERATE else 6 )\n",
    "        strategy2.incscore( 0 if c2 == COOPERATE else 6 )\n",
    "    strategy1.lastmove( c1, c2 )\n",
    "    strategy2.lastmove( c2, c1 )\n",
    "        \n",
    "print( \"End score of\", strategy1.name, \"is\", strategy1.score )\n",
    "print( \"End score of\", strategy2.name, \"is\", strategy2.score )"
   ]
  },
  {
   "cell_type": "markdown",
   "metadata": {},
   "source": [
    "Note: `3 if c1 == COOPERATE else 1` is, like list comprehension, a short way to implement a choice between two values in just one line (in this case a choice between 3 and 1). I seldom use this as I find it a bit less readable, but to keep this part of the code brief I decided to use it. It is completely optional, of course, you could just write the 12 or so lines of code."
   ]
  },
  {
   "cell_type": "markdown",
   "metadata": {},
   "source": [
    "---"
   ]
  },
  {
   "cell_type": "markdown",
   "metadata": {},
   "source": [
    "## 23 - Iterators and Generators<a id=\"answers23\"></a>"
   ]
  },
  {
   "cell_type": "markdown",
   "metadata": {},
   "source": [
    "### Exercise 23.1"
   ]
  },
  {
   "cell_type": "code",
   "execution_count": null,
   "metadata": {
    "collapsed": true
   },
   "outputs": [],
   "source": [
    "from pcinput import getInteger\n",
    "\n",
    "class NotDividableBy:\n",
    "    def __init__( self ):\n",
    "        self.seq = list( range( 1, 101 ) )\n",
    "    def __iter__( self ):\n",
    "        return self\n",
    "    def __next__( self ):\n",
    "        if len( self.seq ) > 0:\n",
    "            return self.seq.pop(0)\n",
    "        raise StopIteration()\n",
    "    def process( self, num ):\n",
    "        i = len( self.seq )-1\n",
    "        while i >= 0:\n",
    "            if self.seq[i]%num == 0:\n",
    "                del self.seq[i]\n",
    "            i -= 1\n",
    "    def __len__( self ):\n",
    "        return len( self.seq )\n",
    "\n",
    "ndb = NotDividableBy()\n",
    "while True:\n",
    "    num = getInteger( \"Give an integer: \" )\n",
    "    if num < 0:\n",
    "        print( \"Negative integers are ignored\" )\n",
    "        continue\n",
    "    if num == 0:\n",
    "        break\n",
    "    ndb.process( num )\n",
    "\n",
    "if len( ndb ) <= 0:\n",
    "    print( \"No numbers are left\" )\n",
    "else:\n",
    "    for num in ndb:\n",
    "        print( num, end=\" \" )"
   ]
  },
  {
   "cell_type": "markdown",
   "metadata": {},
   "source": [
    "### Exercise 23.2"
   ]
  },
  {
   "cell_type": "code",
   "execution_count": null,
   "metadata": {
    "collapsed": true
   },
   "outputs": [],
   "source": [
    "def factorial():\n",
    "    total = 1\n",
    "    for i in range( 1, 11 ):\n",
    "        total *= i\n",
    "        yield total\n",
    "        \n",
    "fseq = factorial()\n",
    "for n in fseq:\n",
    "    print( n, end=\" \" )"
   ]
  },
  {
   "cell_type": "markdown",
   "metadata": {},
   "source": [
    "### Exercise 23.3"
   ]
  },
  {
   "cell_type": "code",
   "execution_count": null,
   "metadata": {
    "collapsed": true
   },
   "outputs": [],
   "source": [
    "from itertools import permutations\n",
    "\n",
    "word = input( \"Please enter a word: \" )\n",
    "seq = permutations( word )\n",
    "for item in seq:\n",
    "    print( \"\".join( item ) )"
   ]
  },
  {
   "cell_type": "markdown",
   "metadata": {},
   "source": [
    "### Exercise 23.4"
   ]
  },
  {
   "cell_type": "markdown",
   "metadata": {},
   "source": [
    "The only change I made with respect to the previous answer is that I cast the iterable to a set."
   ]
  },
  {
   "cell_type": "code",
   "execution_count": null,
   "metadata": {
    "collapsed": true
   },
   "outputs": [],
   "source": [
    "from itertools import permutations\n",
    "\n",
    "word = input( \"Please enter a word: \" )\n",
    "seq = permutations( word )\n",
    "for item in set( seq ):\n",
    "    print( \"\".join( item ) )"
   ]
  },
  {
   "cell_type": "markdown",
   "metadata": {},
   "source": [
    "### Exercise 23.5"
   ]
  },
  {
   "cell_type": "code",
   "execution_count": null,
   "metadata": {
    "collapsed": true
   },
   "outputs": [],
   "source": [
    "from itertools import combinations\n",
    "\n",
    "numlist = [ 3, 8, -1, 4, -5, 6 ]\n",
    "solution = []\n",
    "\n",
    "for i in range( 1, len( numlist )+1 ):\n",
    "    seq = combinations( numlist, i )\n",
    "    for item in seq:\n",
    "        if sum( item ) == 0:\n",
    "            solution = item\n",
    "            break\n",
    "    if len( solution ) > 0:\n",
    "        break\n",
    "        \n",
    "if len( solution ) <= 0:\n",
    "    print( \"There is no subset which adds up to zero\" )\n",
    "else:\n",
    "    for i in range( len( solution ) ):\n",
    "        if solution[i] < 0 or i == 0:\n",
    "            print( solution[i], end=\"\" )\n",
    "        else:\n",
    "            print( \"+{}\".format( solution[i] ), end=\"\" )\n",
    "    print( \"=0\" )"
   ]
  },
  {
   "cell_type": "markdown",
   "metadata": {},
   "source": [
    "Note: While this code seems to create all possible subsets, which is a number that rises exponentially with the size of `numlist`, since iterators are used no more than one subset is in memory at any time. So this solution works fine even for large lists of integers (though it may get slow, which cannot be helped as this is an NP-hard problem). "
   ]
  },
  {
   "cell_type": "markdown",
   "metadata": {},
   "source": [
    "---"
   ]
  },
  {
   "cell_type": "markdown",
   "metadata": {},
   "source": [
    "## 24 - Command Line Processing<a id=\"answers24\"></a>"
   ]
  },
  {
   "cell_type": "markdown",
   "metadata": {},
   "source": [
    "There are no exercises for Chapter 24."
   ]
  },
  {
   "cell_type": "markdown",
   "metadata": {},
   "source": [
    "---"
   ]
  },
  {
   "cell_type": "markdown",
   "metadata": {},
   "source": [
    "## 25 - Regular Expressions<a id=\"answers25\"></a>"
   ]
  },
  {
   "cell_type": "markdown",
   "metadata": {},
   "source": [
    "### Exercise 25.1"
   ]
  },
  {
   "cell_type": "code",
   "execution_count": null,
   "metadata": {
    "collapsed": true
   },
   "outputs": [],
   "source": [
    "import re\n",
    "\n",
    "sentence = \"The price of a 2-room apartment in Manhattan starts at 1 \\\n",
    "million dollars, and may actually be the 10-fold of that on 42nd Street.\"\n",
    "\n",
    "pword = re.compile( r\"[A-Za-z]+\" )\n",
    "wordlist = pword.findall( sentence )\n",
    "for word in wordlist:\n",
    "    print( word )"
   ]
  },
  {
   "cell_type": "markdown",
   "metadata": {},
   "source": [
    "### Exercise 25.2"
   ]
  },
  {
   "cell_type": "code",
   "execution_count": null,
   "metadata": {
    "collapsed": true
   },
   "outputs": [],
   "source": [
    "import re\n",
    "\n",
    "sentence = \"The word ether can be found in my thesaurus using the \\\n",
    "archaic spelling 'aether'.\"\n",
    "\n",
    "pthe = re.compile( r\"\\bthe\\b\", re.I )\n",
    "thelist = pthe.findall( sentence )\n",
    "print( len( thelist ) )"
   ]
  },
  {
   "cell_type": "markdown",
   "metadata": {},
   "source": [
    "### Exercise 25.3"
   ]
  },
  {
   "cell_type": "code",
   "execution_count": null,
   "metadata": {
    "collapsed": true
   },
   "outputs": [],
   "source": [
    "import re\n",
    "\n",
    "sentence = \"Michael Jordan, Bill Gates, and the Dalai Lama decided to \\\n",
    "take a plane trip together, when they spotted a hippy next to the runway.\"\n",
    "\n",
    "pname = re.compile( r\"\\b([A-Z][a-z]*\\s+[A-Z][a-z]*)\" )\n",
    "namelist = pname.findall( sentence )\n",
    "for name in namelist:\n",
    "    print( name )"
   ]
  },
  {
   "cell_type": "markdown",
   "metadata": {},
   "source": [
    "### Exercise 25.4"
   ]
  },
  {
   "cell_type": "code",
   "execution_count": null,
   "metadata": {
    "collapsed": true
   },
   "outputs": [],
   "source": [
    "import re\n",
    "\n",
    "sentence = \"William Randolph Hearst attempted to destroy all copies of \\\n",
    "Orson Welles' masterpiece 'Citizen Kane', because he did not appreciate \\\n",
    "the fact that the protagonist Charles Foster Kane was a thinly \\\n",
    "disguised caricature of himself. I wonder whether William Henry Gates \\\n",
    "The Third would attempt to do the same.\"\n",
    "\n",
    "pname = re.compile( r\"\\b([A-Z][a-z]*(\\s+[A-Z][a-z]*)+)\" )\n",
    "namelist = pname.finditer( sentence )\n",
    "for name in namelist:\n",
    "    print( name.group(1) )"
   ]
  },
  {
   "cell_type": "markdown",
   "metadata": {},
   "source": [
    "### Exercise 25.5"
   ]
  },
  {
   "cell_type": "code",
   "execution_count": null,
   "metadata": {
    "collapsed": true
   },
   "outputs": [],
   "source": [
    "import re\n",
    "\n",
    "sentence = \"Client: \\\"I wish to register a complaint! Hello miss!\\\"\\n\\\n",
    "Shopkeeper: \\\"What do you mean, miss?\\\"\\n\\\n",
    "Client: \\\"I am sorry, I have a cold.\\\"\\n\"\n",
    "\n",
    "pspoken = re.compile( r\"\\\"[^\\\"]*\\\"\" )\n",
    "spokenlist = pspoken.findall( sentence )\n",
    "for text in spokenlist:\n",
    "    print( text )"
   ]
  },
  {
   "cell_type": "markdown",
   "metadata": {},
   "source": [
    "### Exercise 25.6"
   ]
  },
  {
   "cell_type": "code",
   "execution_count": null,
   "metadata": {
    "collapsed": true
   },
   "outputs": [],
   "source": [
    "import re\n",
    "\n",
    "text = \"<html><head><title>List of persons with ids</title></head><body>\\\n",
    "<p><id>123123123</id><name>Groucho Marx</name>\\\n",
    "<p><id>123123124</id><name>Harpo Marx</name>\\\n",
    "<p><id>123123125</id><name>Chico Marx</name>\\\n",
    "<randomcrap>Etaoin<id>Shrdlu</id>qwerty</name></randomcrap>\\\n",
    "<nocrap><p><id>123123126</id><name>Zeppo Marx</name></nocrap>\\\n",
    "<address>Chicago</address>\\\n",
    "<morerandomcrap><id>999999999</id>nonametobeseen!</morerandomcrap>\\\n",
    "<p><id>123123127</id><name>Gummo Marx</name>\\\n",
    "<note>Look him up on <a href=\\\"http://www.google.com\\\">Google.</a></note>\\\n",
    "</body></html>\"\n",
    "\n",
    "pidname = re.compile( r\"<id>([^<]+)</id><name>([^<]+)</name>\" )\n",
    "mlist = pidname.finditer( text )\n",
    "for m in mlist:\n",
    "    print( m.group(1), m.group(2) )"
   ]
  },
  {
   "cell_type": "markdown",
   "metadata": {},
   "source": [
    "---"
   ]
  },
  {
   "cell_type": "markdown",
   "metadata": {},
   "source": [
    "## 26 - File Formats<a id=\"answers26\"></a>"
   ]
  },
  {
   "cell_type": "markdown",
   "metadata": {},
   "source": [
    "### Exercise 26.1"
   ]
  },
  {
   "cell_type": "code",
   "execution_count": null,
   "metadata": {
    "collapsed": true
   },
   "outputs": [],
   "source": [
    "from csv import reader, writer\n",
    "\n",
    "fp = open( \"pc_inventory.csv\", newline='' )\n",
    "fpo = open( \"pc_writetest.csv\", \"w\", newline='' )\n",
    "csvreader = reader( fp )\n",
    "csvwriter = writer( fpo, delimiter=' ', quotechar=\"'\" )\n",
    "for line in csvreader:\n",
    "    csvwriter.writerow( line )\n",
    "fp.close()\n",
    "fpo.close()\n",
    "\n",
    "fp = open( \"pc_writetest.csv\" )\n",
    "print( fp.read() )\n",
    "fp.close()"
   ]
  },
  {
   "cell_type": "markdown",
   "metadata": {},
   "source": [
    "If you did it correctly, you notice the quotes around '`Blue Stilton`', which are there because it contains a space, which is the delimiter."
   ]
  },
  {
   "cell_type": "markdown",
   "metadata": {},
   "source": [
    "### Exercise 26.2"
   ]
  },
  {
   "cell_type": "code",
   "execution_count": null,
   "metadata": {
    "collapsed": true
   },
   "outputs": [],
   "source": [
    "from csv import reader\n",
    "from json import dump\n",
    "\n",
    "data = []\n",
    "\n",
    "fp = open( \"pc_inventory.csv\", newline='' )\n",
    "csvreader = reader( fp )\n",
    "for line in csvreader:\n",
    "    data.append( line )\n",
    "fp.close()\n",
    "\n",
    "fp = open( \"pc_writetest.json\", \"w\" )\n",
    "dump( data, fp )\n",
    "fp.close()\n",
    "\n",
    "fp = open( \"pc_writetest.json\" )\n",
    "print( fp.read() )\n",
    "fp.close()"
   ]
  },
  {
   "cell_type": "markdown",
   "metadata": {},
   "source": [
    "---"
   ]
  },
  {
   "cell_type": "markdown",
   "metadata": {},
   "source": [
    "## 27 - Various Useful Modules<a id=\"answers27\"></a>"
   ]
  },
  {
   "cell_type": "markdown",
   "metadata": {},
   "source": [
    "### Exercise 27.1"
   ]
  },
  {
   "cell_type": "code",
   "execution_count": null,
   "metadata": {
    "collapsed": true
   },
   "outputs": [],
   "source": [
    "from collections import Counter\n",
    "\n",
    "sentence = \"Your mother was a hamster and your father smelled of elderberries.\"\n",
    "sentence2 = \"\"\n",
    "for c in sentence.lower():\n",
    "    if c >= 'a' and c <= 'z':\n",
    "        sentence2 += c\n",
    "\n",
    "clist = Counter( sentence2 ).most_common( 5 )\n",
    "for c in clist:\n",
    "    print( \"{}: {}\".format( c[0], c[1] ) )"
   ]
  },
  {
   "cell_type": "markdown",
   "metadata": {},
   "source": [
    "### Exercise 27.2"
   ]
  },
  {
   "cell_type": "code",
   "execution_count": null,
   "metadata": {
    "collapsed": true
   },
   "outputs": [],
   "source": [
    "from collections import Counter\n",
    "from pcinput import getInteger\n",
    "from statistics import mean, median\n",
    "from sys import exit\n",
    "\n",
    "numlist = []\n",
    "while True:\n",
    "    num = getInteger( \"Enter a number:\" )\n",
    "    if num == 0:\n",
    "        break\n",
    "    numlist.append( num )\n",
    "\n",
    "if len( numlist ) <= 0:\n",
    "    print( \"No numbers were entered\" )\n",
    "    exit()\n",
    "    \n",
    "print( \"Mean:\", mean( numlist ) )\n",
    "print( \"Median:\", median( numlist ) )\n",
    "\n",
    "clist = Counter( numlist ).most_common()\n",
    "if clist[0][1] <= 1:\n",
    "    print( \"There is no mode\" )\n",
    "else:\n",
    "    mlist = [str( x[0] ) for x in clist if x[1] == clist[0][1] ]\n",
    "    s = \", \".join( mlist )\n",
    "    print( \"Mode:\", s )"
   ]
  },
  {
   "cell_type": "markdown",
   "metadata": {},
   "source": [
    "For the mode I did a reasonably smart list comprehension, but you can write this out as multiple lines of code, of course."
   ]
  },
  {
   "cell_type": "markdown",
   "metadata": {},
   "source": [
    "---"
   ]
  },
  {
   "cell_type": "markdown",
   "metadata": {},
   "source": [
    "## 28 - Algorithmic Complexity<a id=\"answers28\"></a>"
   ]
  },
  {
   "cell_type": "markdown",
   "metadata": {},
   "source": [
    "### Exercise 28.1"
   ]
  },
  {
   "cell_type": "markdown",
   "metadata": {},
   "source": [
    "In all fairness, this is a bit of a nasty question. If you want to assume that calling the `print()` function takes a constant time, regardless of the parameter(s), then the time complexity is `O(1)`. However, it is not unreasonable to assume that the time needed by the `print()` function depends on the length of the string which it gets as an argument. If you assume that, then the time complexity is `O(n)`, whereby `n` is the length of the string. In the end, though, you cannot really say anything about the time complexity of the `print_string()` function without deeper knowledge of how the `print()` function works exactly."
   ]
  },
  {
   "cell_type": "markdown",
   "metadata": {},
   "source": [
    "### Exercise 28.2"
   ]
  },
  {
   "cell_type": "markdown",
   "metadata": {},
   "source": [
    "Every number on the list is \"touched\" once, so the time complexity is linear with the length of the list. Thus, it is `O(n)`."
   ]
  },
  {
   "cell_type": "markdown",
   "metadata": {},
   "source": [
    "### Exercise 28.3"
   ]
  },
  {
   "cell_type": "markdown",
   "metadata": {},
   "source": [
    "Assume that there are `n` items on the list. In the worst-case scenario, the list has an odd number items. Since the function then \"touches\" each item as often as there are items on the list, it is `O(n`&sup2;`)`. The best-case scenario is that there is an even number of items on the list. In that case, each item is \"touched\" once, and thus the function is &Omega;`(n)`. \n",
    "\n",
    "Big-Theta cannot be determined. It does not exist for this algorithm. You can see that from the fact that if Big-Theta exists, then the optimal big-O and the optimal big-Omega are the same (namely big-Theta). Since they are not, there is no big-Theta."
   ]
  },
  {
   "cell_type": "markdown",
   "metadata": {},
   "source": [
    "### Exercise 28.4"
   ]
  },
  {
   "cell_type": "markdown",
   "metadata": {},
   "source": [
    "Maybe you have not studied exactly how the algorithms work, but you will have noticed the double nested loop in `get_largest_1()`, which has no equivalent in `get_largest_2()`. This is an indication that `get_largest_1()` probably has the worse time complexity of the two.\n",
    "\n",
    "Consider `n` as the length of the list. When you check, you see that `get_largest_1()`, in a worst-case scenario (where it breaks out of the inner loop at the last possible moment, which happens when the largest number is at the end of the list), does `(n-1) + (n-2) + (n-3) + ... + 1` checks. This is of quadratic time complexity, i.e., `get_largest_1()` is `O(n`&sup2;`)`. `get_largest_2()` only does `n-1` checks in total (in every scenario), which means it is `O(n)`. Therefore `get_largest_2()` is preferable.  \n",
    "\n",
    "Note that for the best-case scenario, `get_largest_2()` is &Omega;`(n)`, as it always checks `n-1` items (as I mentioned above). `get_largest_1()` also is &Omega;`(n)`, as in the best-case scenario the largest number is first in the list, and the items in the list will then only be checked once.\n",
    "\n",
    "As for big-Theta, since for `get_largest_1()` big-O and big-Omega differ, there is no big-Theta. For `get_largest_2()`, however, since big-O and big-Omega are the same, big-Theta is &Theta;`(n)`."
   ]
  },
  {
   "cell_type": "markdown",
   "metadata": {},
   "source": [
    "### Exercise 28.5 "
   ]
  },
  {
   "cell_type": "markdown",
   "metadata": {},
   "source": [
    "This is a trick question. All statements are true. Big-O notation gives an *upper bound* to the time complexity of an algorithm. Since of the four functions listed, `log(n)` grows the slowest, all of them set an upper bound to the algorithm. As I mentioned, however, in general no computer scientist would say that this algorithm is anything else than `O(log(n))`. I mainly put the exercise here, because you may encounter mathematicians asking things like \"is `log(n) O(`&radic;`n)`?\" To which the answer would be \"yes\". "
   ]
  },
  {
   "cell_type": "markdown",
   "metadata": {},
   "source": [
    "### Exercise 28.6"
   ]
  },
  {
   "cell_type": "markdown",
   "metadata": {},
   "source": [
    "The first algorithm simulates each Triangle Crawler separately. This simulation needs a loop, but that loop will have a constant average length (namely the average life span). So the time that you need to spend on each Crawler is independent from the number of Crawlers. Thus this algorithm is `O(n)`.\n",
    "\n",
    "The second algorithm halves the population of Triangle Crawlers ever cycle through the loop, and then does a calculation which is independent of the number of Crawlers. So this algorithm works similar to a binary search, which means that it is `O(log(n))`. No wonder that this second algorithm is so much faster than the first!\n",
    "\n",
    "The third algorithm is completely independent from the number of Triangle Crawlers. Therefore it is `O(1)`."
   ]
  },
  {
   "cell_type": "markdown",
   "metadata": {},
   "source": [
    "---"
   ]
  },
  {
   "cell_type": "markdown",
   "metadata": {},
   "source": [
    "## 29 - Searching<a id=\"answers29\"></a>"
   ]
  },
  {
   "cell_type": "markdown",
   "metadata": {},
   "source": [
    "### Exercise 29.1"
   ]
  },
  {
   "cell_type": "markdown",
   "metadata": {},
   "source": [
    "Below, I implement a function `binary_range_search()` to find the list on the list of lists which should contain the target number. After finding that list, a regular binary search is used to find the target number."
   ]
  },
  {
   "cell_type": "code",
   "execution_count": null,
   "metadata": {
    "collapsed": true
   },
   "outputs": [],
   "source": [
    "listoflists = [ [0, 3, 4, 7, 12, 16, 17, 19],\n",
    "  [25, 39, 40, 41, 42],\n",
    "  [50, 51, 56, 57, 58, 72, 81, 82],\n",
    "  [83, 84, 106, 203, 213, 233, 243, 253, 263, 273, 283],\n",
    "  [512, 1024, 2048, 4096],\n",
    "  [4097],\n",
    "  [5000, 50000, 500000, 678345, 765432, 765433, 800000, 810000, 811000, 811100, 811110, 888888]\n",
    "]\n",
    "\n",
    "def binary_range_search( tlistoflists, target ):\n",
    "    lo = 0\n",
    "    hi = len( tlistoflists )-1\n",
    "    while lo <= hi:\n",
    "        mid = lo + (hi-lo)//2\n",
    "        if tlistoflists[mid][0] <= target and tlistoflists[mid][-1] >= target:\n",
    "            return mid            \n",
    "        elif tlistoflists[mid][-1] < target: \n",
    "            lo = mid+1\n",
    "        else:\n",
    "            hi = mid-1\n",
    "    return -1\n",
    "\n",
    "def binary_search( tlist, target ):\n",
    "    lo = 0\n",
    "    hi = len( tlist )-1\n",
    "    while lo <= hi:\n",
    "        mid = lo + (hi-lo)//2\n",
    "        if tlist[mid] == target:\n",
    "            return mid            \n",
    "        elif tlist[mid] < target: \n",
    "            lo = mid+1\n",
    "        else:\n",
    "            hi = mid-1\n",
    "    return -1\n",
    "\n",
    "def search_listoflists( number ):\n",
    "    i = binary_range_search( listoflists, number )\n",
    "    if i < 0:\n",
    "        return False\n",
    "    return binary_search( listoflists[i], number ) >= 0\n",
    "\n",
    "checks = [-600, 0, 1, 2, 3, 19, 20, 25, 40, 42, 1023, 1024, 4096, 4097, 4098, 5000, 711111, 888888, 1000000]\n",
    "for i in checks:\n",
    "    if search_listoflists( i ):\n",
    "        print( i, \"is on the list\" )\n",
    "    else:\n",
    "        print( i, \"is not on the list\" )"
   ]
  },
  {
   "cell_type": "markdown",
   "metadata": {},
   "source": [
    "Let `m` be the number of lists on the list. Let `k` be the length of the longest of these lists on the list. To find the list that needs to be searched, `log(m)` steps are needed (as this is a binary search). To find the number on that list, `log(k)` steps are needed. Thus this implementation is `O(log(m)+log(k))`. If you consider `n` to be the maximum of `m` and `k`, then you can say that the algorithm is simply `O(log(n))`, as multiplying with a constant is unimportant."
   ]
  },
  {
   "cell_type": "markdown",
   "metadata": {},
   "source": [
    "### Exercise 29.2"
   ]
  },
  {
   "cell_type": "markdown",
   "metadata": {},
   "source": [
    "The following code is quite long, but it is mostly a straight copy from the code that is already in the chapter. The main addition is the `hash_perturbation()` function, and the call to it in the other functions."
   ]
  },
  {
   "cell_type": "code",
   "execution_count": null,
   "metadata": {
    "collapsed": true
   },
   "outputs": [],
   "source": [
    "SIZE = 13 # should be prime\n",
    "FACTOR = 0.7 # limit to how many slots may be filled\n",
    "\n",
    "hash_table = SIZE * [None] \n",
    "\n",
    "# Hash function to calculate perturbation value.\n",
    "def hash_perturbation( key ):\n",
    "    if len( key ) < 1:\n",
    "        return 1 # Note: it should never be zero!\n",
    "    perturb = (ord( key[0] ) + ord( key[-1] ))%SIZE\n",
    "    if perturb == 0:\n",
    "        perturb = 1 # To make sure that we do not get endless loops!\n",
    "    return perturb\n",
    "\n",
    "# Stores an element in the table\n",
    "def hash_store( hash_table, element, key ):\n",
    "    hashnum = hash( key )\n",
    "    while hash_table[hashnum%SIZE] != None:\n",
    "        if hash_table[hashnum%SIZE][0] == key: # Key already exists and the element is thus overwritten\n",
    "            hash_table[hashnum%SIZE] = (key, element)\n",
    "            return\n",
    "        if hash_table[hashnum%SIZE][1] == None: # Slot had an element which is now deleted, and can be overwritten\n",
    "            hash_table[hashnum%SIZE] = (key, element)\n",
    "            return\n",
    "        hashnum += hash_perturbation( key )\n",
    "    if hash_table.count( None ) < (1 - FACTOR) * SIZE:\n",
    "        print( \"Table is considered full,\", key, \"cannot be stored\" )\n",
    "        return\n",
    "    hash_table[hashnum%SIZE] = (key, element)\n",
    "\n",
    "# Removes an element from the table\n",
    "def hash_remove( hash_table, key ):\n",
    "    hashnum = hash( key )\n",
    "    while hash_table[hashnum%SIZE] != None:\n",
    "        if hash_table[hashnum%SIZE][0] == key:\n",
    "            hash_table[hashnum%SIZE] = (key, None) # This indicates that the spot is empty, but can be part of a chain\n",
    "            return\n",
    "        hashnum += hash_perturbation( key )\n",
    "        \n",
    "# Returns element if key is in table, otherwise None\n",
    "def hash_find( hash_table, key ):\n",
    "    hashnum = hash( key )\n",
    "    while hash_table[hashnum%SIZE] != None:\n",
    "        if hash_table[hashnum%SIZE][0] == key:\n",
    "            if hash_table[hashnum%SIZE][1] != None:\n",
    "                return hash_table[hashnum%SIZE][1]\n",
    "        hashnum += hash_perturbation( key )\n",
    "    return None\n",
    "\n",
    "fruitlist = [\"apple\", \"banana\", \"cherry\", \"durian\", \"fig\", \"grape\", \"lychee\", \"mango\", \"orange\", \"pear\", \"tangerine\"]\n",
    "for i in range( len( fruitlist ) ): # store as much fruit as possible\n",
    "    hash_store( hash_table, i+1, fruitlist[i] )\n",
    "hash_store( hash_table, 99, \"pear\" ) # overwrite \"pear\"\n",
    "hash_remove( hash_table, \"apple\" ) # remove \"apple\"\n",
    "for i in range( len( fruitlist ) ):\n",
    "    element = hash_find( hash_table, fruitlist[i] )\n",
    "    if element:\n",
    "        print( fruitlist[i], \"-\", element )\n",
    "    else:\n",
    "        print( fruitlist[i], \"is not in the table\" )"
   ]
  },
  {
   "cell_type": "markdown",
   "metadata": {},
   "source": [
    "---"
   ]
  },
  {
   "cell_type": "markdown",
   "metadata": {},
   "source": [
    "## 30 - Sorting<a id=\"answers30\"></a>"
   ]
  },
  {
   "cell_type": "markdown",
   "metadata": {},
   "source": [
    "### Exercise 30.1"
   ]
  },
  {
   "cell_type": "markdown",
   "metadata": {},
   "source": [
    "The version of cycle sort which deals with lists with only unique numbers is as follows:"
   ]
  },
  {
   "cell_type": "code",
   "execution_count": null,
   "metadata": {
    "collapsed": true
   },
   "outputs": [],
   "source": [
    "def count_smaller( tlist, num ):\n",
    "    count = 0\n",
    "    for n in tlist:\n",
    "        if n < num:\n",
    "            count += 1\n",
    "    return count\n",
    "\n",
    "def cycle_sort( tlist ):\n",
    "    for i in range( len( tlist ) ):\n",
    "        while True:\n",
    "            index = count_smaller( tlist, tlist[i] )\n",
    "            if i == index:\n",
    "                break\n",
    "            tlist[i], tlist[index] = tlist[index], tlist[i]\n",
    "    \n",
    "numlist = [8, 3, 5, 11, 6, 33, 2, 4, 0, 9, 12, 26, 1, 10, 18]\n",
    "cycle_sort( numlist )\n",
    "print( numlist )"
   ]
  },
  {
   "cell_type": "markdown",
   "metadata": {},
   "source": [
    "The complete version, which does not balk at encountering double numbers, is as follows:"
   ]
  },
  {
   "cell_type": "code",
   "execution_count": null,
   "metadata": {
    "collapsed": true
   },
   "outputs": [],
   "source": [
    "def count_smaller( tlist, num ):\n",
    "    count = 0\n",
    "    for n in tlist:\n",
    "        if n < num:\n",
    "            count += 1\n",
    "    return count\n",
    "\n",
    "def cycle_sort( tlist ):\n",
    "    for i in range( len( tlist ) ):\n",
    "        while True:\n",
    "            index = count_smaller( tlist, tlist[i] )\n",
    "            while tlist[index] == tlist[i]:\n",
    "                if i == index:\n",
    "                    break\n",
    "                index += 1\n",
    "            else:\n",
    "                tlist[i], tlist[index] = tlist[index], tlist[i]\n",
    "                continue\n",
    "            break\n",
    "    \n",
    "numlist = [8, 3, 5, 11, 5, 33, 2, 2, 0, 9, 12, 26, 1, 9, 18]\n",
    "cycle_sort( numlist )\n",
    "print( numlist )"
   ]
  },
  {
   "cell_type": "markdown",
   "metadata": {},
   "source": [
    "Cycle sort processes all elements of the list. For each element, it processes all elements of the whole list to find out how many are smaller. This means that the algorithm is `O(n`&sup2;`)`. The advantage of cycle sort that people sometimes point out, is that each element is only written once, to its exact target location. So if you need a sorting algorithm that is very light on writing, cycle sort is there for you (of course, with the swapping-implementation that I use, each element is written about twice)."
   ]
  },
  {
   "cell_type": "markdown",
   "metadata": {},
   "source": [
    "### Exercise 30.2"
   ]
  },
  {
   "cell_type": "code",
   "execution_count": null,
   "metadata": {
    "collapsed": true
   },
   "outputs": [],
   "source": [
    "def cocktail_shaker_sort( tlist ):\n",
    "    lo = 0\n",
    "    hi = len( tlist )-1\n",
    "    \n",
    "    while True:\n",
    "        \n",
    "        # bubble up\n",
    "        swap = False\n",
    "        i = lo\n",
    "        while i < hi:\n",
    "            if tlist[i] > tlist[i+1]:\n",
    "                tlist[i], tlist[i+1] = tlist[i+1], tlist[i]\n",
    "                swap = True\n",
    "            i += 1\n",
    "        if not swap:\n",
    "            return\n",
    "        hi -= 1\n",
    "        \n",
    "        # bubble down\n",
    "        swap = False\n",
    "        i = hi\n",
    "        while i > lo:\n",
    "            if tlist[i] < tlist[i-1]:\n",
    "                tlist[i], tlist[i-1] = tlist[i-1], tlist[i]\n",
    "                swap = True\n",
    "            i -= 1\n",
    "        if not swap:\n",
    "            return\n",
    "        lo += 1\n",
    "\n",
    "numlist = [8, 3, 5, 11, 5, 33, 2, 2, 0, 9, 12, 26, 1, 9, 18]\n",
    "cocktail_shaker_sort( numlist )\n",
    "print( numlist )"
   ]
  },
  {
   "cell_type": "markdown",
   "metadata": {},
   "source": [
    "The worst-case scenario is that the list to be sorted is completely reversed. In that case, the algorithm will bring one element to its correct spot during each transition. So it takes `n` cycles in which on average `(0.5)*n` elements will be checked and perhaps swapped. The algorithm is therefore `O(n`&sup2;`)`, just like bubble sort. It tends to be faster than bubble sort by about a factor of 2, as it will not suffer from the fact that a low element that is high in the list will take a long time to get to its place."
   ]
  },
  {
   "cell_type": "markdown",
   "metadata": {},
   "source": [
    "---"
   ]
  },
  {
   "cell_type": "markdown",
   "metadata": {},
   "source": [
    "## 31 - Linked Lists<a id=\"answers31\"></a>"
   ]
  },
  {
   "cell_type": "markdown",
   "metadata": {},
   "source": [
    "### Exercise 31.1"
   ]
  },
  {
   "cell_type": "markdown",
   "metadata": {},
   "source": [
    "For a `O(1)` implementation, you will need to keep track of the number of items in the chain. You cannot count them when you need the number of items, that would be `O(n)`."
   ]
  },
  {
   "cell_type": "code",
   "execution_count": null,
   "metadata": {
    "collapsed": true
   },
   "outputs": [],
   "source": [
    "# count() for SingleLinkedList.\n",
    "\n",
    "class SingleNode:\n",
    "    def __init__( self, value, nextnode ):\n",
    "        self.value = value\n",
    "        self.nextnode = nextnode\n",
    "        \n",
    "class SingleLinkedList:\n",
    "    def __init__( self ):\n",
    "        self.head = None\n",
    "        self.count = 0\n",
    "    def add( self, value ):\n",
    "        node = SingleNode( value, self.head )\n",
    "        self.head = node\n",
    "        self.count += 1\n",
    "    def remove( self ):\n",
    "        if self.head != None:\n",
    "            self.head = self.head.nextnode\n",
    "            self.count -= 1\n",
    "    def length( self ):\n",
    "        return( self.count )\n",
    "            \n",
    "sll = SingleLinkedList()\n",
    "for i in range( 10 ):\n",
    "    sll.add( i )\n",
    "print( sll.length() )"
   ]
  },
  {
   "cell_type": "markdown",
   "metadata": {},
   "source": [
    "### Exercise 31.2"
   ]
  },
  {
   "cell_type": "markdown",
   "metadata": {},
   "source": [
    "The basis for this implementation is the `SingleLinkedList` implementation of the chapter, which includes the `append()` method, combined with the addition of the `length()` method from the previous exercise. This accounts for two-thirds of the code below (apart from some renaming). For the `__getitem__()` and `__setitem__()` methods, which deal with the values in the nodes, I implemented a shared `getnode()` method which returns the node with a particular index. All of this is pretty straightforward, but it requires extensive testing as it is easy to make mistakes with references and indices."
   ]
  },
  {
   "cell_type": "code",
   "execution_count": null,
   "metadata": {
    "collapsed": true
   },
   "outputs": [],
   "source": [
    "# SingleLinkedList as a sequence class.\n",
    "\n",
    "class SingleNode:\n",
    "    def __init__( self, value, nextnode ):\n",
    "        self.value = value\n",
    "        self.nextnode = nextnode\n",
    "        \n",
    "class SingleLinkedList:\n",
    "    def __init__( self ):\n",
    "        self.head = None\n",
    "        self.tail = None\n",
    "        self.count = 0\n",
    "    def addhead( self, value ):\n",
    "        node = SingleNode( value, self.head )\n",
    "        self.head = node\n",
    "        if self.tail == None:\n",
    "            self.tail = node\n",
    "        self.count += 1\n",
    "    def addtail( self, value ):\n",
    "        node = SingleNode( value, None )\n",
    "        if self.tail != None:\n",
    "            self.tail.nextnode = node\n",
    "        self.tail = node\n",
    "        if self.head == None:\n",
    "            self.head = node\n",
    "        self.count += 1\n",
    "    def pop( self ):\n",
    "        ret = self.head\n",
    "        if self.head != None:\n",
    "            self.head = self.head.nextnode\n",
    "            self.count -= 1\n",
    "        if self.head == None:\n",
    "            self.tail = None\n",
    "        return ret.value\n",
    "    def __len__( self ):\n",
    "        return( self.count )\n",
    "    def __contains__( self, value ):\n",
    "        cur = self.head\n",
    "        while cur != None:\n",
    "            if cur.value == value:\n",
    "                return True\n",
    "            cur = cur.nextnode\n",
    "        return False\n",
    "    def getnode( self, index ):\n",
    "        if index < 0:\n",
    "            index += self.count\n",
    "        if index < 0 or index >= self.count:\n",
    "            raise IndexError()\n",
    "        cur = self.head\n",
    "        for i in range( index ):\n",
    "            cur = cur.nextnode\n",
    "        return cur\n",
    "    def __getitem__( self, index ):\n",
    "        return self.getnode( index ).value\n",
    "    def __setitem__( self, index, value ):\n",
    "        self.getnode( index ).value = value\n",
    "    def __repr__( self ):\n",
    "        s = \"[\"\n",
    "        cur = self.head\n",
    "        while cur != None:\n",
    "            s += str( cur.value )\n",
    "            if cur.nextnode != None:\n",
    "                s += \", \"\n",
    "            cur = cur.nextnode\n",
    "        s += \"]\"\n",
    "        return s\n",
    "            \n",
    "sll = SingleLinkedList()\n",
    "for i in range( 5 ):\n",
    "    sll.addhead( i )\n",
    "for i in range( 5, 10 ):\n",
    "    sll.addtail( i )\n",
    "print( sll )\n",
    "print( 11 in sll )\n",
    "print( 8 in sll )\n",
    "print( sll.pop() )\n",
    "print( sll )\n",
    "for i in sll:\n",
    "    print( i, end=\" \" )\n",
    "print()\n",
    "print( sll[-1] )\n",
    "sll[5] = 99\n",
    "print( sll )"
   ]
  },
  {
   "cell_type": "markdown",
   "metadata": {},
   "source": [
    "### Exercise 31.3"
   ]
  },
  {
   "cell_type": "markdown",
   "metadata": {},
   "source": [
    "The basis for this code is the code from the previous exercise. For readability, I removed all the methods that I no longer needed for the demonstration (which is almost everything), but you could let all of them remain if you wish, and simply add the `__iter__()` method and the delegated object."
   ]
  },
  {
   "cell_type": "code",
   "execution_count": null,
   "metadata": {
    "collapsed": true
   },
   "outputs": [],
   "source": [
    "# SingleLinkedList as a sequence class.\n",
    "\n",
    "class SingleNode:\n",
    "    def __init__( self, value, nextnode ):\n",
    "        self.value = value\n",
    "        self.nextnode = nextnode\n",
    "\n",
    "class SingleIterable():\n",
    "    def __init__( self, cur ):\n",
    "        self.cur = cur\n",
    "    def __next__( self ):\n",
    "        if self.cur == None:\n",
    "            raise StopIteration()\n",
    "        ret = self.cur.value\n",
    "        self.cur = self.cur.nextnode\n",
    "        return ret\n",
    "\n",
    "class SingleLinkedList:\n",
    "    def __init__( self ):\n",
    "        self.head = None\n",
    "        self.tail = None\n",
    "        self.count = 0\n",
    "    def addtail( self, value ):\n",
    "        node = SingleNode( value, None )\n",
    "        if self.tail != None:\n",
    "            self.tail.nextnode = node\n",
    "        self.tail = node\n",
    "        if self.head == None:\n",
    "            self.head = node\n",
    "        self.count += 1\n",
    "    def __iter__( self ):\n",
    "        return SingleIterable( self.head )\n",
    "            \n",
    "sll = SingleLinkedList()\n",
    "for i in range( 10 ):\n",
    "    sll.addtail( i )\n",
    "for i in sll:\n",
    "    print( i, end=\" \" )\n",
    "print()\n",
    "for i in sll:\n",
    "    print( i, end=\" \" )"
   ]
  },
  {
   "cell_type": "markdown",
   "metadata": {},
   "source": [
    "### Exercise 31.4"
   ]
  },
  {
   "cell_type": "markdown",
   "metadata": {},
   "source": [
    "I implemented bubble sort, which is relatively easy for a double-linked list. I used the code from the chapter to build the double-linked list, but removed all methods that I do not need for a demonstration."
   ]
  },
  {
   "cell_type": "code",
   "execution_count": null,
   "metadata": {
    "collapsed": true
   },
   "outputs": [],
   "source": [
    "from random import randint\n",
    "\n",
    "class DoubleNode:\n",
    "    def __init__( self, value, prevnode, nextnode ):\n",
    "        self.value = value\n",
    "        self.prevnode = prevnode\n",
    "        self.nextnode = nextnode\n",
    "        \n",
    "class DoubleLinkedList:\n",
    "    def __init__( self ):\n",
    "        self.head = None\n",
    "        self.tail = None\n",
    "    def addhead( self, value ):\n",
    "        node = DoubleNode( value, None, self.head )\n",
    "        self.head = node\n",
    "        secondnode = self.head.nextnode\n",
    "        if secondnode != None:\n",
    "            secondnode.prevnode = self.head\n",
    "        else:\n",
    "            self.tail = self.head\n",
    "    def sort( self ):\n",
    "        if self.head == None:\n",
    "            return\n",
    "        while True:\n",
    "            swap = False\n",
    "            cur = self.head\n",
    "            while cur.nextnode != None:\n",
    "                if cur.value > cur.nextnode.value:\n",
    "                    cur.value, cur.nextnode.value = cur.nextnode.value, cur.value\n",
    "                    swap = True\n",
    "                cur = cur.nextnode\n",
    "            if not swap:\n",
    "                return\n",
    "            \n",
    "dll = DoubleLinkedList()\n",
    "for i in range( 10 ):\n",
    "    dll.addhead( randint( 1, 100 ) )\n",
    "dll.sort()\n",
    "cur = dll.head\n",
    "while cur != None:\n",
    "    print( cur.value, end=\" \" )\n",
    "    cur = cur.nextnode\n",
    "print()"
   ]
  },
  {
   "cell_type": "markdown",
   "metadata": {},
   "source": [
    "The implementation above simply switches the *values* in the nodes, not the nodes themselves. This is easy to implement. However, there are situations in which you would like to switch the nodes as a whole. This is quite a bit more complex, especially if you are affecting head or tail. Code for it you find below. Observe that the switching of two nodes encompasses changing up to *eight* references. Note: You might think that switching values is the preferred approach, but if the contents of a node are more complex than just one value, it might be better to change the references to effectuate the change."
   ]
  },
  {
   "cell_type": "code",
   "execution_count": null,
   "metadata": {
    "collapsed": true
   },
   "outputs": [],
   "source": [
    "from random import randint\n",
    "\n",
    "class DoubleNode:\n",
    "    def __init__( self, value, prevnode, nextnode ):\n",
    "        self.value = value\n",
    "        self.prevnode = prevnode\n",
    "        self.nextnode = nextnode\n",
    "        \n",
    "class DoubleLinkedList:\n",
    "    def __init__( self ):\n",
    "        self.head = None\n",
    "        self.tail = None\n",
    "    def addhead( self, value ):\n",
    "        node = DoubleNode( value, None, self.head )\n",
    "        self.head = node\n",
    "        secondnode = self.head.nextnode\n",
    "        if secondnode != None:\n",
    "            secondnode.prevnode = self.head\n",
    "        else:\n",
    "            self.tail = self.head\n",
    "    def sort( self ):\n",
    "        if self.head == None:\n",
    "            return\n",
    "        while True:\n",
    "            swap = False\n",
    "            cur = self.head\n",
    "            while cur.nextnode != None:\n",
    "                if cur.value > cur.nextnode.value:\n",
    "                    before = cur.prevnode\n",
    "                    after = cur.nextnode.nextnode\n",
    "                    cur.nextnode.nextnode = cur\n",
    "                    cur.nextnode.prevnode = before\n",
    "                    cur.prevnode = cur.nextnode\n",
    "                    if before != None:\n",
    "                        before.nextnode = cur.nextnode\n",
    "                    cur.nextnode = after\n",
    "                    if after != None:\n",
    "                        after.prevnode = cur\n",
    "                    if cur.prevnode.prevnode == None:\n",
    "                        self.head = cur.prevnode\n",
    "                    if cur.nextnode == None:\n",
    "                        self.tail = cur\n",
    "                    swap = True\n",
    "                else:\n",
    "                    cur = cur.nextnode\n",
    "            if not swap:\n",
    "                return\n",
    "            \n",
    "dll = DoubleLinkedList()\n",
    "for i in range( 10 ):\n",
    "    dll.addhead( randint( 1, 100 ) )\n",
    "dll.sort()\n",
    "cur = dll.head\n",
    "while cur != None:\n",
    "    print( cur.value, end=\" \" )\n",
    "    cur = cur.nextnode\n",
    "print()"
   ]
  },
  {
   "cell_type": "markdown",
   "metadata": {},
   "source": [
    "---"
   ]
  },
  {
   "cell_type": "markdown",
   "metadata": {},
   "source": [
    "## 32 - Trees<a id=\"answers32\"></a>"
   ]
  },
  {
   "cell_type": "markdown",
   "metadata": {},
   "source": [
    "### Exercise 32.1"
   ]
  },
  {
   "cell_type": "markdown",
   "metadata": {},
   "source": [
    "Basically, this code was already given in the `printnode()` function which appeared early in the chapter."
   ]
  },
  {
   "cell_type": "code",
   "execution_count": null,
   "metadata": {
    "collapsed": true
   },
   "outputs": [],
   "source": [
    "class Node:\n",
    "    def __init__( self, value, left=None, right=None ):\n",
    "        self.value = value\n",
    "        self.left = left\n",
    "        self.right = right\n",
    "    def printtree( self ):\n",
    "        if self.left != None:\n",
    "            self.left.printtree()\n",
    "        print( self.value )\n",
    "        if self.right != None:\n",
    "            self.right.printtree()\n",
    "\n",
    "root = Node( 12, Node( 7, Node( 2, Node( 1 ), Node( 5 ) ), Node( 9 ) ), \n",
    "    Node( 14, right=Node( 18, Node( 17 ), Node( 20 ) ) ) )\n",
    "\n",
    "root.printtree()"
   ]
  },
  {
   "cell_type": "markdown",
   "metadata": {},
   "source": [
    "### Exercise 32.2"
   ]
  },
  {
   "cell_type": "code",
   "execution_count": null,
   "metadata": {
    "collapsed": true
   },
   "outputs": [],
   "source": [
    "class Node:\n",
    "    def __init__( self, value ):\n",
    "        self.value = value\n",
    "        self.left = None\n",
    "        self.right = None\n",
    "        \n",
    "    # Insert a value in the branch\n",
    "    def insert( self, node ):\n",
    "        if node.value < self.value:\n",
    "            if self.left == None:\n",
    "                self.left = node\n",
    "            else:\n",
    "                self.left.insert( node )\n",
    "        elif self.right == None:\n",
    "            self.right = node\n",
    "        else:\n",
    "            self.right.insert( node )\n",
    "            \n",
    "    # Returns the highest value in the branch\n",
    "    def highest( self ):\n",
    "        if self.right == None:\n",
    "            return self.value\n",
    "        return self.right.highest()\n",
    "    \n",
    "    # Returns the lowest value in the branch\n",
    "    def lowest( self ):\n",
    "        if self.left == None:\n",
    "            return self.value\n",
    "        return self.left.lowest()\n",
    "    \n",
    "    # Remove a value from a branch.\n",
    "    # A recursive call of remove() in the method will give the node itself as parent argument.\n",
    "    # If remove() is called from the main program, it will have parent=None.\n",
    "    def remove( self, value, parent=None ):\n",
    "\n",
    "        # First find the value\n",
    "        if self.value < value:\n",
    "            if self.right == None:\n",
    "                return # The value is not in the branch\n",
    "            self.right.remove( value, self )\n",
    "            return\n",
    "        if self.value > value:\n",
    "            if self.left == None:\n",
    "                return # The value is not in the branch\n",
    "            self.left.remove( value, self )\n",
    "            return\n",
    "        \n",
    "        # The value is found\n",
    "        if self.left == None and self.right == None: # self is a leaf\n",
    "            if parent == None: # It is the root and it is the last node in the tree\n",
    "                return # This value cannot be removed with a method\n",
    "            if parent.right == self:\n",
    "                parent.right = None\n",
    "            else:\n",
    "                parent.left = None\n",
    "            return\n",
    "                \n",
    "        # The value is found but it is not in a leaf.\n",
    "        if self.left == None: # A value should be taken from the right branch\n",
    "            newvalue = self.right.lowest() # Seek the lowest value\n",
    "            self.value = newvalue # Put it in the current node\n",
    "            self.right.remove( newvalue, self ) # Then remove that value from the branch\n",
    "        else: # A value will be taken from the left branch (they can't both be None, because then self is a leaf)\n",
    "            newvalue = self.left.highest()\n",
    "            self.value = newvalue\n",
    "            self.left.remove( newvalue, self )\n",
    "\n",
    "def printnode( node, depth=0 ):\n",
    "    if node.left != None:\n",
    "        printnode( node.left, depth + 1 )\n",
    "    print( 4*depth*\" \", node.value )\n",
    "    if node.right != None:\n",
    "        printnode( node.right, depth + 1 )\n",
    "    \n",
    "root = None\n",
    "values = [8,4,2,1,3,6,5,7,12,10,9,11,14,13,15]\n",
    "\n",
    "for v in values:\n",
    "    n = Node( v )\n",
    "    if root == None:\n",
    "        root = n\n",
    "    else:\n",
    "        root.insert( n )\n",
    "        \n",
    "root.remove( 8 )\n",
    "root.remove( 6 )\n",
    "root.remove( 13 )\n",
    "root.remove( 12 )\n",
    "printnode( root )       "
   ]
  },
  {
   "cell_type": "markdown",
   "metadata": {},
   "source": [
    "### Exercise 32.3"
   ]
  },
  {
   "cell_type": "markdown",
   "metadata": {},
   "source": [
    "Slightly ugly about the code below is that if a value is not in the tree, at the end of each search the whole tree is traversed one final time to detect that there is no deeper level to the tree. It would be better to maintain a value in the tree which indicates the deepest level that the tree has. This is not hard if the tree only allows insertion of new values, but can be problematic if it also allows the deletion of values. For this example code I have not bothered with this."
   ]
  },
  {
   "cell_type": "code",
   "execution_count": null,
   "metadata": {
    "collapsed": true
   },
   "outputs": [],
   "source": [
    "class Node:\n",
    "    def __init__( self, value, left=None, right=None ):\n",
    "        self.value = value\n",
    "        self.left = left\n",
    "        self.right = right\n",
    "        \n",
    "    # checks whether value exists at the indicated depth.\n",
    "    # Returns -1, 0, or 1. 1 means the value is found, 0 means it is not found, \n",
    "    # -1 means that there is nothing at that depth\n",
    "    def search_at_depth( self, value, depth ):\n",
    "        if depth == 0: # We are at the right depth\n",
    "            if self.value == value:\n",
    "                return 1\n",
    "            return 0\n",
    "        retvalue = -1\n",
    "        if self.left != None:\n",
    "            ret = self.left.search_at_depth( value, depth-1 )\n",
    "            if ret == 1:\n",
    "                return 1\n",
    "            if ret == 0:\n",
    "                retvalue = 0\n",
    "        if self.right != None:\n",
    "            ret = self.right.search_at_depth( value, depth-1 )\n",
    "            if ret == 1:\n",
    "                return 1\n",
    "            if ret == 0:\n",
    "                retvalue = 0\n",
    "        return retvalue\n",
    "    \n",
    "    # IDDFS implementation of in\n",
    "    def __contains__( self, value ):\n",
    "        depth = 0\n",
    "        while True:\n",
    "            ret = self.search_at_depth( value, depth )\n",
    "            if ret == 1:\n",
    "                return True\n",
    "            if ret == -1:\n",
    "                return False\n",
    "            depth += 1\n",
    "    \n",
    "root = Node( 12, Node( 7, Node( 2, Node( 1 ), Node( 5 ) ), Node( 9 ) ), \n",
    "    Node( 14, right=Node( 18, Node( 17 ), Node( 20 ) ) ) )\n",
    "\n",
    "for i in range( 25 ):\n",
    "    if i in root:\n",
    "        print( i, \"is in the tree\" )"
   ]
  },
  {
   "cell_type": "markdown",
   "metadata": {},
   "source": [
    "---"
   ]
  },
  {
   "cell_type": "markdown",
   "metadata": {},
   "source": [
    "## 33 - Graphs<a id=\"answers33\"></a>"
   ]
  },
  {
   "cell_type": "markdown",
   "metadata": {},
   "source": [
    "---"
   ]
  },
  {
   "cell_type": "markdown",
   "metadata": {},
   "source": [
    "## 34 - Hard Tasks<a id=\"answers34\"></a>"
   ]
  },
  {
   "cell_type": "markdown",
   "metadata": {},
   "source": [
    "---"
   ]
  },
  {
   "cell_type": "markdown",
   "metadata": {},
   "source": [
    "## 98 - Turtle Graphics<a id=\"answers98\"></a>"
   ]
  },
  {
   "cell_type": "markdown",
   "metadata": {},
   "source": [
    "### Exercise 98.1"
   ]
  },
  {
   "cell_type": "code",
   "execution_count": null,
   "metadata": {
    "collapsed": true
   },
   "outputs": [],
   "source": [
    "from turtle import *\n",
    "\n",
    "color( \"red\", \"yellow\" )\n",
    "speed( 10 )\n",
    "begin_fill()\n",
    "for i in range( 5 ):\n",
    "    forward( 200 )\n",
    "    right( 144 )\n",
    "end_fill()\n",
    "\n",
    "setheading( 72 )\n",
    "circle( -106 )\n",
    "\n",
    "done()"
   ]
  },
  {
   "cell_type": "markdown",
   "metadata": {},
   "source": [
    "### Exercise 98.2"
   ]
  },
  {
   "cell_type": "code",
   "execution_count": null,
   "metadata": {
    "collapsed": true
   },
   "outputs": [],
   "source": [
    "from turtle import *\n",
    "\n",
    "def rectangle( x, y, w, h, c ):\n",
    "    color( c, c )\n",
    "    penup()\n",
    "    setposition( x, y )\n",
    "    setheading( 0 )\n",
    "    pendown()\n",
    "    begin_fill()\n",
    "    forward( w )\n",
    "    right( 90 )\n",
    "    forward( h )\n",
    "    right( 90 )\n",
    "    forward( w )\n",
    "    right( 90 )\n",
    "    forward( h )\n",
    "    end_fill()\n",
    "\n",
    "hideturtle()\n",
    "bgcolor( \"orange\" )\n",
    "speed( 10 )\n",
    "rectangle( -50, 50, 150, 30, \"red\" )\n",
    "rectangle( -50, 20, 150, 30, \"white\" )\n",
    "rectangle( -50, -10, 150, 30, \"blue\" )\n",
    "\n",
    "done()"
   ]
  },
  {
   "cell_type": "markdown",
   "metadata": {},
   "source": [
    "### Exercise 98.3"
   ]
  },
  {
   "cell_type": "code",
   "execution_count": 1,
   "metadata": {},
   "outputs": [],
   "source": [
    "from turtle import *\n",
    "\n",
    "TOPX = -300\n",
    "TOPY = 200\n",
    "WIDTH = 600\n",
    "BARHEIGHT = 25\n",
    "STARROWS = 9\n",
    "STARCOLS = 11\n",
    "UNIONWIDTH = int( WIDTH*0.4 )\n",
    "UNIONHEIGHT = BARHEIGHT*7\n",
    "\n",
    "def rectangle( x, y, w, h, c ):\n",
    "    color( c, c )\n",
    "    penup()\n",
    "    setposition( x, y )\n",
    "    setheading( 0 )\n",
    "    pendown()\n",
    "    begin_fill()\n",
    "    forward( w )\n",
    "    right( 90 )\n",
    "    forward( h )\n",
    "    right( 90 )\n",
    "    forward( w )\n",
    "    right( 90 )\n",
    "    forward( h )\n",
    "    end_fill()\n",
    "    \n",
    "def star( x, y, w, c ):\n",
    "    color( c, c )\n",
    "    penup()\n",
    "    setposition( x, y )\n",
    "    setheading( 0 )\n",
    "    pendown()\n",
    "    begin_fill()\n",
    "    for i in range( 5 ):\n",
    "        forward( w )\n",
    "        right( 144 )\n",
    "    end_fill()\n",
    "\n",
    "bgcolor( \"orange\" )\n",
    "hideturtle()\n",
    "speed( 10 )\n",
    "\n",
    "rectangle( TOPX, TOPY, WIDTH, BARHEIGHT, \"red\" )\n",
    "for i in range( 6 ):\n",
    "    rectangle( TOPX, TOPY-(2*i+1)*BARHEIGHT, WIDTH, BARHEIGHT, \"white\" )\n",
    "    rectangle( TOPX, TOPY-(2*i+2)*BARHEIGHT, WIDTH, BARHEIGHT, \"red\" )\n",
    "rectangle( TOPX, TOPY, UNIONWIDTH, UNIONHEIGHT, \"darkblue\" )\n",
    "\n",
    "stepw = int( UNIONWIDTH/(STARCOLS+1) )\n",
    "steph = int( UNIONHEIGHT/(STARROWS+1) )\n",
    "size = int( stepw / 1.2 )\n",
    "for i in range( STARROWS ):\n",
    "    for j in range( STARCOLS):\n",
    "        if i%2 == j%2:\n",
    "            star( TOPX - int( size/2 ) + (j+1)*stepw, TOPY - (i+1)*steph, size, \"white\" ) \n",
    "            \n",
    "done()"
   ]
  },
  {
   "cell_type": "markdown",
   "metadata": {},
   "source": [
    "### Exercise 98.4"
   ]
  },
  {
   "cell_type": "code",
   "execution_count": 1,
   "metadata": {
    "collapsed": true
   },
   "outputs": [],
   "source": [
    "from turtle import *\n",
    "\n",
    "def koch( size, depth ):\n",
    "    if depth <= 0:\n",
    "        forward( size )\n",
    "    else:\n",
    "        size /= 3\n",
    "        koch( size, depth-1 )\n",
    "        left( 60 )\n",
    "        koch( size, depth-1 )\n",
    "        right( 120 )\n",
    "        koch( size, depth-1 )\n",
    "        left( 60 )\n",
    "        koch( size, depth-1 )\n",
    "\n",
    "def koch_snowflake( size, depth ):\n",
    "    for i in range( 3 ):\n",
    "        koch( size, depth )\n",
    "        right( 120 )\n",
    "\n",
    "hideturtle()\n",
    "koch_snowflake( 270, 3 )\n",
    "\n",
    "done()"
   ]
  },
  {
   "cell_type": "markdown",
   "metadata": {},
   "source": [
    "---"
   ]
  },
  {
   "cell_type": "markdown",
   "metadata": {},
   "source": [
    "End of Chapter 99 (part 3). Version 1.4."
   ]
  }
 ],
 "metadata": {
  "kernelspec": {
   "display_name": "Python 3",
   "language": "python",
   "name": "python3"
  },
  "language_info": {
   "codemirror_mode": {
    "name": "ipython",
    "version": 3
   },
   "file_extension": ".py",
   "mimetype": "text/x-python",
   "name": "python",
   "nbconvert_exporter": "python",
   "pygments_lexer": "ipython3",
   "version": "3.6.1"
  }
 },
 "nbformat": 4,
 "nbformat_minor": 1
}
