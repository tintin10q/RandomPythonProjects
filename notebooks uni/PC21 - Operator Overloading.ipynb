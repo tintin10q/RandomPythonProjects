{
 "cells": [
  {
   "cell_type": "markdown",
   "metadata": {},
   "source": [
    "# 21 - Operator Overloading"
   ]
  },
  {
   "cell_type": "markdown",
   "metadata": {},
   "source": [
    "---"
   ]
  },
  {
   "cell_type": "markdown",
   "metadata": {},
   "source": [
    "Operator overloading is an incredibly powerful feature of object orientation that allows you to integrate your new classes into programs in a natural way. Operator overloading is always based on the definition of some special methods, that have the typical `__<name>__()` structure."
   ]
  },
  {
   "cell_type": "markdown",
   "metadata": {},
   "source": [
    "---"
   ]
  },
  {
   "cell_type": "markdown",
   "metadata": {},
   "source": [
    "## The idea behind operator overloading"
   ]
  },
  {
   "cell_type": "markdown",
   "metadata": {},
   "source": [
    "When you write Python programs with basic data types, without thinking you use operators to add, subtract, multiply, and divide values, to compare values, and to apply all kinds of standard functionalities to values. Such interactions are not defined by default for classes you define yourself, but Python allows you to specify what should happen when one applies such an interaction to instances of your class. This is called \"operator overloading\".\n",
    "\n",
    "For instance, suppose that you define a class that represents complex numbers (I introduced those when discussing tuples). You know that adding and multiplying complex numbers are well-defined operations. Therefore, you might want to define what happens when you combine two of your complex numbers with a `+` operator. Python allows you to specify that. In fact, Python allows you to specify what the `+` operator does for any of your new classes.\n",
    "\n",
    "Isn't that great? You can define a class `Student`, and then define that if you add two students together with a `+` operator, that their ages are added up. Wonderful, isn't it? No, it isn't. It obviously makes no sense to add up two students. You might start thinking about what a natural interpretation of adding up two students would entail, but the answer is that everything that you can come up with is far-fetched. You should not define an addition operator for classes which have no natural addition defined. This is one of the dangers of operator overloading: if you apply it without thinking, you get nonsensical programs.\n",
    "\n",
    "Still, operator overloading has powerful applications. In the rest of this chapter I will introduce some of the applications of operator overloading. There are more than I discuss here, but I will bring up the most common ones.\n",
    "\n",
    "By the way, operator overloading is a typical example of \"polymorphism\", a concept that allows a function to have different results depending on the type of its arguments. Polymorphism is often hailed as one of the powerful features of object orientation."
   ]
  },
  {
   "cell_type": "markdown",
   "metadata": {},
   "source": [
    "---"
   ]
  },
  {
   "cell_type": "markdown",
   "metadata": {},
   "source": [
    "## Comparisons"
   ]
  },
  {
   "cell_type": "markdown",
   "metadata": {},
   "source": [
    "In the previous chapter I discussed that objects can be aliases of each other, but that you can also make actual copies. What happens if you try to compare them? Examine the following code:"
   ]
  },
  {
   "cell_type": "code",
   "execution_count": null,
   "metadata": {
    "collapsed": true
   },
   "outputs": [],
   "source": [
    "class Point:\n",
    "    def __init__( self, x=0.0, y=0.0 ):\n",
    "        self.x = x\n",
    "        self.y = y\n",
    "    def __repr__( self ):\n",
    "        return \"({}, {})\".format( self.x, self.y )\n",
    "        \n",
    "p1 = Point( 3, 4 )\n",
    "p2 = Point( 3, 4 )\n",
    "p3 = p1\n",
    "\n",
    "print( p1 is p2 )\n",
    "print( p1 is p3 )\n",
    "print( p1 == p2 )\n",
    "print( p1 == p3 )"
   ]
  },
  {
   "cell_type": "markdown",
   "metadata": {},
   "source": [
    "The keyword `is` is used to compare object identities. Since `p3` is an alias for `p1`, `p1 is p3` returns `True`, while `p1 is p2` returns `False`. However, since `p1` and `p2` refer to the same point in 2D space, it would be nice if `p1 == p2` would return `True`, i.e., that the `==` would do a value comparison (as you would expect). It does not. That is not surprising, as Python does not know how to compare the values of `Point`s, and therefore the `==` does the only comparison that Python knows how to do, namely an identity comparison. However, you can tell Python how to compare two points by defining an `__eq__()` method:"
   ]
  },
  {
   "cell_type": "code",
   "execution_count": null,
   "metadata": {
    "collapsed": true
   },
   "outputs": [],
   "source": [
    "class Point:\n",
    "    def __init__( self, x=0.0, y=0.0 ):\n",
    "        self.x = x\n",
    "        self.y = y\n",
    "    def __repr__( self ):\n",
    "        return \"({}, {})\".format( self.x, self.y )\n",
    "    def __eq__( self, p ):\n",
    "        return self.x == p.x and self.y == p.y\n",
    "        \n",
    "p1 = Point( 3, 4 )\n",
    "p2 = Point( 3, 4 )\n",
    "p3 = p1\n",
    "\n",
    "print( p1 is p2 )\n",
    "print( p1 is p3 )\n",
    "print( p1 == p2 )\n",
    "print( p1 == p3 )"
   ]
  },
  {
   "cell_type": "markdown",
   "metadata": {},
   "source": [
    "The `__eq__()` method tells Python, in this case, what to do when two objects of the type `Point` are compared with `==`. It returns `True` when their `x` and `y` coordinates are equal, `False` otherwise. In this example, the interpretation of the comparison operator `==` is \"overloaded\" by defining the `__eq__()` method.\n",
    "\n",
    "You can also overload the other comparison operators `!=`, `>`, `>=`, `<`, and `<=`. A list of the methods is:\n",
    "\n",
    "- `__eq__()` for equality (`==`)\n",
    "- `__ne__()` for inequality (`!=`)\n",
    "- `__gt__()` for greater than (`>`)\n",
    "- `__ge__()` for greater than or equal to (`>=`)\n",
    "- `__lt__()` for less than (`<`)\n",
    "- `__le__()` for less than or equal to (`<=`).\n",
    "\n",
    "If you specify the `__eq__()` method but not the `__ne__()` method, the `__ne__()` method will automatically return the opposite of what the `__eq__()` method returns. None of the other methods have such an automatic interpretation.\n",
    "\n",
    "You are not limited to comparing only objects that are instances of the same class. For instance, when I define a class `Complex` that implements a complex number (remember that complex numbers have the form `a + bi`, whereby `i` is defined as the square root of `-1`), I might want to compare a complex number with an integer or a float. That is possible:"
   ]
  },
  {
   "cell_type": "code",
   "execution_count": null,
   "metadata": {
    "collapsed": true
   },
   "outputs": [],
   "source": [
    "class Complex:\n",
    "    def __init__( self, a, b ):\n",
    "        self.a = a\n",
    "        self.b = b\n",
    "    def __repr__( self ):\n",
    "        return \"({} + {}i)\".format( self.a, self.b )\n",
    "    def __eq__( self, n ):\n",
    "        if isinstance( n, int ) or isinstance( n, float ):\n",
    "            if self.a == n and self.b == 0:\n",
    "                return True\n",
    "            else:\n",
    "                return False\n",
    "        elif isinstance( n, Complex ):\n",
    "            if self.a == n.a and self.b == n.b:\n",
    "                return True\n",
    "            else:\n",
    "                return False\n",
    "        return NotImplemented\n",
    "    \n",
    "c1 = Complex( 1, 2 )\n",
    "c2 = Complex( 1, 2 )\n",
    "c3 = Complex( 3, 0 )\n",
    "\n",
    "if c1 == c2:\n",
    "    print( c1, \"==\", c2 )\n",
    "else:\n",
    "    print( c1, \"!=\", c2 )\n",
    "if c1 == c3:\n",
    "    print( c1, \"==\", c3 )\n",
    "else:\n",
    "    print( c1, \"!=\", c3 )\n",
    "if c3 == 1:\n",
    "    print( c3, \"==\", 1 )\n",
    "else:\n",
    "    print( c3, \"!=\", 1 )\n",
    "if c3 == 3:\n",
    "    print( c3, \"==\", 3 )\n",
    "else:\n",
    "    print( c3, \"!=\", 3 )\n",
    "if c3 == 3.0:\n",
    "    print( c3, \"==\", 3.0 )\n",
    "else:\n",
    "    print( c3, \"!=\", 3.0 )\n",
    "if c3 == \"3\":\n",
    "    print( c3, \"== \\\"3\\\"\" )\n",
    "else:\n",
    "    print( c3, \"!= \\\"3\\\"\" ) \n",
    "if 3 == c3:\n",
    "    print( 3, \"==\", c3 )\n",
    "else:\n",
    "    print( 3, \"!=\", c3 )"
   ]
  },
  {
   "cell_type": "markdown",
   "metadata": {},
   "source": [
    "Note: The implementation of the `__repr__()` method in this code is a bit simplistic; you much rather would represent `Complex( 0, -1 )` as `-i` rather than `(0 + -1i)`. But I did not want to spend too much code just on representation, as that is not what this chapter is about. You are free to implement a nicer version of the `__repr__()` method if you like.\n",
    "\n",
    "The implementation of the `__eq__()` method in the code above checks if the value the comparison is made with is a `Complex`, an integer, or a float. If so, it makes the comparison and returns `True` or `False`. If not, it returns `NotImplemented`. `NotImplemented` is a special value that indicates that the comparison has no sensible outcome. While the `__ne__()` method automatically inverts the result of the `__eq__()` method, it will not (and cannot) invert `NotImplemented`.\n",
    "\n",
    "There is something special to note about the last comparison in the code above. It executes the comparison `3 == c3`. Normally, when the comparison operator is defined, it will be executed for the left operand, i.e., the comparison operator of the integer `3` is executed, with `c3` as argument. However, integers have not defined the `__eq__()` method for `Complex`, and thus this returns `NotImplemented`. If that happens, Python inverts the operands, and thus, in this case, executes the comparison `c3 == 3`. This comparison leads to a result as for `Complex` the comparison with an integer is defined. The same happens with the `!=` operator. Something similar is done for the other comparison operators, but when the operands are inverted, `<` is swapped with `>`, and `<=` is swapped with `>=`, just as you would expect.\n",
    "\n",
    "**Exercise**: In the code block below, a `Rectangle` class is defined. Add to this class operators to test for equality of rectangles (two rectangles are equal if they have exactly the same shape), and greater/smaller operators (a rectangle is smaller than another rectangle if it has a smaller surface area). Test the new operators. Note: I am a bit on the fence on whether these are acceptable definitions for equality and the other comparisons, but for practice it is okay."
   ]
  },
  {
   "cell_type": "code",
   "execution_count": null,
   "metadata": {
    "collapsed": true
   },
   "outputs": [],
   "source": [
    "# Rectangle comparisons.\n",
    "from copy import copy\n",
    "\n",
    "class Point:\n",
    "    def __init__( self, x=0.0, y=0.0 ):\n",
    "        self.x = x\n",
    "        self.y = y\n",
    "    def __repr__( self ):\n",
    "        return \"({}, {})\".format( self.x, self.y )\n",
    "        \n",
    "class Rectangle:\n",
    "    def __init__( self, point, width, height ):\n",
    "        self.point = copy( point )\n",
    "        self.width = width\n",
    "        self.height = height\n",
    "    def __repr__( self ):\n",
    "        return \"[{},w={},h={}]\".format( self.point, self.width, self.height )\n"
   ]
  },
  {
   "cell_type": "markdown",
   "metadata": {},
   "source": [
    "There is one special comparison I want to bring up, and that is testing whether an object is `True` or `False`. Many objects are considered to be `False` in particular circumstances; for instance, and empty list evaluates to `False`. This was briefly discussed in the chapter on conditions."
   ]
  },
  {
   "cell_type": "code",
   "execution_count": null,
   "metadata": {
    "collapsed": true
   },
   "outputs": [],
   "source": [
    "buffer = []\n",
    "if buffer:\n",
    "    print( buffer )\n",
    "else:\n",
    "    print( \"buffer is empty\" )"
   ]
  },
  {
   "cell_type": "markdown",
   "metadata": {},
   "source": [
    "You can define your own evaluation of an object that is called when the object is used as condition. This is the `__bool__()` method.\n",
    "\n",
    "- `__bool__()` is called when an object is treated as a condition. It must return `True` or `False`. If `__bool__()` is not implemented, `__len__()` is called (see below), which will evaluate to `False` if `__len__()` returns zero. If neither `__bool__()` nor `__len__()` is implemented, the object is always `True` when used as condition."
   ]
  },
  {
   "cell_type": "markdown",
   "metadata": {},
   "source": [
    "---"
   ]
  },
  {
   "cell_type": "markdown",
   "metadata": {},
   "source": [
    "## Calculations"
   ]
  },
  {
   "cell_type": "markdown",
   "metadata": {},
   "source": [
    "There are methods available to define what should happen when you combine an instance of a class with another value using a regular calculation operator. The most important of these are:\n",
    "\n",
    "- `__add__()` for addition (`+`)\n",
    "- `__sub__()` for subtraction (`-`)\n",
    "- `__mul__()` for multiplication (`*`)\n",
    "- `__truediv__()` for division (`/`)\n",
    "- `__floordiv__()` for integer division (`//`)\n",
    "- `__mod__()` for modulo (`%`)\n",
    "- `__pow__()` for power (`**`)\n",
    "- `__lshift__()` for left shift (`<<`)\n",
    "- `__rshift__()` for right shift (`>>`)\n",
    "- `__and__()` for bitwise `and` (`&`)\n",
    "- `__or__()` for bitwise `or` (`|`)\n",
    "- `__xor__()` for bitwise `xor` (`^`)\n",
    "\n",
    "There are a few more, but these are for operators that I did not discuss at all. In principle you don't need them, but if you encounter them when delving deeper into Python, know that it is very likely that a method exists to define such an operator for new classes.\n",
    "\n",
    "For example, I stated in an earlier chapter that when you want to add two complex numbers, the calculation is done as follows: `(a + bi) + (c + di) = ((a + c) + (b + d)i)`. Naturally, you can also add integers and floats to complex numbers. This can be implemented as follows: "
   ]
  },
  {
   "cell_type": "code",
   "execution_count": null,
   "metadata": {
    "collapsed": true
   },
   "outputs": [],
   "source": [
    "class Complex:\n",
    "    def __init__( self, a, b ):\n",
    "        self.a = a\n",
    "        self.b = b\n",
    "    def __repr__( self ):\n",
    "        return \"({} + {}i)\".format( self.a, self.b )\n",
    "    def __add__( self, n ):\n",
    "        if isinstance( n, int ) or isinstance( n, float ):\n",
    "            return Complex( n + self.a, self.b )\n",
    "        elif isinstance( n, Complex ):\n",
    "            return Complex( n.a + self.a, n.b + self.b )\n",
    "        return NotImplemented\n",
    "\n",
    "c1 = Complex( 3, 4 )\n",
    "c2 = Complex( 1, 2 )\n",
    "print( c1 + c2 )\n",
    "print( c1 + 10 )"
   ]
  },
  {
   "cell_type": "markdown",
   "metadata": {},
   "source": [
    "If a calculation operator is used with your new class as the right operand, and the left operand does not support the operator with your new class (i.e., it returns `NotImplemented`), Python checks if your new class supports the operation as the right operand. For that, you need to implement extra methods, which have the same names as the methods above, but with an `r` in front of the name, e.g., `__radd__()` is the addition operator with the object for which it is defined as the right operand.\n",
    "\n",
    "The code above will actually produce a runtime error if you try to calculate `10 + c1` (try it). You will have to implement `__radd__()` to solve that."
   ]
  },
  {
   "cell_type": "code",
   "execution_count": null,
   "metadata": {
    "collapsed": true
   },
   "outputs": [],
   "source": [
    "class Complex:\n",
    "    def __init__( self, a, b ):\n",
    "        self.a = a\n",
    "        self.b = b\n",
    "    def __repr__( self ):\n",
    "        return \"({} + {}i)\".format( self.a, self.b )\n",
    "    def __add__( self, n ):\n",
    "        if isinstance( n, int ) or isinstance( n, float ):\n",
    "            return Complex( n + self.a, self.b )\n",
    "        elif isinstance( n, Complex ):\n",
    "            return Complex( n.a + self.a, n.b + self.b )\n",
    "        return NotImplemented\n",
    "    def __radd__( self, n ):\n",
    "        return self.__add__( n )\n",
    "\n",
    "c1 = Complex( 3, 4 )\n",
    "print( 10 + c1 )"
   ]
  },
  {
   "cell_type": "markdown",
   "metadata": {},
   "source": [
    "As you see, I resolved the problem by implementing `__radd__()` as a direct call to `__add__()`. You might wonder why Python does not do that automatically. The reason is mathematical: while in many cases `+` is \"communitative\", i.e., you can exchange the operands without the result changing, this is definitely not always the case. But if your addition operator is communitative, a simple call from `__radd__()` to `__add__()` will do the trick.\n",
    "\n",
    "For the shorthand operators `+=`, `-=`, `*=`, etcetera, you can also define separate methods. These have the same names as the methods above, but with an `i` in front of the name, e.g., `__iadd__()` implements the `+=` operator. These methods should actually *modify* `self`, and also return the result (usually `self`). If they are not implemented, Python reverts to the regular interpretation, i.e., if a statement is `x += y`, then Python tries to execute `x.__iadd__(y)`, and if that returns `NotImplemented`, it will execute `x = x.__add__(y)`. Thus, in general you do not need to implement methods for the shorthand operators.\n",
    "\n",
    "**Exercise**: In the code block below, extend the `Complex` class with complex multiplication. By definition, `(a + bi)*(c + di)` is `((a*c - b*d) + (a*d + b*c)i)`. For multiplication with integers or floats, the same interpretation holds, when you interpret the integer or float as a complex number with `0` for the constant before the `i`."
   ]
  },
  {
   "cell_type": "code",
   "execution_count": null,
   "metadata": {
    "collapsed": true
   },
   "outputs": [],
   "source": [
    "# Multiplication of complex numbers.\n",
    "class Complex:\n",
    "    def __init__( self, a, b ):\n",
    "        self.a = a\n",
    "        self.b = b\n",
    "    def __repr__( self ):\n",
    "        return \"({} + {}i)\".format( self.a, self.b )\n",
    "    # Add some code here.\n",
    "\n",
    "c1 = Complex( 3, 4 )\n",
    "c2 = Complex( 1, 2 )\n",
    "print( c1 * c2 )\n",
    "print( c1 * 10 )\n",
    "print( 10 * c1 )"
   ]
  },
  {
   "cell_type": "markdown",
   "metadata": {},
   "source": [
    "---"
   ]
  },
  {
   "cell_type": "markdown",
   "metadata": {},
   "source": [
    "## Unary operators"
   ]
  },
  {
   "cell_type": "markdown",
   "metadata": {},
   "source": [
    "Unary operators are operators which work only on the object itself, so not in combination with another object. A typical example is using the minus (`-`) sign in front of a number to turn it into a negative number. You can overload some of the unary operators, and also some of the basic functions that work on an object.\n",
    "\n",
    "- `__neg__()` implements the negation (`-`) of an object\n",
    "- `__pos__()` implemnents placing a plus (`+`) in front of an object (usually this does nothing)\n",
    "- `__invert__()` implements the bitwise `not` (`~`)\n",
    "- `__abs__()` implements taking the absolute value of an object using the `abs()` function\n",
    "- `__int__()` implements taking the (rounded down) integer value of an object using the `int()` function; must return an integer\n",
    "- `__float__()` implements taking the floating-point value of an object using the `float()` function; must return a float\n",
    "- `__round__()` implements rounding. An optional second argument can be given that specifies the number of decimals; must return an integer or a float \n",
    "- `__bytes__()` implements representing the object as a byte string. It is in that respect similar to the `__str__()` method which was discussed in the previous chapter."
   ]
  },
  {
   "cell_type": "code",
   "execution_count": null,
   "metadata": {
    "collapsed": true
   },
   "outputs": [],
   "source": [
    "class Complex:\n",
    "    def __init__( self, a, b ):\n",
    "        self.a = a\n",
    "        self.b = b\n",
    "    def __repr__( self ):\n",
    "        return \"({} + {}i)\".format( self.a, self.b )\n",
    "    def __neg__( self ):\n",
    "        return Complex( -self.a, -self.b )\n",
    "    def __abs__( self ):\n",
    "        return Complex( abs( self.a ), abs( self.b ) )\n",
    "    def __bytes__( self ):\n",
    "        return self.__str__().encode( \"utf-8\" )\n",
    "\n",
    "c1 = Complex( 3, -4 )\n",
    "print( c1 )\n",
    "print( -c1 )\n",
    "print( abs( c1 ) )\n",
    "print( bytes( c1 ) )"
   ]
  },
  {
   "cell_type": "markdown",
   "metadata": {},
   "source": [
    "Note: You might think it would be a good idea to also implement the `__int__()`, `__float__()`, and `__round__()` methods in the code above, that respectively use the `int()`, `float()`, and `round()` functions on `self.a` and `self.b`. Unfortunately, that cannot be done, as these methods must return integers or floats, and not `Complex` numbers. Other than what I propose, I see no sensible interpretation of `int()`, `float()`, and `round()` for `Complex`, so these methods should not be implemented.\n",
    "\n",
    "A final note on `Complex` numbers: Python actually supports a `complex` data type that you can use to calculate with complex numbers. It also has a `cmath` module in support of that. So if you ever need to manipulate complex numbers in a program, then it is probably a good idea to study the `complex` data type before you construct your own `Complex` class."
   ]
  },
  {
   "cell_type": "markdown",
   "metadata": {},
   "source": [
    "---"
   ]
  },
  {
   "cell_type": "markdown",
   "metadata": {},
   "source": [
    "## Sequences"
   ]
  },
  {
   "cell_type": "markdown",
   "metadata": {},
   "source": [
    "A special kind of class is the sequence class. You have seen several sequence classes, namely tuples, lists, dictionaries, and sets. Such classes contain a sequence of elements, that can be accessed using indices or keys. You can create such classes yourself, by overloading several methods that support getting information on the elements of the class.\n",
    "\n",
    "- `__len__()` implements the `len()` function, which should return an integer that indicates the number of elements in the object.\n",
    "- `__getitem__()` implements returning the element with the key (or index) that is supplied as argument. This method is called when the object is referred to with a value between square brackets after it, e.g., `x[key]` with `x` the object and `key` the key or index of the element. If `key` is an index and the index is not appropriately referring to an object, then you are supposed to raise an `IndexError` (see the chapter on exceptions). If `key` is something else (as with, for instance, a dictionary) and it is not appropriately referring to an object, then you are supposed to raise a `KeyError`. When `key` is an index, for a complete implementation it should also support slices (implemented as so-called slice objects).\n",
    "- `__setitem__()` implements assigning a value to an element of the object which has the key that is given as argument. This method is called when a value is assigned to the object with a value between square brackets after it, e.g., `x[key] = value`.\n",
    "- `__delitem__()` implements removing an element from the object with the key that is given as argument, when the `del` keyword is used, e.g., `del x[key]`.\n",
    "- `__missing__()` is called by `__getitem__()`, with the key as argument, when the key is not referring to an element found in the object. This method is used in particular by subclasses of the Python dictionary.\n",
    "- `__contains__()` should be given an item (and *not* a key) as argument, and returns `True` if the item is found in object, and `False` otherwise. It is called when the `in` keyword is used to test for the existence of an item.\n",
    "\n",
    "To demonstrate how these methods work, I have implemented a sequence class that implements a Mesostic Puzzle. In Dutch, such puzzles are known as \"Filippines\", but it seems that outside The Netherlands and Belgium they are not well known. The puzzle consists of a list of questions, each of which is answered by one word. Of each answer, one letter is indicated as \"special\". The special letters, in order of the questions, provide the solution to the puzzle.\n",
    "\n",
    "I have defined each of the words for the puzzle as an instance of the class `MesosticWord`, which consists of the answer, the index of the special letter in the answer, and the question. The class `Mesostic` is the complete puzzle, i.e., it is a sequence of `MesosticWord`s. I implemented the `__len__()`, `__getitem__()`, `__setitem__()`, and `__delitem__()` methods (the last two are not actually used in the code).\n",
    "\n",
    "I also implemented two more methods, which demonstrate how the overloaded methods manage to do their job. `display()` displays the puzzle, and uses thereby the `len()` function and indices on the puzzle object itself. `solution()` displays the solution, also using `len()` and indices."
   ]
  },
  {
   "cell_type": "code",
   "execution_count": null,
   "metadata": {
    "collapsed": true
   },
   "outputs": [],
   "source": [
    "class MesosticWord:\n",
    "    def __init__( self,  word, index, question ):\n",
    "        self.word = word\n",
    "        self.index = index\n",
    "        self.question = question\n",
    "\n",
    "class Mesostic:\n",
    "    def __init__( self, name, words ):\n",
    "        self.name = name\n",
    "        self.words = words\n",
    "    def __len__( self ):\n",
    "        return len( self.words )\n",
    "    def __getitem__( self, n ):\n",
    "        return self.words[n]\n",
    "    def __setitem__( self, n, value ):\n",
    "        self.words[n] = value\n",
    "    def __delitem__( self, n ):\n",
    "        del self.words[n]\n",
    "    def display( self ):\n",
    "        print( self.name )\n",
    "        for i in range( len( self ) ):\n",
    "            print( \"{}. {}\".format( i+1, self[i].question ), end = \"  \" )\n",
    "            for j in range( len( self[i].word ) ):\n",
    "                if j == self[i].index:\n",
    "                    print( \"* \", end=\"\" )\n",
    "                else:\n",
    "                    print( \"_ \", end=\"\" )\n",
    "            print()\n",
    "    def solution( self ):\n",
    "        s = \"\"\n",
    "        for i in range( len( self ) ):\n",
    "            s += self[i].word[self[i].index]\n",
    "        return s\n",
    "    \n",
    "puzzle = Mesostic( \"The Monty Python and the Holy Grail Mesostic Puzzle\",\n",
    "    [ MesosticWord( \"ANTHRAX\", 5, \"Sir Galahad's tale took place in the Castle\" ),\n",
    "      MesosticWord( \"PERIL\", 2, \"Sir Robin was thrown into the Gorge of Eternal\" ),\n",
    "      MesosticWord( \"RABBIT\", 5, \"Sir Bors was killed by a\" ),\n",
    "      MesosticWord( \"ENCHANTER\", 3, \"The last resting place of the most Holy Grail was known to Tim the\" ),\n",
    "      MesosticWord( \"SHRUBBERY\", 3, \"The first demand of the Knights of Ni! was to be brought a\" ),\n",
    "      MesosticWord( \"MINSTRELS\", 5, \"In the Frozen Lands of Nador, they were forced to eat Robin's\" ) ] )\n",
    "\n",
    "puzzle.display()"
   ]
  },
  {
   "cell_type": "markdown",
   "metadata": {},
   "source": [
    "Note: It would have been nicer if the stars, which indicate the special letters, were printed in a column. However, the notebook display format does not always use a fixed letter width, so it is hard to organize that. You may implement a solution for this on your own, if you like (it is not relevant for the theme of the chapter).\n",
    "\n",
    "Another important method that you can implement for sequence classes is `__iter__()`. This one will be discussed in a later chapter.\n",
    "\n",
    "When implementing a sequence class, you should also consider creating a suitable implementation of the `__add__()` method, and maybe a suitable implementation of the `__mul__()` method. \n",
    "\n",
    "**Exercise**: A `Sentence` is a list of words. Add the `__len__()`, `__getitem__()`, `__setitem__()`, and `__contains__()` methods to the `Sentence` class, and test them out. "
   ]
  },
  {
   "cell_type": "code",
   "execution_count": null,
   "metadata": {
    "collapsed": true
   },
   "outputs": [],
   "source": [
    "# Sentence class.\n",
    "class Sentence:\n",
    "    def __init__( self, words ):\n",
    "        self.words = words\n",
    "    def __repr__( self ):\n",
    "        return \" \".join( self.words )\n",
    "    # Add code here.\n",
    "\n",
    "s = Sentence( [ \"There\", \"is\", \"only\", \"one\", \"thing\", \"worse\", \"than\", \"being\", \"talked\", \"about\", \n",
    "    \"and\", \"that\", \"is\", \"not\", \"being\", \"talked\", \"about\" ] )\n",
    "\n",
    "print( s )\n",
    "print( len( s ) )\n",
    "print( s[5] )\n",
    "s[5] = \"better\"\n",
    "print( \"being\" in s )"
   ]
  },
  {
   "cell_type": "markdown",
   "metadata": {},
   "source": [
    "---"
   ]
  },
  {
   "cell_type": "markdown",
   "metadata": {},
   "source": [
    "## What you learned"
   ]
  },
  {
   "cell_type": "markdown",
   "metadata": {},
   "source": [
    "In this chapter, you learned about:\n",
    "\n",
    "- Operator overloading\n",
    "- Overloading comparison operators using `__eq__()`, `__ne__()`, `__gt__()`, `__ge__()`, `__lt__()`, and `__le__()`\n",
    "- `NotImplemented`\n",
    "- `__bool__()`\n",
    "- Overloading calculation operators using `__add__()`, `__sub__()`, `__mul__()`, `__truediv__()`, `__floordiv__()`, `__mod__()`, `__pow__()`, `__lshift__()`, `__rshift__()`, `__and__()`, `__or__()`, and `__xor__()` \n",
    "- Righthand versions of overloading calculation operators\n",
    "- Shorthand versions of overloading calculation operators\n",
    "- Overloading unary operators `__neg__()`, `__pos__()`, `__invert__()`, `__abs__()`, `__int__()`, `__float__()`, `__round__()`, and `__bytes__()`\n",
    "- Overloading operators for sequence classes `__len__()`, `__getitem__()`, `__setitem__()`, `__delitem__()`, `__missing__()`, and `__contains__()`"
   ]
  },
  {
   "cell_type": "markdown",
   "metadata": {},
   "source": [
    "---"
   ]
  },
  {
   "cell_type": "markdown",
   "metadata": {},
   "source": [
    "## Exercises"
   ]
  },
  {
   "cell_type": "markdown",
   "metadata": {},
   "source": [
    "### Exercise 21.1"
   ]
  },
  {
   "cell_type": "markdown",
   "metadata": {},
   "source": [
    "A playing card has a suit (Hearts, Spaces, Clubs, Diamonds) and a rank (2, 3, 4, 5, 6, 7, 8, 9, 10, Jack, Queen, King, Ace). Implement a `Card` class. Implement that cards are equal when they have an equal rank, and that the other comparisons use the ranks in the order given above (2 lowest, Ace highest). Test the class."
   ]
  },
  {
   "cell_type": "code",
   "execution_count": null,
   "metadata": {
    "collapsed": true
   },
   "outputs": [],
   "source": [
    "# Card class.\n"
   ]
  },
  {
   "cell_type": "markdown",
   "metadata": {},
   "source": [
    "### Exercise 21.2"
   ]
  },
  {
   "cell_type": "markdown",
   "metadata": {},
   "source": [
    "Use the `Card` class as given above. Now also create a `Drawpile` class. A `Drawpile` consists of a sequence of cards. The cards are supposed to form a pile with the top card having the lowest index, and the bottom card the highest index. Implement the `__len__()` and `__getitem__()` methods. Create an `add()` method to add a card to the draw pile at the bottom, and a `draw()` method to remove the top card from a draw pile and return it. Test the class."
   ]
  },
  {
   "cell_type": "code",
   "execution_count": null,
   "metadata": {
    "collapsed": true
   },
   "outputs": [],
   "source": [
    "# Drawpile class.\n"
   ]
  },
  {
   "cell_type": "markdown",
   "metadata": {},
   "source": [
    "### Exercise 21.3"
   ]
  },
  {
   "cell_type": "markdown",
   "metadata": {},
   "source": [
    "Using the definitions created in the previous exercises, create two drawpiles. The first has the 2 of Diamonds, King of Hearts, and 7 of Clubs (in this order). The second has the 4 of Hearts, 3 of Hearts, and 8 of Spades (in this order). Let the draw piles play \"War!\" \"War!\" is played as follows: Draw the top card from each deck. The highest of these cards goes on the bottom of its own deck, and the other card goes there too. The game continues until there is only one pile left. \n",
    "\n",
    "Hint: With this setup, the game will take 13 rounds and the first deck wins. Do you see what a boring game \"War!\" is?\n",
    "\n",
    "Note: Normally when \"War!\" is played there are special rules for when two cards have the same rank, but in this case the draw piles contain only cards of a unique rank. You do not have to take into account playing the game where that can happen, though if you want to do that, be my guest. "
   ]
  },
  {
   "cell_type": "code",
   "execution_count": null,
   "metadata": {
    "collapsed": true
   },
   "outputs": [],
   "source": [
    "# War!\n"
   ]
  },
  {
   "cell_type": "markdown",
   "metadata": {},
   "source": [
    "### Exercise 21.4"
   ]
  },
  {
   "cell_type": "markdown",
   "metadata": {},
   "source": [
    "Implement a `FruitBasket` class. The `FruitBasket` is contains fruit items, and it may contain a certain number of each item type. Keep it simple: store the fruit items as a dictionary, with the name of the fruit as key. For this exercise there is no need to limit what keys can be, anything can be the name of a fruit. Implement the `__add__()` method to add a piece of fruit to the basket (and it might be a good idea to also implement `__iadd()__`), and implement the `__sub__()` method to remove a piece of fruit from the basket (and `__isub__()` is a good candidate too). Implement the `__contains__()` method to check if a certain kind of fruit is in the basket. Also implement `__getitem__()` to check how much of a piece of fruit there is, `__setitem__()` to add a whole bunch of a piece of fruit at once, and `__len__()` to check how many different pieces of fruit there are in the basket. Note that when nothing more of a piece of fruit remains in the basket, you have to remove the key."
   ]
  },
  {
   "cell_type": "code",
   "execution_count": null,
   "metadata": {
    "collapsed": true
   },
   "outputs": [],
   "source": [
    "# Fruitbasket.\n"
   ]
  },
  {
   "cell_type": "markdown",
   "metadata": {},
   "source": [
    "---"
   ]
  },
  {
   "cell_type": "markdown",
   "metadata": {},
   "source": [
    "End of Chapter 21. Version 1.2. "
   ]
  }
 ],
 "metadata": {
  "kernelspec": {
   "display_name": "Python 3",
   "language": "python",
   "name": "python3"
  },
  "language_info": {
   "codemirror_mode": {
    "name": "ipython",
    "version": 3
   },
   "file_extension": ".py",
   "mimetype": "text/x-python",
   "name": "python",
   "nbconvert_exporter": "python",
   "pygments_lexer": "ipython3",
   "version": "3.6.1"
  }
 },
 "nbformat": 4,
 "nbformat_minor": 1
}
