{
 "cells": [
  {
   "cell_type": "markdown",
   "metadata": {},
   "source": [
    "# 14 - Sets"
   ]
  },
  {
   "cell_type": "markdown",
   "metadata": {},
   "source": [
    "---"
   ]
  },
  {
   "cell_type": "markdown",
   "metadata": {},
   "source": [
    "Sets are unordered data structures, which contain only unique elements. Few programming languages support sets natively, but Python is one of them. Sets are not used often, but occasionally they provide a nice solution to a problem that you are trying to solve."
   ]
  },
  {
   "cell_type": "markdown",
   "metadata": {},
   "source": [
    "---"
   ]
  },
  {
   "cell_type": "markdown",
   "metadata": {},
   "source": [
    "## Basics of sets"
   ]
  },
  {
   "cell_type": "markdown",
   "metadata": {},
   "source": [
    "Sets are *unordered* collections of elements. You cannot access specific elements using an index or a key. The only way to access items in a set is by using a `for` loop, or by testing for the existence of elements in the set using the `in` operator\n",
    "\n",
    "You have to think of sets in the mathematical sense. In mathematics, a set is a collection of elements, all unique, and elements can be part of a specific set, or not part of the set. You use special set operators to combine sets in different ways.\n",
    "\n",
    "Python uses dictionaries to implement sets; specifically, it implements the elements of a set as dictionary keys. Thus, only immutable data types can be set elements. Sets themselves, however, are mutable.\n",
    "\n",
    "Since Python uses dictionaries to implement sets, you might think that you can create an empty set by assigning `{}` to a variable. That, however, does not work as it creates an empty dictionary, not an empty set. Instead, you create an empty set by assigning a call to the function `set()` to a variable.\n",
    "\n",
    "To create a set with some elements already in it, you can assign the elements to the variable between curly brackets. Alternatively, you can call the `set()` function with a list of the elements as argument."
   ]
  },
  {
   "cell_type": "code",
   "execution_count": null,
   "metadata": {
    "collapsed": true
   },
   "outputs": [],
   "source": [
    "fruitset = { \"apple\", \"banana\", \"cherry\" }\n",
    "print( fruitset )"
   ]
  },
  {
   "cell_type": "markdown",
   "metadata": {},
   "source": [
    "If you want to create a set consisting of the different characters in a string, you can call `set()` with the string as argument."
   ]
  },
  {
   "cell_type": "code",
   "execution_count": null,
   "metadata": {
    "collapsed": true
   },
   "outputs": [],
   "source": [
    "helloset = set( \"hello world\" )\n",
    "print( helloset )"
   ]
  },
  {
   "cell_type": "markdown",
   "metadata": {},
   "source": [
    "You can use a `for` loop to traverse a set. The variable in the `for` loop gets access to all the set elements. There is no way to determine in which order you get to see the elements. Sorting them is not possible as long as they form a set. You can, however, use list casting on a set to create a list of its elements, which can then be sorted."
   ]
  },
  {
   "cell_type": "code",
   "execution_count": null,
   "metadata": {
    "collapsed": true
   },
   "outputs": [],
   "source": [
    "fruitset = { \"apple\", \"banana\", \"cherry\", \"durian\", \"mango\", \"strawberry\" }\n",
    "for element in fruitset:\n",
    "    print( element )\n",
    "\n",
    "print()\n",
    "\n",
    "fruitlist = list( fruitset )\n",
    "fruitlist.sort()\n",
    "for element in fruitlist:\n",
    "    print( element )"
   ]
  },
  {
   "cell_type": "markdown",
   "metadata": {},
   "source": [
    "You can determine the number of elements in a set using the `len()` function."
   ]
  },
  {
   "cell_type": "markdown",
   "metadata": {},
   "source": [
    "---"
   ]
  },
  {
   "cell_type": "markdown",
   "metadata": {},
   "source": [
    "## Set methods"
   ]
  },
  {
   "cell_type": "markdown",
   "metadata": {},
   "source": [
    "To manipulate the contents of sets, the following methods are supported. This is not a complete list of set methods, but these are the most common ones."
   ]
  },
  {
   "cell_type": "markdown",
   "metadata": {},
   "source": [
    "### `add()` and `update()`"
   ]
  },
  {
   "cell_type": "markdown",
   "metadata": {},
   "source": [
    "Adding new items to a set you can do using the `add()` method, to add one new element that you provide as an argument. If you want to add multiple new elements at once, you can use the `update()` method, which you provide with a list of the new elements as argument. You can also use `update()` with a tuple as argument, and you can even use it with a string as argument. If you use it with a string, it will consider each letter of the string as a separate element to add.\n",
    "\n",
    "Since sets can only contain unique elements, any duplicate element that you try to add will be ignored."
   ]
  },
  {
   "cell_type": "code",
   "execution_count": null,
   "metadata": {
    "collapsed": true
   },
   "outputs": [],
   "source": [
    "fruitset = { \"apple\", \"banana\", \"cherry\", \"durian\", \"mango\" }\n",
    "print( fruitset )\n",
    "\n",
    "fruitset.add( \"apple\" )\n",
    "fruitset.add( \"elderberry\" )\n",
    "print( fruitset )\n",
    "\n",
    "fruitset.update( [\"apple\",\"apple\",\"apple\",\"strawberry\",\"strawberry\",\"apple\",\"mango\"] )\n",
    "print( fruitset )"
   ]
  },
  {
   "cell_type": "markdown",
   "metadata": {},
   "source": [
    "### `remove()`, `discard()`, and `clear()`"
   ]
  },
  {
   "cell_type": "markdown",
   "metadata": {},
   "source": [
    "To remove elements from a set, you can use the `remove()` or `discard()` method. Both get the element to remove as argument. The difference between the two methods is that `remove()` will cause a runtime error if the element is not part of the set, while `discard()` will ignore such errors."
   ]
  },
  {
   "cell_type": "code",
   "execution_count": null,
   "metadata": {
    "collapsed": true
   },
   "outputs": [],
   "source": [
    "fruitset = { \"apple\", \"banana\", \"cherry\", \"durian\", \"mango\" }\n",
    "print( fruitset )\n",
    "\n",
    "fruitset.remove( \"apple\" )\n",
    "print( fruitset )"
   ]
  },
  {
   "cell_type": "markdown",
   "metadata": {},
   "source": [
    "`clear()` removes all elements of the set at once."
   ]
  },
  {
   "cell_type": "markdown",
   "metadata": {},
   "source": [
    "### `pop()`"
   ]
  },
  {
   "cell_type": "markdown",
   "metadata": {},
   "source": [
    "Calling the `pop()` method will remove an element from the set and return it. You cannot predict which element will be removed, as sets are unordered."
   ]
  },
  {
   "cell_type": "code",
   "execution_count": null,
   "metadata": {
    "collapsed": true
   },
   "outputs": [],
   "source": [
    "fruitset = { \"apple\", \"banana\", \"cherry\", \"durian\", \"mango\" }\n",
    "while len( fruitset ) > 0:\n",
    "    print( fruitset.pop() )"
   ]
  },
  {
   "cell_type": "markdown",
   "metadata": {},
   "source": [
    "### `copy()`"
   ]
  },
  {
   "cell_type": "markdown",
   "metadata": {},
   "source": [
    "Just like lists and dictionaries, if you assign a variable that contains a set to another variable, you are creating an alias. Like with dictionaries (and probably because sets are implemented as dictionaries), you use the method `copy()` to create a shallow copy of a set. If you want to create a deep copy, you will have to use the `deepcopy()` method from the `copy` module."
   ]
  },
  {
   "cell_type": "markdown",
   "metadata": {},
   "source": [
    "### `union()`"
   ]
  },
  {
   "cell_type": "markdown",
   "metadata": {},
   "source": [
    "The union of two sets is a set which contains elements of both of them. You can use the `union()` method for one set, with as argument a second set, to return the union of both sets involved. This does not change the sets themselves. Alternatively, you can use the special operator `|` (pipeline) to create the union of two sets. Note: you might suspect that you can also use the `+` operator to combine two sets, but `+` is not defined for sets, and neither is `*`."
   ]
  },
  {
   "cell_type": "code",
   "execution_count": null,
   "metadata": {
    "collapsed": true
   },
   "outputs": [],
   "source": [
    "fruit1 = { \"apple\", \"banana\", \"cherry\" }\n",
    "fruit2 = { \"banana\", \"cherry\", \"durian\" }\n",
    "fruitunion = fruit1.union( fruit2 )\n",
    "print( fruitunion )\n",
    "\n",
    "fruitunion = fruit1 | fruit2\n",
    "print( fruitunion )"
   ]
  },
  {
   "cell_type": "markdown",
   "metadata": {},
   "source": [
    "### `intersection()`"
   ]
  },
  {
   "cell_type": "markdown",
   "metadata": {},
   "source": [
    "The intersection of two sets is a set which contains only the elements that they both have. You can use the `intersection()` method for one set, with as argument a second set, to return the intersection of the sets involved. This does not change the sets themselves. Alternatively, you can use the special operator `&` (ampersand) to create the intersection of two sets."
   ]
  },
  {
   "cell_type": "code",
   "execution_count": null,
   "metadata": {
    "collapsed": true
   },
   "outputs": [],
   "source": [
    "fruit1 = { \"apple\", \"banana\", \"cherry\" }\n",
    "fruit2 = { \"banana\", \"cherry\", \"durian\" }\n",
    "fruitintersection = fruit1.intersection( fruit2 )\n",
    "print( fruitintersection )\n",
    "\n",
    "fruitintersection = fruit1 & fruit2\n",
    "print( fruitintersection )"
   ]
  },
  {
   "cell_type": "markdown",
   "metadata": {},
   "source": [
    "### `difference()`"
   ]
  },
  {
   "cell_type": "markdown",
   "metadata": {},
   "source": [
    "The difference of two sets is a set which contains only the elements that the first set has that are not also in the second set. You can use the `difference()` method for one set, with as argument a second set, to return the difference whereby the elements of the argument set are removed from the first set. This does not change the sets themselves. Alternatively, you can use the special operator `-` (minus) to create the difference of two sets."
   ]
  },
  {
   "cell_type": "code",
   "execution_count": null,
   "metadata": {
    "collapsed": true
   },
   "outputs": [],
   "source": [
    "fruit1 = { \"apple\", \"banana\", \"cherry\" }\n",
    "fruit2 = { \"banana\", \"cherry\", \"durian\" }\n",
    "fruitdifference = fruit1.difference( fruit2 )\n",
    "print( fruitdifference )\n",
    "\n",
    "fruitdifference = fruit1 - fruit2\n",
    "print( fruitdifference )\n",
    "\n",
    "fruitdifference = fruit2 - fruit1\n",
    "print( fruitdifference )"
   ]
  },
  {
   "cell_type": "markdown",
   "metadata": {},
   "source": [
    "### `isdisjoint()`, `issubset()`, and `issuperset()`"
   ]
  },
  {
   "cell_type": "markdown",
   "metadata": {},
   "source": [
    "The methods `isdisjoint()`, `issubset()`, and `issuperset()` are all called as methods of one set, with a second set as argument. All return `True` or `False`. `isdisjoint()` returns `True` if the two sets share no elements. `issubset()` returns `True` if all the elements of the first set are also found in the argument set. `issuperset()` returns `True` if all the elements of the argument set are also found in the first set."
   ]
  },
  {
   "cell_type": "code",
   "execution_count": null,
   "metadata": {
    "collapsed": true
   },
   "outputs": [],
   "source": [
    "fruit1 = { \"apple\", \"banana\", \"cherry\" }\n",
    "fruit2 = { \"banana\", \"cherry\" }\n",
    "\n",
    "print( fruit1.isdisjoint( fruit2 ) )\n",
    "print( fruit1.issubset( fruit2 ) )\n",
    "print( fruit2.issubset( fruit1 ) )\n",
    "print( fruit1.issubset( fruit1 ) )\n",
    "print( fruit1.issuperset( fruit2 ) )\n",
    "print( fruit2.issuperset( fruit1 ) )\n",
    "print( fruit1.issuperset( fruit1 ) )"
   ]
  },
  {
   "cell_type": "markdown",
   "metadata": {},
   "source": [
    "Note that a set is both a subset and a superset of itself."
   ]
  },
  {
   "cell_type": "markdown",
   "metadata": {},
   "source": [
    "### Practice"
   ]
  },
  {
   "cell_type": "markdown",
   "metadata": {},
   "source": [
    "**Exercise**: There is also a set method `symmetric_difference()` which returns a set that contains all the elements that are in the union of two sets, except those that are found in both sets. For example, if set 1 contains `A`, `B`, and `C`, and set 2 contains `B`, `C`, and `D`, the symmetric difference of sets 1 and 2 contains `A` and `D`. Can you implement the `symmetric_difference()` method by using only some of the methods found above?"
   ]
  },
  {
   "cell_type": "code",
   "execution_count": null,
   "metadata": {
    "collapsed": true
   },
   "outputs": [],
   "source": [
    "# Symmetric difference.\n",
    "fruit1 = { \"apple\", \"banana\", \"cherry\" }\n",
    "fruit2 = { \"banana\", \"cherry\", \"durian\" }\n"
   ]
  },
  {
   "cell_type": "markdown",
   "metadata": {},
   "source": [
    "**Exercise**: In the chapter on iterations you were asked to write code that determines all the letters that two words have in common, whereby each letter should only be reported once. Using sets, you can do this very efficiently. Please write the appropriate code."
   ]
  },
  {
   "cell_type": "code",
   "execution_count": null,
   "metadata": {
    "collapsed": true
   },
   "outputs": [],
   "source": [
    "# Shared letters.\n",
    "word1 = \"strawberry\"\n",
    "word2 = \"blueberry\"\n"
   ]
  },
  {
   "cell_type": "markdown",
   "metadata": {},
   "source": [
    "**Exercise**: As a variant on the previous exercise, can you also do it for the letters they do not have in common?"
   ]
  },
  {
   "cell_type": "code",
   "execution_count": null,
   "metadata": {
    "collapsed": true
   },
   "outputs": [],
   "source": [
    "# Letter differences.\n",
    "word1 = \"strawberry\"\n",
    "word2 = \"blueberry\"\n"
   ]
  },
  {
   "cell_type": "markdown",
   "metadata": {},
   "source": [
    "---"
   ]
  },
  {
   "cell_type": "markdown",
   "metadata": {},
   "source": [
    "## Frozensets"
   ]
  },
  {
   "cell_type": "markdown",
   "metadata": {},
   "source": [
    "Python supports a variant on the set type, which is the `frozenset`. You create a `frozenset` using the `frozenset()` function. The elements of a frozenset, once assigned, cannot be changed. You therefore have to create the frozenset immediately when you call the `frozenset()` function, because it is impossible to add or remove elements later. I.e., frozensets are *immutable*.\n",
    "\n",
    "All the regular set methods work for frozensets, except for those that try to change the set. Trying to use such a method for a frozenset will lead to a syntax error."
   ]
  },
  {
   "cell_type": "code",
   "execution_count": null,
   "metadata": {
    "collapsed": true
   },
   "outputs": [],
   "source": [
    "fruit1 = frozenset( [\"apple\", \"banana\", \"cherry\"] )\n",
    "fruit2 = frozenset( [\"banana\", \"cherry\", \"durian\"] )\n",
    "\n",
    "print( fruit1.union( fruit2 ) )"
   ]
  },
  {
   "cell_type": "markdown",
   "metadata": {},
   "source": [
    "---"
   ]
  },
  {
   "cell_type": "markdown",
   "metadata": {},
   "source": [
    "## What you learned"
   ]
  },
  {
   "cell_type": "markdown",
   "metadata": {},
   "source": [
    "In this chapter, you learned about:\n",
    "\n",
    "- Sets\n",
    "- Set methods `add()`, `update()`, `remove()`, `discard()`, `clear()`, `pop()`, `copy()`, `union()`, `intersection()`, `difference()`, `isdisjoint()`, `issubset()`, and `issuperset()`\n",
    "- Frozensets"
   ]
  },
  {
   "cell_type": "markdown",
   "metadata": {},
   "source": [
    "---"
   ]
  },
  {
   "cell_type": "markdown",
   "metadata": {},
   "source": [
    "## Excercises"
   ]
  },
  {
   "cell_type": "markdown",
   "metadata": {},
   "source": [
    "### Exercise 14.1"
   ]
  },
  {
   "cell_type": "markdown",
   "metadata": {},
   "source": [
    "A famous syllogism says: *All men are mortal. Socrates is a man. Therefore Socrates is mortal.* In the code block below you see some sets. The first is the set of all things (I know a few are missing, but for the sake of argument). The second is the set of all men (assuming that the first set indeed contains all things). The third set contains everything that is mortal (again, assuming...). Show that indeed (a) all men are mortal, (b) Socrates is a man, and (c) Socrates is mortal. Also shows that (d) there are mortal things that are not men, and (e) there are things that are not mortal."
   ]
  },
  {
   "cell_type": "code",
   "execution_count": null,
   "metadata": {
    "collapsed": true
   },
   "outputs": [],
   "source": [
    "# Syllogism\n",
    "allthings = { \"Socrates\", \"Plato\", \"Eratosthenes\", \"Zeus\", \"Hera\", \"Athens\", \"Acropolis\", \"Cat\", \"Dog\" }\n",
    "men = { \"Socrates\", \"Plato\", \"Eratosthenes\" }\n",
    "mortalthings = { \"Socrates\", \"Plato\", \"Eratosthenes\", \"Cat\", \"Dog\" }\n"
   ]
  },
  {
   "cell_type": "markdown",
   "metadata": {},
   "source": [
    "### Exercise 14.2"
   ]
  },
  {
   "cell_type": "markdown",
   "metadata": {},
   "source": [
    "In the code block below, first produce three sets of numbers between 1 and 1000, the first all those numbers that are dividable by 3, the second all those numbers that are dividable by 7, and the third all those numbers that are dividable by 11. It is easiest to do that with list comprehension, but it is not necessary. Now produce sets of all the numbers between 1 and 1000 that (a) are dividable by 3, 7, and 11, (b) are dividable by 3 and 7, but not by 11, (c) that are not dividable by 3, 7, or 11. The shortest solution has only one line of code for each of the six sets."
   ]
  },
  {
   "cell_type": "code",
   "execution_count": null,
   "metadata": {
    "collapsed": true
   },
   "outputs": [],
   "source": [
    "# Number sets.\n"
   ]
  },
  {
   "cell_type": "markdown",
   "metadata": {},
   "source": [
    "---"
   ]
  },
  {
   "cell_type": "markdown",
   "metadata": {},
   "source": [
    "## Python 2"
   ]
  },
  {
   "cell_type": "markdown",
   "metadata": {},
   "source": [
    "Python 2 does not support sets natively. You have to import the `sets` module to use them. Moreover, to create a set you use the `Set()` method, not the `set()` function. To create a set with elements in them, in Python 2 the only way is to give the elements as a list argument to the `Set()` method."
   ]
  },
  {
   "cell_type": "markdown",
   "metadata": {},
   "source": [
    "---"
   ]
  },
  {
   "cell_type": "markdown",
   "metadata": {},
   "source": [
    "End of Chapter 14. Version 1.2. "
   ]
  }
 ],
 "metadata": {
  "kernelspec": {
   "display_name": "Python 3",
   "language": "python",
   "name": "python3"
  },
  "language_info": {
   "codemirror_mode": {
    "name": "ipython",
    "version": 3
   },
   "file_extension": ".py",
   "mimetype": "text/x-python",
   "name": "python",
   "nbconvert_exporter": "python",
   "pygments_lexer": "ipython3",
   "version": "3.6.1"
  }
 },
 "nbformat": 4,
 "nbformat_minor": 1
}
