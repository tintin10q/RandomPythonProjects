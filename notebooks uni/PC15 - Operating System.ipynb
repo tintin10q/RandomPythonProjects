{
 "cells": [
  {
   "cell_type": "markdown",
   "metadata": {},
   "source": [
    "# 15 - Operating System"
   ]
  },
  {
   "cell_type": "markdown",
   "metadata": {},
   "source": [
    "---"
   ]
  },
  {
   "cell_type": "markdown",
   "metadata": {},
   "source": [
    "Until now, we considered Python programs as self-contained functionalities. Python programs, however, run on a computer, and occasionally the program must deal with computer intricacies. This will start to play a major role from the next chapter onward, when I will discuss file handling. To deal with the computer, Python offers a series of standard functionalities in the `os` module, whereby `os` is a common abbreviation for \"operating system\". This chapter explains the most important functions from the `os` module."
   ]
  },
  {
   "cell_type": "markdown",
   "metadata": {},
   "source": [
    "---"
   ]
  },
  {
   "cell_type": "markdown",
   "metadata": {},
   "source": [
    "## Basics of operating systems"
   ]
  },
  {
   "cell_type": "markdown",
   "metadata": {},
   "source": [
    "A computer consists of hardware, while programs consist of software. The software uses facilities offered by the hardware. While in the early days of computer programming, programmers accessed hardware directly (for instance, to make a pixel visible on a computer screen, a programmer placed a value in a specific memory address that was directly coupled to the screen -- an approach called \"poking\"), nowadays hardware is so complex and diverse that this is no longer a viable approach. Let alone the fact that if you want to write a program that runs on multiple computers, you cannot afford to access hardware directly as hardware differs from computer to computer.\n",
    "\n",
    "Therefore, programs access hardware functionalities through an \"operating system\". An operating system can be seen as a layer between programs and hardware, that offers programs high-level functions to get the hardware to work. Typical operating systems in use nowadays on personal computers are Microsoft's \"Windows\", Apple's \"Mac OS\", and the open-source OS \"Linux\" (though there are many more). Each of these exists in multiple variants, often differentiated by numbers or \"builds\", and sometimes (in the case of Linux) by a company name. Regardless, they all offer functionalities that allow accessing hardware.\n",
    "\n",
    "The problem is that while all of them offer such functionalities, the functionalities are not named in consistent ways, and have different parameterizations. This means that if you want to write Python programs that access hardware by directly \"talking\" to the operating system, your program is not portable to other operating systems. This is where the `os` module comes in. The `os` module offers functions that you can use to access the hardware with, regardless of the operating system. Basically, the `os` module has a different implementation for each operating system, but your program does not need to know that, as the functions are always named the same, and have the same parameters.\n",
    "\n",
    "That does not mean that you can be completely oblivious of OS intricacies. For instance, when you access a file, on Windows you might need to include a \"drive letter\", which Mac OS does not support. Another example is that security and file access are much more flexible on Linux than on either Windows or Mac OS, so accessing files on Linux might generate different kinds of warnings and errors than on other operating systems. There are quite a few functions that only have an effect for particular operating systems. Still, the `os` module is a fine compromise between portability and OS-dependent effectiveness. "
   ]
  },
  {
   "cell_type": "markdown",
   "metadata": {},
   "source": [
    "---"
   ]
  },
  {
   "cell_type": "markdown",
   "metadata": {},
   "source": [
    "## Command prompt"
   ]
  },
  {
   "cell_type": "markdown",
   "metadata": {},
   "source": [
    "When you are working with a mouse-driven user interface (UI), which is standard for Windows and Mac OS, and is used by many Linux user too, you are actually interacting with a visual representation of the system, specifically, of the file system. Programs and documents are represented by \"icons\", which have a name. They are grouped by \"folders\", which are actually \"directories\" of the file system. You can create new folders, delete documents, rename programs, change security settings, etcetera. All these actions you can also execute by directly typing commands, in an environment that is often called the \"command prompt\" or \"command shell\". \n",
    "\n",
    "Most Linux users are familiar with a command shell, but for many Windows and Mac users this is not something that they are aware of. Both Windows and Mac actually have a program that allows you to work in the command shell. On Windows, you find the \"command prompt\" as one of the \"accessories\" or \"system tools\". On Macs, this is called the \"Terminal\". If you start that program, you get confronted by a window with a black background and a blinking prompt. Here you can type commands that the system will execute for you.\n",
    "\n",
    "The commands that you can give depend on the system that you are using. This course is not meant to teach you how to use it, but I want to tell you at least that you can run Python programs directly from the command prompt by typing the command:\n",
    "\n",
    "    python <programname>.py\n",
    "\n",
    "As long as Python can be found on your system, and the program is actually found in the current working directory (i.e., the place in the computer's file system where you currently are), or you have specified the complete path for the program, then it will run the program. This can actually be quite handy if you have written a program that processes files and you want to process many files in a \"batch\". Again, this goes a bit too far for this course, but you might get to a point in your career where this is extremely useful.\n",
    "\n",
    "The commands that you can give are things like \"change the current working directory\", \"make a new directory\", \"remove an empty directory\", \"list all the files in the directory\", \"delete a file\", etcetera. Again, it depends on the operating system what exactly the commands are that you need to give to achieve these things.\n",
    "\n",
    "**Exercise**: On your system, find the command shell and run the program. On Windows, type \"dir\" to see the files in the current directory. On Macs and Linux, this command is usually \"ls\". After doing this, you can close the command shell again."
   ]
  },
  {
   "cell_type": "markdown",
   "metadata": {},
   "source": [
    "---"
   ]
  },
  {
   "cell_type": "markdown",
   "metadata": {},
   "source": [
    "## File system"
   ]
  },
  {
   "cell_type": "markdown",
   "metadata": {},
   "source": [
    "A computer's file system consists of a tree-like structured organization of directories and files.\n",
    "\n",
    "There is one \"root\" directory, which is the main access point for all other directories. The root directory is identified by a slash (`/`) or backslash (`\\ `), depending on the operating system. Under Windows it is a backslash, under Mac OS and Linux it is a forward slash. However, Windows now also supports the forward slash. I recommend using the forward slash in most cases, as in strings the backslash indicates a special symbol, so if you want to use a backslash in a string as a directory separator, you have to use a double backslash. This tends to be confusing, which is why I recommend using the forward slash.\n",
    "\n",
    "\"Under\" the root-directory there are multiple other directories, each identified by a name, and usually also multiple files, each identified by a name. Under each directory there may be more directories and files. \n",
    "\n",
    "Each operating system has certain restrictions on what file and directory names can be used, but in general most characters are supported. It is convention that regular files have an extension, which is placed at the end of the file name, and separated from the filename with a period. The extension identifies what kind of file it is, for instance, an executable program (\"`.exe`\"), a flat text file (\"`.txt`\"), or a Python file (\"`.py`\"). It is also convention that directory names do not have such an extension. However, this is not a rule, and you may certainly encounter files without, and directories with an extension. Note that in the visual environment, extensions for files are often hidden, but they are there -- you just do not see them.\n",
    "\n",
    "To uniquely identify a file, you need to know its exact \"path\" from the root to the file, following the directories. The path name for the file is \"`/<directory>/<directory>/.../<filename>`\". Under Windows, a drive letter can be placed in front of this path, making it \"`<drive>:/<directory>/<directory>/.../<filename>`\". For instance, if under Windows, on the \"C\" drive, under the root there is a directory \"Python34\", under which there is a directory \"Lib\", in which you can find a file \"os.py\", the path for that file is \"`C:/Python34/Lib/os.py`\". Under Windows, this path is case insensitive, so you can use only lower case letters if you like. That is not the case for all operating systems, though.\n",
    "\n",
    "When you are working in the file system (and you *always* are working in the file system, even if you do not realize that), there is a \"current directory\", which is identified by a period (`.`). If you want to access a file in the current directory, you do not need to know the complete path; it is enough to know the file name. One directory \"higher\" than the current directory (i.e., the \"parent\" directory) is identified by a double period (`..`). The parent directory of the root is the root itself.\n",
    "\n",
    "Finally, it should be noted that most operating systems support a method that allows you to access files, without knowing the path, even if those files are not in the current directory. Under Windows, for instance, you can set a `PATH` environment variable that contains a string that lists all the directories that Windows will search when you use a filename that is for a file that is not in the current directory. Adapting such an environment variable is not part of this course, though."
   ]
  },
  {
   "cell_type": "markdown",
   "metadata": {},
   "source": [
    "---"
   ]
  },
  {
   "cell_type": "markdown",
   "metadata": {},
   "source": [
    "## `os` functions"
   ]
  },
  {
   "cell_type": "markdown",
   "metadata": {},
   "source": [
    "The `os` module supports many functions that allow you to affect the file system. I will mention only a few of them, as many of them are actually a bit dangerous to use (you can easily delete files that you wanted to keep) and you do not need them anyway. If you are really interested in manipulating the file system, you can read up on the dozens of other functions that `os` supports."
   ]
  },
  {
   "cell_type": "markdown",
   "metadata": {},
   "source": [
    "### `getcwd()`"
   ]
  },
  {
   "cell_type": "markdown",
   "metadata": {},
   "source": [
    "`getcwd()` returns the current working directory as a string."
   ]
  },
  {
   "cell_type": "code",
   "execution_count": null,
   "metadata": {},
   "outputs": [],
   "source": [
    "from os import getcwd\n",
    "print( getcwd() )"
   ]
  },
  {
   "cell_type": "markdown",
   "metadata": {},
   "source": [
    "### `chdir()`"
   ]
  },
  {
   "cell_type": "markdown",
   "metadata": {},
   "source": [
    "`chdir()` changes the current working directory. The new directory is provided as a string argument."
   ]
  },
  {
   "cell_type": "code",
   "execution_count": null,
   "metadata": {},
   "outputs": [],
   "source": [
    "from os import getcwd, chdir\n",
    "\n",
    "home = getcwd()\n",
    "print( home )\n",
    "chdir( \"..\" )\n",
    "print( getcwd() )\n",
    "chdir( home )\n",
    "print( getcwd() )"
   ]
  },
  {
   "cell_type": "markdown",
   "metadata": {},
   "source": [
    "### `listdir()`"
   ]
  },
  {
   "cell_type": "markdown",
   "metadata": {},
   "source": [
    "`listdir()` returns a list of all the files and directories in the directory that is given as argument. The names are given in arbitrary order. Notice that they do not include the full path name."
   ]
  },
  {
   "cell_type": "code",
   "execution_count": null,
   "metadata": {},
   "outputs": [],
   "source": [
    "from os import listdir\n",
    "\n",
    "flist = listdir( \".\" )\n",
    "for name in flist:\n",
    "    print( name )"
   ]
  },
  {
   "cell_type": "markdown",
   "metadata": {},
   "source": [
    "### `system()`"
   ]
  },
  {
   "cell_type": "markdown",
   "metadata": {},
   "source": [
    "`system()` gets a string argument that is a command, that Python executes on the command line. You can use it to do anything that the operating system supports, including running other programs. There are better ways to execute other programs, though (look for functions that start with \"`exec`\")."
   ]
  },
  {
   "cell_type": "markdown",
   "metadata": {},
   "source": [
    "---"
   ]
  },
  {
   "cell_type": "markdown",
   "metadata": {},
   "source": [
    "## What you learned"
   ]
  },
  {
   "cell_type": "markdown",
   "metadata": {},
   "source": [
    "In this chapter, you learned about:\n",
    "\n",
    "- Operating systems\n",
    "- Command prompt\n",
    "- File systems\n",
    "- Functions `getcwd()`, `chdir()`, `listdir()`, and `system()` "
   ]
  },
  {
   "cell_type": "markdown",
   "metadata": {},
   "source": [
    "---"
   ]
  },
  {
   "cell_type": "markdown",
   "metadata": {},
   "source": [
    "## Exercises"
   ]
  },
  {
   "cell_type": "markdown",
   "metadata": {},
   "source": [
    "### Exercise 15.1"
   ]
  },
  {
   "cell_type": "markdown",
   "metadata": {},
   "source": [
    "Write a program that lists all the files and directories in the current directory, displaying them with their full path names."
   ]
  },
  {
   "cell_type": "code",
   "execution_count": null,
   "metadata": {
    "collapsed": true
   },
   "outputs": [],
   "source": [
    "# Full listing.\n"
   ]
  },
  {
   "cell_type": "markdown",
   "metadata": {},
   "source": [
    "---"
   ]
  },
  {
   "cell_type": "markdown",
   "metadata": {},
   "source": [
    "End of Chapter 15. Version 1.1. "
   ]
  }
 ],
 "metadata": {
  "kernelspec": {
   "display_name": "Python 3",
   "language": "python",
   "name": "python3"
  },
  "language_info": {
   "codemirror_mode": {
    "name": "ipython",
    "version": 3
   },
   "file_extension": ".py",
   "mimetype": "text/x-python",
   "name": "python",
   "nbconvert_exporter": "python",
   "pygments_lexer": "ipython3",
   "version": "3.6.1"
  }
 },
 "nbformat": 4,
 "nbformat_minor": 1
}
