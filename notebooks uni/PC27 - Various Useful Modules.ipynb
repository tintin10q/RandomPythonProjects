{
 "cells": [
  {
   "cell_type": "markdown",
   "metadata": {},
   "source": [
    "# 27 - Various Useful Modules"
   ]
  },
  {
   "cell_type": "markdown",
   "metadata": {},
   "source": [
    "---"
   ]
  },
  {
   "cell_type": "markdown",
   "metadata": {},
   "source": [
    "At this point in the course, everything that you really need to know to be an accomplished Python programmer has been covered. There are still some chapters left to explore, which I consider to contain mostly optional (though often very interesting) material. To finish off the mandatory part, I want to quickly highlight a few useful modules that do not need a chapter of their own. I will not give many details; once you know what the purpose of a module is, you can look up more information on it in the Python reference."
   ]
  },
  {
   "cell_type": "markdown",
   "metadata": {},
   "source": [
    "---"
   ]
  },
  {
   "cell_type": "markdown",
   "metadata": {},
   "source": [
    "## `datetime`"
   ]
  },
  {
   "cell_type": "markdown",
   "metadata": {},
   "source": [
    "The `datetime` module contains functions that allow the manipulation of date and time. The module contains various classes for date and time manipulation, of which the most important ones are `datetime`, `timedelta`, `date`, and `time`. `datetime` contains attributes `year`, `month`, `day`, `hour`, `minute`, `second`, `microsecond`, and `tzinfo` (the last attribute provides time zone information). `date` and `time` contain subsets of these attributes. Objects of these types are immutable.\n",
    "\n",
    "I restrict myself to discussing the `datetime` and `timedelta` classes, though related functions and methods exist for the other classes. \n",
    "\n",
    "`datetime` objects hold a date and a time. Amongst the methods for datetime objects are:\n",
    "\n",
    "- `now()` creates a `datetime` object that contains the current day and time. You would typically use a class call to get a value for `now()`.\n",
    "- `datetime()` creates a `datetime` object using given arguments. The first three arguments are not optional, and are `year`, `month`, and `day`. The others, `hour`, `minute`, `second`, `microsecond`, and `tzinfo` are optional. Arguments can either be given in this order, or by specifying `<argument>=<value>`, with `<argument>` an argument name as specified here."
   ]
  },
  {
   "cell_type": "code",
   "execution_count": null,
   "metadata": {
    "collapsed": true
   },
   "outputs": [],
   "source": [
    "from datetime import datetime\n",
    "\n",
    "print( datetime.now() )"
   ]
  },
  {
   "cell_type": "markdown",
   "metadata": {},
   "source": [
    "When printing `datetime` objects you get a specific format as output. If you want a different format (including printing such things as the day of the week) then the `datetime` module has functions that allow you to specify different kinds of formatting. For more information, see the Python reference.\n",
    "\n",
    "To calculate with `datetime` objects, you need `timedelta`. A `timedelta` object specifies a difference between two `datetime` objects. A `timedelta` object stores `days`, `seconds`, and `microseconds`. You can create `timedelta` objects with other period-representing arguments, but it only stores the three mentioned here; other arguments are recalculated into these three. \n",
    "\n",
    "You can perform all kinds of calculations with `timedelta` objecs, but the most useful ones are concerning the difference between `datetime` objects. So you can add a `timedelta` object to a `datetime` object to get a new `datetime` object, or subtract two `datetime` objects from each other to get their difference as a `timedelta` object. "
   ]
  },
  {
   "cell_type": "code",
   "execution_count": null,
   "metadata": {
    "collapsed": true
   },
   "outputs": [],
   "source": [
    "from datetime import datetime, timedelta\n",
    "\n",
    "thisyear = datetime.now().year\n",
    "xmasthisyear = datetime( thisyear, 12, 25, 23, 59, 59 )\n",
    "thisday = datetime.now()\n",
    "days = xmasthisyear - thisday\n",
    "\n",
    "if days.days < 0:\n",
    "    print( \"Christmas will come again next year.\" )\n",
    "elif days.days == 0:\n",
    "    print( \"It's Christmas!\" )\n",
    "else:\n",
    "    print( \"Only\", days.days, \"days to Christmas!\" )"
   ]
  },
  {
   "cell_type": "markdown",
   "metadata": {},
   "source": [
    "---"
   ]
  },
  {
   "cell_type": "markdown",
   "metadata": {},
   "source": [
    "## `collections`"
   ]
  },
  {
   "cell_type": "markdown",
   "metadata": {},
   "source": [
    "The `collections` module contains handy classes that allow you to manipulate iterables such as strings, tuples, lists, dictionaries, and sets. `collections` offers many interesting functionalities, most of which are a bit eccentric, making it unlikely that you will need to use them soon. I discuss two of them, namely the `Counter` class and the `deque` class.\n",
    "\n",
    "A `Counter` object is a similar to a dictionary, which contains items as keys, and for each of the items a \"count\" as value. You create a `Counter` object by providing the sequence of which you want to count the items as argument. It has some useful methods, such as:\n",
    "\n",
    "- `most_common()` gets an integer as argument and returns a list containing the items that have the highest count, as many as the integer argument indicates. The items on the list are 2-tuples, the first element of a tuple being the counted item, and the second element being the count. They are ordered from most common to least common. If no integer argument is specified, the list contains all the items.\n",
    "- `update()` gets an iterable as argument and \"adds in\" the items of the iterable."
   ]
  },
  {
   "cell_type": "code",
   "execution_count": null,
   "metadata": {
    "collapsed": true
   },
   "outputs": [],
   "source": [
    "from collections import Counter\n",
    "\n",
    "data = [ \"apple\", \"banana\", \"apple\", \"banana\", \"apple\", \"cherry\" ]\n",
    "c = Counter( data )\n",
    "print( c )\n",
    "print( c.most_common( 1 ) )\n",
    "\n",
    "data2 = [ \"apple\", \"orange\", \"cherry\", \"cherry\", \"cherry\", \"cherry\" ]\n",
    "c.update( data2 )\n",
    "print( c )\n",
    "print( c.most_common() )"
   ]
  },
  {
   "cell_type": "markdown",
   "metadata": {},
   "source": [
    "A `deque` object is a list that is supposed to be used as a \"queue\", i.e., a list for which items are added and removed from the either end of the list. It supports methods that are similar to list methods, such as `append()`, `extend()`, and `pop()`, which work at the right side end of the list, but also has similar methods that work at the left side end of the list, such as `appendleft()`, `extendleft()`, and `popleft()`. For the rest, it has the same methods that you expect a list to have. You create a `deque` object with the iterable which you want to turn into a `deque` as argument."
   ]
  },
  {
   "cell_type": "code",
   "execution_count": null,
   "metadata": {
    "collapsed": true
   },
   "outputs": [],
   "source": [
    "from collections import deque\n",
    "\n",
    "dq = deque( [ 1, 2, 3 ] )\n",
    "dq.appendleft( 4 )\n",
    "dq.extendleft( [ 5, 6 ] )\n",
    "print( dq )"
   ]
  },
  {
   "cell_type": "markdown",
   "metadata": {},
   "source": [
    "---"
   ]
  },
  {
   "cell_type": "markdown",
   "metadata": {},
   "source": [
    "## `urllib`"
   ]
  },
  {
   "cell_type": "markdown",
   "metadata": {},
   "source": [
    "The `urllib` module allows you to access web pages in the same way that you access files. There are two modules of main interest: `urllib.request` contains functions to access Internet content, and `urllib.error` contains definition for exceptions that can be raised. You can also use `urllib` to communicate with webpages; if you want to do so, you need to study the `urllib.parse` module. For now, I only give a simple example in which you want to open a webpage and read its contents."
   ]
  },
  {
   "cell_type": "code",
   "execution_count": null,
   "metadata": {
    "collapsed": true
   },
   "outputs": [],
   "source": [
    "from urllib.request import urlopen\n",
    "from urllib.error import HTTPError, URLError\n",
    "from sys import exit\n",
    "\n",
    "try:\n",
    "    u = urlopen( \"http://www.python.org\" )\n",
    "except HTTPError as e:\n",
    "    print( \"HTTP Error\", e )\n",
    "    sys.exit()\n",
    "except URLError as e:\n",
    "    print( \"URL error\", e )\n",
    "    sys.exit()\n",
    "\n",
    "for i in range( 5 ):\n",
    "    text = u.readline()\n",
    "    print( text )\n",
    "    \n",
    "u.close()"
   ]
  },
  {
   "cell_type": "markdown",
   "metadata": {},
   "source": [
    "Note that from `urllib` only `urlopen` needs to be imported. Once you have opened a web address, it is returned as a file handle, so you can use the regular file methods on it."
   ]
  },
  {
   "cell_type": "markdown",
   "metadata": {},
   "source": [
    "---"
   ]
  },
  {
   "cell_type": "markdown",
   "metadata": {},
   "source": [
    "## `glob`"
   ]
  },
  {
   "cell_type": "markdown",
   "metadata": {},
   "source": [
    "The `glob` module provides a function `glob()` to produce lists of files based on a wildcard search pattern that is provided as argument. The wildcard search uses Unix conventions, most of which also hold on other systems. They are as follows:\n",
    "\n",
    "- A question mark (`?`) in a file name indicates any character.\n",
    "- A Kleene star (`*`) in a file name indicates any sequence of characters.\n",
    "- A sequence of characters between square brackets (`[]`) indicates any of these characters; a dash may be used to indicate a sequence that runs from the character to the left of the dash to the character to the right of the dash.\n",
    "\n",
    "For instance, the wildcard search \"`A[0-9]?B.*`\" looks for all files that start with the letter `A`, followed by a digit, followed by any character, followed by a `B`, with any extension. It depends on the operating system whether this is a case-sensitive or case-insensitive search.\n",
    "\n",
    "Do not confuse a wildcard search pattern with a regular expression. While they have some superficial resemblance (such as a question mark indicating \"any character\" in both of them), they are nothing alike. Wildcard searches only support the patterns listed above (some of which have a different meaning for regular expressions), and are only used for `glob` and when directly communicating with the system via the command prompt."
   ]
  },
  {
   "cell_type": "code",
   "execution_count": null,
   "metadata": {
    "collapsed": true
   },
   "outputs": [],
   "source": [
    "from glob import glob\n",
    "\n",
    "glist = glob( \"PC0[0-9]*.*\" )\n",
    "for name in glist:\n",
    "    print( name )"
   ]
  },
  {
   "cell_type": "markdown",
   "metadata": {},
   "source": [
    "The `glob` module also contains a function `iglob()`, which has the same functionality as `glob()`, but produces an iterator instead of a list.\n",
    "\n",
    "**Exercise**: Use `glob()` to list all Python files in the current directory."
   ]
  },
  {
   "cell_type": "code",
   "execution_count": null,
   "metadata": {
    "collapsed": true
   },
   "outputs": [],
   "source": [
    "# Python files.\n",
    "from glob import glob\n"
   ]
  },
  {
   "cell_type": "markdown",
   "metadata": {},
   "source": [
    "---"
   ]
  },
  {
   "cell_type": "markdown",
   "metadata": {},
   "source": [
    "## `statistics`"
   ]
  },
  {
   "cell_type": "markdown",
   "metadata": {},
   "source": [
    "The `statistics` module gives you access to various common statistical functions. All of these functions get as argument a sequence or iterator of numbers (integers or floats).\n",
    "\n",
    "- `mean()` calculates the mean (or average) of a sequence of numbers\n",
    "- `median()` calculates the median of a sequence of numbers, i.e., the \"middle\" number\n",
    "- `mode()` calculates the mode of a sequence of numbers, i.e., the number that occurs most often\n",
    "- `stdev()` calculates the standard deviation of a sequence of numbers\n",
    "- `variance()` calculates the variance of a sequence of numbers\n",
    "\n",
    "There are a few more functions in the `statistics` module, but these are the most-used ones. For more advanced statistical calculations, there are other modules available, which are discussed in a later chapter.\n",
    "\n",
    "These functions may raise a `StatisticsError`. This is particularly relevant in the case of the `mode()` function, as it is generated when no unique mode can be found."
   ]
  },
  {
   "cell_type": "code",
   "execution_count": null,
   "metadata": {
    "collapsed": true
   },
   "outputs": [],
   "source": [
    "from statistics import mean, median, mode, stdev, variance, StatisticsError\n",
    "\n",
    "data = [ 4, 5, 1, 1, 2, 2, 2, 3, 3, 3 ]\n",
    "\n",
    "print( \"mean:\", mean( data ) )\n",
    "print( \"median:\", median( data ) )\n",
    "try:\n",
    "    print( \"mode:\", mode( data ) )\n",
    "except StatisticsError as e:\n",
    "    print( e )\n",
    "print( \"st.dev.: {:.3f}\".format( stdev( data ) ) )\n",
    "print( \"variance: {:.3f}\".format( variance( data ) ) )"
   ]
  },
  {
   "cell_type": "markdown",
   "metadata": {},
   "source": [
    "Note that for a sequence with an even number of numbers, the median is the average of the two \"middle\" numbers. There are different ways of calculating the median in case of an even number of numbers; if you want to use a different one, examine other functions in the `statistics` module.\n",
    "\n",
    "As for the mode, in the literature you find multiple definitions of what the mode is supposed to be. The general definition is \"the most common number\", but what if there are multiple of those? What if each number is unique? The version of the mode that the `statistics` module supports does not seem to be the most common one."
   ]
  },
  {
   "cell_type": "markdown",
   "metadata": {},
   "source": [
    "---"
   ]
  },
  {
   "cell_type": "markdown",
   "metadata": {},
   "source": [
    "## What you learned"
   ]
  },
  {
   "cell_type": "markdown",
   "metadata": {},
   "source": [
    "In this chapter, you learned about:\n",
    "\n",
    "- `datetime` module\n",
    "- `collections` module\n",
    "- `urllib` module\n",
    "- `glob` module\n",
    "- `statistics` module"
   ]
  },
  {
   "cell_type": "markdown",
   "metadata": {},
   "source": [
    "---"
   ]
  },
  {
   "cell_type": "markdown",
   "metadata": {},
   "source": [
    "## Exercises"
   ]
  },
  {
   "cell_type": "markdown",
   "metadata": {},
   "source": [
    "### Exercise 27.1"
   ]
  },
  {
   "cell_type": "markdown",
   "metadata": {},
   "source": [
    "The code block below contains a sentence. Using the `Counter` class. List the five most common letters in that sentence, with their counts."
   ]
  },
  {
   "cell_type": "code",
   "execution_count": null,
   "metadata": {
    "collapsed": true
   },
   "outputs": [],
   "source": [
    "# Letter counts.\n",
    "from collections import Counter\n",
    "\n",
    "sentence = \"Your mother was a hamster and your father smelled of elderberries.\"\n"
   ]
  },
  {
   "cell_type": "markdown",
   "metadata": {},
   "source": [
    "### Exercise 27.2"
   ]
  },
  {
   "cell_type": "markdown",
   "metadata": {},
   "source": [
    "Create a program that asks the user for numbers, until the user enters zero. It then prints the mean, median, and mode of these numbers. The `statistics` module can be used for the mean and median; however, for the mode, print all those numbers that have the highest count, even if that entails that you print more than one number. By definition, for a number to be the mode it must occur at least twice; so if every number only occurs once, there is no mode. Hint: Consider using the `Counter` class to construct the mode."
   ]
  },
  {
   "cell_type": "code",
   "execution_count": null,
   "metadata": {
    "collapsed": true
   },
   "outputs": [],
   "source": [
    "# Mean, median, mode.\n"
   ]
  },
  {
   "cell_type": "markdown",
   "metadata": {},
   "source": [
    "---"
   ]
  },
  {
   "cell_type": "markdown",
   "metadata": {},
   "source": [
    "## Python 2"
   ]
  },
  {
   "cell_type": "markdown",
   "metadata": {},
   "source": [
    "`urllib` has been changed considerably between Python 2 and Python 3.\n",
    "\n",
    "The `statistics` module does not exist for Python 2."
   ]
  },
  {
   "cell_type": "markdown",
   "metadata": {},
   "source": [
    "---"
   ]
  },
  {
   "cell_type": "markdown",
   "metadata": {},
   "source": [
    "End of Chapter 27. Version 1.1. "
   ]
  }
 ],
 "metadata": {
  "kernelspec": {
   "display_name": "Python 3",
   "language": "python",
   "name": "python3"
  },
  "language_info": {
   "codemirror_mode": {
    "name": "ipython",
    "version": 3
   },
   "file_extension": ".py",
   "mimetype": "text/x-python",
   "name": "python",
   "nbconvert_exporter": "python",
   "pygments_lexer": "ipython3",
   "version": "3.6.1"
  }
 },
 "nbformat": 4,
 "nbformat_minor": 1
}
