{
 "cells": [
  {
   "cell_type": "code",
   "execution_count": null,
   "metadata": {
    "collapsed": true
   },
   "outputs": [],
   "source": [
    "\n",
    "\n",
    "\n",
    "\n",
    "\n"
   ]
  },
  {
   "cell_type": "markdown",
   "metadata": {},
   "source": [
    "You can use the code entry above as a simple editor for Python 3.4 code. You can run the code using <i>Ctrl+Enter</i>. If your code needs to `import` a module that is not standard Python, then you can upload it on your Home screen using the \"Upload\" button. Make sure that when you are finished coding, you copy your code and paste it to a separate Python file.\n",
    "\n",
    "We recommend against adding more cells to this notebook to edit code in. While this is possible using the \"Insert\" menu choice, all the code on the page, even if it is spread over multiple cells, is actually considered to be one single program. It is very likely that when you develop code in multiple cells, that it will not work anymore when you copy it to separate Python files."
   ]
  }
 ],
 "metadata": {
  "kernelspec": {
   "display_name": "Python 3",
   "language": "python",
   "name": "python3"
  },
  "language_info": {
   "codemirror_mode": {
    "name": "ipython",
    "version": 3
   },
   "file_extension": ".py",
   "mimetype": "text/x-python",
   "name": "python",
   "nbconvert_exporter": "python",
   "pygments_lexer": "ipython3",
   "version": "3.4.3"
  }
 },
 "nbformat": 4,
 "nbformat_minor": 0
}
