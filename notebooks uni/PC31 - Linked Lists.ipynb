{
 "cells": [
  {
   "cell_type": "markdown",
   "metadata": {},
   "source": [
    "# 31 - Linked Lists"
   ]
  },
  {
   "cell_type": "markdown",
   "metadata": {},
   "source": [
    "---"
   ]
  },
  {
   "cell_type": "markdown",
   "metadata": {},
   "source": [
    "A linked list is a fairly simple data structure, which is not natively supported by Python, because at first glance the standard Python list seems more powerful. However, for certain problems, linked lists are a more effective solution. This chapter explains how linked lists can be implemented, and how they are useful. An extra benefit is that explaining how linked lists work, will help understanding the next chapters on trees and graphs."
   ]
  },
  {
   "cell_type": "markdown",
   "metadata": {},
   "source": [
    "---"
   ]
  },
  {
   "cell_type": "markdown",
   "metadata": {},
   "source": [
    "## Referencing objects"
   ]
  },
  {
   "cell_type": "markdown",
   "metadata": {},
   "source": [
    "Objects may reference other objects. You implement this by creating an object and assigning it to an attribute of another object. For instance, below I create a class `Die`, which you can roll, and a class `DiceCup`, which contains a four-sided and six-sided die, which you can use to roll the two dice."
   ]
  },
  {
   "cell_type": "code",
   "execution_count": null,
   "metadata": {
    "collapsed": true
   },
   "outputs": [],
   "source": [
    "from random import randint\n",
    "\n",
    "class Die:\n",
    "    def __init__( self, sides ):\n",
    "        self.sides = sides\n",
    "    def roll( self ):\n",
    "        return randint( 1, self.sides )\n",
    "    \n",
    "class DiceCup:\n",
    "    def __init__( self ):\n",
    "        self.foursider = Die( 4 )\n",
    "        self.sixsider = Die( 6 )\n",
    "    def roll( self ):\n",
    "        return self.foursider.roll() + self.sixsider.roll()\n",
    "    \n",
    "dicecup = DiceCup()\n",
    "print( dicecup.roll() )"
   ]
  },
  {
   "cell_type": "markdown",
   "metadata": {},
   "source": [
    "As you can see, the class `DiceCup` has two attributes, `foursider` and `sixsider`, for which it creates two instances of the class `Die` which it assigns to them. The question is: how are these two dice stored in an instance of `DiceCup`? The answer is: they are \"references\", or \"pointers\". What does that mean? It means that the two `Die` objects exist somewhere in the computer's memory, and the `DiceCup` object contains the memory addresses of these two objects. \n",
    "\n",
    "So, if I would make a change to one of these `Die` objects, for instance change the number of sides, that affects the results of the `roll()` method of the `DiceCup` object; however, it would not affect the memory addresses that reside inside the `DiceCup` object.\n",
    "\n",
    "<img src=\"img/dicecup.png\" alt=\"dicecup\" style=\"width:300px;\"><br>\n",
    "<div align=\"center\">Figure 31.1: Dicecup and two dice.</div>\n",
    "\n",
    "We say that the `DiceCup` object \"links\" to two `Die` objects."
   ]
  },
  {
   "cell_type": "markdown",
   "metadata": {},
   "source": [
    "### References and values"
   ]
  },
  {
   "cell_type": "markdown",
   "metadata": {},
   "source": [
    "If you are wondering which data types are stored as references and which as values: the answer is that *all* data types are stored as references (at least in Python 3). However, if an object has an attribute that is of an immutable data type, then even if it got its value by assigning a variable to it, its value will not change if you change the value of the assigned variable. I can imagine that this sounds confusing, so here is an example, whereby the `DiceCup` class has, besides two dice, also a `capacity` which is an integer."
   ]
  },
  {
   "cell_type": "code",
   "execution_count": null,
   "metadata": {
    "collapsed": true
   },
   "outputs": [],
   "source": [
    "from random import randint\n",
    "\n",
    "class Die:\n",
    "    def __init__( self, sides ):\n",
    "        self.sides = sides\n",
    "    def roll( self ):\n",
    "        return randint( 1, self.sides )\n",
    "    \n",
    "class DiceCup:\n",
    "    def __init__( self ):\n",
    "        self.foursider = Die( 4 )\n",
    "        self.sixsider = Die( 6 )\n",
    "        self.capacity = 0\n",
    "    def roll( self ):\n",
    "        return self.foursider.roll() + self.sixsider.roll()\n",
    "    \n",
    "dicecup = DiceCup()\n",
    "capacity = 12\n",
    "dicecup.capacity = capacity\n",
    "newdie = Die( 100 )\n",
    "dicecup.foursider = newdie\n",
    "\n",
    "capacity = 5\n",
    "newdie.sides = 5\n",
    "print( dicecup.capacity )\n",
    "print( dicecup.foursider.sides )"
   ]
  },
  {
   "cell_type": "markdown",
   "metadata": {},
   "source": [
    "The last four lines of the code above change the value of the variable `capacity` which was assigned to `dicecup.capacity`, and the value of `newdie.sides`, whereby `newdie` was assigned to `dicecup.foursider`. The printing in the last two lines shows that the capacity of `dicecup` has not changed, but the number of sides of the `foursider` attribute has. This is because `capacity` is an integer and integers are immutable, while `newdie` is an instance of the class `Die`, which is mutable. In principle all instances of classes that are defined by the programmer are mutable."
   ]
  },
  {
   "cell_type": "markdown",
   "metadata": {},
   "source": [
    "### Linking objects"
   ]
  },
  {
   "cell_type": "markdown",
   "metadata": {},
   "source": [
    "Linking objects to each other allows the creation of networks of interlinking objects, which can be used to represent the data structures which underlie numerous problems. One of the simplest is the single-linked list, which will be discussed next."
   ]
  },
  {
   "cell_type": "markdown",
   "metadata": {},
   "source": [
    "---"
   ]
  },
  {
   "cell_type": "markdown",
   "metadata": {},
   "source": [
    "## Single-linked list"
   ]
  },
  {
   "cell_type": "markdown",
   "metadata": {},
   "source": [
    "The single-linked list is a data structure which consists of a series of `Node` objects, which form a chain. Each node has a reference to the next node in the chain. No node will refer back to an earlier node in the chain, i.e., no cycles will exist in the single-linked list. The last node will refer to `None`. A special `LinkedList` class contains a reference to the first object in the single-linked list.\n",
    "\n",
    "Below is an implementation of a single-linked list. The `SingleLinkedList` class contains a `head` attribute that points to the first object in the chain. Moreover, it contains a method `add` that adds a new object to the head of the chain, and a `remove` method that removes the head of the sequence. \n",
    "\n",
    "The nodes in the sequence are implemented as instances of the `SingleNode` class. They only contain the object that the node represents, and a reference to the next node.\n",
    "\n",
    "<img src=\"img/singlelinkedlist.png\" alt=\"single-linked list\" style=\"width:600px;\"><br>\n",
    "<div align=\"center\">Figure 31.2: Single-linked list.</div>"
   ]
  },
  {
   "cell_type": "code",
   "execution_count": null,
   "metadata": {
    "collapsed": true
   },
   "outputs": [],
   "source": [
    "class SingleNode:\n",
    "    def __init__( self, value, nextnode ):\n",
    "        self.value = value\n",
    "        self.nextnode = nextnode\n",
    "        \n",
    "class SingleLinkedList:\n",
    "    def __init__( self ):\n",
    "        self.head = None\n",
    "    def add( self, value ):\n",
    "        node = SingleNode( value, self.head )\n",
    "        self.head = node\n",
    "    def remove( self ):\n",
    "        if self.head != None:\n",
    "            self.head = self.head.nextnode\n",
    "            \n",
    "sll = SingleLinkedList()\n",
    "sll.add( 1 )\n",
    "sll.add( 2 )\n",
    "sll.add( 3 )\n",
    "\n",
    "cur = sll.head\n",
    "while cur != None:\n",
    "    print( cur.value )\n",
    "    cur = cur.nextnode"
   ]
  },
  {
   "cell_type": "markdown",
   "metadata": {},
   "source": [
    "As you can see, traversing the linked list means starting at the head, and then following the chain of `nextnode` references until the end.\n",
    "\n",
    "Naturally, a better implementation of the `SingleLinkedList` class would include methods to traverse the chain, rather than having the programmer who uses the class access the `head` and `nextnode` attributes in the main code. I will leave that to the students as an exercise, though (see the Exercises section below)."
   ]
  },
  {
   "cell_type": "markdown",
   "metadata": {},
   "source": [
    "### Efficiency of a single-linked list"
   ]
  },
  {
   "cell_type": "markdown",
   "metadata": {},
   "source": [
    "You might wonder why you would ever use a single-linked list, which only allows adding new values at the front of the chain, when a regular Python list can do so much more. One reason to use one might be that a single-linked list is much more efficient than a Python list. The reason is that a Python list is implemented as an array (see the chapter on sorting), which is an efficient data structure for looking up items by their index, but a very inefficient data structure for inserting or removing items, unless they reside at the end of the list. This can be demonstrated by comparing two blocks of equivalent code, which add 100,000 numbers at the front of a chain.\n",
    "\n",
    "The first uses a regular Python list:"
   ]
  },
  {
   "cell_type": "code",
   "execution_count": null,
   "metadata": {
    "collapsed": true
   },
   "outputs": [],
   "source": [
    "from datetime import datetime\n",
    "\n",
    "COUNT = 100000\n",
    "numlist = []\n",
    "\n",
    "start = datetime.now()\n",
    "\n",
    "for i in range( COUNT ):\n",
    "    numlist.insert( 0, i )\n",
    "    \n",
    "end = datetime.now()\n",
    "\n",
    "print( \"{}.{} seconds needed to insert {} numbers\".format( \n",
    "        (end - start).seconds, (end - start).microseconds, COUNT ) )"
   ]
  },
  {
   "cell_type": "markdown",
   "metadata": {},
   "source": [
    "The second uses the `SingleLinkedList` class defined above."
   ]
  },
  {
   "cell_type": "code",
   "execution_count": null,
   "metadata": {
    "collapsed": true
   },
   "outputs": [],
   "source": [
    "from datetime import datetime\n",
    "\n",
    "class SingleNode:\n",
    "    def __init__( self, value, nextnode ):\n",
    "        self.value = value\n",
    "        self.nextnode = nextnode\n",
    "        \n",
    "class SingleLinkedList:\n",
    "    def __init__( self ):\n",
    "        self.head = None\n",
    "    def add( self, value ):\n",
    "        node = SingleNode( value, self.head )\n",
    "        self.head = node\n",
    "    def remove( self ):\n",
    "        if self.head != None:\n",
    "            self.head = self.head.nextnode\n",
    "            \n",
    "COUNT = 100000\n",
    "\n",
    "start = datetime.now()\n",
    "\n",
    "sll = SingleLinkedList()\n",
    "for i in range( 1, COUNT ):\n",
    "    sll.add( i )\n",
    "    \n",
    "end = datetime.now()\n",
    "\n",
    "print( \"{}.{} seconds needed to insert {} numbers\".format( \n",
    "        (end - start).seconds, (end - start).microseconds, COUNT ) )"
   ]
  },
  {
   "cell_type": "markdown",
   "metadata": {},
   "source": [
    "On my computer, the first block of code needs about 2 seconds to insert the 100,000 numbers, while the second needs less than 1. However, when increasing the task to inserting 1,000,000 numbers, the first block needs about 3 *minutes*, while the second is done in just over 1 *second*."
   ]
  },
  {
   "cell_type": "markdown",
   "metadata": {},
   "source": [
    "__Exercise__: What is the time complexity of these two blocks of code?"
   ]
  },
  {
   "cell_type": "markdown",
   "metadata": {},
   "source": [
    "__Answer__: As I discussed in the chapter on sorting, inserting in a Python list is `O(n`<sup>2</sup>`)`. For the single-linked list, insertion of one item needs constant time, since nothing needs to be moved in memory. Therefore, insertion of `n` items is `O(n)`. \n",
    "\n",
    "If you wonder why increasing the number of items 10-fold does not require 10 times as much time for the linked list, the answer is that there is always some startup time involved for creating the basic class definitions and setting up the `range()`."
   ]
  },
  {
   "cell_type": "markdown",
   "metadata": {},
   "source": [
    "### Appending to a single-linked list"
   ]
  },
  {
   "cell_type": "markdown",
   "metadata": {},
   "source": [
    "The single-linked list as described above can only add new items at the front of the chain. To allow appending items at the end of the chain, a separate reference to the end of the chain is needed."
   ]
  },
  {
   "cell_type": "code",
   "execution_count": null,
   "metadata": {
    "collapsed": true
   },
   "outputs": [],
   "source": [
    "class SingleNode:\n",
    "    def __init__( self, value, nextnode ):\n",
    "        self.value = value\n",
    "        self.nextnode = nextnode\n",
    "        \n",
    "class SingleLinkedList:\n",
    "    def __init__( self ):\n",
    "        self.head = None\n",
    "        self.tail = None\n",
    "    def add( self, value ):\n",
    "        node = SingleNode( value, self.head )\n",
    "        self.head = node\n",
    "        if self.tail == None:\n",
    "            self.tail = self.head\n",
    "    def remove( self ):\n",
    "        if self.head == self.tail:\n",
    "            self.head = None\n",
    "            self.tail = None\n",
    "        else:\n",
    "            self.head = self.head.nextnode\n",
    "    def append( self, value ):\n",
    "        node = SingleNode( value, None )\n",
    "        if self.tail == None:\n",
    "            self.head = node\n",
    "            self.tail = node\n",
    "        else:\n",
    "            self.tail.nextnode = node\n",
    "            self.tail = node\n",
    "            \n",
    "sll = SingleLinkedList()\n",
    "sll.add( 1 )\n",
    "sll.add( 2 )\n",
    "sll.add( 3 )\n",
    "sll.append( 4 )\n",
    "sll.append( 5 )\n",
    "\n",
    "cur = sll.head\n",
    "while cur != None:\n",
    "    print( cur.value )\n",
    "    cur = cur.nextnode"
   ]
  },
  {
   "cell_type": "markdown",
   "metadata": {},
   "source": [
    "Note that adding a reference to the tail of the single-linked list, which allows an efficient implementation of the `append()` method, also impacts the implementation of the other methods. Special care must be taken when adding to an empty chain, as this influences both the head and the tail. Special care must also be taken when removing from a chain with only one item, as this will set both the head and tail to `None`.\n",
    "\n",
    "Also take note of the fact that in the `append()` method, first the new node gets added to the tail of the chain, and only then the value of `tail` is adapted. It would not work the other way around, because by changing the value of `tail`, I no longer have access to the `nextnode` of the original `tail`.\n",
    "\n",
    "If besides appending at the end of the list, I also want to allow inserting items in the list, I will need to add at least two methods: one to `find()` a particular item in the chain, after which the new item is to be inserted, and one to `insert()` the new item at that spot in the chain. Insertion, in pseudocode, would be something like:\n",
    "\n",
    "    spot = sll.find( location )\n",
    "    node = SingleNode( value, spot.nextnode )\n",
    "    spot.nextnode = node\n",
    "    \n",
    "Of course, I will have to deal with the special cases of having an empty chain, inserting a new node at the start of the list (which will change the head), and inserting a new node after the tail (which will change the tail). Rather than discussing this now, I will bring it up for double-linked lists."
   ]
  },
  {
   "cell_type": "markdown",
   "metadata": {},
   "source": [
    "---"
   ]
  },
  {
   "cell_type": "markdown",
   "metadata": {},
   "source": [
    "## Double-linked list"
   ]
  },
  {
   "cell_type": "markdown",
   "metadata": {},
   "source": [
    "A double-linked list is a linked list in which each node not only links to the next one, but also to the previous one. The main advantage of a double-linked list is that items can not only be easily added and removed at the head of the list, but also at the tail. Moreover, the linked list can be searched in two directions.\n",
    "\n",
    "<img src=\"img/doublelinkedlist.png\" alt=\"double-linked list\" style=\"width:500px;\"><br>\n",
    "<div align=\"center\">Figure 31.3: Double-linked list.</div>\n",
    "\n",
    "An implementation of a double-linked list is given below. It includes not only adding and removing nodes at the head and tail, but also finding a node with a particular value, and inserting a value after a node. This code is quite long, but mostly straightforward. The main thing to learn from it is that you have to be careful when adding or removing nodes, as this may impact many of the references in the linked list."
   ]
  },
  {
   "cell_type": "code",
   "execution_count": null,
   "metadata": {
    "collapsed": true
   },
   "outputs": [],
   "source": [
    "class DoubleNode:\n",
    "    def __init__( self, value, prevnode, nextnode ):\n",
    "        self.value = value\n",
    "        self.prevnode = prevnode\n",
    "        self.nextnode = nextnode\n",
    "        \n",
    "class DoubleLinkedList:\n",
    "    def __init__( self ):\n",
    "        self.head = None\n",
    "        self.tail = None\n",
    "    def addhead( self, value ):\n",
    "        node = DoubleNode( value, None, self.head )\n",
    "        self.head = node\n",
    "        secondnode = self.head.nextnode\n",
    "        if secondnode != None:\n",
    "            secondnode.prevnode = self.head\n",
    "        else:\n",
    "            self.tail = self.head\n",
    "    def addtail( self, value ):\n",
    "        node = DoubleNode( value, self.tail, None )\n",
    "        self.tail = node\n",
    "        penultnode = self.tail.prevnode\n",
    "        if penultnode != None:\n",
    "            penultnode.nextnode = self.tail\n",
    "        else:\n",
    "            self.head = self.tail\n",
    "    def removehead( self ):\n",
    "        if self.head != None:\n",
    "            self.head = self.head.nextnode\n",
    "            if self.head != None:\n",
    "                self.head.prevnode = None\n",
    "            else:\n",
    "                self.tail = None\n",
    "    def removetail( self ):\n",
    "        if self.tail != None:\n",
    "            self.tail = self.tail.prevnode\n",
    "            if self.tail != None:\n",
    "                self.tail.nextnode = None\n",
    "            else:\n",
    "                self.head = None\n",
    "    def find( self, value ):\n",
    "        node = self.head\n",
    "        while node != None:\n",
    "            if node.value == value:\n",
    "                return node\n",
    "            node = node.nextnode\n",
    "        return None\n",
    "    def insert( self, node, value ):\n",
    "        if node == None:\n",
    "            self.addhead( value )\n",
    "        elif node.nextnode == None:\n",
    "            self.addtail( value )\n",
    "        else:\n",
    "            newnode = DoubleNode( value, node, node.nextnode )\n",
    "            node.nextnode = newnode\n",
    "            newnode.nextnode.prevnode = newnode\n",
    "            \n",
    "dll = DoubleLinkedList()\n",
    "dll.addhead( 2 )\n",
    "dll.addhead( 1 )\n",
    "dll.addtail( 3 )\n",
    "dll.addtail( 4 )\n",
    "\n",
    "cur = dll.head\n",
    "while cur != None:\n",
    "    print( cur.value )\n",
    "    cur = cur.nextnode\n",
    "    \n",
    "for i in range( 6 ):\n",
    "    if dll.find( i ):\n",
    "        print( i, \"found\" )\n",
    "    else:\n",
    "        print( i, \"not found\")\n",
    "        \n",
    "node = dll.find( 3 )\n",
    "dll.insert( node, 10 )"
   ]
  },
  {
   "cell_type": "markdown",
   "metadata": {},
   "source": [
    "__Exercise__: Add some code to add extra nodes to the double-linked list, remove some nodes, and traverse the double-linked list from tail to head. "
   ]
  },
  {
   "cell_type": "markdown",
   "metadata": {},
   "source": [
    "As I said, quite a bit of code is needed to ensure that all the links remain correct. When nodes are added to the head of the list, not only the new node must be created, but the second node also must be updated. When nodes are added to the tail, also the penultimate node must be updated. Special care must be taken to deal with a double-linked list with no nodes or with just one node: any updates affect both the head and the tail. Even more updates must be made when inserting nodes in the linked list.\n",
    "\n",
    "One point of criticism that can be given with respect to the code is that in principle it is possible to call the `insert()` method with a `node` which is not actually in the double-linked list. There are various ways to solve this. Probably the best is to maintain, next to the `head` and `tail` references, also a `current` reference which is positioned at some node in the double-linked list. Using new methods, the `current` reference can be moved forward and backward through the list. Inserting is only possible after the node that is indicated by `current`. This is similar to how file pointers are used when overwriting parts of a binary file (see the corresponding chapter). I did not add this approach to the code above, as it would make the code even longer as more references must be maintained."
   ]
  },
  {
   "cell_type": "markdown",
   "metadata": {},
   "source": [
    "---"
   ]
  },
  {
   "cell_type": "markdown",
   "metadata": {},
   "source": [
    "## What you learned"
   ]
  },
  {
   "cell_type": "markdown",
   "metadata": {},
   "source": [
    "In this chapter, you learned about:\n",
    "\n",
    "- Linking objects\n",
    "- Single-linked lists\n",
    "- Double-linked lists"
   ]
  },
  {
   "cell_type": "markdown",
   "metadata": {},
   "source": [
    "---"
   ]
  },
  {
   "cell_type": "markdown",
   "metadata": {},
   "source": [
    "## Exercises"
   ]
  },
  {
   "cell_type": "markdown",
   "metadata": {},
   "source": [
    "### Exercise 31.1"
   ]
  },
  {
   "cell_type": "markdown",
   "metadata": {},
   "source": [
    "You often want to know the number of items in a linked list. In the code below (which is copied from the chapter), add a method `length()` to `SingleLinkedList` which returns the number of items in the chain. Make sure that it is `O(1)`."
   ]
  },
  {
   "cell_type": "code",
   "execution_count": null,
   "metadata": {
    "collapsed": true
   },
   "outputs": [],
   "source": [
    "# count() for SingleLinkedList.\n",
    "\n",
    "class SingleNode:\n",
    "    def __init__( self, value, nextnode ):\n",
    "        self.value = value\n",
    "        self.nextnode = nextnode\n",
    "        \n",
    "class SingleLinkedList:\n",
    "    def __init__( self ):\n",
    "        self.head = None\n",
    "    def add( self, value ):\n",
    "        node = SingleNode( value, self.head )\n",
    "        self.head = node\n",
    "    def remove( self ):\n",
    "        if self.head != None:\n",
    "            self.head = self.head.nextnode\n",
    "            "
   ]
  },
  {
   "cell_type": "markdown",
   "metadata": {},
   "source": [
    "### Exercise 31.2"
   ]
  },
  {
   "cell_type": "markdown",
   "metadata": {},
   "source": [
    "In Python, one way to implement a linked list is as a sequence class, as discussed in the chapter on operator overloading.  Implement a single-linked list as a sequence class. Implement `addhead()` and `addtail()` methods to add an item to the start and the end of the linked list, respectively. Implement a `pop()` method to remove the first item of the linked list and return its value. For the `__getitem__()` and `__setitem__()` methods, the key is the index of the item in the linked list. Also implement the `__contains__()` and `__len__()` methods. Implement a `__repr__()` method to display the contents of the linked list. Note that, by using this implementation, you can now use a `for ... in ...` construction to traverse the linked list (as well as using indices)."
   ]
  },
  {
   "cell_type": "code",
   "execution_count": null,
   "metadata": {
    "collapsed": true
   },
   "outputs": [],
   "source": [
    "# Single-linked list as sequence class.\n"
   ]
  },
  {
   "cell_type": "markdown",
   "metadata": {},
   "source": [
    "### Exercise 31.3"
   ]
  },
  {
   "cell_type": "markdown",
   "metadata": {},
   "source": [
    "An alternative way to set up a linked list is as an iterable object, as discussed in the chapter on iterators and generators. Implement a single-linked list, which allows adding items to the end of the list, as an iterator. I personally prefer to set it up using delegated iteration, as that means that you do not have to reset the iterator explicitly if you wish to traverse it multiple times. If you decide to use delegated iteration, however, make sure that you do not make a copy of the linked list for each delegated object; they should simply consist of a reference to a node in the linked list. "
   ]
  },
  {
   "cell_type": "code",
   "execution_count": null,
   "metadata": {
    "collapsed": true
   },
   "outputs": [],
   "source": [
    "# Single-linked list as iterator.\n"
   ]
  },
  {
   "cell_type": "markdown",
   "metadata": {},
   "source": [
    "### Exercise 31.4"
   ]
  },
  {
   "cell_type": "markdown",
   "metadata": {},
   "source": [
    "Create a double-linked list for storing integers. Implement a `sort()` method for this double-linked list."
   ]
  },
  {
   "cell_type": "code",
   "execution_count": null,
   "metadata": {
    "collapsed": true
   },
   "outputs": [],
   "source": [
    "# Sorting a double-linked list.\n"
   ]
  },
  {
   "cell_type": "markdown",
   "metadata": {},
   "source": [
    "---"
   ]
  },
  {
   "cell_type": "markdown",
   "metadata": {},
   "source": [
    "End of Chapter 31. Version 1.0. "
   ]
  }
 ],
 "metadata": {
  "kernelspec": {
   "display_name": "Python 3",
   "language": "python",
   "name": "python3"
  },
  "language_info": {
   "codemirror_mode": {
    "name": "ipython",
    "version": 3
   },
   "file_extension": ".py",
   "mimetype": "text/x-python",
   "name": "python",
   "nbconvert_exporter": "python",
   "pygments_lexer": "ipython3",
   "version": "3.6.1"
  }
 },
 "nbformat": 4,
 "nbformat_minor": 1
}
