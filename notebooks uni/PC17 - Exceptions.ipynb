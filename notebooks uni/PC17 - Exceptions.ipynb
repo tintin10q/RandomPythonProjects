{
 "cells": [
  {
   "cell_type": "markdown",
   "metadata": {},
   "source": [
    "# 17 - Exceptions"
   ]
  },
  {
   "cell_type": "markdown",
   "metadata": {},
   "source": [
    "---"
   ]
  },
  {
   "cell_type": "markdown",
   "metadata": {},
   "source": [
    "Sometimes runtime errors occur not because you made a programming mistake, but because your program encountered a situation that you could not foresee when you wrote it. This is particularly relevant when you deal with files: for instance, when you access a file on a USB-stick, and the user pulls out the USB-stick during the file processing, obviously an error occurs that you cannot really account for in your code. Every runtime error raises a so-called \"exception\", and you can \"capture\" such exceptions if you want to deal with them in your program, rather than make the program end abruptly. "
   ]
  },
  {
   "cell_type": "markdown",
   "metadata": {},
   "source": [
    "---"
   ]
  },
  {
   "cell_type": "markdown",
   "metadata": {},
   "source": [
    "## Errors and exceptions"
   ]
  },
  {
   "cell_type": "markdown",
   "metadata": {},
   "source": [
    "When you try to run a Python program, Python first does a quick check to see if all the statements in the program meet the basic Python syntax requirements. If they do not, Python announces a \"syntax error\" and will not run the program. If no syntax errors are encountered, Python will run the program, but may encounter statements that generate errors while trying to execute them. Such statements cause a \"runtime error\". You have seen runtime errors many times while writing code (don't try to deny it).\n",
    "\n",
    "In general, you try to fix runtime errors by extending or changing your code. For instance, the following program causes a runtime error when you enter a zero as input:"
   ]
  },
  {
   "cell_type": "code",
   "execution_count": null,
   "metadata": {},
   "outputs": [],
   "source": [
    "from pcinput import getInteger\n",
    "\n",
    "num = getInteger( \"Please enter a number: \" )\n",
    "print( \"3 divided by {} is {}\".format( num, 3/num ) )\n",
    "print( \"Goodbye\" )"
   ]
  },
  {
   "cell_type": "markdown",
   "metadata": {},
   "source": [
    "Python tells you what kind of error it is, namely a `ZeroDivisionError`. To fix it, you can change the program:"
   ]
  },
  {
   "cell_type": "code",
   "execution_count": null,
   "metadata": {
    "collapsed": true
   },
   "outputs": [],
   "source": [
    "from pcinput import getInteger\n",
    "\n",
    "num = getInteger( \"Please enter a number: \" )\n",
    "if num == 0:\n",
    "    print( \"Dividing by zero is not allowed\" )\n",
    "else:\n",
    "    print( \"3 divided by {} is {}\".format( num, 3/num ) )\n",
    "print( \"Goodbye\" )"
   ]
  },
  {
   "cell_type": "markdown",
   "metadata": {},
   "source": [
    "`ZeroDivisionError` is actually the name of an \"exception\" that Python \"raises\" (generates). If you do not handle such an exception in your program, Python interrupts the program's execution and splashes its error message on the screen. However, this entails that you actually *can* handle exceptions in your program and simply continue running it.\n",
    "\n",
    "While in the code above you should ensure that no exception is raised on dividing by zero -- because you can foresee that this might happen -- it occasionally happens that you have to accept that exceptions might be raised as you cannot foresee all the circumstances that your program might have to deal with. This is especially relevant when your program depends on elements outside its direct control, such as files and user behavior."
   ]
  },
  {
   "cell_type": "markdown",
   "metadata": {},
   "source": [
    "---"
   ]
  },
  {
   "cell_type": "markdown",
   "metadata": {},
   "source": [
    "## Exception handling"
   ]
  },
  {
   "cell_type": "markdown",
   "metadata": {},
   "source": [
    "To handle exceptions explicitly in your program, you use a `try ... except` clause. There are different ways of applying this clause."
   ]
  },
  {
   "cell_type": "markdown",
   "metadata": {},
   "source": [
    "### `try ... except`"
   ]
  },
  {
   "cell_type": "markdown",
   "metadata": {},
   "source": [
    "The most basic form of the `try ... except` clause has the following syntax:\n",
    "\n",
    "`try:`<br>\n",
    "&nbsp;&nbsp;&nbsp;&nbsp;&nbsp;&nbsp;`<statements>`<br>\n",
    "`except:`<br>\n",
    "&nbsp;&nbsp;&nbsp;&nbsp;&nbsp;&nbsp;`<exception handling>`\n",
    "\n",
    "When the `<statements>` between `try:` and `except:` are executed and raise an exception, Python immediately jumps to the `<exception handling>` statements and executes those, after which the program continues as normal, at the first line below the `<exception handling>` statements. If no exceptions are raised during the execution of the `<statements>`, the `<exception handling>` statements are skipped.\n",
    "\n",
    "Using exception handling, the code at the start of this chapter can be written as follows to avoid runtime errors:\n"
   ]
  },
  {
   "cell_type": "code",
   "execution_count": null,
   "metadata": {},
   "outputs": [],
   "source": [
    "from pcinput import getInteger\n",
    "\n",
    "num = getInteger( \"Please enter a number: \" )\n",
    "try:\n",
    "    print( \"3 divided by {} is {}\".format( num, 3/num ) )\n",
    "except:\n",
    "    print( \"Division by zero is not allowed\" )\n",
    "print( \"Goodbye\" )"
   ]
  },
  {
   "cell_type": "markdown",
   "metadata": {},
   "source": [
    "Multiple statements may be part of a single `try ... except` clause. For instance, the following code raises an exception both when a user enters zero and when a user enters 3. Both exceptions are handled by the same `try ... except` clause. "
   ]
  },
  {
   "cell_type": "code",
   "execution_count": null,
   "metadata": {},
   "outputs": [],
   "source": [
    "from pcinput import getInteger\n",
    "\n",
    "num = getInteger( \"Please enter a number: \" )\n",
    "try:\n",
    "    print( \"3 divided by {} is {}\".format( num, 3/num ) )\n",
    "    print( \"3 divided by {}-3 is {}\".format( num, 3/(num-3) ) )\n",
    "except:\n",
    "    print( \"Division by zero is not allowed\" )\n",
    "print( \"Goodbye\" )"
   ]
  },
  {
   "cell_type": "markdown",
   "metadata": {},
   "source": [
    "This is slightly ugly, not only because these errors should have been avoided rather than handled via exceptions, but also because when an exception occurs, it is unclear which of the statements caused it (though in this case, if you enter 3, you can see that the first of the two statements under the `try` executed correctly). However, this is just a demonstration, and there certainly can be situations where you say \"I do not care where an exception occurs in this sequence of statements, but if anything happens, I want to do this.\""
   ]
  },
  {
   "cell_type": "markdown",
   "metadata": {},
   "source": [
    "### Handling specific exceptions"
   ]
  },
  {
   "cell_type": "markdown",
   "metadata": {},
   "source": [
    "Examine the code below. This code can cause at least two different exceptions. Which?"
   ]
  },
  {
   "cell_type": "code",
   "execution_count": null,
   "metadata": {},
   "outputs": [],
   "source": [
    "print( 3 / int( input( \"Please enter a number: \" ) ) )"
   ]
  },
  {
   "cell_type": "markdown",
   "metadata": {},
   "source": [
    "The two different exceptions that this code can generate are the `ZeroDivisionError` when you enter a zero, and the `ValueError` when you enter something that is not an integer. Try it if you did not try it already.\n",
    "\n",
    "You can handle both these errors with a single `try ... except` clause, but you can distinguish them by specifying multiple excepts. Each `except` can be followed by one of the specific exceptions, and the code below it will only be executed if that specific exception is raised."
   ]
  },
  {
   "cell_type": "code",
   "execution_count": null,
   "metadata": {},
   "outputs": [],
   "source": [
    "try:\n",
    "    print( 3 / int( input( \"Please enter a number: \" ) ) )\n",
    "except ZeroDivisionError:\n",
    "    print( \"Dividing by zero is not allowed\" )\n",
    "except ValueError:\n",
    "    print( \"You have not entered an integer\" )\n",
    "print( \"Goodbye\" )"
   ]
  },
  {
   "cell_type": "markdown",
   "metadata": {},
   "source": [
    "If you want to capture \"all remaining exceptions\", you add an `except` without a specific exception at the end. Only one of the `except` clauses will be executed, namely the first one encountered that applies. In this sense, it is very much like an `if ... elif ... elif ... else` clause."
   ]
  },
  {
   "cell_type": "code",
   "execution_count": null,
   "metadata": {},
   "outputs": [],
   "source": [
    "try:\n",
    "    print( 3 / int( input( \"Please enter a number: \" ) ) )\n",
    "except ZeroDivisionError:\n",
    "    print( \"Dividing by zero is not allowed\" )\n",
    "except ValueError:\n",
    "    print( \"You have not entered an integer\" )\n",
    "except:\n",
    "    print( \"Something unforeseen went wrong\" )\n",
    "print( \"Goodbye\" )"
   ]
  },
  {
   "cell_type": "markdown",
   "metadata": {},
   "source": [
    "Here is a list of some specific exceptions that are raised often:\n",
    "\n",
    "- `ZeroDivisionError`: Trying to divide by zero\n",
    "- `IndexError`: Trying to access a list or tuple element with an index that is out of bounds\n",
    "- `KeyError`: Trying to access a dictionary element with an unknown key\n",
    "- `FileNotFoundError`: Trying to open a file that does not exist for reading\n",
    "- `IOError`: Any error that occurs while trying to access a file\n",
    "- `ValueError`: Error while trying to type cast a value to another value\n",
    "- `TypeError`: Using a value of a type that is not supported for an operation\n",
    "\n",
    "**Exercise**: The code below can generate several exceptions. These are now handled by a single `try ... except` clause. Extend this code by handling all exceptions that may occur explicitly (there are at least three different kinds of exceptions that can be raised). Note: Let me stress again that I rather have you avoid exceptions occurring than handling them, but in this case I want you to practice with exception handling."
   ]
  },
  {
   "cell_type": "code",
   "execution_count": null,
   "metadata": {},
   "outputs": [],
   "source": [
    "fruitlist = [\"apple\", \"banana\", \"cherry\"]\n",
    "try:\n",
    "    num = input( \"Please enter a number: \" )\n",
    "    if \".\" in num:\n",
    "        num = float( num )\n",
    "    else:\n",
    "        num = int( num )\n",
    "    print( fruitlist[num] )\n",
    "except:\n",
    "    print( \"Something went wrong\" )    "
   ]
  },
  {
   "cell_type": "markdown",
   "metadata": {},
   "source": [
    "### Adding an `else` clause"
   ]
  },
  {
   "cell_type": "markdown",
   "metadata": {},
   "source": [
    "At the end of a `try ... except` clause you can add an `else` clause. The statements with that `else` will be executed if *no* exception occurs. For instance, in the code block below, the calculated value for `num` will only be printed if no exception is raised."
   ]
  },
  {
   "cell_type": "code",
   "execution_count": null,
   "metadata": {},
   "outputs": [],
   "source": [
    "try:\n",
    "    num = 3 / int( input( \"Please enter a number: \" ) ) \n",
    "except ZeroDivisionError:\n",
    "    print( \"Dividing by zero is not allowed\" )\n",
    "except ValueError:\n",
    "    print( \"You have not entered an integer\" )\n",
    "except:\n",
    "    print( \"Something unforeseen went wrong\" )\n",
    "else:\n",
    "    print( num )\n",
    "print( \"Goodbye\" )"
   ]
  },
  {
   "cell_type": "markdown",
   "metadata": {},
   "source": [
    "In general, I personally prefer not to use an `else` clause with an exception, as it feels like the code under the `except`  clauses should be code that is only executed in abnormal circumstances. But it is possible to use it."
   ]
  },
  {
   "cell_type": "markdown",
   "metadata": {},
   "source": [
    "### Adding a `finally` clause"
   ]
  },
  {
   "cell_type": "markdown",
   "metadata": {},
   "source": [
    "You can add an extra branch to the `try` clause, which is `finally:`. The `finally` clause has statements which are executed regardless the manner in which the `try` clause is exited. If it ends normally, it is executed, but if you get a runtime error, it is executed too. You can use such a `finally` clause to, for instance, make sure that a file gets closed. "
   ]
  },
  {
   "cell_type": "code",
   "execution_count": null,
   "metadata": {},
   "outputs": [],
   "source": [
    "try:\n",
    "    fp = open( \"pc_rose.txt\" )\n",
    "    print( \"File opened\" )\n",
    "    print( fp.read() )\n",
    "finally:\n",
    "    fp.close()\n",
    "    print( \"File closed\" )"
   ]
  },
  {
   "cell_type": "markdown",
   "metadata": {},
   "source": [
    "### Accessing exception information"
   ]
  },
  {
   "cell_type": "markdown",
   "metadata": {},
   "source": [
    "You can get extra information on the exception by adding and `as` clause to the `except`, using the syntax `except <exception> as <variable>`. The variable then contains an exception \"object\", that may provide more information on the exception. The problem is that there is no standardized way to get the information out: it depends on the kind of exception what the variable contains.\n",
    "\n",
    "The variable will always have a tuple of arguments, that were provided to the exception when it was raised. You can examine these arguments using `<variable>.args`."
   ]
  },
  {
   "cell_type": "code",
   "execution_count": null,
   "metadata": {},
   "outputs": [],
   "source": [
    "try:\n",
    "    fp = open( \"NotAFile\" )\n",
    "    fp.close()\n",
    "except IOError as ex:\n",
    "    print( ex.args )\n",
    "    \n",
    "try:\n",
    "    print( int( \"NotAnInteger\" ) )\n",
    "except ValueError as ex:\n",
    "    print( ex.args )"
   ]
  },
  {
   "cell_type": "markdown",
   "metadata": {},
   "source": [
    "If you run the code above, you see that an `IOError` gets a tuple of two values: an integer and a string. A `ValueError` gets a tuple with only one value, namely a string. The integer that is provided for the `IOError` is actually quite informative, as it explains what went wrong."
   ]
  },
  {
   "cell_type": "markdown",
   "metadata": {},
   "source": [
    "### General advice on using exception handling"
   ]
  },
  {
   "cell_type": "markdown",
   "metadata": {},
   "source": [
    "Never capture an exception and then just ignore it. Especially do not use a general `try ... except` clause and then do nothing with the exception. If you think you can ignore a certain exception, make sure that you capture that specific exception, and comment in your program why you think you can ignore it. Basically, all exceptions should either be handled responsibly or should just make the program crash."
   ]
  },
  {
   "cell_type": "markdown",
   "metadata": {},
   "source": [
    "---"
   ]
  },
  {
   "cell_type": "markdown",
   "metadata": {},
   "source": [
    "## File handling exceptions"
   ]
  },
  {
   "cell_type": "markdown",
   "metadata": {},
   "source": [
    "Any problem with accessing files, whether it is the inability to find a file, a problem with reading or writing a file, or trying to open a protected system file or even a directory, leads to an `IOError` exception. Since problems with file access are quite common and usually at least partly outside the realm of control of the program, it is a good idea to handle `IOError` exceptions in your programs when you can.\n",
    "\n",
    "Since many different things can go wrong with files, the `args` tuple explained above might be used to provide better information on what you have to do to handle the problem. For instance, if your program asked the user to supply a filename, and when you open that file you get an `IOError`, if the error number (the first element of the tuple) indicates that the file does not exist (2), then an appropriate response might be to simply report this to the user and ask for a new name.\n",
    "\n",
    "The error numbers are defined in the `errno` module, which you can import in your program. The module offers constants that you can use instead of the actual numbers, which is the convention. The most common error numbers are:\n",
    "\n",
    "- `errno.ENOENT`: No such file or directory. You get this when you try to access a file that does not exist.\n",
    "- `errno.EACCESS`: Permission denied. You can get this in varied circumstances, such as when you try to read from a closed file, when you try to open a read-only file for writing, or when you try to open a directory as if it is a file.\n",
    "- `errno.ENOSPC`: No more space left on device. You get this when you try to write a file and there is no room for it, for instance when you try to write to a USB-stick that is full.\n",
    "\n",
    "There is a big list of such error numbers which you can easily find in the reference manuals. You might not understand what all of them refer to, and actually many of them are archaic and no longer occur on modern computer systems. The best thing to do when you develop your program, is to try to capture `IOError`s, and when you do encounter an `IOError`, print the arguments so that you know the number and the error message. You can then look up which `errno` constant that message belongs to, and respond to it in your program if you can do that in a sensible way.\n",
    "\n",
    "However, just as with other kinds of exceptions, it is better to avoid them than to capture them. There is no reason that you should ever encounter a \"file does not exist\" error, as you can test whether a file exists with the `exists()` function from the `os.path` module."
   ]
  },
  {
   "cell_type": "code",
   "execution_count": null,
   "metadata": {},
   "outputs": [],
   "source": [
    "import errno\n",
    "\n",
    "try:\n",
    "    fp = open( \"NotAFile\" )\n",
    "    fp.close()\n",
    "except IOError as ex:\n",
    "    if ex.args[0] == errno.ENOENT:\n",
    "        print( \"File not found!\" )\n",
    "    else:\n",
    "        print( ex.args[0], ex.args[1] )"
   ]
  },
  {
   "cell_type": "markdown",
   "metadata": {},
   "source": [
    "---"
   ]
  },
  {
   "cell_type": "markdown",
   "metadata": {},
   "source": [
    "## Raising exceptions"
   ]
  },
  {
   "cell_type": "markdown",
   "metadata": {},
   "source": [
    "You are allowed to raise exceptions yourself. For that, you use the keyword `raise`, and follow that with one of the known exceptions (potentially, you could create your own, new exceptions if you like, but you need to have studied the chapters on object orientation before you are ready for it). You can give the exception arguments of any kind that you like.\n",
    "\n",
    "You might wonder why you would want to raise your own exceptions. The answer is that when you create a module, when an error occurs (for instance because the main program that uses the module passes arguments to a function that are of an incorrect type), it is bad form to print an error message. It is much better to just raise an exception, and let the main program handle the exception.\n",
    "\n",
    "Here is an example of raising an exception:"
   ]
  },
  {
   "cell_type": "code",
   "execution_count": null,
   "metadata": {},
   "outputs": [],
   "source": [
    "def getStringLenMax10( prompt ):\n",
    "    s = input( prompt )\n",
    "    if len( s ) > 10:\n",
    "        raise ValueError( \"String should have a maximum length of 10\", len( s ) )\n",
    "    return s\n",
    "\n",
    "print( getStringLenMax10( \"Give a string of 10 characters or less: \" ) )"
   ]
  },
  {
   "cell_type": "markdown",
   "metadata": {},
   "source": [
    "When you run this code, you see that if you enter a string of more than 10 characters, a `ValueError` exception is raised. It has two arguments, which you can see displayed as a tuple when Python splashes the exception on the screen. You can handle this exception just as you would handle exceptions that Python itself produces.\n",
    "\n",
    "The `raise` keyword has a second function: if you are in an `except` clause, and rather than handle the exception there, you want to pass it on to the \"next level\" of the program, you can just write the keyword `raise`, and the exception will be \"re-raised\". This can be useful when you want to do a bit of extra handling before the program \"crashes\" or the exception is handled elsewhere. For instance:"
   ]
  },
  {
   "cell_type": "code",
   "execution_count": null,
   "metadata": {},
   "outputs": [],
   "source": [
    "fp = open( \"pc_rose.txt \")\n",
    "try:\n",
    "    buffer = fp.read()\n",
    "    print( buffer )\n",
    "except IOError:\n",
    "    fp.close()\n",
    "    raise\n",
    "fp.close()"
   ]
  },
  {
   "cell_type": "markdown",
   "metadata": {},
   "source": [
    "This code probably runs fine, but if an `IOError` occurs when reading the file, the file gets closed before the exception is re-raised."
   ]
  },
  {
   "cell_type": "markdown",
   "metadata": {},
   "source": [
    "---"
   ]
  },
  {
   "cell_type": "markdown",
   "metadata": {},
   "source": [
    "## What you learned"
   ]
  },
  {
   "cell_type": "markdown",
   "metadata": {},
   "source": [
    "In this chapter, you learned about:\n",
    "\n",
    "- Exception handling\n",
    "- `except`, `else`, and `finally`\n",
    "- `ZeroDivisionError`, `IndexError`, `KeyError`, `IOError`, `ValueError`, `TypeError`\n",
    "- Getting exception information\n",
    "- File handling exceptions\n",
    "- Raising and re-raising exceptions"
   ]
  },
  {
   "cell_type": "markdown",
   "metadata": {},
   "source": [
    "---"
   ]
  },
  {
   "cell_type": "markdown",
   "metadata": {},
   "source": [
    "## Exercises"
   ]
  },
  {
   "cell_type": "markdown",
   "metadata": {},
   "source": [
    "### Exercises 17.1"
   ]
  },
  {
   "cell_type": "markdown",
   "metadata": {},
   "source": [
    "Which exceptions can the code below raise? Extend the code to handle all of them in a reasonable manner."
   ]
  },
  {
   "cell_type": "code",
   "execution_count": null,
   "metadata": {},
   "outputs": [],
   "source": [
    "numlist = [ 100, 101, 0, \"103\", 104 ]\n",
    "\n",
    "i1 = int( input( \"Give an index: \" ) )\n",
    "print( \"100 /\", numlist[i1], \"=\", 100 / numlist[i1] )"
   ]
  },
  {
   "cell_type": "markdown",
   "metadata": {},
   "source": [
    "---"
   ]
  },
  {
   "cell_type": "markdown",
   "metadata": {},
   "source": [
    "End of Chapter 17. Version 1.1. "
   ]
  }
 ],
 "metadata": {
  "kernelspec": {
   "display_name": "Python 3",
   "language": "python",
   "name": "python3"
  },
  "language_info": {
   "codemirror_mode": {
    "name": "ipython",
    "version": 3
   },
   "file_extension": ".py",
   "mimetype": "text/x-python",
   "name": "python",
   "nbconvert_exporter": "python",
   "pygments_lexer": "ipython3",
   "version": "3.6.1"
  }
 },
 "nbformat": 4,
 "nbformat_minor": 1
}
