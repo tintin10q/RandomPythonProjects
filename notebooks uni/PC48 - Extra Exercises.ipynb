{
 "cells": [
  {
   "cell_type": "markdown",
   "metadata": {},
   "source": [
    "# 48 - Extra Exercises"
   ]
  },
  {
   "cell_type": "markdown",
   "metadata": {},
   "source": [
    "---"
   ]
  },
  {
   "cell_type": "markdown",
   "metadata": {},
   "source": [
    "This chapter contains a list of extra exercises. These are meant for exam practice (even though many of them are harder than you would see on an exam), or simply for those who want to continue exercising. In general, I will not tell you which techniques you should use to solve them. Usually there are multiple approaches -- it is up to you to select the most suitable one. Answers are supplied in the next notebook.\n",
    "\n",
    "The exercises may appear in any order -- I intend to keep adding exercises to the end, so later exercises may actually be easier than earlier exercises."
   ]
  },
  {
   "cell_type": "markdown",
   "metadata": {},
   "source": [
    "### Exercise 48.1"
   ]
  },
  {
   "cell_type": "markdown",
   "metadata": {},
   "source": [
    "For any positive integer `N`, the sum `1 + 2 + 3 + ... + N` is equal to `N*(N+1)/2`. Show this by asking the user for a number `N`, then calculating both the value of the sum, and the outcome of the formula. "
   ]
  },
  {
   "cell_type": "code",
   "execution_count": null,
   "metadata": {
    "collapsed": true
   },
   "outputs": [],
   "source": [
    "# N(N+1)/2.\n"
   ]
  },
  {
   "cell_type": "markdown",
   "metadata": {},
   "source": [
    "### Exercise 48.2"
   ]
  },
  {
   "cell_type": "markdown",
   "metadata": {},
   "source": [
    "Write a program that asks for a number between 100 and 999, with the first digit of the number being different from the last. Let's call this number `ABC`, where `A`, `B`, and `C` are the three digits. Create the number `CBA`, and subtract the lower number from the higher one. Call this number `DEF`, with `D`, `E`, and `F` being the digits. Then create `FED`. Add `DEF` to `FED`, and print the result. For instance, if you start with 321, you create 123, then subtract 123 from 321 to get 198. You reverse 198 to get 891, then add 198 to 891 to get 1089. Test your program with different numbers. What do you notice about the results?"
   ]
  },
  {
   "cell_type": "code",
   "execution_count": null,
   "metadata": {
    "collapsed": true
   },
   "outputs": [],
   "source": [
    "# Number magic.\n"
   ]
  },
  {
   "cell_type": "markdown",
   "metadata": {},
   "source": [
    "### Exercise 48.3"
   ]
  },
  {
   "cell_type": "markdown",
   "metadata": {},
   "source": [
    "Write a program that asks for an integer to use as column size (you can use a minimum of 10). Then take a text, and print that text using a no more words on each line than fit the column size, e.g., if the column size is 40, no more than 40 characters are used on each line (this includes punctuation and whitespaces). Words are not \"broken off\". After a newline character, you should always go to the next line. For an extra challenge, try to insert spaces in a balanced way so that the column is justified (i.e., all lines are equally long, except for those that end in a new line). Make sure that you can handle column sizes that are less than the maximum word length.\n",
    "\n",
    "In the code block below a text for testing is given.\n",
    "\n",
    "Hints: First split the text into paragraphs, then handle each paragraph separately. For lines that contain only one word, note that you cannot adjust the spacing between words. For lines with only one word that is longer than the column width, you can let the word \"stick out\". Make sure that you first solve the problem without justification, and then add justification later, as that makes the program quite a bit harder."
   ]
  },
  {
   "cell_type": "code",
   "execution_count": null,
   "metadata": {
    "collapsed": true
   },
   "outputs": [],
   "source": [
    "# Creating columns.\n",
    "\n",
    "text = \"And spending four days on the tarmac at Luton airport on a five-day package tour with nothing to eat but \\\n",
    "dried BEA-type sandwiches and you can't even get a drink of Watney's Red Barrel because you're still in England and \\\n",
    "the bloody bar closes every time you're thirsty and there's nowhere to sleep and the kids are crying and vomiting and \\\n",
    "breaking the plastic ashtrays and they keep telling you it'll only be another hour although your plane is still in \\\n",
    "Iceland and has to take some Swedes to Yugoslavia before it can load you up at 3 a.m. in the bloody morning and you \\\n",
    "sit on the tarmac till six because of \\\"unforeseen difficulties\\\", i.e. the permanent strike of Air Traffic Control \\\n",
    "in Paris - and nobody can go to the lavatory until you take off at 8, and when you get to Malaga airport everybody's \\\n",
    "swallowing \\\"enterovioform\\\" and queuing for the toilets and queuing for the armed customs officers, and queuing for \\\n",
    "the bloody bus that isn't there to take you to the hotel that hasn't yet been finished. And when you finally get to \\\n",
    "the half-built Algerian ruin called the Hotel del Sol by paying half your holiday money to a licensed bandit in a taxi \\\n",
    "you find there's no water in the pool, there's no water in the taps, there's no water in the bog and there's only a \\\n",
    "bleeding lizard in the bidet.\\n\\\n",
    "And half the rooms are double booked and you can't sleep anyway because of the permanent twenty-four-hour drilling of \\\n",
    "the foundations of the hotel next door - and you're plagued by appalling apprentice chemists from Ealing pretending to \\\n",
    "be hippies, and middle-class stockbrokers' wives busily buying identical holiday villas in suburban development plots \\\n",
    "just like Esher, in case the Labour government gets in again, and fat American matrons with sloppy-buttocks and \\\n",
    "Hawaiian-patterned ski pants looking for any mulatto male who can keep it up long enough when they finally let it all \\\n",
    "flop out.\\n\\\n",
    "And the Spanish Tourist Board promises you that the raging cholera epidemic is merely a case of mild Spanish tummy, \\\n",
    "like the previous outbreak of Spanish tummy in 1660 which killed half London and decimated Europe - and meanwhile the \\\n",
    "bloody Guardia are busy arresting sixteen-year-olds for kissing in the streets and shooting anyone under nineteen who \\\n",
    "doesn't like Franco.\\n\\\n",
    "And then on the last day in the airport lounge everyone's comparing sunburns, drinking Nasty Spumante, buying cartons \\\n",
    "of duty free \\\"cigarillos\\\" and using up their last pesetas on horrid dolls in Spanish National costume and awful \\\n",
    "straw donkeys and bullfight posters with your name on \\\"Ordoney, El Cordobes and Brian Pules of Norwich\\\" and 3-D \\\n",
    "pictures of the Pope and Kennedy and Franco, and everybody's talking about coming again next year and you swear you \\\n",
    "never will although there you are tumbling bleary-eyed out of a tourist-tight antique Iberian airplane...\"\n"
   ]
  },
  {
   "cell_type": "markdown",
   "metadata": {},
   "source": [
    "### Exercise 48.4"
   ]
  },
  {
   "cell_type": "markdown",
   "metadata": {},
   "source": [
    "Write a program that asks for an integer between zero and 1000 (including zero, excluding 1000), that prints a textual representation of that integer. For instance, if the user enters 513, the output is \"five hundred thirteen\". Of course, you are not supposed to make one list of 1000 textual representations... otherwise the exercise becomes that you have to do this for all numbers between zero and one billion."
   ]
  },
  {
   "cell_type": "code",
   "execution_count": null,
   "metadata": {
    "collapsed": true
   },
   "outputs": [],
   "source": [
    "# Numbers to words.\n"
   ]
  },
  {
   "cell_type": "markdown",
   "metadata": {},
   "source": [
    "### Exercise 48.5"
   ]
  },
  {
   "cell_type": "markdown",
   "metadata": {},
   "source": [
    "Write a program that asks for a number, then prints that number in a nicely formatted way according Dutch rules (which are also common in many other European countries), i.e., with periods as thousands-separators, and a comma instead of a decimal point. E.g., the number `-1234567.89` is displayed as `-1.234.567,89`."
   ]
  },
  {
   "cell_type": "code",
   "execution_count": null,
   "metadata": {
    "collapsed": true
   },
   "outputs": [],
   "source": [
    "# Mainland formatting.\n"
   ]
  },
  {
   "cell_type": "markdown",
   "metadata": {},
   "source": [
    "### Exercise 48.6"
   ]
  },
  {
   "cell_type": "markdown",
   "metadata": {},
   "source": [
    "Write a program that asks the user for a string of characters. Then ask the user for a second string. Remove all the characters that are in the first string from the second string, then print it."
   ]
  },
  {
   "cell_type": "code",
   "execution_count": null,
   "metadata": {
    "collapsed": true
   },
   "outputs": [],
   "source": [
    "# General character removal.\n"
   ]
  },
  {
   "cell_type": "markdown",
   "metadata": {},
   "source": [
    "### Exercise 48.7"
   ]
  },
  {
   "cell_type": "markdown",
   "metadata": {},
   "source": [
    "Ask the user for a string (which should not contain any spaces) and a sentence. From the sentence, print only those words that contain each of the characters of the string at least once. E.g., if the string is `\"sii\"` and the sentence is `\"There is no business like show business\"` then the program should print the words `is`, `business` and `business`. There is no need to remove punctuation or other characters; you can simply split the sentence on its spaces, and consider the list that gets produced a list of the words."
   ]
  },
  {
   "cell_type": "code",
   "execution_count": null,
   "metadata": {
    "collapsed": true
   },
   "outputs": [],
   "source": [
    "# Words with particular letters (1).\n"
   ]
  },
  {
   "cell_type": "markdown",
   "metadata": {},
   "source": [
    "### Exercise 48.8"
   ]
  },
  {
   "cell_type": "markdown",
   "metadata": {},
   "source": [
    "Ask the user for a string (which should not contain any spaces) and a sentence. From the sentence, print only those words that contain at most two of the characters of the string. E.g., if the string is `\"usso\"` and the sentence is `\"There is no business like show business\"` then the program should print the words `There` (which contains none of the characters in the string), `is` (which contains the `s`, which is twice in the string), `no` (which contains an `o`, which is once in the string), and `like` (which contains none of the characters in the string). The word `show` is not printed, as it contains an `s` and an `o`, and since the `s` occurs twice in the string and the `o` once, in total it contains three of the characters in the string. The same holds for `business`, with the `u` and the `s`. There is no need to remove punctuation or other characters; you can simply split the sentence on its spaces, and consider the list that gets produced a list of the words."
   ]
  },
  {
   "cell_type": "code",
   "execution_count": null,
   "metadata": {
    "collapsed": true
   },
   "outputs": [],
   "source": [
    "# Words with particular letters (2).\n"
   ]
  },
  {
   "cell_type": "markdown",
   "metadata": {},
   "source": [
    "### Exercise 48.9"
   ]
  },
  {
   "cell_type": "markdown",
   "metadata": {},
   "source": [
    "Write a Python program that asks for a sentence, then prints that sentence in three ways, namely: (1) reversed, (2) with each of the words in the sentence reversed, and (3) with the words reversed. There is no need to remove punctuation. For instance, if the sentence is `\"Hello, world!\"`, you print `\"!dlrow ,olleH\"`, `\",olleH !dlrow\"`, and `\"world! Hello,\"`. There is also no need to preserve multiple spaces between words; you may reduce these to a single space."
   ]
  },
  {
   "cell_type": "code",
   "execution_count": null,
   "metadata": {
    "collapsed": true
   },
   "outputs": [],
   "source": [
    "# Contorting a sentence.\n"
   ]
  },
  {
   "cell_type": "markdown",
   "metadata": {},
   "source": [
    "### Exercise 48.10"
   ]
  },
  {
   "cell_type": "markdown",
   "metadata": {},
   "source": [
    "Write a program that produces all possible slices from a list, and stores them in a list. For instance, if the list is `[1,2,3]`, then the program produces `[ [], [1], [2], [3], [1,2], [2,3], [1,2,3] ]`. Ordering of the list does not matter."
   ]
  },
  {
   "cell_type": "code",
   "execution_count": null,
   "metadata": {
    "collapsed": true
   },
   "outputs": [],
   "source": [
    "# Slices.\n"
   ]
  },
  {
   "cell_type": "markdown",
   "metadata": {},
   "source": [
    "### Exercise 48.11"
   ]
  },
  {
   "cell_type": "markdown",
   "metadata": {},
   "source": [
    "Write a program that produces all possible sub-dictionaries from a dictionary, and stores them in a list. For instance, if the dictionary is `{\"a\":1,\"b\":2,\"c\":3}`, the program produces `[ {}, {\"a\":1}, {\"b\":2}, {\"c\":3}, {\"a\":1,\"b\":2}, {\"a\":1,\"c\":3}, {\"b\":2,\"c\":3}, {\"a\":1,\"b\":2,\"c\":3} ]` (the ordering of the list does not matter). \n",
    "\n",
    "Hint: This exercise is quite hard. It looks a lot like the previous exercise, but while the previous one is certainly doable, this one might be beyond your grasp. So I won't blame you if you skip it. To solve it, you have to create all different combinations of keys. There is a function `combinations()` in the `itertools` module that can help you with it. This module is discussed in the chapter on Iterators and Generators, which falls under Object Orientation, but you do not need to know anything about object orientation to understand it. If you do not use `combinations()`, a recursive solution works best. If somebody can think of a simpler way of doing it, I would very much like to hear about it."
   ]
  },
  {
   "cell_type": "code",
   "execution_count": null,
   "metadata": {
    "collapsed": true
   },
   "outputs": [],
   "source": [
    "# Sub-dictionaries.\n"
   ]
  },
  {
   "cell_type": "markdown",
   "metadata": {},
   "source": [
    "### Exercise 48.12"
   ]
  },
  {
   "cell_type": "markdown",
   "metadata": {},
   "source": [
    "Read the contents of a text file. If there are words in the file that are anagrams of each other, then print those. In case you do not know, an anagram of a word is another word that contains exactly the same letters. E.g., \"except\" and \"expect\" are anagrams. Duplicates of words don't count, i.e., you should only report different words. Words only contain letters, and anything that is not a letter should be considered a word boundary. Treat the words case-insensitively.\n",
    "\n",
    "Hint: First think about how you can decide if two words are anagrams of each other. Then think about how you process the file in a smart way. For instance, checking for each word in the file each other word in the file is a very slow process as the time needed to process the file is quadratically related to the length of the file. You better choose a suitable data structure for storing the words.\n",
    "\n",
    "Note: The small text files that I supplied do not contain any anagrams, but the larger ones in the `pcdata` directory contain plenty (sometimes even triple ones, like `won, own, now` or `vile, live, evil`). However, it might be wise to do your initial tests with a file that you create yourself."
   ]
  },
  {
   "cell_type": "code",
   "execution_count": null,
   "metadata": {
    "collapsed": true
   },
   "outputs": [],
   "source": [
    "# Anagrams.\n"
   ]
  },
  {
   "cell_type": "markdown",
   "metadata": {},
   "source": [
    "### Exercise 48.13"
   ]
  },
  {
   "cell_type": "markdown",
   "metadata": {},
   "source": [
    "Imagine an infinite grid. A person starts in location (0,0) of this grid. When the person walks north, he ends up one Y-coordinate higher, i.e., from (0,0) he moves to (0,1). When the person walks east, he ends up one X-coordinate higher, i.e., from (0,0) he moves to (1,0). When the person walks south, he ends up one Y-coordinate lower, i.e., from (0,0) he moves to (0,-1). When the person walks west, he ends up one X-coordinate lower, i.e., from (0,0) he moves to (-1,0). A \"drunkard's walk\" entails that a person walks a certain number of moves at random, i.e., after each move he randomly chooses from north, east, south and west the next direction he will move in.\n",
    "\n",
    "Using a simulation in which you let at least 10,000 persons make a random walk of 100 moves, starting from (0,0), estimate the chance that the person ends up at (0,0) again after 100 moves, and estimate the average distance that the person ends up at measured from (0,0) after 100 moves.\n",
    "\n",
    "Hint: The distance from `(0,0)` to `(x,y)` can be calculated as `sqrt( x*x + y*y )`."
   ]
  },
  {
   "cell_type": "code",
   "execution_count": null,
   "metadata": {
    "collapsed": true
   },
   "outputs": [],
   "source": [
    "# Drunkard's walk.\n"
   ]
  },
  {
   "cell_type": "markdown",
   "metadata": {},
   "source": [
    "### Exercise 48.14"
   ]
  },
  {
   "cell_type": "markdown",
   "metadata": {},
   "source": [
    "Write a program that determines how you can place eight queens on a chess board in such a way that none of them attacks any of the other ones.\n",
    "\n",
    "Hint: Knowing that you need exactly one queen per row and exactly one queen per column, you can express the board as simply a list of eight integers, which are the columns for the queen on the row indicated by the list index. Since all columns must be different, this list contains the integers 0 to 7 once each. This way, you can express all possible configurations of the board as all the possible permutations of the list. You then only need to check these permutations for two queens occupying the same diagonal. As soon as you find one permutation for which the queens are never on the same diagonal, you found a solution. To get all possible permutations of a list, you can use the `permutations()` function from the `itertools` module.  \n",
    "\n",
    "This program can be surprisingly short."
   ]
  },
  {
   "cell_type": "code",
   "execution_count": null,
   "metadata": {
    "collapsed": true
   },
   "outputs": [],
   "source": [
    "# 8 queens.\n"
   ]
  },
  {
   "cell_type": "markdown",
   "metadata": {},
   "source": [
    "### Exercise 48.15"
   ]
  },
  {
   "cell_type": "markdown",
   "metadata": {},
   "source": [
    "Write two functions, one that converts a temperature from Celsius to Fahrenheit, and one that does the reverse. In your main program, ask the user for a temperature as a number followed by a C or an F, then call the appropriate function to convert to the other scale, and display the answer with one decimal. The formula to derive Celsius from Fahrenheit is `C = (5/9) * (F - 32)`."
   ]
  },
  {
   "cell_type": "code",
   "execution_count": null,
   "metadata": {
    "collapsed": true
   },
   "outputs": [],
   "source": [
    "# Tempreature conversion.\n"
   ]
  },
  {
   "cell_type": "markdown",
   "metadata": {},
   "source": [
    "### Exercise 48.16"
   ]
  },
  {
   "cell_type": "markdown",
   "metadata": {},
   "source": [
    "Pascal's triangle is a construct that starts with a single 1 on the first row, and every row underneath has one more cell, and is shifted half a cell to the left. Each cell contains the number that is the sum of the two cells above it (and if there is only one cell above it, a copy of that cell). This is best visualized; here are the first six rows:<br>\n",
    "`1:            1`<br>\n",
    "`2:          1   1`<br>\n",
    "`3:        1   2   1`<br>\n",
    "`4:      1   3   3   1`<br>\n",
    "`5:    1   4   6   4   1`<br>\n",
    "`6:  1   5  10  10   5   1`<br>\n",
    "Write a program that prints the first `ROWS` rows of Pascal's triangle (`ROWS` being an integer constant defined at the top of your program). You may simply left-align the output, and use one space between each pair of numbers."
   ]
  },
  {
   "cell_type": "code",
   "execution_count": null,
   "metadata": {
    "collapsed": true
   },
   "outputs": [],
   "source": [
    "# Pascal's triangle.\n"
   ]
  },
  {
   "cell_type": "markdown",
   "metadata": {},
   "source": [
    "### Exercise 48.17"
   ]
  },
  {
   "cell_type": "markdown",
   "metadata": {},
   "source": [
    "Prime factorization consists of dividing an integer into the prime factors, that multiplied produce the original integer. For instance, the prime factors of 228 are 2, 2, 3, and 19, i.e., `228 = 2 * 2 * 3 * 19`. Write a program that prints all the prime factors of a number that is supplied by the user."
   ]
  },
  {
   "cell_type": "code",
   "execution_count": null,
   "metadata": {
    "collapsed": true
   },
   "outputs": [],
   "source": [
    "# Prime factorization.\n"
   ]
  },
  {
   "cell_type": "markdown",
   "metadata": {},
   "source": [
    "### Exercise 48.18"
   ]
  },
  {
   "cell_type": "markdown",
   "metadata": {},
   "source": [
    "In the game of Darts, one single dart can obtain different scores: the numbers 1 to 20 (singles), doubles (twice each number in the range 1 to 20), triples (three times each number in the range 1 to 20), and also 25 and 50. The maximum score with three darts is 180 (three times 60). Not all scores below 180 are attainable with three darts. For example, the second-highest possible three-dart score is 177 (namely `2 * 3 * 20 + 3 * 19`). Write a program that prints all scores between 1 and 180 which are not attainable with three or fewer darts (the reason to include \"fewer\" is that some darts might actually not hit the dart board, so they score zero points). "
   ]
  },
  {
   "cell_type": "code",
   "execution_count": null,
   "metadata": {
    "collapsed": true
   },
   "outputs": [],
   "source": [
    "# Darts.\n"
   ]
  },
  {
   "cell_type": "markdown",
   "metadata": {},
   "source": [
    "### Exercise 48.19"
   ]
  },
  {
   "cell_type": "markdown",
   "metadata": {},
   "source": [
    "The Goldbach conjecture says that every even number greater than 2 can be written as the sum of two primes. This conjecture has not been proven, but it has been checked for values up to one billion billion. Write a program that asks for an even number greater than 2, and then prints two prime numbers of which the sum makes this number. Your\n",
    "program should be able to handle numbers up to 10,000, but may go higher."
   ]
  },
  {
   "cell_type": "code",
   "execution_count": null,
   "metadata": {
    "collapsed": true
   },
   "outputs": [],
   "source": [
    "# Goldbach.\n"
   ]
  },
  {
   "cell_type": "markdown",
   "metadata": {},
   "source": [
    "### Exercise 48.20"
   ]
  },
  {
   "cell_type": "markdown",
   "metadata": {},
   "source": [
    "Write a program that plays a game. It asks random questions of the form \"What is the third letter following F?\" or \"What is the second letter before X?\" The user has to respond with the correct answer; illegal inputs are not counted as wrong answers, but the program simply asks the question again until the user responds with a letter. The program should support all distances from 1 to 10, both before and following the letter. The program asks ten questions, giving feedback after each. At the end, the program gives the user’s performance. Make sure that your program does not ask for letters that do not exist (e.g., the first letter following Z)."
   ]
  },
  {
   "cell_type": "code",
   "execution_count": null,
   "metadata": {
    "collapsed": true
   },
   "outputs": [],
   "source": [
    "# Letter game.\n"
   ]
  },
  {
   "cell_type": "markdown",
   "metadata": {},
   "source": [
    "### Exercise 48.21"
   ]
  },
  {
   "cell_type": "markdown",
   "metadata": {},
   "source": [
    "Write a program that asks for a sentence, and then translates the sentence to Morse. A dictionary containing the Morse alphabet is given below. Sentences should be processed as lower case. If a character in the sentence is not found in the Morse table, then it is considered to be a space. Groups of spaces should be considered a single space. In the translation, spaces are marked with a slash (`/`), while Morse characters are always followed by a space (e.g., `\"sos\"` is translated as `\"... --- ...\"` and not as `\"...---...\"`). If the translation results in an empty string, then make sure to report that explicitly."
   ]
  },
  {
   "cell_type": "code",
   "execution_count": null,
   "metadata": {
    "collapsed": true
   },
   "outputs": [],
   "source": [
    "# Morse.\n",
    "\n",
    "DAH = \"-\" \n",
    "DIT = \".\"  \n",
    "\n",
    "morse = { \"a\": DIT+DAH, \"b\": DAH+DIT+DIT+DIT, \"c\": DAH+DIT+DAH+DIT, \"d\": DAH+DIT+DIT, \"e\": DIT, \"f\": DIT+DIT+DAH+DIT, \n",
    "    \"g\": DAH+DAH+DIT, \"h\": DIT+DIT+DIT+DIT, \"i\": DIT+DIT, \"j\": DIT+DAH+DAH+DAH, \"k\": DAH+DIT+DAH, \"l\": DIT+DAH+DIT+DIT,\n",
    "    \"m\": DAH+DAH, \"n\": DAH+DIT, \"o\": DAH+DAH+DAH, \"p\": DIT+DAH+DAH+DIT, \"q\": DAH+DAH+DIT+DAH, \"r\": DIT+DAH+DIT,\n",
    "    \"s\": DIT+DIT+DIT, \"t\": DAH, \"u\": DIT+DIT+DAH, \"v\": DIT+DIT+DIT+DAH, \"w\": DIT+DAH+DAH, \"x\": DAH+DIT+DIT+DAH,\n",
    "    \"y\": DAH+DIT+DAH+DAH, \"z\": DAH+DAH+DIT+DIT, \"1\": DIT+DAH+DAH+DAH+DAH, \"2\": DIT+DIT+DAH+DAH+DAH,\n",
    "    \"3\": DIT+DIT+DIT+DAH+DAH, \"4\": DIT+DIT+DIT+DIT+DAH, \"5\": DIT+DIT+DIT+DIT+DIT, \"6\": DAH+DIT+DIT+DIT+DIT,\n",
    "    \"7\": DAH+DAH+DIT+DIT+DIT, \"8\": DAH+DAH+DAH+DIT+DIT, \"9\": DAH+DAH+DAH+DAH+DIT, \"0\": DAH+DAH+DAH+DAH+DAH,\n",
    "    \".\": DIT+DAH+DIT+DAH+DIT+DAH, \",\": DAH+DAH+DIT+DIT+DAH+DAH, \":\": DAH+DAH+DAH+DIT+DIT+DIT,\n",
    "    \"?\": DIT+DIT+DAH+DAH+DIT+DIT, \"/\": DAH+DIT+DIT+DAH+DIT }\n"
   ]
  },
  {
   "cell_type": "markdown",
   "metadata": {},
   "source": [
    "### Exercise 48.22"
   ]
  },
  {
   "cell_type": "markdown",
   "metadata": {},
   "source": [
    "Write a program that converts a string, that contains Morse code, to its translation. The Morse characters (which consist of a sequence of dots and dashes) are separated from each other by spaces. Different words in the string are separated from each other by a slash. I.e., the output of the previous exercise can be used as input for this exercise. Note that you probably need a dictionary that uses Morse code as keys; you can build such a dictionary by hand, but a better solution is to use the dictionary from the previous exercise and write some code to invert it (i.e., switch the keys and values). If the string contains something else than dots, dashes, spaces, and slashes, you may just announce that it is not a Morse string and skip the translation. If you find a code that you cannot translate, you can output a hashmark (`#`) for it."
   ]
  },
  {
   "cell_type": "code",
   "execution_count": null,
   "metadata": {
    "collapsed": true
   },
   "outputs": [],
   "source": [
    "# Reverse Morse.\n"
   ]
  },
  {
   "cell_type": "markdown",
   "metadata": {},
   "source": [
    "### Exercise 48.23"
   ]
  },
  {
   "cell_type": "markdown",
   "metadata": {},
   "source": [
    "Write a program that asks for a directory name. It then opens all the files in the directory, and scans their contents. It assumes that the files are all text files. For each file that the program scans, it prints the filename, and the number of words in the file. It then prints the ten words from the file that occur the most in the file, with their frequency, in the order highest-frequency to lowest-frequency. In case you have multiple words with the same frequency, of which you can only print some before you get over 10 words, you can choose yourself which ones you print of those."
   ]
  },
  {
   "cell_type": "code",
   "execution_count": null,
   "metadata": {
    "collapsed": true
   },
   "outputs": [],
   "source": [
    "# Frequencies.\n"
   ]
  },
  {
   "cell_type": "markdown",
   "metadata": {},
   "source": [
    "### Exercise 48.24"
   ]
  },
  {
   "cell_type": "markdown",
   "metadata": {},
   "source": [
    "Write a program that asks for an integer, then prints all divisors of that integer. For instance, if the number is 24, the divisors are 1, 2, 3, 4, 6, 8, 12, and 24."
   ]
  },
  {
   "cell_type": "code",
   "execution_count": null,
   "metadata": {
    "collapsed": true
   },
   "outputs": [],
   "source": [
    "# Divisors.\n"
   ]
  },
  {
   "cell_type": "markdown",
   "metadata": {},
   "source": [
    "### Exercise 48.25"
   ]
  },
  {
   "cell_type": "markdown",
   "metadata": {},
   "source": [
    "You have five dice, and wish to roll all sixes. You roll all five dice. You then pick out all the sixes, and reroll all the remaining dice. Again, you pick out the sixes, and reroll the dice now remaining. Etcetera. You continue doing this until all dice are showing a six. Write a program that estimates how many rolls on average you need to get all the dice showing a six. Do this by simulating this experiment 100,000 times or more, and calculate the average number of rolls needed. "
   ]
  },
  {
   "cell_type": "code",
   "execution_count": null,
   "metadata": {
    "collapsed": true
   },
   "outputs": [],
   "source": [
    "# Five sixes.\n"
   ]
  },
  {
   "cell_type": "markdown",
   "metadata": {},
   "source": [
    "### Exercise 48.26"
   ]
  },
  {
   "cell_type": "markdown",
   "metadata": {},
   "source": [
    "Fermat’s theorem on the sums of two squares says that an odd prime number (i.e., any prime number except 2) can be expressed as the sum of two squares of integers if and only if the prime number is congruent to 1 (modulo 4); i.e., for an odd prime number `p` you can find integers `x` and `y` so that `p == x*x + y*y` if and only if `p%4 == 1`. Write a program that asks for a positive integer `N`, and then searches for two integers for which the sum of their squares is `N`. If you can find them, print them. If not, print a statement that says so. If `N` is a prime number, your program should print that too, and indicate whether or not your conclusion conflicts with Fermat’s theorem (it should not, of course, but check it anyway – this is a good way to get bugs out of your program)."
   ]
  },
  {
   "cell_type": "code",
   "execution_count": null,
   "metadata": {
    "collapsed": true
   },
   "outputs": [],
   "source": [
    "# Fermat's theorem.\n"
   ]
  },
  {
   "cell_type": "markdown",
   "metadata": {},
   "source": [
    "### Exercise 48.27"
   ]
  },
  {
   "cell_type": "markdown",
   "metadata": {},
   "source": [
    "Write a program that uses a directory (you can define it as a constant at the top of your program). It reads all the words from all the files in that directory, and builds a list of all the five-letter words in those files, whereby each word occurs only once in the list. \n",
    "\n",
    "To make sure that a word like `\"doesn\"` is not added to the list (which would happen if you consider all non-letters to be word boundaries, and the word `\"doesn't\"` occurs in a file), do not remove any punctuation from the text before you split it into words. Instead, after splitting the text, remove only punctuation from the start and end of each word. Then check the word to see if it is of length 5, but disallow it if it still contains characters that are not letters. This will avoid the occurrence of `\"doesn\"`, and neither will a word like `\"can't\"` get on the list. It will still include a word like `\"house.\"`, after it removes the period from the end.  "
   ]
  },
  {
   "cell_type": "code",
   "execution_count": null,
   "metadata": {
    "collapsed": true
   },
   "outputs": [],
   "source": [
    "# List of five-letter words.\n"
   ]
  },
  {
   "cell_type": "markdown",
   "metadata": {},
   "source": [
    "### Exercise 48.28"
   ]
  },
  {
   "cell_type": "markdown",
   "metadata": {},
   "source": [
    "In the television game Lingo, the players have to guess a 5-letter word. They start with one letter given, and then guess words of the correct length. After a guess, any letter that is correct and in the correct place, is marked (in the television show by drawing a square around the letter). Furthermore, any of the remaining letters that is in the sought word, which is not in the correct place, is also marked (in the television show by drawing a circle around the letter). The players have only a limited amount of attempts available to guess the word (usually 5).\n",
    "\n",
    "Write a program that plays Lingo with the user. The program should have a small dictionary of words which it chooses from (you can use the list you got from the previous exercise). The program selects a word to guess, for instance `WATER`. It also randomly selects one of the letters that the user gets \"for free\", for instance the `A` in the second spot. \n",
    "\n",
    "The user then tries to guess the word. Every time, before the user makes a guess, the program displays the word as far as it is known. This means that it displays the word as a sequence of dashes, one dash for each letter, except that every letter of which the user knows that it is correct and in the correct spot, is displayed as the actual letter. This includes the letter that is given away for free. For instance, if the word is `WATER`, the `A` was given away for free, and the user already guessed an `R` in the last spot, then the word is displayed as `-A--R`.\n",
    "\n",
    "To guess, the user types in a word. The program responds by displaying the guessed word as follows: Every letter that the word contains that is correct and in the correct place, is displayed as an uppercase letter. Every letter of the remaining ones that is correct but not in the correct place, is displayed as a lowercase letter. Finally, all remaining letters are displayed as dashes. For instance, if the word is `WATER` and the user guesses `BARGE`, the program displays `-Ar-e`. \n",
    "\n",
    "The guessing continues until the user guesses the word correctly, or uses up all attempts (after which the program will give the correct answer).\n",
    "\n",
    "Four rules should be noted: (1) if the user makes a mistake, for instance typing a word that is too long or too short, or which contains more than only letters, the program gives an error message and the user can enter a new guess -– this does not count as one of the attempts; (2) the user can enter the word in uppercase or lowercase letters, or even a mix; (3) if the guess contains multiple copies of the same letter, and the word contains that letter but fewer of them, only as many copies of the letter as the word contains are marked -– for instance, if the word is `WATER` and the user guesses `APART`, then only one of the two `A`’s is displayed in the program’s response: `a--rt`; and (4) a correct letter in the correct place has precedence over a correct letter which is not in the correct place –- for instance, if the word is `WATER` and the user guesses `RADAR`, then the program responds with `-A--R`.\n",
    "\n",
    "One rule that is in the \"official\" Lingo but not in this computer version, is that the player can only guess words that are actually found in the dictionary. To enforce that, you need to load a dictionary with allowed words. That is not impossible, of course, if you have such a dictionary available."
   ]
  },
  {
   "cell_type": "code",
   "execution_count": null,
   "metadata": {
    "collapsed": true
   },
   "outputs": [],
   "source": [
    "# Lingo.\n"
   ]
  },
  {
   "cell_type": "markdown",
   "metadata": {},
   "source": [
    "### Exercise 48.29"
   ]
  },
  {
   "cell_type": "markdown",
   "metadata": {},
   "source": [
    "The file `wordsEn.txt` is a dictionary that contains over 100,000 words in the English language. Adapt the Lingo program of the previous exercise so that it (1) asks the user the length of the words that they wish to use (minimum 4, maximum 8), (2) sets the number of attempts to the selected word length, (3) chooses a word of the correct length from the dictionary as the answer, and (4) disallows the user from making a guess using a word that is not in the dictionary, or a word that he used before."
   ]
  },
  {
   "cell_type": "code",
   "execution_count": null,
   "metadata": {
    "collapsed": true
   },
   "outputs": [],
   "source": [
    "# Complete Lingo.\n"
   ]
  },
  {
   "cell_type": "markdown",
   "metadata": {},
   "source": [
    "### Exercise 48.30"
   ]
  },
  {
   "cell_type": "markdown",
   "metadata": {},
   "source": [
    "Use the file `wordsEn.txt` which was provided for the previous exercise. Let the user enter an integer between 1 and 15. Then generate a \"word pyramid\" of the requested height. A \"word pyramid\" is a list of words, starting with a word of length 1, followed by a word of length 2, followed by a word of length 3, etc. up to a word with a length that is the height of the pyramid. Each next word has the same letters as the previous word (though not necessarily in the same order) with one extra letter added. For example, here is a word pyramid of height 10:\n",
    "\n",
    "`a`<br>\n",
    "`ad`<br>\n",
    "`tad`<br>\n",
    "`date`<br>\n",
    "`tread`<br>\n",
    "`traced`<br>\n",
    "`catered`<br>\n",
    "`racketed`<br>\n",
    "`restacked`<br>\n",
    "`afterdecks`\n",
    "\n",
    "Of course, you should generate the word pyramid from the supplied dictionary, and preferably you would always generate a pyramid at random, so that you get to see different answers.\n",
    "\n",
    "Note: This exercise is really hard, and you probably need recursion. The limit of 15, by the way, is set because there are no words in the dictionary of 16 letters or more for which a word pyramid is possible."
   ]
  },
  {
   "cell_type": "code",
   "execution_count": null,
   "metadata": {
    "collapsed": true
   },
   "outputs": [],
   "source": [
    "# Word pyramid.\n"
   ]
  },
  {
   "cell_type": "markdown",
   "metadata": {},
   "source": [
    "### Exercise 48.31"
   ]
  },
  {
   "cell_type": "markdown",
   "metadata": {},
   "source": [
    "Write a program that creates a \"magic square\" of size 3 by 3. A magic square of this size is three cells wide and three cells high, and each cell contains a number. In this case, the square contains the numbers 1 to 9 each once. The rows, columns, and two biggest diagonals all add up to the same value. Hint: Since the numbers add up to 45, the sum of the nunmbers in each of the rows, columns, and two diagonals must be 15. This means that if you have determined the numbers in the four cells in one of the corners, the whole square is determined. So if you do this with loops, a quadruple-nested loop suffices. Alternatively, you can do it with the `permutations()` function from the `itertools` module, though you have to be smart about it or it will take far too much time."
   ]
  },
  {
   "cell_type": "code",
   "execution_count": null,
   "metadata": {
    "collapsed": true
   },
   "outputs": [],
   "source": [
    "# Magic square.\n"
   ]
  },
  {
   "cell_type": "markdown",
   "metadata": {},
   "source": [
    "### Exercise 48.32"
   ]
  },
  {
   "cell_type": "markdown",
   "metadata": {},
   "source": [
    "The Towers of Hanoi is a puzzle, which uses three poles, labeled A, B, and C. On pole A there is a stack of discs of varying size; the discs are numbered according to their size. The smallest disc is 1, the next one is 2, the next one is 3, etcetera, up to size `N`. Typical values for `N` are 4 and 5, though in the classic puzzle `N` is supposed to be 64. The discs are stacked on pole A according to their size, the smallest one on top, and the biggest one on the bottom. You now have to move all the discs from pole A to pole C, whereby you have to follow these four rules: (1) you can only move one disc at a time; (2) you can only move discs between the poles; (3) you can only move a disc from a pole if it is on top, and can only move it to the top of another pole; and (4) you can never place a disc on top of a disc that is smaller. Write a program that solves this puzzle for any value of `N` (for testing purposes, `N` should not be chosen higher than 10 or so). Make the program print the solution as a recipe, with lines such as \"Move disc 1 from pole A to pole C\". At the end, print the number of moves you needed to make, preferably calculated during the process of generating the recipe. A recursive solution is easiest to implement, though an iterative solution is possible too.\n",
    "\n",
    "To think about a recursive solution, consider the following: Solving the Towers of Hanoi with a biggest disc of size 10 is easy if you know how to solve it for size 9. Namely, you use your size-9 procedure to move the top 9 discs to the middle pole, then move the disc of size 10 to the target pole, and finally use the size-9 procedure to move the 9 discs from the middle pole to the target pole. But how do you solve the problem with the biggest disc being size 9? Well, that is simple if you know how to solve it for size 8... You can imagine where this is going. You are reducing the complexity of the problem step by step, until you are at \"solving the problem for size 2 is simple if you can solve it for size 1.\" Solving it for size 1 is trivial: you just move the disc to where it must go. Basically, this comes down to a recursive definition of the solution method: \n",
    "\n",
    "To solve it for size N where you move from pole X to pole Y with Z as temporary pole, you first solve it for size N-1 where you move from pole X to pole Z with pole Y as temporary pole, then move the disc of size N from pole X to pole Y, and finally solve the problem for size N-1 where you move from pole Z to pole Y with pole X as temporary pole."
   ]
  },
  {
   "cell_type": "code",
   "execution_count": null,
   "metadata": {
    "collapsed": true
   },
   "outputs": [],
   "source": [
    "# Towers of Hanoi.\n"
   ]
  },
  {
   "cell_type": "markdown",
   "metadata": {},
   "source": [
    "### Exercise 48.33"
   ]
  },
  {
   "cell_type": "markdown",
   "metadata": {},
   "source": [
    "A perfect number is a number greater than 1, which is equal to the sum of its divisors (including 1, excluding the number itself). E.g., 6 is a perfect number as its divisors are 1, 2, and 3, and 1+2+3=6. 28 is also a perfect number. Write a program which determines all perfect numbers up to 10,000. There are four of them. "
   ]
  },
  {
   "cell_type": "code",
   "execution_count": null,
   "metadata": {
    "collapsed": true
   },
   "outputs": [],
   "source": [
    "# Small perfect numbers.\n"
   ]
  },
  {
   "cell_type": "markdown",
   "metadata": {},
   "source": [
    "### Exercise 48.34"
   ]
  },
  {
   "cell_type": "markdown",
   "metadata": {},
   "source": [
    "Write a program which determines all perfect numbers up to 10<sup>20</sup> (i.e., a 1 followed by 20 zeroes). There are eight of them.\n",
    "\n",
    "Your previous solution will probably far too slow for this. However, you might be able to solve this with the following knowledge:\n",
    "- There are only even perfect numbers in this range (in fact, it is suspected that only even numbers can be perfect)\n",
    "- A Mersenne prime is a prime number of the form `2`<sup>p</sup>`-1`, whereby `p` is also a prime number\n",
    "- If `q` is a Mersenne prime, then `q(q+1)/2` is a perfect number; moreover, there are no other even perfect numbers\n",
    "\n",
    "For testing purposes, first check for perfect numbers up to 10<sup>9</sup>. You should find a fifth, beyond the four you found in the previous exercise. The sixth perfect number has 10 digits, the seventh has 12 digits, and the eighth has 19 digits, so you can find them in the range listed. The ninth perfect number has 37 digits, though checking up to 10<sup>38</sup> is probably far too slow for Python code."
   ]
  },
  {
   "cell_type": "code",
   "execution_count": null,
   "metadata": {
    "collapsed": true
   },
   "outputs": [],
   "source": [
    "# Large perfect numbers.\n"
   ]
  },
  {
   "cell_type": "markdown",
   "metadata": {},
   "source": [
    "### Exercise 48.35"
   ]
  },
  {
   "cell_type": "markdown",
   "metadata": {},
   "source": [
    "You have a certain amount of money, expressed as an integer that represents cents (e.g., 1 euro would be expressed as 100). You have a list of coin values. This list is sorted from high to low, with a guaranteed 1 at the end of the list. How many ways are there to pay the amount with these change values? For example, if the amount is 6, and the coins are `[50,20,10,5,2,1]`, then the answer is 5, namely `5+1`, `2+2+2`, `2+2+1+1`, `2+1+1+1+1`, and `1+1+1+1+1+1`. Write a program that calculates such an answer, for any amount, and any list of coins. You do not need to print all the possible combinations, the answer itself suffices. Your program should be able to handle amounts from 1 to 99 at least, with regular coins used in the euro-region (there are 4366 ways to pay out 99 cents this way)."
   ]
  },
  {
   "cell_type": "code",
   "execution_count": null,
   "metadata": {
    "collapsed": true
   },
   "outputs": [],
   "source": [
    "# Making change.\n",
    "\n",
    "amount = 6\n",
    "coins = [50,20,10,5,2,1]"
   ]
  },
  {
   "cell_type": "markdown",
   "metadata": {},
   "source": [
    "### Exercise 48.36"
   ]
  },
  {
   "cell_type": "markdown",
   "metadata": {},
   "source": [
    "The inconsistent spelling of words is an annoyance; why can't we simplify spelling so that it is easier to learn? Consider the following rules:\n",
    "\n",
    "- If a word ends in a consonant followed by a \"y\", you can replace the \"y\" with \"ee\"; e.g., \"shabby\" becomes \"shabbee\"\n",
    "- If a word ends in a consonant followed by \"ed\", you can replace the \"ed\" with \"t\"; e.g., \"learned\" becomes \"learnt\"\n",
    "- If a word ends in \"gue\", you remove the \"ue\"; e.g., \"catalogue\" becomes \"catalog\"\n",
    "- If a word ends in \"ough\", you replace the \"ough\" with a single \"o\": e.g., \"although\" becomes \"altho\"\n",
    "- If a word contains a vowel (including \"y\"), followed by an \"s\", followed by a vowel (including \"y\"), you can replace the \"s\" with a \"z\"; e.g., \"theorise\" becomes \"theorize\"\n",
    "- If a word contains \"ae\", the \"ae\" is replaced with a single \"e\"; e.g., \"aesthetic\" becomes \"esthetic\"\n",
    "- If a word ends in \"re\", the \"re\" is replaced with \"er\"; e.g., \"sabre\" becomes \"saber\"\n",
    "- If a word ends in \"ye\", the \"ye\" is replaced with a single \"i\"; e.g., \"goodbye\" becomes \"goodbi\"\n",
    "- If a word contains \"ate\", you replace the \"ate\" with the number \"8\"; e.g., \"later\" becomes \"l8r\"\n",
    "- If a word contains \"you\", you replace those letters with a single \"u\"; e.g., \"you\" becomes \"u\"\n",
    "- If a word contains \"ks\", \"cs\", \"kz\", or \"cz\", you replace those letters with an \"x\"; e.g., \"facsimili\" becomes \"faximili\"\n",
    "- If a word ends in \"ache\", you replace those letters with \"ake\"; e.g., \"headache\" becomes \"headake\"\n",
    "- If a word contains \"ea\", you replace that with \"ee\"; e.g., \"beat\" becomes \"beet\"\n",
    "- If a word ends in a \"d\", you replace that \"d\" with a \"t\"; e.g., \"wood\" becomes \"woot\"\n",
    "\n",
    "Write a program that changes the spelling of a text according to these rules. Make sure that if a word starts with a capital, a replacement retains that capital; e.g., if a sentence starts with \"You\", you should make it start with \"U\" (and not \"u\"). It is a good idea to do this exercise with regular expressions."
   ]
  },
  {
   "cell_type": "code",
   "execution_count": null,
   "metadata": {
    "collapsed": true
   },
   "outputs": [],
   "source": [
    "# Modern spelling.\n"
   ]
  },
  {
   "cell_type": "markdown",
   "metadata": {},
   "source": [
    "---"
   ]
  },
  {
   "cell_type": "markdown",
   "metadata": {},
   "source": [
    "End of Chapter 48. Version 1.7. "
   ]
  }
 ],
 "metadata": {
  "kernelspec": {
   "display_name": "Python 3",
   "language": "python",
   "name": "python3"
  },
  "language_info": {
   "codemirror_mode": {
    "name": "ipython",
    "version": 3
   },
   "file_extension": ".py",
   "mimetype": "text/x-python",
   "name": "python",
   "nbconvert_exporter": "python",
   "pygments_lexer": "ipython3",
   "version": "3.6.1"
  }
 },
 "nbformat": 4,
 "nbformat_minor": 1
}
