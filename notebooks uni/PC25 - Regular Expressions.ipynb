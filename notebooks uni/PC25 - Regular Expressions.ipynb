{
 "cells": [
  {
   "cell_type": "markdown",
   "metadata": {},
   "source": [
    "# Chapter 25 - Regular Expressions"
   ]
  },
  {
   "cell_type": "markdown",
   "metadata": {},
   "source": [
    "-------------------------------"
   ]
  },
  {
   "cell_type": "markdown",
   "metadata": {},
   "source": [
    "When you are facing a problem with text mining, data processing, finding patterns in large collections of data, or scraping data from web pages, and you explore the Internet to find a solution to your problem, you will find that often the very first answer given to questions in this respect is \"Why don't you use regular expressions?\" or even \"Just use regex\", without further explanations. Rather smug answers, as many people have never heard of regular expressions, and if they have, might find them scary and incomprehensible. In fact, at first glance they come over as so arcane and confusing that most people rather shy away than delve into them. Which is a pity, as regular expressions are a powerful tool that should not be missing in the toolbox of anyone who deals with unstructured data on a regular basis.\n",
    "\n",
    "In this chapter I will explain how to write and use basic regular expressions with Python. You will find them indeed a powerful way to quickly express and discover complex and diverse patterns in data, providing access to functionalities that would be very hard to implement in vanilla Python. While this chapter does not contain a complete overview of regular expressions, after studying it you will be able to understand and use regular expressions for most, if not all, pattern-matching problems that you encounter in practice, and be confident in telling the uninitiated: \"You should use regular expressions to solve your problems.\" <i>Now you can feel smug too!</i> "
   ]
  },
  {
   "cell_type": "markdown",
   "metadata": {},
   "source": [
    "---"
   ]
  },
  {
   "cell_type": "markdown",
   "metadata": {},
   "source": [
    "## Regular expressions with Python"
   ]
  },
  {
   "cell_type": "markdown",
   "metadata": {},
   "source": [
    "Regular expressions are text strings that describe a \"pattern\" that can be found in textual data. For example, the regular expression `a+` describes a pattern that consists of a sequence of one or more times the letter \"a\". In the string \"aardvark\" this pattern can be found twice, namely as the double \"a\" at the start of the string, and the single \"a\" in the second half of the string. \n",
    "\n",
    "A regular expression always consists of a string, which may contain any character. Some characters are \"meta-characters\" which have a special meaning in regular expressions. You should be careful when using them (how you should use them will be discussed later). The meta-characters are:\n",
    "\n",
    "<b>`. ^ $ * + ? { } [ ] \\ | ( )`</b>\n",
    "\n",
    "I will discuss how to write regular expressions later in this chapter. First, I need to discuss how to use regular expressions in Python code."
   ]
  },
  {
   "cell_type": "markdown",
   "metadata": {},
   "source": [
    "### The `re` module"
   ]
  },
  {
   "cell_type": "markdown",
   "metadata": {},
   "source": [
    "To use regular expressions in Python, you must import the `re` module.\n",
    "\n",
    "A regular expression can be considered a piece of code. That code can be \"compiled\" by the `re` module to produce a \"pattern object\". That pattern object can then be used to search for the pattern in data. For instance, in the following code, the regular expression `a+` is compiled to produce a pattern stored as `pAplus`, which is then used to search for the pattern in the string \"aardvark\". It stores the occurrences of the pattern as a list, and prints that list."
   ]
  },
  {
   "cell_type": "code",
   "execution_count": null,
   "metadata": {},
   "outputs": [],
   "source": [
    "import re\n",
    "\n",
    "pAplus = re.compile( r\"a+\" )\n",
    "lAplus = pAplus.findall( \"aardvark\" )\n",
    "print( lAplus )"
   ]
  },
  {
   "cell_type": "markdown",
   "metadata": {},
   "source": [
    "<b>Exercise:</b> You can change the word \"aardvark\" into something else, and see how that affects the output.\n",
    "\n",
    "You might be wondering what that letter \"`r`\" is doing in front of the regular expression string. Why did I write `r\"a+\"` instead of just `\"a+\"`? This letter \"`r`\" tells Python that it should consider the string as \"raw data\", i.e., it should not try to convert parts of the string according to standard Python string interpretations. This is mainly necessary when the regular expression contains \"`\\b`\", which for regular expressions means \"word boundary\" (I will get to that later in this chapter), but for Python means \"backspace\". So it is good practice to always put that \"`r`\" in front of a regular expression, to avoid problems.\n",
    "\n",
    "While it is seldom done in practice, you may add an optional second parameter (a so-called \"flag\") to the `compile()` call, which indicates a special way to use the created pattern. The parameter `re.I` indicates that the pattern should be used case-insensitively, while `re.S` indicates that the pattern should also process newlines, and `re.M` indicates that the pattern should match the meta-characters `^` and `$` to every line of the text, and not just the text as a whole. You may combine them by putting pipe-lines (`|`) between them.  "
   ]
  },
  {
   "cell_type": "markdown",
   "metadata": {},
   "source": [
    "### Shorthand"
   ]
  },
  {
   "cell_type": "markdown",
   "metadata": {},
   "source": [
    "You are allowed to skip the compile-step, and call the pattern search using a class call to the `re` module. Instead of calling methods of the pattern that the compilation produced, I can directly call the method for `re`, and use the regular expression as the first parameter. The code above then becomes:"
   ]
  },
  {
   "cell_type": "code",
   "execution_count": null,
   "metadata": {},
   "outputs": [],
   "source": [
    "import re\n",
    "\n",
    "lAplus = re.findall( r\"a+\", \"aardvark\" )\n",
    "print( lAplus )"
   ]
  },
  {
   "cell_type": "markdown",
   "metadata": {},
   "source": [
    "If you run this code, you will notice that the output is exactly the same as for the first bit of code. The second approach still compiles the regular expression, but does not store the pattern. If a pattern is only needed a few times in a program, the second approach is fine. However, if it is used many times, the first approach is preferred, as in the first approach the compilation of the regular expression (which takes by far the most time of the whole process) is only done once, as opposed to every time."
   ]
  },
  {
   "cell_type": "markdown",
   "metadata": {},
   "source": [
    "### Match objects"
   ]
  },
  {
   "cell_type": "markdown",
   "metadata": {},
   "source": [
    "The `findall()` method used above returns the occurrences of the pattern in the target string. Often you need more information than just the actual patterns; for instance, you might want to know where the pattern occurs in the target string. The `re` module has methods that result in so-called \"match objects\", which are objects that contain, besides the textual result, more information, such as the index where the result is found in the target string. For example, the `search()` method returns a match object for the first occurrence of a pattern in a string."
   ]
  },
  {
   "cell_type": "code",
   "execution_count": null,
   "metadata": {},
   "outputs": [],
   "source": [
    "import re\n",
    "\n",
    "m = re.search( r\"a+\", \"Look out for the aardvark!\" )\n",
    "print( \"{} is found at index {}\".format( m.group(), m.start() ) )"
   ]
  },
  {
   "cell_type": "markdown",
   "metadata": {},
   "source": [
    "As you can see, the match object has several useful methods. These are:\n",
    "\n",
    "- `group()` to return the found pattern\n",
    "- `start()` to return the index at which the pattern starts\n",
    "- `end()` to return the index where the pattern has ended\n",
    "\n",
    "The `group()` method has some handy applications which you can control with parameters, which I will get to later.\n",
    "\n",
    "The `match()` method is similar to the `search()` method, but checks if the pattern exists at the very start of a string. Both methods will return `None` if the pattern is not found, which as a condition is processed by Python as `False`. "
   ]
  },
  {
   "cell_type": "code",
   "execution_count": null,
   "metadata": {},
   "outputs": [],
   "source": [
    "import re\n",
    "\n",
    "m = re.match( r\"a+\", \"Look out for the aardvark!\" )\n",
    "if m:\n",
    "    print( \"{} is found at the start of the string\".format( m.group() ) )\n",
    "else:\n",
    "    print( \"The pattern is not found at the start of the string\" )    "
   ]
  },
  {
   "cell_type": "markdown",
   "metadata": {},
   "source": [
    "### Lists of matches"
   ]
  },
  {
   "cell_type": "markdown",
   "metadata": {},
   "source": [
    "I already showed that the `findall()` method creates a list of occurrences of a pattern in a string. The `finditer()` method is its complement, which creates a list of match objects for where the pattern occurs in a string. The best way to process such a list is by using the `for m in` approach. For example:"
   ]
  },
  {
   "cell_type": "code",
   "execution_count": null,
   "metadata": {},
   "outputs": [],
   "source": [
    "import re\n",
    "\n",
    "mlist = re.finditer( r\"a+\", \"Look out! A dangerous aardvark is on the loose!\" )\n",
    "for m in mlist:\n",
    "    print( \"{} is found at index {} and ends at index {}.\".format( m.group(), m.start(), m.end() ) )"
   ]
  },
  {
   "cell_type": "markdown",
   "metadata": {},
   "source": [
    "---"
   ]
  },
  {
   "cell_type": "markdown",
   "metadata": {},
   "source": [
    "## Writing regular expressions"
   ]
  },
  {
   "cell_type": "markdown",
   "metadata": {},
   "source": [
    "Now the basics of using regular expression in Python via the `re` module have been explained, I can get into the actual writing of regular expressions. "
   ]
  },
  {
   "cell_type": "markdown",
   "metadata": {},
   "source": [
    "### Regular expressions with square brackets"
   ]
  },
  {
   "cell_type": "markdown",
   "metadata": {},
   "source": [
    "The simplest regular expression is a string of characters, which describes a pattern consisting of exactly that string of characters. You may also describe a range of characters using square brackets `[` and `]`. For instance, the regular expression `[aeiou]` describes any of the characters \"a\", \"e\", \"i\", \"o\", or \"u\". This means that if `[aeiou]` is part of a regular expression, at that location in the pattern one of these letters must reside (note: exactly one of them, so not multiple). For instance, to search for the words \"ball\", \"bell\", \"bill\", \"boll\" and \"bull\", the regular expression `b[aeiou]ll` can be used."
   ]
  },
  {
   "cell_type": "code",
   "execution_count": null,
   "metadata": {},
   "outputs": [],
   "source": [
    "import re\n",
    "\n",
    "slist = re.findall( r\"b[aeiou]ll\", \"Bill Gates and Uwe Boll drank Red Bull at a football match in Campbell.\" )\n",
    "print( slist )"
   ]
  },
  {
   "cell_type": "markdown",
   "metadata": {},
   "source": [
    "<b>Exercise:</b> Change the regular expression above so that it not only finds the words \"ball\" and \"bell\", but also \"Bill\", \"Boll\", and \"Bull\".\n",
    "\n",
    "You can use a dash within the square brackets between two characters to indicate that they represent not only these two characters, but also all the characters in between. For instance, the regular expression `[a-dqx-z]` is equivalent to `[abcdqxyz]`. To describe any of the letters of the alpabet, either as capital or lower case, you can use `[A-Za-z]`.\n",
    "\n",
    "Moreover, if you place a caret (`^`) right next to the opening square bracket, that means that you want the opposite of what is within the square brackets. For instance, `[^0-9]` indicates any character <i>except</i> for a digit."
   ]
  },
  {
   "cell_type": "markdown",
   "metadata": {},
   "source": [
    "### Special sequences"
   ]
  },
  {
   "cell_type": "markdown",
   "metadata": {},
   "source": [
    "In a regular expression, just like in strings, the backslash character (`\\`) indicates that the character that follows it has a special meaning. The special sequences that hold for strings also hold for regular expressions, but regular expressions have many more. There are also a few meta-characters that are interpreted in a particular way. The following special sequences are defined (there are more, but these are the most common ones):\n",
    "\n",
    "    \\b    Word boundary (zero-width)\n",
    "    \\B    Not a word boundary (zero-width)\n",
    "    \\d    Digit [0-9]\n",
    "    \\D    Not a digit [^0-9]\n",
    "    \\n    Newline\n",
    "    \\r    Carriage return\n",
    "    \\s    Whitespace\n",
    "    \\S    Not a whitespace\n",
    "    \\t    Tabulation\n",
    "    \\w    Alphanumeric character [A-Za-z0-9_]\n",
    "    \\W    Not an alphanumeric character [^A-Za-z0-9_]\n",
    "    \\/    Forward slash\n",
    "    \\\\    Backslash\n",
    "    \\\"    Double quote\n",
    "    \\'    Single quote\n",
    "    ^     Start of a string (zero-width)\n",
    "    $     End of a string (zero-width)\n",
    "    .     Any character\n",
    "\n",
    "Note that \"zero-width\" means that the sequence does not represent a character, but a position in the string between two characters. For instance, the regular expression `^A` represents a string that starts with the letter \"A\".\n",
    "\n",
    "Moverover, you can place characters between parentheses, in which case the characters are \"grouped\". Within a group, you can indicate a choice between multiple (sequences of) characters using the pipe-line (`|`). For instance, the regular expression `(apple|banana|orange)` is the string \"apple\" or the string \"banana\" or the string \"orange\".\n",
    "\n",
    "You should be aware that some of these special sequences (in particular those without a backslash, the parentheses, and the pipe-line) do not work like indicated here when placed within square brackets. For instance, a period within square brackets does not mean \"any character\", but an actual period."
   ]
  },
  {
   "cell_type": "markdown",
   "metadata": {},
   "source": [
    "### Repetition"
   ]
  },
  {
   "cell_type": "markdown",
   "metadata": {},
   "source": [
    "Where regular patterns get really interesting is when repetitions are used. Several of the meta-characters are used to indicate that (part of) a regular expression is repeated multiple times. In particular, the following repetition operators are often used:\n",
    "\n",
    "    *      Zero or more times\n",
    "    +      One or more times\n",
    "    ?      Zero or one time\n",
    "    {p,q}  At least p and at most q times\n",
    "    {p,}   At least p times\n",
    "    {p}    Exactly p times\n",
    "    \n",
    "You place such an operator after the (part of the) expression it repeats. For instance, `ab*c` means the letter \"a\", followed by zero or more times the letter \"b\", followed by the letter \"c\". Thus, it matches the strings \"ac\", \"abc\", \"abbc\", \"abbbc\", \"abbbbc\", etc.\n",
    "\n",
    "When you place a repetition operator after a group (between parentheses), it indicates the repetition of the whole group. For instance, `(ab)*c` matches the strings \"c\", \"abc\", \"ababc\", \"abababc\", \"ababababc\", etc.\n",
    "\n",
    "Regular expression matching for repetitions is <i>greedy</i>. It will always try to match the earliest occurring pattern first, extended to its longest possible extension. Check out the following code:"
   ]
  },
  {
   "cell_type": "code",
   "execution_count": null,
   "metadata": {},
   "outputs": [],
   "source": [
    "import re\n",
    "\n",
    "mlist = re.finditer( r\"ba+\", \"A sheep says 'baaaaah' to Ali Baba.\" )\n",
    "for m in mlist:\n",
    "    print( \"{} is found at {}.\".format(m.group(), m.start()))"
   ]
  },
  {
   "cell_type": "markdown",
   "metadata": {},
   "source": [
    "<b>Exercise:</b> Change the regular expression in the code above so that it finds any \"b\" followed by one or more \"a\"s, where the \"b\" might be captitalized. The output should be \"baaaaa\", \"Ba\" and \"ba\". \n",
    "\n",
    "<b>Exercise:</b> Once you have solved the previous exercise, change the regular expression so that it finds the pattern consisting of a \"b\" or \"B\" followed by a sequence of one or more \"a\"s, repeated one or more times. The output should be \"baaaaa\" and \"Baba\". You will need to use parentheses for this. When you think that your regular expression is correct, also test it on several other strings.\n",
    "\n",
    "Here is another one, which searches for occurrences of one or more \"a\"s:"
   ]
  },
  {
   "cell_type": "code",
   "execution_count": null,
   "metadata": {},
   "outputs": [],
   "source": [
    "import re\n",
    "\n",
    "mlist = re.finditer( r\"a+\", \"A sheep says 'baaaaah' to Ali Baba.\" )\n",
    "for m in mlist:\n",
    "    print( \"{} is found at {}.\".format(m.group(), m.start()))"
   ]
  },
  {
   "cell_type": "markdown",
   "metadata": {},
   "source": [
    "When you run this code, you see that it finds four occurrences of the pattern: three times a single \"a\", and one time a sequence of five \"a\"s. You might wonder why the pattern matching process does not also find the four \"a\"s starting at position 16, the three \"a\"s starting at position 17, the two \"a\"s starting at position 18, and the single \"a\" starting at position 19. The reason is that the `finditer()` and `findall()` methods, when they find a match, continue searching immediately after the end of the last found match. Normally, this is the behavior that you want.\n",
    "\n",
    "<b>Exercise:</b> Now change the `r\"a+\"` in the code above to `r\"a*\"`, which changes it to searching for zero or more \"a\"s. Before running the code, think about what you expect the outcome to be. Then run the code and see if your prediction was correct. If it wasn't, do you now realize why the outcome is what it is? \n",
    "\n",
    "Note: You may have noticed that regular expressions tend to become overly complex fast. It is a good idea to comment them so that you can understand them even when you examine your code later."
   ]
  },
  {
   "cell_type": "markdown",
   "metadata": {},
   "source": [
    "### Practice"
   ]
  },
  {
   "cell_type": "markdown",
   "metadata": {},
   "source": [
    "<b>Exercise:</b> With all you learned until now, you should be able to do the following exercise. It is wise to solve this one before continuing with the remainder of this chapter. The exercise consists of a piece of code that you have to complete.\n",
    "\n",
    "When you run the code below, it tries to search for all the regular expressions in `relist`, in all the strings in `slist`. It prints for each string the numbers of all the regular expressions for which matches are found.\n",
    "\n",
    "Your goal is to fill in the regular expressions in `relist` according to the specification in the comments to the right of each expression. The first regular expression is already filled in. Note that it starts with a caret and ends in a dollar sign, which indicates that the expression should match the string from the start to the end. Several of the other expressions will also needs such an indication."
   ]
  },
  {
   "cell_type": "code",
   "execution_count": null,
   "metadata": {},
   "outputs": [],
   "source": [
    "import re\n",
    "\n",
    "# List of strings used for testing.\n",
    "slist = [\n",
    "    \"aaabbb\",\n",
    "    \"aaaaaa\",\n",
    "    \"abbaba\",\n",
    "    \"aaa\",\n",
    "    \"gErbil ottEr\",\n",
    "    \"tango samba rumba\",\n",
    "    \" hello world \",\n",
    "    \" Hello World \"\n",
    "]\n",
    "\n",
    "# List of regular expressions to be completed by the student.\n",
    "relist = [\n",
    "    r\"^a*b*$\",          # 1. Only a's, followed by only b's, including empty string\n",
    "    r\"\",                # 2. Only a's, including the empty string\n",
    "    r\"\",                # 3. Only a's and b's, in any order, including the empty string\n",
    "    r\"\",                # 4. Exactly three a's\n",
    "    r\"\",                # 5. Neither a's nor b's, but empty string allowed\n",
    "    r\"\",                # 6. An even number of a's (and nothing else)\n",
    "    r\"\",                # 7. A string consisting of exactly two words, regardless of whitespaces\n",
    "    r\"\",                # 8. A string that contains a word that ends in \"ba\"\n",
    "    r\"\"                 # 9. A string that contains a word that starts with a capital\n",
    "]\n",
    "\n",
    "for s in slist:\n",
    "    print( s, ':', sep='', end=' ' )\n",
    "    for i in range(len(relist)):\n",
    "        m = re.search( relist[i], s )\n",
    "        if m:\n",
    "            print( i+1, end=' ')\n",
    "    print()"
   ]
  },
  {
   "cell_type": "markdown",
   "metadata": {},
   "source": [
    "The correct output is: \n",
    "\n",
    "    aaabbb: 1 3   \n",
    "    aaaaaa: 1 2 3 6    \n",
    "    abbaba: 3 8    \n",
    "    aaa: 1 2 3 4     \n",
    "    gerbil otter: 7    \n",
    "    tango samba rumba: 8     \n",
    "     hello world : 5 7     \n",
    "     Hello World : 5 7 9\n",
    "     \n",
    "Make sure that you can do all of these correctly before you continue!"
   ]
  },
  {
   "cell_type": "markdown",
   "metadata": {},
   "source": [
    "---"
   ]
  },
  {
   "cell_type": "markdown",
   "metadata": {},
   "source": [
    "## Grouping"
   ]
  },
  {
   "cell_type": "markdown",
   "metadata": {},
   "source": [
    "As shown above, when parentheses are used in regular expressions, they create so-called \"groups\". Take for instance the regular expression `(\\d{1,2})-(\\d{1,2})-(\\d{4})`, which describes a sequence that could represent a date: one or two digits, followed by a dash, followed by one or two digits, followed by a dash, followed by four digits (if you do not understand this regular expression, check back in previous sections of this chapter until you do understand it). This expression contains three groups: the first containing one or two digits, the second containing one or two digits, and the third one containing the four digits at the end. The code below searches for this pattern in a string."
   ]
  },
  {
   "cell_type": "code",
   "execution_count": null,
   "metadata": {},
   "outputs": [],
   "source": [
    "import re\n",
    "\n",
    "pDate = re.compile( r\"(\\d{1,2})-(\\d{1,2})-(\\d{4})\" )\n",
    "m = pDate.search( \"In response to your letter of 25-3-2015, \\\n",
    "I decided to hire a hitman to get you.\" )\n",
    "if m:\n",
    "    print( \"Date is {}; day is {}; month is {}; year is {}\".format( \n",
    "            m.group(0), m.group(1), m.group(2), m.group(3) ) )"
   ]
  },
  {
   "cell_type": "markdown",
   "metadata": {},
   "source": [
    "When you run the code, you see that it not only gets out the result as a whole (using the method `group()` or `group(0)`), but that you can also access each of the groups that is found in the result, using methods `group(1)` for the day, `group(2)` for the month, and `group(3)` for the year. You can also use the method `groups()` to get a tuple with all the groups."
   ]
  },
  {
   "cell_type": "markdown",
   "metadata": {},
   "source": [
    "### `findall()` and groups"
   ]
  },
  {
   "cell_type": "markdown",
   "metadata": {},
   "source": [
    "The `findall()` methods returns a list of pattern objects. In the examples where it was used until now, it returned a list of strings. Indeed, pattern objects are strings if there is at most one group in the regular expression. If there are multiple groups, pattern objects are actually tuples that contain all the groups."
   ]
  },
  {
   "cell_type": "code",
   "execution_count": null,
   "metadata": {},
   "outputs": [],
   "source": [
    "import re\n",
    "\n",
    "pDate = re.compile( r\"(\\d{1,2})-(\\d{1,2})-(\\d{4})\" )\n",
    "datelist = pDate.findall( \"In response to your letter of 25-3-2015, \\\n",
    "on 27-3-2015 I decided to hire a hitman to get you.\" )\n",
    "for date in datelist:\n",
    "    print( date )"
   ]
  },
  {
   "cell_type": "markdown",
   "metadata": {},
   "source": [
    "### Named groups"
   ]
  },
  {
   "cell_type": "markdown",
   "metadata": {},
   "source": [
    "It is possible to give each group a name, by placing the construct `?P<name>` (where you replace \"name\" with the name you want the group to have) immediately after the opening parenthesis. You can then refer to the groups by these names, instead of their index."
   ]
  },
  {
   "cell_type": "code",
   "execution_count": null,
   "metadata": {},
   "outputs": [],
   "source": [
    "import re\n",
    "\n",
    "pDate = re.compile( r\"(?P<day>\\d{1,2})-(?P<month>\\d{1,2})-(?P<year>\\d{4})\" )\n",
    "m = pDate.search( \"In response to your letter of 25-3-2015, \\\n",
    "I decided to hire a singing telegram to get you.\" )\n",
    "if m:\n",
    "    print( \"day is {}\".format( m.group('day') ) )\n",
    "    print( \"month is {}\".format( m.group('month') ) )\n",
    "    print( \"year is {}\".format( m.group('year') ) )"
   ]
  },
  {
   "cell_type": "markdown",
   "metadata": {},
   "source": [
    "### Referring within a regular expression"
   ]
  },
  {
   "cell_type": "markdown",
   "metadata": {},
   "source": [
    "Suppose that you have to create a regular expression that represents a string that contains an arbitrary non-space character twice. For instance, the string \"regular\" would not have a match, but the string \"expression\" would (as it contains two \"e\"s and two \"s\"s. This cannot be done with the regular expression features that we discussed until now. It can be solved, however, with groups, and special references within a regular expression, namely as follows: using the special sequence `\\x`, whereby `x` is a number, you refer to the group with index `x` in the match. Thus, a regular expression that represents a string with an arbitrary non-space character twice is `(\\S).*\\1`.\n",
    "\n",
    "Since at this point this regular expression might still be a bit hard to understand, let's look at it in depth. The `\\S` is a special sequence that represent a non-space character. Putting it in parentheses turns it into a group, and since this is the first (and only) group in the expression, its index is 1. The `.*` represents a sequence of zero or more characters, which can be anything (the period is a meta-character that represents any character). Finally, the `\\1` refers to the first group, and says that here you want to have exactly the same thing as the first group represents. If you are wondering why you do not need to represent anything that can be placed before the `\\S`, or anything that can come after the `\\1`, then the answer is that you are not specifying that this regular expression represents a string as a whole, so as long as it occurs anywhere in the string, it matches.\n",
    "\n",
    "Test this pattern with the code below, by replacing the string \"Monty Python\" with different strings, and running the code to examine the results."
   ]
  },
  {
   "cell_type": "code",
   "execution_count": null,
   "metadata": {},
   "outputs": [],
   "source": [
    "import re\n",
    "\n",
    "m = re.search( r\"(\\S).*\\1\", \"Monty Python's Flying Circus\" )\n",
    "if m:\n",
    "    print( \"The character {} occurs twice in the string\".format( m.group(1) ) )\n",
    "else:\n",
    "    print( \"No match was found.\" )"
   ]
  },
  {
   "cell_type": "markdown",
   "metadata": {},
   "source": [
    "<b>Exercise:</b> Can you change the regular expression in the code above so that it checks if the string contains a character at least three times? \n",
    "\n",
    "<b>Optional exercise:</b> Can you change the regular expression so that it checks whether it contains at least two characters twice? This is quite hard and therefore optional, but if you try to do it, make sure that you test it with at least the strings \"aaaa\", \"aabb\", \"abab\" and \"abba\". These all should match, unless you also want the two repeated characters different, then \"aaaa\" should not match (but note that that makes the regular expression even harder to design)."
   ]
  },
  {
   "cell_type": "markdown",
   "metadata": {},
   "source": [
    "---"
   ]
  },
  {
   "cell_type": "markdown",
   "metadata": {},
   "source": [
    "## Replacing"
   ]
  },
  {
   "cell_type": "markdown",
   "metadata": {},
   "source": [
    "While regular expressions are mainly used for searching, you can also use regular expressions to replace substrings in a string with different substrings. This is done with the `sub()` method. `sub()` gets as arguments the to-be-replaced pattern, the replacement, and the string. The `sub()` method returns the new string (remember that strings are immutable, so `sub()` will not actually change your original string, even if it is stored in a variable; you will have to store its return value if you want access to the new string). \n",
    "\n",
    "The replacement is usually just a string, but it may contain references to groups in the original pattern. You will have to use a format that is different from the `\\x` format shown before. If you want to refer to `group x` in the pattern (`x` being a number), you write `\\g<x>`. The reason for the difference is disambiguation; it allows you to distinguish a reference to, for instance, group 2 followed by a character zero, from a reference to group 20."
   ]
  },
  {
   "cell_type": "code",
   "execution_count": null,
   "metadata": {},
   "outputs": [],
   "source": [
    "import re\n",
    "\n",
    "s = re.sub( r\"([iy])se\", \"\\g<1>ze\", \"Whether you categorise, emphasise, or analyse, \\\n",
    "you should use American spelling!\" )\n",
    "print( s )"
   ]
  },
  {
   "cell_type": "markdown",
   "metadata": {},
   "source": [
    "---"
   ]
  },
  {
   "cell_type": "markdown",
   "metadata": {},
   "source": [
    "## What you learned"
   ]
  },
  {
   "cell_type": "markdown",
   "metadata": {},
   "source": [
    "In this chapter you learned about:\n",
    "\n",
    "- What regular expressions are\n",
    "- Which meta-characters can be used in regular expressions\n",
    "- How to use regular expressions in Python, using the `re` module\n",
    "- Compiling regular expressions with `re.compile()`\n",
    "- What match objects are\n",
    "- Searching for patterns using `match()`, `search()`, `findall()`, and `finditer()`\n",
    "- Replacing patterns using the `sub()` method\n",
    "- Using square brackets in regular expressions to represent different possibilities for characters\n",
    "- Using special sequences in regular expressions, many of which use the backslash character\n",
    "- Repeating sub-patterns in regular expressions using repetition operators\n",
    "- Grouping of sub-patterns using parentheses\n",
    "- Using groups to unravel results\n",
    "- Referencing within patterns\n",
    "- Smugly referring people with pattern mining problems to regular expressions"
   ]
  },
  {
   "cell_type": "markdown",
   "metadata": {},
   "source": [
    "---"
   ]
  },
  {
   "cell_type": "markdown",
   "metadata": {},
   "source": [
    "## Exercises"
   ]
  },
  {
   "cell_type": "markdown",
   "metadata": {},
   "source": [
    "### Exercise 25.1"
   ]
  },
  {
   "cell_type": "markdown",
   "metadata": {},
   "source": [
    "Assume that a word consist of only letters from the alphabet (upper case or lower case). Below, write some code that uses a regular expression to make a list of all the words in the sentence that is given."
   ]
  },
  {
   "cell_type": "code",
   "execution_count": null,
   "metadata": {},
   "outputs": [],
   "source": [
    "# List words.\n",
    "import re\n",
    "\n",
    "sentence = \"The price of a 2-room apartment in Manhattan starts at 1 \\\n",
    "million dollars, and may actually be the 10-fold of that on 42nd Street.\"\n"
   ]
  },
  {
   "cell_type": "markdown",
   "metadata": {},
   "source": [
    "### Exercise 25.2"
   ]
  },
  {
   "cell_type": "markdown",
   "metadata": {},
   "source": [
    "Using a regular expression and the `findall()` method, create a list of all the occurrences of the word \"the\" in the sentence given in the code block below. Print the number of items in the list. Your code should handle the problem in a case-insensitive way. Note: the outcome should be 2."
   ]
  },
  {
   "cell_type": "code",
   "execution_count": null,
   "metadata": {
    "collapsed": true
   },
   "outputs": [],
   "source": [
    "# List occurrences.\n",
    "import re\n",
    "\n",
    "sentence = \"The word ether can be found in my thesaurus using the \\\n",
    "archaic spelling 'aether'.\"\n"
   ]
  },
  {
   "cell_type": "markdown",
   "metadata": {},
   "source": [
    "### Exercise 25.3"
   ]
  },
  {
   "cell_type": "markdown",
   "metadata": {},
   "source": [
    "A person's full name consists of two words, next to each other, consisting of only letters from the alphabet, all lower case except for the first one, which is upper case. Between the two words there should only be whitespaces. The words start and end at a word boundary. E.g., according to this specification `Cardinal Richelieu` is a name, but `Charles d'Artagnan` is not, and neither is `Gilbert duPrez`, `Joe DiMaggio`, or `Unit X1138`. Under this assumption, use a regular expression to list all the two-word combinations in the sentence below which are probably names of persons. Note: If you want to know the rest of the joke you'll have to ask me."
   ]
  },
  {
   "cell_type": "code",
   "execution_count": null,
   "metadata": {
    "collapsed": true
   },
   "outputs": [],
   "source": [
    "# List names.\n",
    "import re\n",
    "\n",
    "sentence = \"Michael Jordan, Bill Gates, and the Dalai Lama decided to \\\n",
    "take a plane trip together, when they spotted a hippy next to the runway.\"\n"
   ]
  },
  {
   "cell_type": "markdown",
   "metadata": {},
   "source": [
    "### Exercise 25.4"
   ]
  },
  {
   "cell_type": "markdown",
   "metadata": {},
   "source": [
    "As a follow-up to the previous exercise, now assume that a person's name consists of two or more words that meet the criteria spelled out above. Use a regular expression to extract all names from the sentence below."
   ]
  },
  {
   "cell_type": "code",
   "execution_count": null,
   "metadata": {
    "collapsed": true
   },
   "outputs": [],
   "source": [
    "# List long names.\n",
    "import re\n",
    "\n",
    "sentence = \"William Randolph Hearst attempted to destroy all copies of \\\n",
    "Orson Welles' masterpiece 'Citizen Kane', because he did not appreciate \\\n",
    "the fact that the protagonist Charles Foster Kane was a thinly \\\n",
    "disguised caricature of himself. I wonder whether William Henry Gates \\\n",
    "The Third would attempt to do the same.\"\n"
   ]
  },
  {
   "cell_type": "markdown",
   "metadata": {},
   "source": [
    "### Exercise 25.5"
   ]
  },
  {
   "cell_type": "markdown",
   "metadata": {},
   "source": [
    "When a person speaks in a piece of text, this is often represented by enclosing the spoken part within double quotes. Write a regular expression that extract all the spoken parts from the sentence below. Hint: Use groups, and remember that regular expressions are greedy."
   ]
  },
  {
   "cell_type": "code",
   "execution_count": null,
   "metadata": {},
   "outputs": [],
   "source": [
    "# Quoted strings.\n",
    "import re\n",
    "\n",
    "sentence = \"Client: \\\"I wish to register a complaint! Hello miss!\\\"\\n\\\n",
    "Shopkeeper: \\\"What do you mean, miss?\\\"\\n\\\n",
    "Client: \\\"I am sorry, I have a cold.\\\"\\n\"\n"
   ]
  },
  {
   "cell_type": "markdown",
   "metadata": {},
   "source": [
    "### Exercise 25.6"
   ]
  },
  {
   "cell_type": "markdown",
   "metadata": {},
   "source": [
    "When scraping data from HTML pages, you can often find the items you are interested in by looking for mark-ups. Suppose that we have a page with data of persons, who have an ID and a name. The ID is a nine-digit number, and has a marker `<id>` in front of it, and a marker `</id>` after it. The name belonging to the ID will follow immediately after the ID, and has a marker `<name>` in front of it, and a marker `</name>` after it. Use a regular expression to extract all the IDs and corresponding names from the text below, and print them. There should be five of them."
   ]
  },
  {
   "cell_type": "code",
   "execution_count": null,
   "metadata": {
    "collapsed": true
   },
   "outputs": [],
   "source": [
    "# Scraping.\n",
    "import re\n",
    "\n",
    "text = \"<html><head><title>List of persons with ids</title></head><body>\\\n",
    "<p><id>123123123</id><name>Groucho Marx</name>\\\n",
    "<p><id>123123124</id><name>Harpo Marx</name>\\\n",
    "<p><id>123123125</id><name>Chico Marx</name>\\\n",
    "<randomcrap>Etaoin<id>Shrdlu</id>qwerty</name></randomcrap>\\\n",
    "<nocrap><p><id>123123126</id><name>Zeppo Marx</name></nocrap>\\\n",
    "<address>Chicago</address>\\\n",
    "<morerandomcrap><id>999999999</id>nonametobeseen!</morerandomcrap>\\\n",
    "<p><id>123123127</id><name>Gummo Marx</name>\\\n",
    "<note>Look him up on <a href=\\\"http://www.google.com\\\">Google.</a></note>\\\n",
    "</body></html>\"\n"
   ]
  },
  {
   "cell_type": "markdown",
   "metadata": {},
   "source": [
    "---"
   ]
  },
  {
   "cell_type": "markdown",
   "metadata": {},
   "source": [
    "End of Chapter 25. Version 1.2."
   ]
  }
 ],
 "metadata": {
  "kernelspec": {
   "display_name": "Python 3",
   "language": "python",
   "name": "python3"
  },
  "language_info": {
   "codemirror_mode": {
    "name": "ipython",
    "version": 3
   },
   "file_extension": ".py",
   "mimetype": "text/x-python",
   "name": "python",
   "nbconvert_exporter": "python",
   "pygments_lexer": "ipython3",
   "version": "3.6.1"
  }
 },
 "nbformat": 4,
 "nbformat_minor": 1
}
