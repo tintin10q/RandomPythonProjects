{
 "cells": [
  {
   "cell_type": "markdown",
   "metadata": {},
   "source": [
    "# Chapter 99 (part 1) - Answers 1-9"
   ]
  },
  {
   "cell_type": "markdown",
   "metadata": {},
   "source": [
    "-------------------------------"
   ]
  },
  {
   "cell_type": "markdown",
   "metadata": {},
   "source": [
    "This chapter provides answers to most of the exercises (this notebook goes up to Chapter 9, for the remaining answers a separate notebooks have been created for reasons of speed). \n",
    "\n",
    "Note that it is useless to look up answers to exercises if you have not spent a significant amount of time trying to solve the exercises. You can only learn programming by doing. Only use the answers to compare them with your own, completed solutions, or as a final resort should you have no idea how to solve a problem. However, if you cannot solve a problem, it is usually better to re-do part of the notebooks that you evidently did not understand or forgot about. \n",
    "\n",
    "Note that very often, the answers given here are only one of many possible ways to solve a problem. If you have found a different way to solve a problem, that might be just fine, though make sure you test your answer extensively to ensure that it is correct.\n",
    "\n",
    "Moreover, while the answers given here are usually efficient, efficiency is not the first goal when writing code. You should first make sure that your code solves the problem at hand, before you look into making the code more efficient. Readability and maintainability are <i>far</i> more important than efficiency."
   ]
  },
  {
   "cell_type": "markdown",
   "metadata": {},
   "source": [
    "---"
   ]
  },
  {
   "cell_type": "markdown",
   "metadata": {},
   "source": [
    "## Links to answer sections"
   ]
  },
  {
   "cell_type": "markdown",
   "metadata": {},
   "source": [
    "[1 - Introduction](#answers01)<br>\n",
    "[2 - Using Notebooks and Python](#answers02)<br>\n",
    "[3 - Expressions](#answers03)<br>\n",
    "[4 - Variables](#answers04)<br>\n",
    "[5 - Simple Functions](#answers05)<br>\n",
    "[6 - Conditions](#answers06)<br>\n",
    "[7 - Iterations](#answers07)<br>\n",
    "[8 - Functions](#answers08)<br>\n",
    "[9 - Recursion](#answers09)<br>\n",
    "\n",
    "For further chapters, please see other notebooks."
   ]
  },
  {
   "cell_type": "markdown",
   "metadata": {},
   "source": [
    "---"
   ]
  },
  {
   "cell_type": "markdown",
   "metadata": {},
   "source": [
    "## 1 - Introduction<a id=\"answers01\"></a>"
   ]
  },
  {
   "cell_type": "markdown",
   "metadata": {},
   "source": [
    "### Exercise 1.1"
   ]
  },
  {
   "cell_type": "markdown",
   "metadata": {},
   "source": [
    "A straightforward sorting procedure that first identifies the highest card, then the next highest card, then the lowest-but-one, and then the lowest card, needs six comparisons. You could perform it, for instance, as follows:\n",
    "\n",
    "Number the cards from 1 to 4, left to right. The number is tied to the spot where the card is, i.e., when you switch two cards, they exchange numbers. Compare cards 1 and 2, and switch them if 1 is higher than 2. Compare cards 2 and 3, and switch them if 2 is higher than 3. Compare cards 3 and 4, and switch them if 3 is higher than 4. Now the highest card will be the number 4. Then, compare cards 1 and 2 again, and switch them if 1 is higher than 2. Compare cards 2 and 3 again, and switch them if 2 is higher than 3. Now the next-highest card is number 3. Finally, compare cards 1 and 2 and switch them if 1 is higher than 2. You have now sorted the four cards, with six comparisons. \n",
    "\n",
    "To do it with less comparisons, you need a procedure that is a bit more complex. Start again by numbering the cards from 1 to 4. Compare cards 1 and 2, and switch them if 1 is higher than 2. Compare cards 3 and 4, and switch them if 3 is higher than 4. Compare cards 1 and 3. If 1 is higher than 3, you switch card 1 and 3, and also card 2 and 4. The lowest card is now in spot 1, and you also know that card 3 is lower than card 4. Now compare cards 2 and 3. If 2 is lower than 3, you are done, needing only four comparisons. If 2 is higher than 3, you switch 2 and 3. You now still have to compare cards 3 and 4, and switch them if 3 is higher than 4, but then you are done, needing only five comparisons. So you can do the sorting with a guaranteed maximum of five comparisons.\n",
    "\n",
    "You might think that you can be smart and, after comparing 1 and 2 and maybe switching them, and comparing 3 and 4 and maybe switching them, to compare 2 and 3, because if at that point 2 is smaller than 3, you are done with the sorting needing only three comparisons. However, should at that point 2 be higher than 3, if you are unlucky you will need six comparisons in total.\n",
    "\n",
    "For those new to programming, the more efficient procedure which only needs five comparisons is quite hard to design, so do not get discouraged if you cannot come up with it. It is more important that you solve a task, than that you solve it in the most efficient manner."
   ]
  },
  {
   "cell_type": "markdown",
   "metadata": {},
   "source": [
    "### Exercise 1.2"
   ]
  },
  {
   "cell_type": "markdown",
   "metadata": {},
   "source": [
    "You should draw four boxes on a piece of paper, number them, and put each of the cards in one of the boxes. Tell the person who is following the instructions that \"compare the card in box <i>x</i> with the card in box <i>y</i>\" means that they should ask the processor to take up those cards, look at them, put them back in the same spots where they were taken from, and then indicate which of the two is the higher card. Then you can give them instructions for the simple, six-comparisons procedure outlined above:\n",
    "\n",
    "Compare the card in box 1 with the card in box 2. If the card in box 1 is higher than the card in box 2, switch these two cards.\n",
    "<br>Compare the card in box 2 with the card in box 3. If the card in box 2 is higher than the card in box 3, switch these two cards.\n",
    "<br>Compare the card in box 3 with the card in box 4. If the card in box 3 is higher than the card in box 4, switch these two cards.\n",
    "<br>Compare the card in box 1 with the card in box 2. If the card in box 1 is higher than the card in box 2, switch these two cards.\n",
    "<br>Compare the card in box 2 with the card in box 3. If the card in box 2 is higher than the card in box 3, switch these two cards.\n",
    "<br>Compare the card in box 1 with the card in box 2. If the card in box 1 is higher than the card in box 2, switch these two cards.\n",
    "\n",
    "Using the idea of drawing boxes that you have numbered to refer to the cards put in those boxes is similar to using variables in a computer program. Variables will be explained in one of the early chapters. \n",
    "\n",
    "Trying to write instructions for the more efficient procedure outlined above is harder, because you need nested conditions and an early escape."
   ]
  },
  {
   "cell_type": "markdown",
   "metadata": {},
   "source": [
    "---"
   ]
  },
  {
   "cell_type": "markdown",
   "metadata": {},
   "source": [
    "## 2 - Using Notebooks and Python<a id=\"answers02\"></a>"
   ]
  },
  {
   "cell_type": "markdown",
   "metadata": {},
   "source": [
    "### Exercise 2.1"
   ]
  },
  {
   "cell_type": "markdown",
   "metadata": {},
   "source": [
    "You now have Python running on your computer. Congratulations!"
   ]
  },
  {
   "cell_type": "markdown",
   "metadata": {},
   "source": [
    "### Exercise 2.2"
   ]
  },
  {
   "cell_type": "markdown",
   "metadata": {},
   "source": [
    "You will see nothing in the shell (apart from a display of the word RESTART that you always see when running a program). `7/4` is a legal Python statement, so the program will not give an error. The program just calculates 7/4, but does not display the result using a `print` statement, so the program does not show 1.75. The shell, however, displays the result of running the program. But since a program has no result by itself, there is nothing for the shell to display either. So you see nothing."
   ]
  },
  {
   "cell_type": "markdown",
   "metadata": {},
   "source": [
    "---"
   ]
  },
  {
   "cell_type": "markdown",
   "metadata": {},
   "source": [
    "## 3 - Expressions<a id=\"answers03\"></a>"
   ]
  },
  {
   "cell_type": "markdown",
   "metadata": {},
   "source": [
    "### Exercise 3.1"
   ]
  },
  {
   "cell_type": "code",
   "execution_count": null,
   "metadata": {
    "collapsed": true
   },
   "outputs": [],
   "source": [
    "print( 60 * (0.6 * 24.95 + 0.75) + (3 - 0.75) )"
   ]
  },
  {
   "cell_type": "markdown",
   "metadata": {},
   "source": [
    "Or, if you want your output to look a bit nicer:"
   ]
  },
  {
   "cell_type": "code",
   "execution_count": null,
   "metadata": {
    "collapsed": true
   },
   "outputs": [],
   "source": [
    "print( int( 100*(60 * (0.6 * 24.95 + 0.75) + (3 - 0.75)) )/100 )"
   ]
  },
  {
   "cell_type": "markdown",
   "metadata": {},
   "source": [
    "Easier ways of formatting displays will be introduced in a later chapter."
   ]
  },
  {
   "cell_type": "markdown",
   "metadata": {},
   "source": [
    "### Exercise 3.2"
   ]
  },
  {
   "cell_type": "markdown",
   "metadata": {},
   "source": [
    "Each of the lines should be either `print( \"A message\" )` or `print( 'A message' )`. The error in the first line is that it ends in a period. That period should be removed. The error in the second line is that it contains something that is supposed to be a string, but starts with a double quote while it ends with a single quote. Either the double quote should become a single quote, or the single quote should become a double quote. The third line is actually syntactically correct, but probably it was meant to be `print( 'A message' )`, so the `f\"` should be removed."
   ]
  },
  {
   "cell_type": "markdown",
   "metadata": {},
   "source": [
    "### Exercise 3.3"
   ]
  },
  {
   "cell_type": "code",
   "execution_count": null,
   "metadata": {
    "collapsed": true
   },
   "outputs": [],
   "source": [
    "print( 1/0 )"
   ]
  },
  {
   "cell_type": "markdown",
   "metadata": {},
   "source": [
    "### Exercise 3.4"
   ]
  },
  {
   "cell_type": "markdown",
   "metadata": {},
   "source": [
    "The problem is that there is one closing parenthesis missing in the first line of code. I actually deleted the closing parenthesis that should be right of the `6`, but you cannot know that; you can only count the parentheses in the first statement and see that there is one less closing parenthesis than there are opening parentheses.\n",
    "\n",
    "The confusing part of this error message is that it says that the error is in the second line of code. The second line of the code, however, is fine. The reason is that since Python has not seen the last required closing parenthesis on the first line, it starts looking for it on the second line. And while doing that, it notices that something is going wrong, and it reports the error. Basically, while trying to process the second line, Python finds that it cannot do that, so it indicates that there is an error with the second line. \n",
    "\n",
    "You will occasionally encounter this in your own code: an error is reported for a certain line of code, but the error is actually made in one of the previous lines. Such errors often encompass the absence of a required parenthesis or single or double quote. Keep this in mind."
   ]
  },
  {
   "cell_type": "markdown",
   "metadata": {},
   "source": [
    "### Exercise 3.5"
   ]
  },
  {
   "cell_type": "code",
   "execution_count": null,
   "metadata": {
    "collapsed": true
   },
   "outputs": [],
   "source": [
    "print( str( (14 + 535) % 24 ) + \".00\" )"
   ]
  },
  {
   "cell_type": "markdown",
   "metadata": {},
   "source": [
    "---"
   ]
  },
  {
   "cell_type": "markdown",
   "metadata": {},
   "source": [
    "## 4 - Variables<a id=\"answers04\"></a>"
   ]
  },
  {
   "cell_type": "markdown",
   "metadata": {},
   "source": [
    "### Exercise 4.1"
   ]
  },
  {
   "cell_type": "code",
   "execution_count": null,
   "metadata": {
    "collapsed": true
   },
   "outputs": [],
   "source": [
    "# This program calculates the average of three variables, var1, var2, and var 3\n",
    "var1 = 12.83\n",
    "var2 = 99.99\n",
    "var3 = 0.12\n",
    "average = (var1 + var2 + var3) / 3 # Calculate the average by adding up the values and dividing by 3\n",
    "print( average ) # May look a bit ugly, we might make this look a bit better when we have learned about formatting"
   ]
  },
  {
   "cell_type": "markdown",
   "metadata": {},
   "source": [
    "### Exercise 4.2"
   ]
  },
  {
   "cell_type": "code",
   "execution_count": null,
   "metadata": {
    "collapsed": true
   },
   "outputs": [],
   "source": [
    "pi = 3.14159\n",
    "radius = 12\n",
    "print( \"The surface area of a circle with radius\", radius, \"is\", pi * radius * radius )"
   ]
  },
  {
   "cell_type": "markdown",
   "metadata": {},
   "source": [
    "### Exercise 4.3"
   ]
  },
  {
   "cell_type": "code",
   "execution_count": null,
   "metadata": {
    "collapsed": true
   },
   "outputs": [],
   "source": [
    "CENTS_IN_DOLLAR = 100\n",
    "CENTS_IN_QUARTER = 25\n",
    "CENTS_IN_DIME = 10\n",
    "CENTS_IN_NICKEL = 5\n",
    "\n",
    "amount = 1156\n",
    "cents = amount\n",
    "\n",
    "dollars = int( cents / CENTS_IN_DOLLAR )\n",
    "cents -= dollars * CENTS_IN_DOLLAR\n",
    "quarters = int( cents / CENTS_IN_QUARTER )\n",
    "cents -= quarters * CENTS_IN_QUARTER\n",
    "dimes = int( cents / CENTS_IN_DIME )\n",
    "cents -= dimes * CENTS_IN_DIME\n",
    "nickels = int( cents / CENTS_IN_NICKEL )\n",
    "cents -= nickels * CENTS_IN_NICKEL\n",
    "cents = int( cents )\n",
    "\n",
    "print( \"$\"+str( amount / CENTS_IN_DOLLAR ), \"consists of:\" )\n",
    "print( \"Dollars:\", dollars )\n",
    "print( \"Quarters:\", quarters )\n",
    "print( \"Dimes:\", dimes )\n",
    "print( \"Nickels:\", nickels )\n",
    "print( \"Pennies:\", cents )"
   ]
  },
  {
   "cell_type": "markdown",
   "metadata": {},
   "source": [
    "### Exercise 4.4"
   ]
  },
  {
   "cell_type": "code",
   "execution_count": null,
   "metadata": {
    "collapsed": true
   },
   "outputs": [],
   "source": [
    "a = 17\n",
    "b = 23\n",
    "print( \"a =\", a, \"and b =\", b )\n",
    "a += b\n",
    "b = a - b\n",
    "a -= b\n",
    "print( \"a =\", a, \"and b =\", b )"
   ]
  },
  {
   "cell_type": "markdown",
   "metadata": {},
   "source": [
    "---"
   ]
  },
  {
   "cell_type": "markdown",
   "metadata": {},
   "source": [
    "## 5 - Simple Functions<a id=\"answers05\"></a>"
   ]
  },
  {
   "cell_type": "markdown",
   "metadata": {},
   "source": [
    "### Exercise 5.1"
   ]
  },
  {
   "cell_type": "code",
   "execution_count": null,
   "metadata": {
    "collapsed": true
   },
   "outputs": [],
   "source": [
    "s = input( \"Enter a string: \" )\n",
    "print( \"You entered\", len( s ), \"characters\" )"
   ]
  },
  {
   "cell_type": "markdown",
   "metadata": {},
   "source": [
    "### Exercise 5.2"
   ]
  },
  {
   "cell_type": "code",
   "execution_count": null,
   "metadata": {
    "collapsed": true
   },
   "outputs": [],
   "source": [
    "from pcinput import getFloat\n",
    "from math import sqrt\n",
    "\n",
    "side1 = getFloat( \"Please enter the length of the first side: \" )\n",
    "side2 = getFloat( \"Please enter the length of the second side: \" )\n",
    "side3 = sqrt( side1 * side1 + side2 * side2 )\n",
    "print( \"The length of the diagonal side is {:.3f}.\".format( side3 ) )"
   ]
  },
  {
   "cell_type": "markdown",
   "metadata": {},
   "source": [
    "### Exercise 5.3"
   ]
  },
  {
   "cell_type": "code",
   "execution_count": null,
   "metadata": {
    "collapsed": true
   },
   "outputs": [],
   "source": [
    "from pcinput import getFloat\n",
    "\n",
    "num1 = getFloat( \"Please enter number 1: \" )\n",
    "num2 = getFloat( \"Please enter number 2: \" )\n",
    "num3 = getFloat( \"Please enter number 3: \" )\n",
    "\n",
    "print( \"The largest is\", max( num1, num2, num3 ) )\n",
    "print( \"The smallest is\", min( num1, num2, num3 ) )\n",
    "print( \"The average is\", round( (num1 + num2 + num3)/3, 2 ) )"
   ]
  },
  {
   "cell_type": "markdown",
   "metadata": {},
   "source": [
    "### Exercise 5.4"
   ]
  },
  {
   "cell_type": "code",
   "execution_count": null,
   "metadata": {
    "collapsed": true
   },
   "outputs": [],
   "source": [
    "from math import exp\n",
    "\n",
    "s = \"e to the power of {:2d} is {:>9.5f}\"\n",
    "print( s.format( -1, exp( -1 ) ) )\n",
    "print( s.format( 0, exp( 0 ) ) )\n",
    "print( s.format( 1, exp( 1 ) ) )\n",
    "print( s.format( 2, exp( 2 ) ) )\n",
    "print( s.format( 3, exp( 3 ) ) )"
   ]
  },
  {
   "cell_type": "markdown",
   "metadata": {},
   "source": [
    "### Exercise 5.5"
   ]
  },
  {
   "cell_type": "code",
   "execution_count": null,
   "metadata": {
    "collapsed": true
   },
   "outputs": [],
   "source": [
    "from random import random\n",
    "\n",
    "print( \"A random integer between 1 and 10 is\", 1 + int( random() * 10 ) )"
   ]
  },
  {
   "cell_type": "markdown",
   "metadata": {},
   "source": [
    "---"
   ]
  },
  {
   "cell_type": "markdown",
   "metadata": {},
   "source": [
    "## 6 - Conditions<a id=\"answers06\"></a>"
   ]
  },
  {
   "cell_type": "markdown",
   "metadata": {},
   "source": [
    "### Exercise 6.1"
   ]
  },
  {
   "cell_type": "code",
   "execution_count": null,
   "metadata": {
    "collapsed": true
   },
   "outputs": [],
   "source": [
    "from pcinput import getFloat\n",
    "\n",
    "grade = getFloat( \"Please enter a grade: \" )\n",
    "check = int( grade * 10 )\n",
    "if grade < 0 or grade > 10:\n",
    "    print( \"Grades have to be in the range 0 to 10.\" )\n",
    "elif check%5 != 0 or check != grade*10:\n",
    "    print( \"Grades should always be rounded to the nearest half point.\" )\n",
    "elif grade >= 8.5:\n",
    "    print( \"Grade A\" )\n",
    "elif grade >= 7.5:\n",
    "    print( \"Grade B\" )\n",
    "elif grade >= 6.5:\n",
    "    print( \"Grade C\" )\n",
    "elif grade >= 5.5:\n",
    "    print( \"Grade D\" )\n",
    "else:\n",
    "    print( \"Grade F\" )"
   ]
  },
  {
   "cell_type": "markdown",
   "metadata": {},
   "source": [
    "### Exercise 6.2"
   ]
  },
  {
   "cell_type": "markdown",
   "metadata": {},
   "source": [
    "The grade will always be \"D\" or \"F\", as the tests are placed in the incorrect order. E.g., if score is 85, then it is not only greater than 80.0, but also greater than 60.0, so that the grade becomes \"D\"."
   ]
  },
  {
   "cell_type": "markdown",
   "metadata": {},
   "source": [
    "### Exercise 6.3"
   ]
  },
  {
   "cell_type": "code",
   "execution_count": null,
   "metadata": {
    "collapsed": true
   },
   "outputs": [],
   "source": [
    "from pcinput import getString\n",
    "\n",
    "s = getString( \"Please enter a string: \" )\n",
    "count = 0\n",
    "if (\"a\" in s) or (\"A\" in s):\n",
    "    count += 1\n",
    "if (\"e\" in s) or (\"E\" in s):\n",
    "    count += 1\n",
    "if (\"i\" in s) or (\"I\" in s):\n",
    "    count += 1\n",
    "if (\"o\" in s) or (\"O\" in s):\n",
    "    count += 1\n",
    "if (\"u\" in s) or (\"U\" in s):\n",
    "    count += 1\n",
    "    \n",
    "if count == 0:\n",
    "    print( \"There are no vowels in the string.\" )\n",
    "elif count == 1:\n",
    "    print( \"There is only one different vowel in the string.\" )\n",
    "else:\n",
    "    print( \"There are\", count, \"different vowels in the string.\" )"
   ]
  },
  {
   "cell_type": "markdown",
   "metadata": {},
   "source": [
    "Note: In the code above the parentheses in the boolean expressions that do the vowel testing are not necessary, but make the code more readable."
   ]
  },
  {
   "cell_type": "markdown",
   "metadata": {},
   "source": [
    "### Exercise 6.4"
   ]
  },
  {
   "cell_type": "code",
   "execution_count": null,
   "metadata": {
    "collapsed": true
   },
   "outputs": [],
   "source": [
    "from pcinput import getFloat\n",
    "from math import sqrt\n",
    "\n",
    "a = getFloat( \"A: \" )\n",
    "b = getFloat( \"B: \" )\n",
    "c = getFloat( \"C: \" )\n",
    "\n",
    "if a == 0:\n",
    "    if b == 0:\n",
    "        print( \"There is not even an unknown in this equation!\" )\n",
    "    else:\n",
    "        print( \"There is one solution to the equation, namely\", -c/b )\n",
    "else:\n",
    "    discriminant = b*b - 4*a*c\n",
    "    if discriminant < 0:\n",
    "        print( \"There are no solutions to the equation\" )\n",
    "    elif discriminant == 0:\n",
    "        print( \"There is one solution to the equation, namely\", -b/(2*a) )\n",
    "    else:\n",
    "        print( \"There are two solutions to the equation, namely\",  \n",
    "              (-b+sqrt(discriminant))/(2*a), \"and\", (-b-sqrt(discriminant))/(2*a) )"
   ]
  },
  {
   "cell_type": "markdown",
   "metadata": {},
   "source": [
    "Note: For readability, I have split the last line of the code over two lines. That is not necessary, you can put everything on one line. It is not always allowed to split one statement over multiple lines, as Python assumes that each statement will be a single line. However, since the `print()` function starts with an opening parenthesis and Python has not seen the closing parenthesis yet at the end of the line, it will continue looking for parameters for the `print()` function on the next line."
   ]
  },
  {
   "cell_type": "markdown",
   "metadata": {},
   "source": [
    "---"
   ]
  },
  {
   "cell_type": "markdown",
   "metadata": {},
   "source": [
    "## 7 - Iterations<a id=\"answers07\"></a>"
   ]
  },
  {
   "cell_type": "markdown",
   "metadata": {},
   "source": [
    "### Exercise 7.1"
   ]
  },
  {
   "cell_type": "code",
   "execution_count": null,
   "metadata": {
    "collapsed": true
   },
   "outputs": [],
   "source": [
    "from pcinput import getInteger\n",
    "\n",
    "num = getInteger( \"Give a number: \" )\n",
    "i = 1\n",
    "while i <= 10:\n",
    "    print( i, \"*\", num, \"=\", i*num )\n",
    "    i += 1"
   ]
  },
  {
   "cell_type": "markdown",
   "metadata": {},
   "source": [
    "### Exercise 7.2"
   ]
  },
  {
   "cell_type": "code",
   "execution_count": null,
   "metadata": {
    "collapsed": true
   },
   "outputs": [],
   "source": [
    "from pcinput import getInteger\n",
    "\n",
    "num = getInteger( \"Give a number: \" )\n",
    "for i in range( 1, 11 ):\n",
    "    print( i, \"*\", num, \"=\", i*num )"
   ]
  },
  {
   "cell_type": "markdown",
   "metadata": {},
   "source": [
    "### Exercise 7.3"
   ]
  },
  {
   "cell_type": "code",
   "execution_count": null,
   "metadata": {
    "collapsed": true
   },
   "outputs": [],
   "source": [
    "from pcinput import getInteger\n",
    "\n",
    "TOTAL = 10\n",
    "largest = 0\n",
    "smallest = 0\n",
    "div3 = 0\n",
    "\n",
    "for i in range( TOTAL ):\n",
    "    num = getInteger( \"Please enter number \"+str( i+1 )+\": \" )\n",
    "    if num%3 == 0:\n",
    "        div3 += 1\n",
    "    if i == 0:\n",
    "        smallest = num\n",
    "        largest = num\n",
    "        continue\n",
    "    if num < smallest:\n",
    "        smallest = num\n",
    "    if num > largest:\n",
    "        largest = num\n",
    "        \n",
    "print( \"Smallest is\", smallest )\n",
    "print( \"Largest is\", largest )\n",
    "print( \"Dividable by 3 is\", div3 )"
   ]
  },
  {
   "cell_type": "markdown",
   "metadata": {},
   "source": [
    "### Exercise 7.4"
   ]
  },
  {
   "cell_type": "code",
   "execution_count": null,
   "metadata": {
    "collapsed": true
   },
   "outputs": [],
   "source": [
    "bottles = 10\n",
    "s = \"s\"\n",
    "while bottles != \"no\":\n",
    "    print( \"{0} bottle{1} of beer on the wall, {0} bottle{1} of beer.\".format( bottles, s ) )\n",
    "    bottles -= 1\n",
    "    if bottles == 1:\n",
    "        s = \"\"\n",
    "    elif bottles == 0:\n",
    "        s = \"s\"\n",
    "        bottles = \"no\"\n",
    "    print( \"Take one down, pass it around, {} bottle{} of beer on the wall.\".format( bottles, s ) )"
   ]
  },
  {
   "cell_type": "markdown",
   "metadata": {},
   "source": [
    "If instead of \"no bottles\" in the last sentence, you simply write \"0 bottles\", that is fine. The test for the `while` loop then becomes `while bottles > 0:`. Note that doing this program with a `for` loop is a little harder, as there are two different values for bottles in each cycle through the loop."
   ]
  },
  {
   "cell_type": "markdown",
   "metadata": {},
   "source": [
    "### Exercise 7.5"
   ]
  },
  {
   "cell_type": "code",
   "execution_count": null,
   "metadata": {
    "collapsed": true
   },
   "outputs": [],
   "source": [
    "num1 = 0\n",
    "num2 = 1\n",
    "print( 1, end=\" \" )\n",
    "while True:\n",
    "    num3 = num1 + num2\n",
    "    if num3 > 1000:\n",
    "        break\n",
    "    print( num3, end=\" \" )\n",
    "    num1 = num2\n",
    "    num2 = num3    "
   ]
  },
  {
   "cell_type": "markdown",
   "metadata": {},
   "source": [
    "### Exercise 7.6"
   ]
  },
  {
   "cell_type": "code",
   "execution_count": null,
   "metadata": {
    "collapsed": true
   },
   "outputs": [],
   "source": [
    "from pcinput import getString\n",
    "\n",
    "word1 = getString( \"Give word 1: \" )\n",
    "word2 = getString( \"Give word 2: \" )\n",
    "common = \"\"\n",
    "for letter in word1:\n",
    "    if (letter in word2) and (letter not in common):\n",
    "        common += letter\n",
    "if common == \"\":\n",
    "    print( \"The words share no characters.\" )\n",
    "else:\n",
    "    print( \"The words have the following in common:\", common )"
   ]
  },
  {
   "cell_type": "markdown",
   "metadata": {},
   "source": [
    "### Exercise 7.7"
   ]
  },
  {
   "cell_type": "code",
   "execution_count": null,
   "metadata": {
    "collapsed": true
   },
   "outputs": [],
   "source": [
    "from random import random\n",
    "\n",
    "DARTS = 100000\n",
    "hits = 0\n",
    "for i in range( DARTS ):\n",
    "    x = random()\n",
    "    y = random()\n",
    "    if x*x + y*y < 1:\n",
    "        hits += 1\n",
    "        \n",
    "print( \"A reasonable approximation of pi is\", 4 * hits / DARTS )"
   ]
  },
  {
   "cell_type": "markdown",
   "metadata": {},
   "source": [
    "### Exercise 7.8"
   ]
  },
  {
   "cell_type": "code",
   "execution_count": null,
   "metadata": {
    "collapsed": true
   },
   "outputs": [],
   "source": [
    "from random import randint\n",
    "from pcinput import getInteger\n",
    "\n",
    "answer = randint( 1, 1000 )\n",
    "count = 0\n",
    "while True:\n",
    "    guess = getInteger( \"What is your guess? \" )\n",
    "    if guess < 1 or guess > 1000:\n",
    "        print( \"Your guess should be between 1 and 1000\" )\n",
    "        continue\n",
    "    count += 1\n",
    "    if guess < answer:\n",
    "        print( \"Higher\" )\n",
    "    elif guess > answer:\n",
    "        print( \"Lower\" )\n",
    "    else:\n",
    "        print( \"You guessed it!\" )\n",
    "        break\n",
    "        \n",
    "if count == 1:\n",
    "    print( \"You needed only one guess. Lucky bastard.\" )\n",
    "else:\n",
    "    print( \"You needed\", count, \"guesses.\" )"
   ]
  },
  {
   "cell_type": "markdown",
   "metadata": {},
   "source": [
    "### Exercise 7.9"
   ]
  },
  {
   "cell_type": "code",
   "execution_count": null,
   "metadata": {
    "collapsed": true
   },
   "outputs": [],
   "source": [
    "from pcinput import getLetter\n",
    "from sys import exit\n",
    "\n",
    "count = 0\n",
    "lowest = 0\n",
    "highest = 1001\n",
    "print( \"Take a number in mind between 1 and 1000.\" )\n",
    "while True:\n",
    "    guess = int( (lowest + highest) / 2 )\n",
    "    count += 1\n",
    "    prompt = \"I guess \"+str( guess )+\". Your response? \"\n",
    "    response = getLetter( prompt )\n",
    "    if response == \"C\":\n",
    "        break\n",
    "    elif response == \"L\":\n",
    "        highest = guess\n",
    "    elif response ==\"H\":\n",
    "        lowest = guess\n",
    "    else:\n",
    "        print( \"Please enter H, L, or C.\" )\n",
    "        continue\n",
    "    if lowest >= highest-1:\n",
    "        print( \"You must have made a mistake, because you have said that the answer is higher than\",\n",
    "             lowest, \"but also lower than\", highest )\n",
    "        print( \"I quit this game\" )\n",
    "        exit()\n",
    "\n",
    "if count == 1:\n",
    "    print( \"I needed only one guess! I must be a mind reader.\" )\n",
    "else:\n",
    "    print( \"I needed\", count, \"guesses.\" )"
   ]
  },
  {
   "cell_type": "markdown",
   "metadata": {},
   "source": [
    "### Exercise 7.10"
   ]
  },
  {
   "cell_type": "code",
   "execution_count": null,
   "metadata": {
    "collapsed": true
   },
   "outputs": [],
   "source": [
    "from pcinput import getInteger\n",
    "\n",
    "num = getInteger( \"Please enter a number: \" )\n",
    "if num < 2:\n",
    "    print( num, \"is not prime\" )\n",
    "else:\n",
    "    i = 2\n",
    "    while i*i <= num:\n",
    "        if num%i == 0:\n",
    "            print( num, \"is not prime\" )\n",
    "            break\n",
    "        i += 1\n",
    "    else:\n",
    "        print( num, \"is prime\" )"
   ]
  },
  {
   "cell_type": "markdown",
   "metadata": {},
   "source": [
    "There is a small trick in this code to speed up the calculation enormously. The code only tests dividers up to the square root of `num` (i.e., it tests up to the point that `i*i > num`). The reason that it does this, is that if there is a number bigger than the square root of `num` that divides it, there must necessarily also be one smaller than that square root. For instance, if the number is 21, the square root is between 4 and 5. So the algorithm only tests numbers up to 4. There is a divider for 21 higher than 4, namely 7. But that means there must also be one lower than (or equal to) 4, and indeed, there is one, namely 3. This is a gigantic speedup compared to testing all numbers up to `num`; for instance, if `num` is somewhere in the neighborhood of 1 million, and is prime, you would need to test about 1 million numbers if you test all of them up to `num`, while this particular algorithm would only test about one thousand.\n",
    "\n",
    "If you found this trick, great! If not, don't worry: as long as your code works, you are doing just fine. The hard part is getting the code to work in the first place. As long as you accomplish that, you are well under way to becoming a great programmer.\n",
    "\n",
    "One final note on this code: you should test it extensively! It is very easy to go wrong on particular numbers. In this case, make sure you test a negative number, zero, 1 (which all three should be reported as not prime), 2 (which is the lowest prime number and the only even one), 3 (which is the lowest odd prime), several not-prime numbers, several prime numbers, and numbers which are the square of a prime. Even better, if you can write a `for` loop around your code that tests all numbers between, for instance, -10 and 100, then you are really doing an extensive test of your code."
   ]
  },
  {
   "cell_type": "markdown",
   "metadata": {},
   "source": [
    "### Exercise 7.11"
   ]
  },
  {
   "cell_type": "code",
   "execution_count": null,
   "metadata": {
    "collapsed": true
   },
   "outputs": [],
   "source": [
    "num = 9\n",
    "print( \". |\", end=\"\" )\n",
    "for i in range( 1, num+1 ):\n",
    "    print( \"{:>3}\".format( i ), end=\"\" )\n",
    "print()\n",
    "for i in range( 3*(num+1) ):\n",
    "    print( \"-\", end=\"\" )\n",
    "print()\n",
    "for i in range( 1, num+1 ):\n",
    "    print( i, \"|\", end=\"\" )\n",
    "    for j in range( 1, num+1 ):\n",
    "        print( \"{:>3}\".format( i*j ), end=\"\" )\n",
    "    print()"
   ]
  },
  {
   "cell_type": "markdown",
   "metadata": {},
   "source": [
    "### Exercise 7.12"
   ]
  },
  {
   "cell_type": "code",
   "execution_count": null,
   "metadata": {
    "collapsed": true
   },
   "outputs": [],
   "source": [
    "for i in range( 1, 101 ):\n",
    "    for j in range( 1, i ):\n",
    "        for k in range( j, i ):\n",
    "            if j*j + k*k == i:\n",
    "                print( \"{} = {}**2 + {}**2\".format( i, j, k ) )"
   ]
  },
  {
   "cell_type": "markdown",
   "metadata": {},
   "source": [
    "A more efficient version of this algorithm is:"
   ]
  },
  {
   "cell_type": "code",
   "execution_count": null,
   "metadata": {
    "collapsed": true
   },
   "outputs": [],
   "source": [
    "from math import sqrt\n",
    "\n",
    "for i in range( 1, 101 ):\n",
    "    for j in range( 1, int( sqrt( i ) )+1 ):\n",
    "        for k in range( j, int( sqrt( i ) )+1 ):\n",
    "            if j*j + k*k == i:\n",
    "                print( \"{} = {}**2 + {}**2\".format( i, j, k ) )"
   ]
  },
  {
   "cell_type": "markdown",
   "metadata": {},
   "source": [
    "The reason that this second version is more efficient, and the reason why it works, is explained for the prime numbers exercise above."
   ]
  },
  {
   "cell_type": "markdown",
   "metadata": {},
   "source": [
    "### Exercise 7.13"
   ]
  },
  {
   "cell_type": "code",
   "execution_count": null,
   "metadata": {
    "collapsed": true
   },
   "outputs": [],
   "source": [
    "from random import randint\n",
    "\n",
    "TRIALS = 10000\n",
    "DICE = 5\n",
    "\n",
    "success = 0\n",
    "\n",
    "for i in range( TRIALS ):\n",
    "    lastdie = 0\n",
    "    for j in range( DICE ):\n",
    "        roll = randint( 1, 6 )\n",
    "        if roll < lastdie:\n",
    "            break\n",
    "        lastdie = roll\n",
    "    else:\n",
    "        success += 1\n",
    "        \n",
    "print( \"The probability of an increasing sequence of five die rolls is {:.3f}\".format( success/TRIALS ) )"
   ]
  },
  {
   "cell_type": "markdown",
   "metadata": {},
   "source": [
    "### Exercise 7.14"
   ]
  },
  {
   "cell_type": "code",
   "execution_count": null,
   "metadata": {
    "collapsed": true
   },
   "outputs": [],
   "source": [
    "for A in range( 1, 10 ):\n",
    "    for B in range( 10 ):\n",
    "        if B == A:\n",
    "            continue\n",
    "        for C in range( 10 ):\n",
    "            if C == A or C == B:\n",
    "                continue\n",
    "            for D in range( 1, 10 ):\n",
    "                if D == A or D == B or D == C:\n",
    "                    continue\n",
    "                num1 = 1000*A + 100*B + 10*C + D\n",
    "                num2 = 1000*D + 100*C + 10*B + A\n",
    "                if num1 * 4 == num2:\n",
    "                    print( \"A={}, B={}, C={}, D={}\".format( A, B, C, D ) )"
   ]
  },
  {
   "cell_type": "markdown",
   "metadata": {},
   "source": [
    "The program will generate all combinations of A, B, C, and D that solve the puzzle. In this case there is only one, but the program continues seeking for more solutions until it has tested all possibilities. Fortunately, that process is very fast. If you want to stop the program once it has found a solution, the best approach is to put most of it in a function and `return` from that function as soon as a solution is found."
   ]
  },
  {
   "cell_type": "markdown",
   "metadata": {},
   "source": [
    "### Exercise 7.15"
   ]
  },
  {
   "cell_type": "code",
   "execution_count": null,
   "metadata": {
    "collapsed": true
   },
   "outputs": [],
   "source": [
    "PIRATES = 5\n",
    "coconuts = 0\n",
    "while True:\n",
    "    coconuts += 1\n",
    "    pile = coconuts\n",
    "    for i in range( PIRATES ):\n",
    "        if pile % PIRATES != 1:\n",
    "            break\n",
    "        pile = (PIRATES-1) * int( (pile - 1) / PIRATES )\n",
    "    if pile % PIRATES == 1:\n",
    "        break\n",
    "print( coconuts )"
   ]
  },
  {
   "cell_type": "markdown",
   "metadata": {},
   "source": [
    "### Exercise 7.16"
   ]
  },
  {
   "cell_type": "markdown",
   "metadata": {},
   "source": [
    "First I give the solution that simulates each Triangle Crawler separately. The advantage of coding it like this is that it is not hard to accomplish. The disadvantage is that this code is rather slow. It should be pretty easy to understand how this solution works:\n"
   ]
  },
  {
   "cell_type": "code",
   "execution_count": null,
   "metadata": {
    "collapsed": true
   },
   "outputs": [],
   "source": [
    "from random import randint\n",
    "\n",
    "NUMCRAWLERS = 100000\n",
    "totalage = NUMCRAWLERS # They all live at least one day\n",
    "\n",
    "for i in range( NUMCRAWLERS ):\n",
    "    if randint( 0, 2 ): # Don't die on first day\n",
    "        totalage += 1\n",
    "        while randint( 0, 1 ): # Don't die on following day\n",
    "            totalage += 1\n",
    "\n",
    "print( \"{:.2f}\".format( totalage / NUMCRAWLERS ) )"
   ]
  },
  {
   "cell_type": "markdown",
   "metadata": {},
   "source": [
    "The second solution considers the population as one big whole, and simply divides it up into chunks. The first day, it takes out a chunk the size of a third of the population, adds to the total age the fact that this chunk only lived for one day, and lets the rest remain. On the second day, it takes out half the population, and adds to the total age that those lived for two days. On the third day, it again takes out half of the remainder, and adds up that those lived three days. This continues until no Crawlers remain. \n",
    "\n",
    "It should be noted that often there will be a Crawler remaining which could not be divided (as a Crawler either survives or dies, but it cannot be Schr&ouml;dinger's Cat). Such a Crawler is assigned randomly to the group that dies or the group that survives. You can see that this code can deal with huge numbers of Triangle Crawlers without problems.\n"
   ]
  },
  {
   "cell_type": "code",
   "execution_count": null,
   "metadata": {
    "collapsed": true
   },
   "outputs": [],
   "source": [
    "from random import randint\n",
    "\n",
    "NUMCRAWLERS = 1000000000\n",
    "num = NUMCRAWLERS\n",
    "die = int( num / 3 )\n",
    "if NUMCRAWLERS % 3:\n",
    "    if randint( 0, NUMCRAWLERS % 3 ): # Remaining crawler on day 1\n",
    "        die += 1\n",
    "totalage = die # Day-1 deaths added to totalage\n",
    "num -= die\n",
    "\n",
    "age = 2\n",
    "while num > 0:\n",
    "    die = int( num / 2 )\n",
    "    num -= die # Kill off half the population\n",
    "    if die != num: # There is a single remaining\n",
    "        if randint( 0, 1 ): # Decide on kill of single\n",
    "            die, num = num, die # swap values\n",
    "    totalage += die * age\n",
    "    age += 1\n",
    "\n",
    "print( \"{:.2f}\".format( totalage / NUMCRAWLERS ) )"
   ]
  },
  {
   "cell_type": "markdown",
   "metadata": {},
   "source": [
    "Finally, I present a solution that I did not suggest, but that works great. It is very brief, incredibly fast, and gives an almost exact answer. It simply calculates `(1/3) + (2/3) * ((1/2) * (2 + (1/2) * (3 + (1/2) * (4 + (1/2) * (5 + ... )))))` for a limited number of terms, in this case 100, which is plenty to get a highly accurate approximation. Of course, this a calculation rather than a simulation, but it is the mathematical expression that you were actually asked to solve.\n"
   ]
  },
  {
   "cell_type": "code",
   "execution_count": null,
   "metadata": {
    "collapsed": true
   },
   "outputs": [],
   "source": [
    "estimate = 1/3\n",
    "remainder = 2/3\n",
    "for days in range( 2, 101 ):\n",
    "    remainder /= 2\n",
    "    estimate += remainder * days\n",
    "print( \"{:.2f}\".format( estimate ) )"
   ]
  },
  {
   "cell_type": "markdown",
   "metadata": {},
   "source": [
    "By the way, the exact answer is `2 + 1/3` days; an approximation should give 2.33 or 2.34."
   ]
  },
  {
   "cell_type": "markdown",
   "metadata": {},
   "source": [
    "---"
   ]
  },
  {
   "cell_type": "markdown",
   "metadata": {},
   "source": [
    "## 8 - Functions<a id=\"answers08\"></a>"
   ]
  },
  {
   "cell_type": "markdown",
   "metadata": {},
   "source": [
    "### Exercise 8.1"
   ]
  },
  {
   "cell_type": "code",
   "execution_count": null,
   "metadata": {
    "collapsed": true
   },
   "outputs": [],
   "source": [
    "from pcinput import getInteger\n",
    "\n",
    "# multiplicationtable gets an integer as parameters.\n",
    "# It prints the multiplication table for that integer.\n",
    "def multiplicationtable( n ):\n",
    "    i = 1\n",
    "    while i <= 10:\n",
    "        print( i, \"*\", n, \"=\", i*n )\n",
    "        i += 1\n",
    "\n",
    "num = getInteger( \"Give a number: \" )\n",
    "multiplicationtable( num )"
   ]
  },
  {
   "cell_type": "markdown",
   "metadata": {},
   "source": [
    "This is almost a copy of the code for an exercise in a previous chapter."
   ]
  },
  {
   "cell_type": "markdown",
   "metadata": {},
   "source": [
    "### Exercise 8.2"
   ]
  },
  {
   "cell_type": "code",
   "execution_count": null,
   "metadata": {
    "collapsed": true
   },
   "outputs": [],
   "source": [
    "from pcinput import getString\n",
    "\n",
    "# commoncharacters gets two strings as parameters.\n",
    "# It returns the number of characters that they have in common.\n",
    "def commoncharacters( w1, w2 ):\n",
    "    common = \"\"\n",
    "    for letter in w1:\n",
    "        if (letter in w2) and (letter not in common):\n",
    "            common += letter\n",
    "    return len( common )\n",
    "\n",
    "word1 = getString( \"Give word 1: \" )\n",
    "word2 = getString( \"Give word 2: \" )\n",
    "\n",
    "num = commoncharacters( word1, word2 )\n",
    "if num <= 0:\n",
    "    print( \"The words share no characters.\" )\n",
    "elif num == 1:\n",
    "    print( \"The words have one character in common\" )\n",
    "else:\n",
    "    print( \"The words have\", num, \"characters in common\")"
   ]
  },
  {
   "cell_type": "markdown",
   "metadata": {},
   "source": [
    "This is almost a copy of the code for an exercise in the previous chapter."
   ]
  },
  {
   "cell_type": "markdown",
   "metadata": {},
   "source": [
    "### Exercise 8.3"
   ]
  },
  {
   "cell_type": "code",
   "execution_count": null,
   "metadata": {
    "collapsed": true
   },
   "outputs": [],
   "source": [
    "# The function gregoryLeibnitz approximates pi using the Gregory-Leibnitz series.\n",
    "# It gets one parameter, which is an integer that indicates how many terms are calculated.\n",
    "# It returns the approximation as a float.\n",
    "def gregoryLeibnitz( num ):\n",
    "    appr = 0\n",
    "    for i in range( num ):\n",
    "        if i%2 == 0:\n",
    "            appr += 1/(1 + i*2)\n",
    "        else:\n",
    "            appr -= 1/(1 + i*2)\n",
    "    return 4*appr\n",
    "\n",
    "print( gregoryLeibnitz( 50 ) )"
   ]
  },
  {
   "cell_type": "markdown",
   "metadata": {},
   "source": [
    "### Exercise 8.4"
   ]
  },
  {
   "cell_type": "code",
   "execution_count": null,
   "metadata": {
    "collapsed": true
   },
   "outputs": [],
   "source": [
    "from pcinput import getFloat\n",
    "from math import sqrt\n",
    "\n",
    "# This function solves a quadratic equation.\n",
    "# Its parameters are the numeric values for A, B, and C in the equation Ax**2 + Bx + C = 0\n",
    "# It returns three values: an integer 0, 1, or 2, indicating the number of solutions,\n",
    "# followed by two numbers which are the solutions. With no solutions, both solutions are set\n",
    "# to zero. With one solution, it is returned as the first of the two, while the other is set\n",
    "# to zero.\n",
    "def quadraticFormula( a, b, c ):\n",
    "    if a == 0:\n",
    "        if b == 0:\n",
    "            return 0, 0, 0\n",
    "        return 1, -c/b, 0\n",
    "    discriminant = b*b - 4*a*c\n",
    "    if discriminant < 0:\n",
    "        return 0, 0, 0\n",
    "    elif discriminant == 0:\n",
    "        return 1, -b/(2*a), 0\n",
    "    else:\n",
    "        return 2, (-b+sqrt(discriminant))/(2*a), (-b-sqrt(discriminant))/(2*a)\n",
    "    \n",
    "num, sol1, sol2 = quadraticFormula( getFloat( \"A: \" ), getFloat( \"B: \" ), getFloat( \"C: \" ) )\n",
    "if num == 0:\n",
    "    print( \"There are no solutions\" )\n",
    "elif num == 1:\n",
    "    print( \"There is one solution, namely:\", sol1 )\n",
    "else:\n",
    "    print( \"There are two solutions, namely:\", sol1, \"and\", sol2 )"
   ]
  },
  {
   "cell_type": "markdown",
   "metadata": {},
   "source": [
    "### Exercise 8.5"
   ]
  },
  {
   "cell_type": "code",
   "execution_count": null,
   "metadata": {
    "collapsed": true
   },
   "outputs": [],
   "source": [
    "from pcinput import getInteger\n",
    "\n",
    "def getNumber( prompt ):\n",
    "    while True:\n",
    "        num = getInteger( prompt )\n",
    "        if num < 0 or num > 1000:\n",
    "            print( \"Please enter a number between 0 and 1000\" )\n",
    "            continue\n",
    "        return num\n",
    "\n",
    "def main():\n",
    "    while True:\n",
    "        x = getNumber( \"Enter number 1: \" )\n",
    "        if x == 0:\n",
    "            break\n",
    "        y = getNumber( \"Enter number 2: \" )\n",
    "        if y == 0:\n",
    "            break\n",
    "        if x%y == 0 or y%x == 0:\n",
    "            print( \"Error: the numbers cannot be dividers of each other\" )\n",
    "            return\n",
    "        print( \"Multiplication of\", x, \"and\", y, \"gives\", x * y )\n",
    "    print( \"Goodbye!\" )\n",
    "\n",
    "if __name__ == '__main__':\n",
    "    main()"
   ]
  },
  {
   "cell_type": "markdown",
   "metadata": {},
   "source": [
    "### Exercise 8.6"
   ]
  },
  {
   "cell_type": "markdown",
   "metadata": {},
   "source": [
    "I did not mention the fact that you already wrote code for the factorial in the previous chapter. I hope you did write that code and remembered. You are supposed to put that code in a function and use it in the calculation. That makes this program all the more readable."
   ]
  },
  {
   "cell_type": "code",
   "execution_count": null,
   "metadata": {
    "collapsed": true
   },
   "outputs": [],
   "source": [
    "# Calculates the factorial of parameter n, which must be an integer.\n",
    "# Returns the value of the factorial as an integer.\n",
    "def factorial( n ):\n",
    "    value = 1\n",
    "    for i in range( 2, n+1 ):\n",
    "        value *= i\n",
    "    return value\n",
    "\n",
    "# Calculates n over k; parameters n and k are integers.\n",
    "# Returns the value n over k as an integer (because it always must be an integer).\n",
    "def binomialCoefficient( n, k ):\n",
    "    if k > n:\n",
    "        return 0\n",
    "    return int( factorial( n )/(factorial( k )*factorial( n - k )) )\n",
    "\n",
    "def main():\n",
    "    print( factorial( 5 ) )\n",
    "    print( binomialCoefficient( 8, 3 ) )\n",
    "    \n",
    "if __name__ == '__main__':\n",
    "    main()"
   ]
  },
  {
   "cell_type": "markdown",
   "metadata": {},
   "source": [
    "### Exercise 8.7"
   ]
  },
  {
   "cell_type": "markdown",
   "metadata": {},
   "source": [
    "The code tries to print the return value of the function `area_of_triangle()`, but since this function has no return value, it prints the word `None`. When you create a function of which you want to display the output, you can either print the output in the function and then call it without using the return value, or you let the function produce the output, return it, and print the return value of the function in your main program. Not both. By the way, in general it is preferable if functions do not do the printing themselves, because it makes them more generally usable (for instance, the function `area_of_triangle()`, if it just returns the area instead of printing it, you can not only use the function to print the area, but also use the area in calculations). If you do not understand the explanation given here, revisit the chapter on Simple Functions."
   ]
  },
  {
   "cell_type": "markdown",
   "metadata": {},
   "source": [
    "---"
   ]
  },
  {
   "cell_type": "markdown",
   "metadata": {},
   "source": [
    "## 9 - Recursion<a id=\"answers09\"></a>"
   ]
  },
  {
   "cell_type": "markdown",
   "metadata": {},
   "source": [
    "### Exercise 9.1"
   ]
  },
  {
   "cell_type": "code",
   "execution_count": null,
   "metadata": {
    "collapsed": true
   },
   "outputs": [],
   "source": [
    "def fib( n ):\n",
    "    if n <= 2:\n",
    "        return 1\n",
    "    return fib( n-1 ) + fib( n-2 )\n",
    "\n",
    "print( fib( 20 ) )"
   ]
  },
  {
   "cell_type": "markdown",
   "metadata": {},
   "source": [
    "### Exercise 9.2"
   ]
  },
  {
   "cell_type": "code",
   "execution_count": null,
   "metadata": {
    "collapsed": true
   },
   "outputs": [],
   "source": [
    "def fib( n, depth ):\n",
    "    indent = 6 * depth * \" \"\n",
    "    print( \"{}fib({})\".format( indent, n ) )\n",
    "    if n <= 2:\n",
    "        print( \"{}return {}\".format( indent, 1 ) )\n",
    "        return 1\n",
    "    value = fib( n-1, depth+1 ) + fib( n-2, depth+1 )\n",
    "    print( \"{}return {}\".format( indent, value ) )\n",
    "    return value\n",
    "\n",
    "print( fib( 5, 0 ) )"
   ]
  },
  {
   "cell_type": "markdown",
   "metadata": {},
   "source": [
    "### Exercise 9.3"
   ]
  },
  {
   "cell_type": "markdown",
   "metadata": {},
   "source": [
    "Since the Fibonacci sequence can just as easily be implemented as an iterative function (you did this in a previous chapter), doing it as a recursive function is not a good idea. The reasons are the same as for the factorial, explained in the chapter. There is the additional reason that the recursive definition basically calculates all terms of the sequence twice, as you can see when you look at your output for the previous exercise, while calculating them just once suffices."
   ]
  },
  {
   "cell_type": "markdown",
   "metadata": {},
   "source": [
    "### Exercise 9.4"
   ]
  },
  {
   "cell_type": "markdown",
   "metadata": {},
   "source": [
    "The problem in this code is that when I enter a string with two illegal characters, then it will recursively call itself twice, namely once for each of the letters. So, for instance, if the user enters \"route67\", it will first call itself recursively for the \"6\". If the user then enters a correct string, the function should end. Instead, it continues checking the original input \"route67\", finds the \"7\", and calls itself recursively again to ask for yet another string.\n",
    "\n",
    "I could explain how you can solve this problem by fixing the code, but the real fix here is that you should not write recursive functions that interact with the user."
   ]
  },
  {
   "cell_type": "markdown",
   "metadata": {},
   "source": [
    "---"
   ]
  },
  {
   "cell_type": "markdown",
   "metadata": {},
   "source": [
    "End of Chapter 99 (part 1). Version 1.5."
   ]
  }
 ],
 "metadata": {
  "kernelspec": {
   "display_name": "Python 3",
   "language": "python",
   "name": "python3"
  },
  "language_info": {
   "codemirror_mode": {
    "name": "ipython",
    "version": 3
   },
   "file_extension": ".py",
   "mimetype": "text/x-python",
   "name": "python",
   "nbconvert_exporter": "python",
   "pygments_lexer": "ipython3",
   "version": "3.6.1"
  }
 },
 "nbformat": 4,
 "nbformat_minor": 1
}
