{
 "cells": [
  {
   "cell_type": "markdown",
   "metadata": {},
   "source": [
    "# Data Processing with Python"
   ]
  },
  {
   "cell_type": "markdown",
   "metadata": {},
   "source": [
    "Version 1.2, August 2018"
   ]
  },
  {
   "cell_type": "markdown",
   "metadata": {},
   "source": [
    "---"
   ]
  },
  {
   "cell_type": "markdown",
   "metadata": {},
   "source": [
    "__Pieter Spronck__\n",
    "\n",
    "<a href=\"mailto:p.spronck@gmail.com\">p.spronck@gmail.com</a>"
   ]
  },
  {
   "cell_type": "markdown",
   "metadata": {},
   "source": [
    "---"
   ]
  },
  {
   "cell_type": "markdown",
   "metadata": {},
   "source": [
    "This course program is implemented on the iPython platform, using Python 3, with some input from the course <i>Data Processing with Python, an introductory programming course for Communication and Information Sciences</i>, by *Sander Wubben*, *Akos Kadar*, *Nanne van Noord*, and *Pieter Spronck*."
   ]
  },
  {
   "cell_type": "markdown",
   "metadata": {},
   "source": [
    "The course is designed to teach programming skills to students of the Cognitive Science and Artificial Intelligence program, the Data Science program, and the Communication and Information Sciences program of Tilburg University, The Netherlands. The course is not meant as a complete overview of the Python language. Instead, it is meant to introduce students to enough of the Python language so that they can write any program that they want, use modules written by others, and learn advanced Python or other computer languages when they need to."
   ]
  },
  {
   "cell_type": "markdown",
   "metadata": {},
   "source": [
    "You are welcome to use this course and adapt it to your own needs, but please give credit where credit is due.\n",
    "\n",
    "Feedback on the course is appreciated, to fix errors and inconsistencies, to add extra information and exercises, and to improve the learning experience of the students. Please send your feedback to the author's email address. "
   ]
  },
  {
   "cell_type": "markdown",
   "metadata": {},
   "source": [
    "---"
   ]
  },
  {
   "cell_type": "markdown",
   "metadata": {},
   "source": [
    "## How to use this course"
   ]
  },
  {
   "cell_type": "markdown",
   "metadata": {},
   "source": [
    "This course is designed to be studied in sequential order, at least as far as the first 23 chapters are concerned.\n",
    "\n",
    "Chapters 1 and 2 explain how to get working with this course. In particular, it tells you how to handle the exercises, how to use notebooks, and how to set up Python if you want to use it outside the notebooks.\n",
    "\n",
    "The Python language is explained in the remaining chapters.\n",
    "\n",
    "For a brief course on the basics of the Python language, using it for \"structured programming\", you should study variables and expressions, conditions and loops, functions, string handling, list and dictionaries, and text files. I.e., you can limit yourself to Chapters 3 to 19, whereby the Chapters 9 (Recursion), 14 (Sets), 17 (Exceptions), 18 (Binary Files), and 19 (Bitwise Operators) may be considered advanced material, which you can skip until you need them (though I highly recommend that you at least try to understand recursion, as it helps solving some of the exercises in later chapters).\n",
    "\n",
    "For an advanced course on the basics of the Python language, you will have to delve into object orientation, meaning that you also have to study Chapters 20 to 23, whereby Chapter 23 (Iterators and Generators) can be considered optional material.\n",
    "\n",
    "Chapters 24 and beyond are all useful, but optional material, from which you can pick and choose, though I recommend that you at least check them to understand the topics that they cover."
   ]
  },
  {
   "cell_type": "markdown",
   "metadata": {},
   "source": [
    "---"
   ]
  },
  {
   "cell_type": "markdown",
   "metadata": {},
   "source": [
    "## Course book"
   ]
  },
  {
   "cell_type": "markdown",
   "metadata": {},
   "source": [
    "This course is accompanied by a freely available course book: __The Coder's Apprentice: Learning Programming with Python 3__ by Pieter Spronck (2016). You can download the book, and accompanying materials, from the website <a href=\"http://www.spronck.net/pythonbook\">www.spronck.net/pythonbook</a>. A Dutch version of the book is available from the same website. The material in the book is more or less equivalent to the material in these notebooks, though it may diverge in details."
   ]
  },
  {
   "cell_type": "markdown",
   "metadata": {},
   "source": [
    "---"
   ]
  },
  {
   "cell_type": "markdown",
   "metadata": {},
   "source": [
    "End of Front Page. Version 1.2."
   ]
  }
 ],
 "metadata": {
  "kernelspec": {
   "display_name": "Python 3",
   "language": "python",
   "name": "python3"
  },
  "language_info": {
   "codemirror_mode": {
    "name": "ipython",
    "version": 3
   },
   "file_extension": ".py",
   "mimetype": "text/x-python",
   "name": "python",
   "nbconvert_exporter": "python",
   "pygments_lexer": "ipython3",
   "version": "3.6.1"
  }
 },
 "nbformat": 4,
 "nbformat_minor": 1
}
