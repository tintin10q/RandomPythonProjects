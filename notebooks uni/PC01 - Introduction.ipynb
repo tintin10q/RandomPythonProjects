{
 "cells": [
  {
   "cell_type": "markdown",
   "metadata": {},
   "source": [
    "# Chapter 1 - Introduction"
   ]
  },
  {
   "cell_type": "markdown",
   "metadata": {},
   "source": [
    "-------------------------------"
   ]
  },
  {
   "cell_type": "markdown",
   "metadata": {},
   "source": [
    "Computers are wonderful machines. While most machines (cars, television sets, microwaves) have a specific purpose which they excel at accomplishing, computers are purposeless machines that can be taught to accomplish *anything*. The power to make a computer do your bidding is called \"programming\".\n",
    "\n",
    "Nowadays, in any scientific and professional endeavour, people have to deal with large volumes of data. Those who are able to leverage the power of computers to make use of such data, i.e., those who can program, are far better able to do their jobs than those who are not. In fact, it can be argued that in the very near future, those who do not possess programming skills will become unemployable. Therefore, I feel that it is necessary for all students to acquire basic skills in this area during their education.\n",
    "\n",
    "Being able to write computer programs not only entails knowing what specific code statements mean and do; it also entails having the ability think like a programmer, and to analyse problems from the perspective of solving them with a computer program. Such skills cannot be learned from a book, they can only be learned by practicing.\n",
    "\n",
    "This course has been designed to teach students the basics of the Python computer language. The students will not only learn to use the language, but also do their first practical exercises with it. \n",
    "\n",
    "The course is not only catering towards students who are naturally inclined towards programming. It is meant to also be used by students who have no particular aptitude for programming. This is exemplified by texts which try to be extensive and foresee problems that students might have when trying to understand certain concepts."
   ]
  },
  {
   "cell_type": "markdown",
   "metadata": {},
   "source": [
    "---"
   ]
  },
  {
   "cell_type": "markdown",
   "metadata": {},
   "source": [
    "## Prequisites and assumptions"
   ]
  },
  {
   "cell_type": "markdown",
   "metadata": {},
   "source": [
    "This course assumes that the students have no programming skills at all, but are willing to learn. They should also have the ability to think in abstractions.\n",
    "\n",
    "Students should realize that the course might take a significant time investment. It does not suffice to just read the material and do the occasional small exercises. Students will have to practice with the material and also do larger exercises, if they really want to internalize the ability to create programs.\n",
    "\n",
    "Note that this course will not try to teach you to be a professional programmer. It teaches the initial skills that any professional programmer also acquired during his or her education. After teaching those initial skills, the course ends. For most people, this is enough to deal with programming tasks they encounter, and provides a sufficient basis to learn more if there is a need."
   ]
  },
  {
   "cell_type": "markdown",
   "metadata": {},
   "source": [
    "---"
   ]
  },
  {
   "cell_type": "markdown",
   "metadata": {},
   "source": [
    "## Why Python?"
   ]
  },
  {
   "cell_type": "markdown",
   "metadata": {},
   "source": [
    "Python has become a language of choice for teaching people how to program. It is a powerful language, that is easy to use, and that offers all the possibilities that any other computer language offers. It is easily portable between different operating systems. It is freely available. For beginning programmers, it has the advantage that it enforces writing readable code. Python is also a language that is used for many practical applications, either as a basis for complete programs, or as an extension to programs written in a different language.\n",
    "\n",
    "The main advantage of using Python is that it allows you to focus on \"thinking like a programmer\", rather than learning all the arcane intricacies of a language. Here is an example of the difference between using Python, and using some other popular programming languages: The first program that anybody writes in any language, is <i>Hello World</i>. This is a program that displays the text \"Hello, world!\" on the screen. In the highly popular computer language C++, *Hello World* is coded as follows:\n",
    "\n",
    "    #include <iostream>\n",
    "    int main() {\n",
    "        std::cout << \"Hello, world!\";\n",
    "    }"
   ]
  },
  {
   "cell_type": "markdown",
   "metadata": {},
   "source": [
    "In C#, Microsoft's popular variant of C++, it is:\n",
    "\n",
    "    using System;\n",
    "    namespace HelloWorld {\n",
    "        class Hello {\n",
    "            static void Main() {\n",
    "                Console.WriteLine( \"Hello, world!\" );\n",
    "                Console.ReadKey();\n",
    "            }\n",
    "        }\n",
    "    }"
   ]
  },
  {
   "cell_type": "markdown",
   "metadata": {},
   "source": [
    "In Objective-C, Apple's C++ variation, the code becomes even worse:\n",
    "\n",
    "    #import <Foundation/Foundation.h>\n",
    "    int main ( int argc, const char * argv[] ) {\n",
    "        NSAutoreleasePool *pool = [[NSAutoreleasePool alloc] init];\n",
    "        NSLog (@\"Hello, world!\");\n",
    "        [pool drain];\n",
    "        return 0;\n",
    "    }"
   ]
  },
  {
   "cell_type": "markdown",
   "metadata": {},
   "source": [
    "In Java, which is taught as the first language to many computer science students, it is:\n",
    "\n",
    "    class Hello {\n",
    "        public static void main( String[] args ) {\n",
    "            System.out.println( \"Hello, world!\" );\n",
    "        }\n",
    "    }"
   ]
  },
  {
   "cell_type": "markdown",
   "metadata": {},
   "source": [
    "Now compare this to writing *Hello World* in Python:\n",
    "\n",
    "    print( \"Hello, world!\" )"
   ]
  },
  {
   "cell_type": "markdown",
   "metadata": {},
   "source": [
    "I think we can agree that the Python version of this program is much more readable and understandable -- even without knowing the language -- than any of the other languages."
   ]
  },
  {
   "cell_type": "markdown",
   "metadata": {},
   "source": [
    "---"
   ]
  },
  {
   "cell_type": "markdown",
   "metadata": {},
   "source": [
    "## Python's limitations as a programming language"
   ]
  },
  {
   "cell_type": "markdown",
   "metadata": {},
   "source": [
    "Python is a general-purpose programming language. This means that it can be used for anything and everything you would ever want to do with computer languages. Can you therefore conclude that once you have learned Python, you will never need to learn another language?\n",
    "\n",
    "The answer is that it depends on what you need to do with computer programming. While Python can be used for anything, it is not the most suitable language for everything. For instance, most game programmers use C++ or C# to create their programs, because these languages produce very fast executables, and speed is of utmost importance for games. People who create complex statistical models have their own computer languages too. Sometimes you need to write programs that interact with other programs which require the use of a specific language. And for some problems languages with a different philosophy to writing programs are better suitable.\n",
    "\n",
    "All in all, while Python basically has no limitations as a programming language, for specific problems specific other languages might be better suitable. Still, for many people Python suffices to do everything they need to do for their studies and job. Moreover, Python is a great language to learn programming with, and once you understand and can use Python, you have a very strong basis to learn any other programming language. That is why I chose it for this course."
   ]
  },
  {
   "cell_type": "markdown",
   "metadata": {},
   "source": [
    "---"
   ]
  },
  {
   "cell_type": "markdown",
   "metadata": {},
   "source": [
    "## What does it mean \"to think like a programmer?\""
   ]
  },
  {
   "cell_type": "markdown",
   "metadata": {},
   "source": [
    "This course is not only meant to teach you to use Python, but, more importantly, to teach you how to think like a programmer, because thinking like a programmer is a necessity to understand what you can use computers for and how you should use them. But what does \"thinking like a programmer\" entail? I will answer this question by illustrating it with performing a specific task:\n",
    "\n",
    "Suppose that you have a deck of cards, each card with a different number on it. You have to sort these cards from low to high, lowest card on top. Most people are able to do that. Also, most people, when you ask them <i>how</i> they do it, will look at you mystified, and answer: \"Well,... I just sort them low to high... what do you mean with how do I do it?\" Other people may say: \"I first seek the highest card, and put it down. Then I seek the next highest card, and put it on top of the highest card. Etcetera.\" While this more or less explains how they sort cards, if you then ask them: \"But how do you seek the highest card?\", most of them, again, will look at you mystified. \n",
    "\n",
    "The problem is that if you need to explain to a computer how to sort a deck of cards, you cannot assume that the computer can infer anything from vague statements, even if such statements would be completely clear to a human. You cannot tell the computer: \"Seek the highest card\", because even if the computer would understand English, it would ask you how it should seek the highest card. You will have to be very explicit about it. You have to say something like \"Take the top card from the deck and hold it in you left hand. Then do the following until the deck runs out: take the top card from the deck in your right hand. If the value of the card in your right hand is higher than the value of the card in your left hand, put the left-hand card in the discard pile and put the right-hand card in your left hand. Otherwise, put the right-hand card in the discard pile. Once the deck has run out, the card in your left hand is the highest card.\"\n",
    "\n",
    "Of course, a computer has no notion of left hand and right hand, and does not understand English. But a computer does understand computer language. Every computer language has a very precise syntax, and very precise semantics, which means that a computer program is an unambiguous explanation of how to perform a task. To have a computer perform a task, you have to use a computer language, bound by its syntax, to explain step-by-step how the task should be performed. Then, and only then, a computer can perform the task.\n",
    "\n",
    "Since it is often very hard to think of all the steps needed to perform a task, you will have to divide the task into smaller subtasks, which you may have to divide again into even smaller subtasks, until the subtasks are so small that you can envision the steps needed to perform those subtasks. Then you can create implementations for each of the subtasks, and put them together to form a program for the task as a whole.\n",
    "\n",
    "Thinking like a programmer means that you are able to approach a task from the perspective of programming a computer to perform that task, that you are able to recognize what a logical division into subtasks is, and that you can recognize when subtasks are sufficiently small so that you can implement them. This is a skill that most people can learn, but that requires a lot of practice and a thought process that is different from what most people are used to.\n",
    "\n",
    "In this course, by learning to create programs in Python, starting with small programs that gradually increase in complexity, you should also learn to use the thought processes that come naturally to a programmer."
   ]
  },
  {
   "cell_type": "markdown",
   "metadata": {},
   "source": [
    "---"
   ]
  },
  {
   "cell_type": "markdown",
   "metadata": {},
   "source": [
    "## The art of programming"
   ]
  },
  {
   "cell_type": "markdown",
   "metadata": {},
   "source": [
    "Programming is an art form. A teacher of programming in many ways is comparable to a teacher of art. \n",
    "\n",
    "Most people have had art classes in high school. An art teacher first teaches about art materials: pencils and paper, different colors of pencils, different hardness of pencils, erasers, inks, ink pens, paints, etcetera. The students use the knowledge acquired to create their first drawings. Then the art teacher makes them familiar with art techniques: mixing paints to get different colors, special kinds of paints that create special effects, combining techniques, how to use perspective, etcetera. Students get assignments like \"draw a cat\", and the art teacher assesses their results both from the use of materials and the mastery of techniques, as well as from an artistic perspective of what makes a good likeness of a cat.\n",
    "\n",
    "A teacher of programming has similar tasks. At first he teaches students about the core principles behind programming languages, basic statements that every programming language has, and how these can be used to create simple programs. Then he delves into more advanced techniques, by which students can construct more complex programs, and can incorporate advanced functionalities in easier ways. Students get assignments like \"create a program that alphabetizes a text\", and the teacher assesses their results both from their use of programming techniques, as well as from the perspective of how well they manage to accomplish the task set. \n",
    "\n",
    "From the art teacher's perspective, for an assignment that asks students to draw a cat, a student who drew a circle with two triangles on top and two dots in the middle, arguably drew a cat but has no grasp of the use of the materials. A student who hands in a beautiful picture of a tree, may be a master of techniques but cannot use them to accomplish a task. And two students who hand in the exact same picture of a cat, clearly have been plagiarizing.  Still, there isn't just one right \"cat picture\". There are many different cat pictures that are acceptable and that show that students are learning and becoming artists.\n",
    "\n",
    "In the same way, a teacher of programming who gives an assignment, wants his students to creatively use the knowledge they acquired to construct their own version of a program that solves the task. Students who have not mastered the techniques, will be unable to solve the task, or will only be able to create a distant approximation of a program that solves the task. Students who did master the techniques, may still lack the aptitude of combining what they have learned in new and original ways to create a solution. And two students who hand in the exact same solution, clearly have been copying it and are trying to get away with plagiarism. For that last issue: while for very, very simple problems there might only be one or two good solutions, very quickly you will find that there are a myriad of good ways to deal with a particular problem, and it is highly unlikely that two students come up with the exact same solution unless they have been copying.\n",
    "\n",
    "Programming is an art form, where you not only have to master the techniques that form the basis of your art, but also have to be able to apply these techniques creatively to problems. The main difference with producing programs and producing visual art, is that in visual art you can still debate about whether an image of a bulldog with pointy ears can be accepted as a picture of a cat, while in programming it is much easier to disqualify programs as solutions to a particular problem.\n",
    "\n",
    "Moreover, everybody knows and realizes that you will never become an artist by just studying the materials. You will have to practice, use the materials, and develop your skills by applying them to many different tasks. In programming, it is exactly the same: you cannot learn how to program without writing many programs. Programming not only requires knowledge, but also skills that need to be developed in practice, and a form of creativity that allows you to expand your abilities to accomplish new tasks.\n",
    "\n",
    "Naturally, there are few master artists whose work will feature in art galleries. But we can all draw pictures of cats, and for most people, that ability suffices for their daily needs. In the same vein, there is no need for any student to become a master programmer, as long as they can create straightforward programming solutions for the problems that they encounter in study and work. But be aware that next to mastery of basic techniques, creativity is always involved."
   ]
  },
  {
   "cell_type": "markdown",
   "metadata": {},
   "source": [
    "---"
   ]
  },
  {
   "cell_type": "markdown",
   "metadata": {},
   "source": [
    "## Start small, grow big"
   ]
  },
  {
   "cell_type": "markdown",
   "metadata": {},
   "source": [
    "This is not the only Python course available, although most courses that I have seen assume quite a bit of knowledge and past experience on the part of the student. Courses that are aimed a absolute beginners are rare. Still, several alternatives, even free alternatives, exist.\n",
    "\n",
    "A problem that I have with most Python courses is that they attempt to make programming attractive to students by focussing from the start on applications that are immediately useful or entertaining. \"Learn Python by Programming Games!\" is a typical approach that I have encountered. \n",
    "\n",
    "Such a course setup is misleading. First of all, if you examine a course that teaches Python using games, you will discover that the games used are very simple word and number games, rather than the next *Halo*, *Civilization*, *Bejeweled*, or even *Flappy Bird*. This generally is not what the student would expect from a course on game programming. Moreover, you will find that even those very simple \"games\" are of a complexity that is too high to allow a novice to learn programming. I understand that such a course tries to evoke enthusiasm amongst the students by framing its course material in a way that seems attractive. However, that attraction is lost very quickly when students realize that the material is not what they expected, and at that point the course topics become an obstruction to learning rather than a stimulant.\n",
    "\n",
    "Regardless which way you look at it, like any other topic of study, learning how to program requires studying basic concepts before you can advance to more attractive and useful applications. The desire or need to learn programming is what should drive the student, not the erroneous expectation that they can hammer out a flashy game after a couple of hours of studying. That is why I designed this course to start small, with basic programming statements, and building knowledge up with a steady pace. The course does not remain stuck at the small stuff, however -- if you progress through all the chapters, you will be an accomplished programmer when you finish it.\n",
    "\n",
    "I try to insert exercises that can be entertaining to solve if such things appeal to the student. I have had students telling me that they really enjoy working on them. However, I have also seen students suffer and longing to do something else. Regardless, if you want to learn how to program, and do the exercises, the course will teach you everything that you need to program any application that you want -- even entertaining games if you so desire. "
   ]
  },
  {
   "cell_type": "markdown",
   "metadata": {},
   "source": [
    "---"
   ]
  },
  {
   "cell_type": "markdown",
   "metadata": {},
   "source": [
    "## Python 2 or Python 3?"
   ]
  },
  {
   "cell_type": "markdown",
   "metadata": {},
   "source": [
    "Different versions of Python exist. At the moment of creating this course, the most popular versions are Python 2 and Python 3. Python 3 is, as can be expected, an update of Python 2. Python 2 programs are, unfortunately, not completely compatible with Python 3. Since a lot of Python 2 code is still in use, Python 2 is still an active language, and still being maintained.\n",
    "\n",
    "The reason why Python 3 was created is to resolve a number of inconsistencies and idiosyncrasies in the Python 2 language. For people new to programming, this is a big plus, because there are less \"weird\" language elements they need to learn and understand if they choose Python 3 instead of Python 2.\n",
    "\n",
    "To give an example, when you calculate 7/4 in Python 2, the answer is 1, and not 1.75 as you might expect. The reason is that both 7 and 4 are whole numbers (\"integers\"), and therefore the result of their division is a whole number. If you want to make sure that the result is 1.75, you must make at least one of the numbers involved a floating-point number. Therefore, 7.0/4 gives the result 1.75. This is how almost all computer languages do calculations. Naturally, for people who are not familiar with programming computers, this is counter-intuitive. Python 3 has resolved this issue, and automatically does the floating-point conversion when a floating-point result would be expected, i.e., in Python 3, 7/4 gives the result 1.75. Many Python 2 programs, however, are written with the assumption that integer-division rounds down, which means that, when you run them as Python 3 programs, they no longer give the desired results. Thus, Python 2 and Python 3 are not compatible.\n",
    "\n",
    "Since Python 3 is more intuitive than Python 2, and since nowadays most Python programs and modules have been converted to Python 3, this course is designed for Python 3. If you ever have to revert back to Python 2, it is not hard to make the change. In this course, where appropriate, the differences between Python 2 and Python 3 will be indicated at the bottom of a chapter (when I am aware of such differences). If you are only using Python 3, you can ignore these remarks. However, considering how often I see the question \"What exactly are the differences between Python 2 and Python 3?\", and how hard it seems to be to find an answer to that question, I thought it prudent to add these remarks for those who are interested. "
   ]
  },
  {
   "cell_type": "markdown",
   "metadata": {},
   "source": [
    "-------------------------------"
   ]
  },
  {
   "cell_type": "markdown",
   "metadata": {},
   "source": [
    "## Exercises"
   ]
  },
  {
   "cell_type": "markdown",
   "metadata": {},
   "source": [
    "Most chapters have small exercises sprinkled throughout the text. These exercises are there to enlighten a point or for you to do a quick check if you understood the material up to that moment. You can enter your code directly in the notebook. Answers to these exercises are seldom provided, because if you understood the material, they should be really easy to do, while if you did not understand the material, you should either re-read the notebook until you do, or ask an instructor for assistance.\n",
    "\n",
    "At the end of most chapters, a separate \"Exercises\" section is given, with one or more numbered exercises. You are supposed to do all of these exercises, and you should be able to do them independently (i.e., without help of other people and without looking up solutions from outside sources). Answers to these numbered exercises are provided in the last chapter. I wish to stress the following points:\n",
    "\n",
    "- __You should work on the numbered exercises until you have solved them__. Do not dabble a bit and then look up the answer. Such an approach is absolutely __useless__. There is no way that you are going to learn programming if you do not think about algorithms, write code, and test code. If you cannot solve an exercise even after you have worked on it for quite some time, it is better to ask an instructor for assistance than to just look up the answer. Being unable to solve an exercise means that there is something in the material that you have not grasped yet, and it is important that you identify what that is, and get to grips with it.<br><br>\n",
    "\n",
    "- __You should do (almost) *all* of the exercises__. The only way to learn programming is by practicing. You will have to write lots and lots of code before you have internalized the practice of programming. The few exercises that I place at the end of the chapters are not enough to accomplish that, but at least they are a start. If you cannot even bother to do all of those, you should not bother to try to learn programming.<br><br> \n",
    "\n",
    "- __You should try to do the exercises independently__. Working in teams on the exercises will allow one member of the team to learn, while the rest sits by and learns nothing. Students often say that they have a method of learning from assignments that involves working on them in small groups and discussing. That may be fine for analyzing texts or setting up an experiment, but in general does not work for coding. Watching someone write code teaches you very little about writing code. You have to write code by yourself. That said, the exercises in these notebooks are not graded, so if you really want to collaborate with someone on them, that is your prerogative. But I recommend against it.<br><br>\n",
    "\n",
    "- __For none of the exercises you need information that was not discussed in the course up to that point__. While there definitely may be easier ways to do some of the exercises if you would use Python constructs that I did not discuss yet at the time you get to the exercises, you do not need them. The purpose of the exercises is to practice with the discussed material. They are not meant to let you investigate future material. Even if you are aware of different ways to solve an exercise, try to do it with only the material discussed. Once you have done that, if you want to return to an exercise later and solve it in a different way, that is, of course, fine.<br><br>\n",
    "\n",
    "- Once you have solved an exercise by yourself and have tested it extensively, __then and only then__ you should compare it to the answer that I provided. You may find that it is different from yours. That does not mean that your answer is wrong! There are usually very many ways to solve a programming problem. Some might be \"better\" in some way than others. But there are many answers that are equally correct. Moreover, in this course it is important that you learn to solve a problem by coding, not that you learn to code the most efficient solution to a problem. Just being able to solve the problem suffices, making solutions more efficient is of much lesser importance. For instance, \"being efficient\" is less important than \"being easy to understand\" and \"being easy to maintain\". \n",
    "\n",
    "For starters, here are two numbered exercises for the first chapter. Learn from them."
   ]
  },
  {
   "cell_type": "markdown",
   "metadata": {},
   "source": [
    "### Exercise 1.1"
   ]
  },
  {
   "cell_type": "markdown",
   "metadata": {},
   "source": [
    "Get together with another student, and do the following exercise. Get four playing cards with different values. Shuffle them, and put them face-down on the table. One of you has to sort the cards, from low to high. This person is allowed to move the cards around, but is not allowed to look at their face sides. However, this person is allowed to point at two of the cards, after which the other one picks up those two cards, looks at their faces, and then puts them back and says which of the two is higher. Count how often such a comparison is made. Once the first person is satisfied that the cards are sorted, they are turned over to check if they are indeed sorted correctly.\n",
    "\n",
    "In this exercise, the first person basically takes the role of a computer program, that follows instructions without actually understanding values. The second person takes the role of the computer processor, which can perform certain functions for the program, in this case, comparing numbers.\n",
    "\n",
    "If you did not manage to sort the cards correctly, think about how you can accomplish this task under the given circumstances, and after that try it once more. If you did sort them correctly and needed more than six comparisons, think about how you can do it with six comparisons. If you managed to do it with six comparisons, think about if you can do it with less than six. If you did it with less than six, think about if your procedure is guaranteed to sort any collection of four cards."
   ]
  },
  {
   "cell_type": "markdown",
   "metadata": {},
   "source": [
    "### Exercise 1.2"
   ]
  },
  {
   "cell_type": "markdown",
   "metadata": {},
   "source": [
    "After doing the first exercise, together with your partner write down exact instructions, in plain English, on how to sort cards under the circumstances described above. Get a third person and ask this person to take your instructions and follow them, while one of you two takes the role of processor. Ask the third person to perform the steps as literally as possible, without trying to interpret meaning. This exercise is most illustrative if the third person has no idea what the exact function of the instructions is. Once the sorting procedure has finished, check if the result is correct.\n",
    "\n",
    "Your textual description is comparable to a real program. If the third person is unable to follow the steps, you seem to have made a syntax error. If the person can follow the steps but the end result is not as you want, you seem to have made a functional error. When programming computers, you will have to deal with both kinds of errors.\n",
    "\n",
    "Note: writing such instructions is actually quite hard. Fortunately, writing similar instructions in a computer language is easier, as the syntax and semantics of the language are well-defined. English, as any other human language, is rather unsuitable to write unambiguous instructions."
   ]
  },
  {
   "cell_type": "markdown",
   "metadata": {},
   "source": [
    "---"
   ]
  },
  {
   "cell_type": "markdown",
   "metadata": {},
   "source": [
    "End of Chapter 1. Version 1.2."
   ]
  }
 ],
 "metadata": {
  "kernelspec": {
   "display_name": "Python 3",
   "language": "python",
   "name": "python3"
  },
  "language_info": {
   "codemirror_mode": {
    "name": "ipython",
    "version": 3
   },
   "file_extension": ".py",
   "mimetype": "text/x-python",
   "name": "python",
   "nbconvert_exporter": "python",
   "pygments_lexer": "ipython3",
   "version": "3.6.1"
  }
 },
 "nbformat": 4,
 "nbformat_minor": 1
}
