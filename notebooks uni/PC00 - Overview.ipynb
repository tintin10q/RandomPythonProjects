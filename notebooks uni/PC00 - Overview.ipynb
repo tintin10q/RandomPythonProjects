{
 "cells": [
  {
   "cell_type": "markdown",
   "metadata": {},
   "source": [
    "# Data Processing with Python"
   ]
  },
  {
   "cell_type": "markdown",
   "metadata": {},
   "source": [
    "---"
   ]
  },
  {
   "cell_type": "markdown",
   "metadata": {},
   "source": [
    "Course materials: __Pieter Spronck__"
   ]
  },
  {
   "cell_type": "markdown",
   "metadata": {},
   "source": [
    "Course instructors:<br> \n",
    "__Afra Alishahi__ (Research Skills: Data Processing; <a href=\"mailto:a.alishahi@uvt.nl\">a.alishahi@uvt.nl</a>)<br>\n",
    "__Martin Atzm&uuml;ller__ (Data Processing Advanced; <a href=\"mailto:m.atzmuller@uvt.nl\">m.atzmuller@uvt.nl</a>)<br>\n",
    "__Pieter Spronck__ (Data Structures and Algorithms; <a href=\"mailto:p.spronck@uvt.nl\">p.spronck@uvt.nl</a>)"
   ]
  },
  {
   "cell_type": "markdown",
   "metadata": {},
   "source": [
    "---"
   ]
  },
  {
   "cell_type": "markdown",
   "metadata": {},
   "source": [
    "This course consists of a series of lectures that are covered by these notebooks. The lectures given in class will be more brief, and will skip some of the material that is found in the notebooks. The oral lectures are meant to give an introduction to the topics covered in the notebooks, to discuss exercises, and to provide further explanations upon request.\n",
    "\n",
    "Specifics on how a course is graded will be given by the lecturer for each course.\n",
    "\n",
    "Most of the time you spend on the course will be on working through the notebooks, and doing the exercises in the notebooks. Time is set aside to do this in class, but you will also need to work on it at home.  \n",
    "\n",
    "You are allowed to collaborate with others on any of the exercises (except, of course, during exams). However, while you are allowed to do that, I myself think that that is not a good idea (unless you are working on a collaborative programming assignment, of course). You learn much more when you try to do exercises by yourself. You can only learn programming by doing. In contrast to many other courses, the material taught in programming courses is not something that you only need to repeat. Programming is a creative process wherein you combine elements that you learned in new and original ways to devise solutions to problems. This is something that does not come naturally to many students, and you have to practice with it. The course material provide a great many exercises to practice with, so do these exercises and do them by yourself. If you cannot solve an exercise, go back to the relevant notebook and reread the course material, because you probably did not understand something completely. If you remain stuck, ask the course instructor for a hint.\n",
    "\n",
    "Note that many students experience programming courses as \"heavy\". They may require a considerable time investment. The amount of time needed depends on the student's background knowledge and natural aptitude for programming. But even if it takes you a lot of time, know that programming is an exceptionally valuable skill to have, both while doing research and in professional life."
   ]
  },
  {
   "cell_type": "markdown",
   "metadata": {},
   "source": [
    "---"
   ]
  },
  {
   "cell_type": "markdown",
   "metadata": {},
   "source": [
    "End of Course Program. Version 1.2."
   ]
  }
 ],
 "metadata": {
  "kernelspec": {
   "display_name": "Python 3",
   "language": "python",
   "name": "python3"
  },
  "language_info": {
   "codemirror_mode": {
    "name": "ipython",
    "version": 3
   },
   "file_extension": ".py",
   "mimetype": "text/x-python",
   "name": "python",
   "nbconvert_exporter": "python",
   "pygments_lexer": "ipython3",
   "version": "3.6.1"
  }
 },
 "nbformat": 4,
 "nbformat_minor": 1
}
